{
 "cells": [
  {
   "cell_type": "code",
   "execution_count": 66,
   "metadata": {
    "collapsed": true
   },
   "outputs": [],
   "source": [
    "import copy\n",
    "import time\n",
    "import threading\n",
    "import pandas as pd\n",
    "import numpy as np\n",
    "import more_itertools\n",
    "import csv\n",
    "import random\n",
    "import itertools\n",
    "\n",
    "pd.options.mode.chained_assignment = None  # default = 'warn'"
   ]
  },
  {
   "cell_type": "code",
   "execution_count": 67,
   "outputs": [
    {
     "data": {
      "text/plain": "                            antecedents                      consequents  \\\n0  frozenset({'Instant food products'})              frozenset({'soda'})   \n1  frozenset({'Instant food products'})        frozenset({'whole milk'})   \n2               frozenset({'UHT-milk'})        frozenset({'whole milk'})   \n3       frozenset({'abrasive cleaner'})        frozenset({'rolls/buns'})   \n4       frozenset({'artif. sweetener'})  frozenset({'other vegetables'})   \n5       frozenset({'artif. sweetener'})        frozenset({'whole milk'})   \n6       frozenset({'bathroom cleaner'})  frozenset({'other vegetables'})   \n7       frozenset({'bathroom cleaner'})        frozenset({'whole milk'})   \n8                   frozenset({'beef'})        frozenset({'whole milk'})   \n9           frozenset({'bottled beer'})        frozenset({'whole milk'})   \n\n   antecedent support  consequent support   support  confidence      lift  \\\n0            0.015396            0.313318  0.007955    0.516667  1.649017   \n1            0.015396            0.458045  0.007955    0.516667  1.127983   \n2            0.078522            0.458045  0.040544    0.516340  1.127270   \n3            0.005645            0.349756  0.002823    0.500000  1.429567   \n4            0.007442            0.376700  0.003849    0.517241  1.373086   \n5            0.007442            0.458045  0.004619    0.620690  1.355085   \n6            0.004362            0.376700  0.002566    0.588235  1.561548   \n7            0.004362            0.458045  0.003079    0.705882  1.541078   \n8            0.119579            0.458045  0.064152    0.536481  1.171241   \n9            0.158840            0.458045  0.085450    0.537964  1.174480   \n\n   leverage  conviction  \n0  0.003131    1.420722  \n1  0.000903    1.121287  \n2  0.004577    1.120529  \n3  0.000848    1.300488  \n4  0.001046    1.291121  \n5  0.001210    1.428791  \n6  0.000923    1.513729  \n7  0.001081    1.842648  \n8  0.009379    1.169218  \n9  0.012694    1.172973  ",
      "text/html": "<div>\n<style scoped>\n    .dataframe tbody tr th:only-of-type {\n        vertical-align: middle;\n    }\n\n    .dataframe tbody tr th {\n        vertical-align: top;\n    }\n\n    .dataframe thead th {\n        text-align: right;\n    }\n</style>\n<table border=\"1\" class=\"dataframe\">\n  <thead>\n    <tr style=\"text-align: right;\">\n      <th></th>\n      <th>antecedents</th>\n      <th>consequents</th>\n      <th>antecedent support</th>\n      <th>consequent support</th>\n      <th>support</th>\n      <th>confidence</th>\n      <th>lift</th>\n      <th>leverage</th>\n      <th>conviction</th>\n    </tr>\n  </thead>\n  <tbody>\n    <tr>\n      <th>0</th>\n      <td>frozenset({'Instant food products'})</td>\n      <td>frozenset({'soda'})</td>\n      <td>0.015396</td>\n      <td>0.313318</td>\n      <td>0.007955</td>\n      <td>0.516667</td>\n      <td>1.649017</td>\n      <td>0.003131</td>\n      <td>1.420722</td>\n    </tr>\n    <tr>\n      <th>1</th>\n      <td>frozenset({'Instant food products'})</td>\n      <td>frozenset({'whole milk'})</td>\n      <td>0.015396</td>\n      <td>0.458045</td>\n      <td>0.007955</td>\n      <td>0.516667</td>\n      <td>1.127983</td>\n      <td>0.000903</td>\n      <td>1.121287</td>\n    </tr>\n    <tr>\n      <th>2</th>\n      <td>frozenset({'UHT-milk'})</td>\n      <td>frozenset({'whole milk'})</td>\n      <td>0.078522</td>\n      <td>0.458045</td>\n      <td>0.040544</td>\n      <td>0.516340</td>\n      <td>1.127270</td>\n      <td>0.004577</td>\n      <td>1.120529</td>\n    </tr>\n    <tr>\n      <th>3</th>\n      <td>frozenset({'abrasive cleaner'})</td>\n      <td>frozenset({'rolls/buns'})</td>\n      <td>0.005645</td>\n      <td>0.349756</td>\n      <td>0.002823</td>\n      <td>0.500000</td>\n      <td>1.429567</td>\n      <td>0.000848</td>\n      <td>1.300488</td>\n    </tr>\n    <tr>\n      <th>4</th>\n      <td>frozenset({'artif. sweetener'})</td>\n      <td>frozenset({'other vegetables'})</td>\n      <td>0.007442</td>\n      <td>0.376700</td>\n      <td>0.003849</td>\n      <td>0.517241</td>\n      <td>1.373086</td>\n      <td>0.001046</td>\n      <td>1.291121</td>\n    </tr>\n    <tr>\n      <th>5</th>\n      <td>frozenset({'artif. sweetener'})</td>\n      <td>frozenset({'whole milk'})</td>\n      <td>0.007442</td>\n      <td>0.458045</td>\n      <td>0.004619</td>\n      <td>0.620690</td>\n      <td>1.355085</td>\n      <td>0.001210</td>\n      <td>1.428791</td>\n    </tr>\n    <tr>\n      <th>6</th>\n      <td>frozenset({'bathroom cleaner'})</td>\n      <td>frozenset({'other vegetables'})</td>\n      <td>0.004362</td>\n      <td>0.376700</td>\n      <td>0.002566</td>\n      <td>0.588235</td>\n      <td>1.561548</td>\n      <td>0.000923</td>\n      <td>1.513729</td>\n    </tr>\n    <tr>\n      <th>7</th>\n      <td>frozenset({'bathroom cleaner'})</td>\n      <td>frozenset({'whole milk'})</td>\n      <td>0.004362</td>\n      <td>0.458045</td>\n      <td>0.003079</td>\n      <td>0.705882</td>\n      <td>1.541078</td>\n      <td>0.001081</td>\n      <td>1.842648</td>\n    </tr>\n    <tr>\n      <th>8</th>\n      <td>frozenset({'beef'})</td>\n      <td>frozenset({'whole milk'})</td>\n      <td>0.119579</td>\n      <td>0.458045</td>\n      <td>0.064152</td>\n      <td>0.536481</td>\n      <td>1.171241</td>\n      <td>0.009379</td>\n      <td>1.169218</td>\n    </tr>\n    <tr>\n      <th>9</th>\n      <td>frozenset({'bottled beer'})</td>\n      <td>frozenset({'whole milk'})</td>\n      <td>0.158840</td>\n      <td>0.458045</td>\n      <td>0.085450</td>\n      <td>0.537964</td>\n      <td>1.174480</td>\n      <td>0.012694</td>\n      <td>1.172973</td>\n    </tr>\n  </tbody>\n</table>\n</div>"
     },
     "execution_count": 67,
     "metadata": {},
     "output_type": "execute_result"
    }
   ],
   "source": [
    "df = pd.read_csv('Data/master_rules.csv')\n",
    "df.head(10)"
   ],
   "metadata": {
    "collapsed": false,
    "pycharm": {
     "name": "#%%\n"
    }
   }
  },
  {
   "cell_type": "code",
   "execution_count": 68,
   "outputs": [
    {
     "data": {
      "text/plain": "                                             antecedents  \\\n0                   frozenset({'Instant food products'})   \n1                   frozenset({'Instant food products'})   \n2                                frozenset({'UHT-milk'})   \n3                        frozenset({'abrasive cleaner'})   \n4                        frozenset({'artif. sweetener'})   \n...                                                  ...   \n24247  frozenset({'sausage', 'soda', 'whole milk', 'o...   \n24248  frozenset({'sausage', 'whole milk', 'other veg...   \n24249  frozenset({'sausage', 'soda', 'whole milk', 'o...   \n24250  frozenset({'sausage', 'soda', 'whole milk', 'o...   \n24251  frozenset({'soda', 'sausage', 'whole milk', 'r...   \n\n                           consequents  antecedent support  \\\n0                  frozenset({'soda'})            0.015396   \n1            frozenset({'whole milk'})            0.015396   \n2            frozenset({'whole milk'})            0.078522   \n3            frozenset({'rolls/buns'})            0.005645   \n4      frozenset({'other vegetables'})            0.007442   \n...                                ...                 ...   \n24247   frozenset({'root vegetables'})            0.003849   \n24248              frozenset({'soda'})            0.003336   \n24249     frozenset({'bottled water'})            0.003336   \n24250        frozenset({'rolls/buns'})            0.003336   \n24251  frozenset({'other vegetables'})            0.003079   \n\n       consequent support   support  confidence      lift  leverage  \\\n0                0.313318  0.007955    0.516667  1.649017  0.003131   \n1                0.458045  0.007955    0.516667  1.127983  0.000903   \n2                0.458045  0.040544    0.516340  1.127270  0.004577   \n3                0.349756  0.002823    0.500000  1.429567  0.000848   \n4                0.376700  0.003849    0.517241  1.373086  0.001046   \n...                   ...       ...         ...       ...       ...   \n24247            0.230690  0.002566    0.666667  2.889878  0.001678   \n24248            0.313318  0.002566    0.769231  2.455112  0.001521   \n24249            0.213754  0.002566    0.769231  3.598670  0.001853   \n24250            0.349756  0.002566    0.769231  2.199334  0.001399   \n24251            0.376700  0.002566    0.833333  2.212193  0.001406   \n\n       conviction  \n0        1.420722  \n1        1.121287  \n2        1.120529  \n3        1.300488  \n4        1.291121  \n...           ...  \n24247    2.307929  \n24248    2.975622  \n24249    3.407065  \n24250    2.817723  \n24251    3.739800  \n\n[24252 rows x 9 columns]",
      "text/html": "<div>\n<style scoped>\n    .dataframe tbody tr th:only-of-type {\n        vertical-align: middle;\n    }\n\n    .dataframe tbody tr th {\n        vertical-align: top;\n    }\n\n    .dataframe thead th {\n        text-align: right;\n    }\n</style>\n<table border=\"1\" class=\"dataframe\">\n  <thead>\n    <tr style=\"text-align: right;\">\n      <th></th>\n      <th>antecedents</th>\n      <th>consequents</th>\n      <th>antecedent support</th>\n      <th>consequent support</th>\n      <th>support</th>\n      <th>confidence</th>\n      <th>lift</th>\n      <th>leverage</th>\n      <th>conviction</th>\n    </tr>\n  </thead>\n  <tbody>\n    <tr>\n      <th>0</th>\n      <td>frozenset({'Instant food products'})</td>\n      <td>frozenset({'soda'})</td>\n      <td>0.015396</td>\n      <td>0.313318</td>\n      <td>0.007955</td>\n      <td>0.516667</td>\n      <td>1.649017</td>\n      <td>0.003131</td>\n      <td>1.420722</td>\n    </tr>\n    <tr>\n      <th>1</th>\n      <td>frozenset({'Instant food products'})</td>\n      <td>frozenset({'whole milk'})</td>\n      <td>0.015396</td>\n      <td>0.458045</td>\n      <td>0.007955</td>\n      <td>0.516667</td>\n      <td>1.127983</td>\n      <td>0.000903</td>\n      <td>1.121287</td>\n    </tr>\n    <tr>\n      <th>2</th>\n      <td>frozenset({'UHT-milk'})</td>\n      <td>frozenset({'whole milk'})</td>\n      <td>0.078522</td>\n      <td>0.458045</td>\n      <td>0.040544</td>\n      <td>0.516340</td>\n      <td>1.127270</td>\n      <td>0.004577</td>\n      <td>1.120529</td>\n    </tr>\n    <tr>\n      <th>3</th>\n      <td>frozenset({'abrasive cleaner'})</td>\n      <td>frozenset({'rolls/buns'})</td>\n      <td>0.005645</td>\n      <td>0.349756</td>\n      <td>0.002823</td>\n      <td>0.500000</td>\n      <td>1.429567</td>\n      <td>0.000848</td>\n      <td>1.300488</td>\n    </tr>\n    <tr>\n      <th>4</th>\n      <td>frozenset({'artif. sweetener'})</td>\n      <td>frozenset({'other vegetables'})</td>\n      <td>0.007442</td>\n      <td>0.376700</td>\n      <td>0.003849</td>\n      <td>0.517241</td>\n      <td>1.373086</td>\n      <td>0.001046</td>\n      <td>1.291121</td>\n    </tr>\n    <tr>\n      <th>...</th>\n      <td>...</td>\n      <td>...</td>\n      <td>...</td>\n      <td>...</td>\n      <td>...</td>\n      <td>...</td>\n      <td>...</td>\n      <td>...</td>\n      <td>...</td>\n    </tr>\n    <tr>\n      <th>24247</th>\n      <td>frozenset({'sausage', 'soda', 'whole milk', 'o...</td>\n      <td>frozenset({'root vegetables'})</td>\n      <td>0.003849</td>\n      <td>0.230690</td>\n      <td>0.002566</td>\n      <td>0.666667</td>\n      <td>2.889878</td>\n      <td>0.001678</td>\n      <td>2.307929</td>\n    </tr>\n    <tr>\n      <th>24248</th>\n      <td>frozenset({'sausage', 'whole milk', 'other veg...</td>\n      <td>frozenset({'soda'})</td>\n      <td>0.003336</td>\n      <td>0.313318</td>\n      <td>0.002566</td>\n      <td>0.769231</td>\n      <td>2.455112</td>\n      <td>0.001521</td>\n      <td>2.975622</td>\n    </tr>\n    <tr>\n      <th>24249</th>\n      <td>frozenset({'sausage', 'soda', 'whole milk', 'o...</td>\n      <td>frozenset({'bottled water'})</td>\n      <td>0.003336</td>\n      <td>0.213754</td>\n      <td>0.002566</td>\n      <td>0.769231</td>\n      <td>3.598670</td>\n      <td>0.001853</td>\n      <td>3.407065</td>\n    </tr>\n    <tr>\n      <th>24250</th>\n      <td>frozenset({'sausage', 'soda', 'whole milk', 'o...</td>\n      <td>frozenset({'rolls/buns'})</td>\n      <td>0.003336</td>\n      <td>0.349756</td>\n      <td>0.002566</td>\n      <td>0.769231</td>\n      <td>2.199334</td>\n      <td>0.001399</td>\n      <td>2.817723</td>\n    </tr>\n    <tr>\n      <th>24251</th>\n      <td>frozenset({'soda', 'sausage', 'whole milk', 'r...</td>\n      <td>frozenset({'other vegetables'})</td>\n      <td>0.003079</td>\n      <td>0.376700</td>\n      <td>0.002566</td>\n      <td>0.833333</td>\n      <td>2.212193</td>\n      <td>0.001406</td>\n      <td>3.739800</td>\n    </tr>\n  </tbody>\n</table>\n<p>24252 rows × 9 columns</p>\n</div>"
     },
     "execution_count": 68,
     "metadata": {},
     "output_type": "execute_result"
    }
   ],
   "source": [
    "df"
   ],
   "metadata": {
    "collapsed": false,
    "pycharm": {
     "name": "#%%\n"
    }
   }
  },
  {
   "cell_type": "code",
   "execution_count": 69,
   "outputs": [],
   "source": [
    "def fix_frozen_set(x): # takes panda dataframe and reformats antecedents and consequents as Frozensets for correct querying\n",
    "    beginning = x.find(\"'\") + 1\n",
    "    end = x.rfind(\"'\")\n",
    "    data = x[beginning: end]\n",
    "    data_remove_apostrophes = data.replace(\"'\",'')\n",
    "    new_data = data_remove_apostrophes.split(',')\n",
    "    new_data_stripped = []\n",
    "    for i in range(len(new_data)):\n",
    "        new_data_stripped.append(copy.copy(new_data[i].strip()))\n",
    "    if len(new_data_stripped) == 1:\n",
    "        return frozenset(new_data_stripped)\n",
    "    else:\n",
    "        return frozenset([x for x in new_data_stripped])"
   ],
   "metadata": {
    "collapsed": false,
    "pycharm": {
     "name": "#%%\n"
    }
   }
  },
  {
   "cell_type": "code",
   "execution_count": 70,
   "outputs": [],
   "source": [
    "df['antecedents'] = df['antecedents'].apply(fix_frozen_set)\n",
    "df['consequents'] = df['consequents'].apply(fix_frozen_set)"
   ],
   "metadata": {
    "collapsed": false,
    "pycharm": {
     "name": "#%%\n"
    }
   }
  },
  {
   "cell_type": "code",
   "execution_count": 71,
   "outputs": [
    {
     "data": {
      "text/plain": "                                             antecedents         consequents  \\\n0                                (Instant food products)              (soda)   \n1                                (Instant food products)        (whole milk)   \n2                                             (UHT-milk)        (whole milk)   \n3                                     (abrasive cleaner)        (rolls/buns)   \n4                                     (artif. sweetener)  (other vegetables)   \n...                                                  ...                 ...   \n24247  (sausage, soda, whole milk, other vegetables, ...   (root vegetables)   \n24248  (sausage, whole milk, other vegetables, rolls/...              (soda)   \n24249  (sausage, soda, whole milk, other vegetables, ...     (bottled water)   \n24250  (sausage, soda, whole milk, other vegetables, ...        (rolls/buns)   \n24251  (soda, sausage, whole milk, rolls/buns, root v...  (other vegetables)   \n\n       antecedent support  consequent support   support  confidence      lift  \\\n0                0.015396            0.313318  0.007955    0.516667  1.649017   \n1                0.015396            0.458045  0.007955    0.516667  1.127983   \n2                0.078522            0.458045  0.040544    0.516340  1.127270   \n3                0.005645            0.349756  0.002823    0.500000  1.429567   \n4                0.007442            0.376700  0.003849    0.517241  1.373086   \n...                   ...                 ...       ...         ...       ...   \n24247            0.003849            0.230690  0.002566    0.666667  2.889878   \n24248            0.003336            0.313318  0.002566    0.769231  2.455112   \n24249            0.003336            0.213754  0.002566    0.769231  3.598670   \n24250            0.003336            0.349756  0.002566    0.769231  2.199334   \n24251            0.003079            0.376700  0.002566    0.833333  2.212193   \n\n       leverage  conviction  \n0      0.003131    1.420722  \n1      0.000903    1.121287  \n2      0.004577    1.120529  \n3      0.000848    1.300488  \n4      0.001046    1.291121  \n...         ...         ...  \n24247  0.001678    2.307929  \n24248  0.001521    2.975622  \n24249  0.001853    3.407065  \n24250  0.001399    2.817723  \n24251  0.001406    3.739800  \n\n[24252 rows x 9 columns]",
      "text/html": "<div>\n<style scoped>\n    .dataframe tbody tr th:only-of-type {\n        vertical-align: middle;\n    }\n\n    .dataframe tbody tr th {\n        vertical-align: top;\n    }\n\n    .dataframe thead th {\n        text-align: right;\n    }\n</style>\n<table border=\"1\" class=\"dataframe\">\n  <thead>\n    <tr style=\"text-align: right;\">\n      <th></th>\n      <th>antecedents</th>\n      <th>consequents</th>\n      <th>antecedent support</th>\n      <th>consequent support</th>\n      <th>support</th>\n      <th>confidence</th>\n      <th>lift</th>\n      <th>leverage</th>\n      <th>conviction</th>\n    </tr>\n  </thead>\n  <tbody>\n    <tr>\n      <th>0</th>\n      <td>(Instant food products)</td>\n      <td>(soda)</td>\n      <td>0.015396</td>\n      <td>0.313318</td>\n      <td>0.007955</td>\n      <td>0.516667</td>\n      <td>1.649017</td>\n      <td>0.003131</td>\n      <td>1.420722</td>\n    </tr>\n    <tr>\n      <th>1</th>\n      <td>(Instant food products)</td>\n      <td>(whole milk)</td>\n      <td>0.015396</td>\n      <td>0.458045</td>\n      <td>0.007955</td>\n      <td>0.516667</td>\n      <td>1.127983</td>\n      <td>0.000903</td>\n      <td>1.121287</td>\n    </tr>\n    <tr>\n      <th>2</th>\n      <td>(UHT-milk)</td>\n      <td>(whole milk)</td>\n      <td>0.078522</td>\n      <td>0.458045</td>\n      <td>0.040544</td>\n      <td>0.516340</td>\n      <td>1.127270</td>\n      <td>0.004577</td>\n      <td>1.120529</td>\n    </tr>\n    <tr>\n      <th>3</th>\n      <td>(abrasive cleaner)</td>\n      <td>(rolls/buns)</td>\n      <td>0.005645</td>\n      <td>0.349756</td>\n      <td>0.002823</td>\n      <td>0.500000</td>\n      <td>1.429567</td>\n      <td>0.000848</td>\n      <td>1.300488</td>\n    </tr>\n    <tr>\n      <th>4</th>\n      <td>(artif. sweetener)</td>\n      <td>(other vegetables)</td>\n      <td>0.007442</td>\n      <td>0.376700</td>\n      <td>0.003849</td>\n      <td>0.517241</td>\n      <td>1.373086</td>\n      <td>0.001046</td>\n      <td>1.291121</td>\n    </tr>\n    <tr>\n      <th>...</th>\n      <td>...</td>\n      <td>...</td>\n      <td>...</td>\n      <td>...</td>\n      <td>...</td>\n      <td>...</td>\n      <td>...</td>\n      <td>...</td>\n      <td>...</td>\n    </tr>\n    <tr>\n      <th>24247</th>\n      <td>(sausage, soda, whole milk, other vegetables, ...</td>\n      <td>(root vegetables)</td>\n      <td>0.003849</td>\n      <td>0.230690</td>\n      <td>0.002566</td>\n      <td>0.666667</td>\n      <td>2.889878</td>\n      <td>0.001678</td>\n      <td>2.307929</td>\n    </tr>\n    <tr>\n      <th>24248</th>\n      <td>(sausage, whole milk, other vegetables, rolls/...</td>\n      <td>(soda)</td>\n      <td>0.003336</td>\n      <td>0.313318</td>\n      <td>0.002566</td>\n      <td>0.769231</td>\n      <td>2.455112</td>\n      <td>0.001521</td>\n      <td>2.975622</td>\n    </tr>\n    <tr>\n      <th>24249</th>\n      <td>(sausage, soda, whole milk, other vegetables, ...</td>\n      <td>(bottled water)</td>\n      <td>0.003336</td>\n      <td>0.213754</td>\n      <td>0.002566</td>\n      <td>0.769231</td>\n      <td>3.598670</td>\n      <td>0.001853</td>\n      <td>3.407065</td>\n    </tr>\n    <tr>\n      <th>24250</th>\n      <td>(sausage, soda, whole milk, other vegetables, ...</td>\n      <td>(rolls/buns)</td>\n      <td>0.003336</td>\n      <td>0.349756</td>\n      <td>0.002566</td>\n      <td>0.769231</td>\n      <td>2.199334</td>\n      <td>0.001399</td>\n      <td>2.817723</td>\n    </tr>\n    <tr>\n      <th>24251</th>\n      <td>(soda, sausage, whole milk, rolls/buns, root v...</td>\n      <td>(other vegetables)</td>\n      <td>0.003079</td>\n      <td>0.376700</td>\n      <td>0.002566</td>\n      <td>0.833333</td>\n      <td>2.212193</td>\n      <td>0.001406</td>\n      <td>3.739800</td>\n    </tr>\n  </tbody>\n</table>\n<p>24252 rows × 9 columns</p>\n</div>"
     },
     "execution_count": 71,
     "metadata": {},
     "output_type": "execute_result"
    }
   ],
   "source": [
    "df"
   ],
   "metadata": {
    "collapsed": false,
    "pycharm": {
     "name": "#%%\n"
    }
   }
  },
  {
   "cell_type": "code",
   "execution_count": 72,
   "outputs": [
    {
     "data": {
      "text/plain": "                             antecedents        consequents  \\\n132  (Instant food products, rolls/buns)  (root vegetables)   \n133  (Instant food products, rolls/buns)             (soda)   \n\n     antecedent support  consequent support   support  confidence      lift  \\\n132            0.005389            0.230690  0.002823    0.523810  2.270618   \n133            0.005389            0.313318  0.003593    0.666667  2.127764   \n\n     leverage  conviction  \n132  0.001580    1.615550  \n133  0.001904    2.060046  ",
      "text/html": "<div>\n<style scoped>\n    .dataframe tbody tr th:only-of-type {\n        vertical-align: middle;\n    }\n\n    .dataframe tbody tr th {\n        vertical-align: top;\n    }\n\n    .dataframe thead th {\n        text-align: right;\n    }\n</style>\n<table border=\"1\" class=\"dataframe\">\n  <thead>\n    <tr style=\"text-align: right;\">\n      <th></th>\n      <th>antecedents</th>\n      <th>consequents</th>\n      <th>antecedent support</th>\n      <th>consequent support</th>\n      <th>support</th>\n      <th>confidence</th>\n      <th>lift</th>\n      <th>leverage</th>\n      <th>conviction</th>\n    </tr>\n  </thead>\n  <tbody>\n    <tr>\n      <th>132</th>\n      <td>(Instant food products, rolls/buns)</td>\n      <td>(root vegetables)</td>\n      <td>0.005389</td>\n      <td>0.230690</td>\n      <td>0.002823</td>\n      <td>0.523810</td>\n      <td>2.270618</td>\n      <td>0.001580</td>\n      <td>1.615550</td>\n    </tr>\n    <tr>\n      <th>133</th>\n      <td>(Instant food products, rolls/buns)</td>\n      <td>(soda)</td>\n      <td>0.005389</td>\n      <td>0.313318</td>\n      <td>0.003593</td>\n      <td>0.666667</td>\n      <td>2.127764</td>\n      <td>0.001904</td>\n      <td>2.060046</td>\n    </tr>\n  </tbody>\n</table>\n</div>"
     },
     "execution_count": 72,
     "metadata": {},
     "output_type": "execute_result"
    }
   ],
   "source": [
    "df[df['antecedents'] == {'rolls/buns', 'Instant food products'}]"
   ],
   "metadata": {
    "collapsed": false,
    "pycharm": {
     "name": "#%%\n"
    }
   }
  },
  {
   "cell_type": "code",
   "execution_count": 42,
   "outputs": [
    {
     "data": {
      "text/plain": "               antecedents         consequents  antecedent support  \\\n0  (Instant food products)              (soda)            0.015396   \n1  (Instant food products)        (whole milk)            0.015396   \n2               (UHT-milk)        (whole milk)            0.078522   \n3       (abrasive cleaner)        (rolls/buns)            0.005645   \n4       (artif. sweetener)  (other vegetables)            0.007442   \n\n   consequent support   support  confidence      lift  leverage  conviction  \\\n0            0.313318  0.007955    0.516667  1.649017  0.003131    1.420722   \n1            0.458045  0.007955    0.516667  1.127983  0.000903    1.121287   \n2            0.458045  0.040544    0.516340  1.127270  0.004577    1.120529   \n3            0.349756  0.002823    0.500000  1.429567  0.000848    1.300488   \n4            0.376700  0.003849    0.517241  1.373086  0.001046    1.291121   \n\n   antecedent_len  \n0               1  \n1               1  \n2               1  \n3               1  \n4               1  ",
      "text/html": "<div>\n<style scoped>\n    .dataframe tbody tr th:only-of-type {\n        vertical-align: middle;\n    }\n\n    .dataframe tbody tr th {\n        vertical-align: top;\n    }\n\n    .dataframe thead th {\n        text-align: right;\n    }\n</style>\n<table border=\"1\" class=\"dataframe\">\n  <thead>\n    <tr style=\"text-align: right;\">\n      <th></th>\n      <th>antecedents</th>\n      <th>consequents</th>\n      <th>antecedent support</th>\n      <th>consequent support</th>\n      <th>support</th>\n      <th>confidence</th>\n      <th>lift</th>\n      <th>leverage</th>\n      <th>conviction</th>\n      <th>antecedent_len</th>\n    </tr>\n  </thead>\n  <tbody>\n    <tr>\n      <th>0</th>\n      <td>(Instant food products)</td>\n      <td>(soda)</td>\n      <td>0.015396</td>\n      <td>0.313318</td>\n      <td>0.007955</td>\n      <td>0.516667</td>\n      <td>1.649017</td>\n      <td>0.003131</td>\n      <td>1.420722</td>\n      <td>1</td>\n    </tr>\n    <tr>\n      <th>1</th>\n      <td>(Instant food products)</td>\n      <td>(whole milk)</td>\n      <td>0.015396</td>\n      <td>0.458045</td>\n      <td>0.007955</td>\n      <td>0.516667</td>\n      <td>1.127983</td>\n      <td>0.000903</td>\n      <td>1.121287</td>\n      <td>1</td>\n    </tr>\n    <tr>\n      <th>2</th>\n      <td>(UHT-milk)</td>\n      <td>(whole milk)</td>\n      <td>0.078522</td>\n      <td>0.458045</td>\n      <td>0.040544</td>\n      <td>0.516340</td>\n      <td>1.127270</td>\n      <td>0.004577</td>\n      <td>1.120529</td>\n      <td>1</td>\n    </tr>\n    <tr>\n      <th>3</th>\n      <td>(abrasive cleaner)</td>\n      <td>(rolls/buns)</td>\n      <td>0.005645</td>\n      <td>0.349756</td>\n      <td>0.002823</td>\n      <td>0.500000</td>\n      <td>1.429567</td>\n      <td>0.000848</td>\n      <td>1.300488</td>\n      <td>1</td>\n    </tr>\n    <tr>\n      <th>4</th>\n      <td>(artif. sweetener)</td>\n      <td>(other vegetables)</td>\n      <td>0.007442</td>\n      <td>0.376700</td>\n      <td>0.003849</td>\n      <td>0.517241</td>\n      <td>1.373086</td>\n      <td>0.001046</td>\n      <td>1.291121</td>\n      <td>1</td>\n    </tr>\n  </tbody>\n</table>\n</div>"
     },
     "execution_count": 42,
     "metadata": {},
     "output_type": "execute_result"
    }
   ],
   "source": [
    "df['antecedent_len'] = df['antecedents'].apply(lambda x: len(x))\n",
    "df.head()"
   ],
   "metadata": {
    "collapsed": false,
    "pycharm": {
     "name": "#%%\n"
    }
   }
  },
  {
   "cell_type": "code",
   "execution_count": 43,
   "outputs": [
    {
     "data": {
      "text/plain": "                                             antecedents  \\\n24689  (sausage, soda, other vegetables, root vegetab...   \n24690  (sausage, whole milk, other vegetables, root v...   \n24691  (soda, sausage, rolls/buns, root vegetables, b...   \n24692  (sausage, whole milk, rolls/buns, root vegetab...   \n24693  (soda, sausage, whole milk, root vegetables, b...   \n\n                          consequents  antecedent support  consequent support  \\\n24689        (whole milk, rolls/buns)            0.004876            0.178599   \n24690              (soda, rolls/buns)            0.004876            0.119836   \n24691  (other vegetables, whole milk)            0.004106            0.191429   \n24692        (soda, other vegetables)            0.004362            0.124198   \n24693  (other vegetables, rolls/buns)            0.005132            0.146780   \n\n        support  confidence      lift  leverage  conviction  antecedent_len  \n24689  0.002566    0.526316  2.946915  0.001695    1.734069               5  \n24690  0.002566    0.526316  4.391976  0.001982    1.858124               5  \n24691  0.002566    0.625000  3.264913  0.001780    2.156189               5  \n24692  0.002566    0.588235  4.736266  0.002024    2.126947               5  \n24693  0.002566    0.500000  3.406469  0.001813    1.706441               5  ",
      "text/html": "<div>\n<style scoped>\n    .dataframe tbody tr th:only-of-type {\n        vertical-align: middle;\n    }\n\n    .dataframe tbody tr th {\n        vertical-align: top;\n    }\n\n    .dataframe thead th {\n        text-align: right;\n    }\n</style>\n<table border=\"1\" class=\"dataframe\">\n  <thead>\n    <tr style=\"text-align: right;\">\n      <th></th>\n      <th>antecedents</th>\n      <th>consequents</th>\n      <th>antecedent support</th>\n      <th>consequent support</th>\n      <th>support</th>\n      <th>confidence</th>\n      <th>lift</th>\n      <th>leverage</th>\n      <th>conviction</th>\n      <th>antecedent_len</th>\n    </tr>\n  </thead>\n  <tbody>\n    <tr>\n      <th>24689</th>\n      <td>(sausage, soda, other vegetables, root vegetab...</td>\n      <td>(whole milk, rolls/buns)</td>\n      <td>0.004876</td>\n      <td>0.178599</td>\n      <td>0.002566</td>\n      <td>0.526316</td>\n      <td>2.946915</td>\n      <td>0.001695</td>\n      <td>1.734069</td>\n      <td>5</td>\n    </tr>\n    <tr>\n      <th>24690</th>\n      <td>(sausage, whole milk, other vegetables, root v...</td>\n      <td>(soda, rolls/buns)</td>\n      <td>0.004876</td>\n      <td>0.119836</td>\n      <td>0.002566</td>\n      <td>0.526316</td>\n      <td>4.391976</td>\n      <td>0.001982</td>\n      <td>1.858124</td>\n      <td>5</td>\n    </tr>\n    <tr>\n      <th>24691</th>\n      <td>(soda, sausage, rolls/buns, root vegetables, b...</td>\n      <td>(other vegetables, whole milk)</td>\n      <td>0.004106</td>\n      <td>0.191429</td>\n      <td>0.002566</td>\n      <td>0.625000</td>\n      <td>3.264913</td>\n      <td>0.001780</td>\n      <td>2.156189</td>\n      <td>5</td>\n    </tr>\n    <tr>\n      <th>24692</th>\n      <td>(sausage, whole milk, rolls/buns, root vegetab...</td>\n      <td>(soda, other vegetables)</td>\n      <td>0.004362</td>\n      <td>0.124198</td>\n      <td>0.002566</td>\n      <td>0.588235</td>\n      <td>4.736266</td>\n      <td>0.002024</td>\n      <td>2.126947</td>\n      <td>5</td>\n    </tr>\n    <tr>\n      <th>24693</th>\n      <td>(soda, sausage, whole milk, root vegetables, b...</td>\n      <td>(other vegetables, rolls/buns)</td>\n      <td>0.005132</td>\n      <td>0.146780</td>\n      <td>0.002566</td>\n      <td>0.500000</td>\n      <td>3.406469</td>\n      <td>0.001813</td>\n      <td>1.706441</td>\n      <td>5</td>\n    </tr>\n  </tbody>\n</table>\n</div>"
     },
     "execution_count": 43,
     "metadata": {},
     "output_type": "execute_result"
    }
   ],
   "source": [
    "df.tail()"
   ],
   "metadata": {
    "collapsed": false,
    "pycharm": {
     "name": "#%%\n"
    }
   }
  },
  {
   "cell_type": "code",
   "execution_count": 44,
   "outputs": [
    {
     "data": {
      "text/plain": "               antecedents         consequents  antecedent support  \\\n0  (Instant food products)              (soda)            0.015396   \n1  (Instant food products)        (whole milk)            0.015396   \n2               (UHT-milk)        (whole milk)            0.078522   \n3       (abrasive cleaner)        (rolls/buns)            0.005645   \n4       (artif. sweetener)  (other vegetables)            0.007442   \n\n   consequent support   support  confidence      lift  leverage  conviction  \\\n0            0.313318  0.007955    0.516667  1.649017  0.003131    1.420722   \n1            0.458045  0.007955    0.516667  1.127983  0.000903    1.121287   \n2            0.458045  0.040544    0.516340  1.127270  0.004577    1.120529   \n3            0.349756  0.002823    0.500000  1.429567  0.000848    1.300488   \n4            0.376700  0.003849    0.517241  1.373086  0.001046    1.291121   \n\n   antecedent_len  consequent_len  \n0               1               1  \n1               1               1  \n2               1               1  \n3               1               1  \n4               1               1  ",
      "text/html": "<div>\n<style scoped>\n    .dataframe tbody tr th:only-of-type {\n        vertical-align: middle;\n    }\n\n    .dataframe tbody tr th {\n        vertical-align: top;\n    }\n\n    .dataframe thead th {\n        text-align: right;\n    }\n</style>\n<table border=\"1\" class=\"dataframe\">\n  <thead>\n    <tr style=\"text-align: right;\">\n      <th></th>\n      <th>antecedents</th>\n      <th>consequents</th>\n      <th>antecedent support</th>\n      <th>consequent support</th>\n      <th>support</th>\n      <th>confidence</th>\n      <th>lift</th>\n      <th>leverage</th>\n      <th>conviction</th>\n      <th>antecedent_len</th>\n      <th>consequent_len</th>\n    </tr>\n  </thead>\n  <tbody>\n    <tr>\n      <th>0</th>\n      <td>(Instant food products)</td>\n      <td>(soda)</td>\n      <td>0.015396</td>\n      <td>0.313318</td>\n      <td>0.007955</td>\n      <td>0.516667</td>\n      <td>1.649017</td>\n      <td>0.003131</td>\n      <td>1.420722</td>\n      <td>1</td>\n      <td>1</td>\n    </tr>\n    <tr>\n      <th>1</th>\n      <td>(Instant food products)</td>\n      <td>(whole milk)</td>\n      <td>0.015396</td>\n      <td>0.458045</td>\n      <td>0.007955</td>\n      <td>0.516667</td>\n      <td>1.127983</td>\n      <td>0.000903</td>\n      <td>1.121287</td>\n      <td>1</td>\n      <td>1</td>\n    </tr>\n    <tr>\n      <th>2</th>\n      <td>(UHT-milk)</td>\n      <td>(whole milk)</td>\n      <td>0.078522</td>\n      <td>0.458045</td>\n      <td>0.040544</td>\n      <td>0.516340</td>\n      <td>1.127270</td>\n      <td>0.004577</td>\n      <td>1.120529</td>\n      <td>1</td>\n      <td>1</td>\n    </tr>\n    <tr>\n      <th>3</th>\n      <td>(abrasive cleaner)</td>\n      <td>(rolls/buns)</td>\n      <td>0.005645</td>\n      <td>0.349756</td>\n      <td>0.002823</td>\n      <td>0.500000</td>\n      <td>1.429567</td>\n      <td>0.000848</td>\n      <td>1.300488</td>\n      <td>1</td>\n      <td>1</td>\n    </tr>\n    <tr>\n      <th>4</th>\n      <td>(artif. sweetener)</td>\n      <td>(other vegetables)</td>\n      <td>0.007442</td>\n      <td>0.376700</td>\n      <td>0.003849</td>\n      <td>0.517241</td>\n      <td>1.373086</td>\n      <td>0.001046</td>\n      <td>1.291121</td>\n      <td>1</td>\n      <td>1</td>\n    </tr>\n  </tbody>\n</table>\n</div>"
     },
     "execution_count": 44,
     "metadata": {},
     "output_type": "execute_result"
    }
   ],
   "source": [
    "df['consequent_len'] = df['consequents'].apply(lambda x: len(x))\n",
    "df.head()"
   ],
   "metadata": {
    "collapsed": false,
    "pycharm": {
     "name": "#%%\n"
    }
   }
  },
  {
   "cell_type": "code",
   "execution_count": 45,
   "outputs": [
    {
     "data": {
      "text/plain": "                                             antecedents  \\\n24689  (sausage, soda, other vegetables, root vegetab...   \n24690  (sausage, whole milk, other vegetables, root v...   \n24691  (soda, sausage, rolls/buns, root vegetables, b...   \n24692  (sausage, whole milk, rolls/buns, root vegetab...   \n24693  (soda, sausage, whole milk, root vegetables, b...   \n\n                          consequents  antecedent support  consequent support  \\\n24689        (whole milk, rolls/buns)            0.004876            0.178599   \n24690              (soda, rolls/buns)            0.004876            0.119836   \n24691  (other vegetables, whole milk)            0.004106            0.191429   \n24692        (soda, other vegetables)            0.004362            0.124198   \n24693  (other vegetables, rolls/buns)            0.005132            0.146780   \n\n        support  confidence      lift  leverage  conviction  antecedent_len  \\\n24689  0.002566    0.526316  2.946915  0.001695    1.734069               5   \n24690  0.002566    0.526316  4.391976  0.001982    1.858124               5   \n24691  0.002566    0.625000  3.264913  0.001780    2.156189               5   \n24692  0.002566    0.588235  4.736266  0.002024    2.126947               5   \n24693  0.002566    0.500000  3.406469  0.001813    1.706441               5   \n\n       consequent_len  \n24689               2  \n24690               2  \n24691               2  \n24692               2  \n24693               2  ",
      "text/html": "<div>\n<style scoped>\n    .dataframe tbody tr th:only-of-type {\n        vertical-align: middle;\n    }\n\n    .dataframe tbody tr th {\n        vertical-align: top;\n    }\n\n    .dataframe thead th {\n        text-align: right;\n    }\n</style>\n<table border=\"1\" class=\"dataframe\">\n  <thead>\n    <tr style=\"text-align: right;\">\n      <th></th>\n      <th>antecedents</th>\n      <th>consequents</th>\n      <th>antecedent support</th>\n      <th>consequent support</th>\n      <th>support</th>\n      <th>confidence</th>\n      <th>lift</th>\n      <th>leverage</th>\n      <th>conviction</th>\n      <th>antecedent_len</th>\n      <th>consequent_len</th>\n    </tr>\n  </thead>\n  <tbody>\n    <tr>\n      <th>24689</th>\n      <td>(sausage, soda, other vegetables, root vegetab...</td>\n      <td>(whole milk, rolls/buns)</td>\n      <td>0.004876</td>\n      <td>0.178599</td>\n      <td>0.002566</td>\n      <td>0.526316</td>\n      <td>2.946915</td>\n      <td>0.001695</td>\n      <td>1.734069</td>\n      <td>5</td>\n      <td>2</td>\n    </tr>\n    <tr>\n      <th>24690</th>\n      <td>(sausage, whole milk, other vegetables, root v...</td>\n      <td>(soda, rolls/buns)</td>\n      <td>0.004876</td>\n      <td>0.119836</td>\n      <td>0.002566</td>\n      <td>0.526316</td>\n      <td>4.391976</td>\n      <td>0.001982</td>\n      <td>1.858124</td>\n      <td>5</td>\n      <td>2</td>\n    </tr>\n    <tr>\n      <th>24691</th>\n      <td>(soda, sausage, rolls/buns, root vegetables, b...</td>\n      <td>(other vegetables, whole milk)</td>\n      <td>0.004106</td>\n      <td>0.191429</td>\n      <td>0.002566</td>\n      <td>0.625000</td>\n      <td>3.264913</td>\n      <td>0.001780</td>\n      <td>2.156189</td>\n      <td>5</td>\n      <td>2</td>\n    </tr>\n    <tr>\n      <th>24692</th>\n      <td>(sausage, whole milk, rolls/buns, root vegetab...</td>\n      <td>(soda, other vegetables)</td>\n      <td>0.004362</td>\n      <td>0.124198</td>\n      <td>0.002566</td>\n      <td>0.588235</td>\n      <td>4.736266</td>\n      <td>0.002024</td>\n      <td>2.126947</td>\n      <td>5</td>\n      <td>2</td>\n    </tr>\n    <tr>\n      <th>24693</th>\n      <td>(soda, sausage, whole milk, root vegetables, b...</td>\n      <td>(other vegetables, rolls/buns)</td>\n      <td>0.005132</td>\n      <td>0.146780</td>\n      <td>0.002566</td>\n      <td>0.500000</td>\n      <td>3.406469</td>\n      <td>0.001813</td>\n      <td>1.706441</td>\n      <td>5</td>\n      <td>2</td>\n    </tr>\n  </tbody>\n</table>\n</div>"
     },
     "execution_count": 45,
     "metadata": {},
     "output_type": "execute_result"
    }
   ],
   "source": [
    "df.tail()"
   ],
   "metadata": {
    "collapsed": false,
    "pycharm": {
     "name": "#%%\n"
    }
   }
  },
  {
   "cell_type": "code",
   "execution_count": 60,
   "outputs": [
    {
     "data": {
      "text/plain": "(whole milk)                         10108\n(other vegetables)                    5942\n(rolls/buns)                          3672\n(soda)                                1894\n(yogurt)                              1519\n(root vegetables)                      294\n(sausage)                              212\n(other vegetables, whole milk)         203\n(bottled water)                        202\n(tropical fruit)                       135\n(whole milk, rolls/buns)                89\n(shopping bags)                         64\n(citrus fruit)                          42\n(soda, whole milk)                      41\n(whole milk, yogurt)                    38\n(pip fruit)                             30\n(pastry)                                28\n(other vegetables, rolls/buns)          26\n(canned beer)                           25\n(bottled beer)                          18\n(brown bread)                           13\n(pork)                                  12\n(soda, other vegetables)                12\n(frankfurter)                           11\n(whipped/sour cream)                     9\n(newspapers)                             8\n(other vegetables, yogurt)               8\n(yogurt, rolls/buns)                     5\n(soda, yogurt)                           5\n(whole milk, bottled water)              4\n(domestic eggs)                          3\n(white bread)                            3\n(dessert)                                2\n(whole milk, root vegetables)            2\n(soda, rolls/buns)                       2\n(beef)                                   2\n(curd)                                   1\n(pork, whole milk)                       1\n(shopping bags, rolls/buns)              1\n(tropical fruit, whole milk)             1\n(margarine)                              1\n(butter)                                 1\n(pip fruit, other vegetables)            1\n(other vegetables, bottled water)        1\n(fruit/vegetable juice)                  1\n(whole milk, whipped/sour cream)         1\n(shopping bags, whole milk)              1\nName: consequents, dtype: int64"
     },
     "execution_count": 60,
     "metadata": {},
     "output_type": "execute_result"
    }
   ],
   "source": [
    "df['consequents'].value_counts()"
   ],
   "metadata": {
    "collapsed": false,
    "pycharm": {
     "name": "#%%\n"
    }
   }
  },
  {
   "cell_type": "code",
   "execution_count": 46,
   "outputs": [],
   "source": [
    "ant_select = df['antecedent_len'] <= 2"
   ],
   "metadata": {
    "collapsed": false,
    "pycharm": {
     "name": "#%%\n"
    }
   }
  },
  {
   "cell_type": "code",
   "execution_count": 48,
   "outputs": [
    {
     "data": {
      "text/plain": "                          antecedents                     consequents  \\\n0             (Instant food products)                          (soda)   \n1             (Instant food products)                    (whole milk)   \n2                          (UHT-milk)                    (whole milk)   \n3                  (abrasive cleaner)                    (rolls/buns)   \n4                  (artif. sweetener)              (other vegetables)   \n...                               ...                             ...   \n15587  (shopping bags, spread cheese)  (other vegetables, whole milk)   \n15672         (yogurt, spread cheese)  (other vegetables, whole milk)   \n16093          (sausage, soft cheese)        (whole milk, rolls/buns)   \n16294          (sausage, soft cheese)            (whole milk, yogurt)   \n16362        (sliced cheese, waffles)            (whole milk, yogurt)   \n\n       antecedent support  consequent support   support  confidence      lift  \\\n0                0.015396            0.313318  0.007955    0.516667  1.649017   \n1                0.015396            0.458045  0.007955    0.516667  1.127983   \n2                0.078522            0.458045  0.040544    0.516340  1.127270   \n3                0.005645            0.349756  0.002823    0.500000  1.429567   \n4                0.007442            0.376700  0.003849    0.517241  1.373086   \n...                   ...                 ...       ...         ...       ...   \n15587            0.005132            0.191429  0.002566    0.500000  2.611930   \n15672            0.008725            0.191429  0.004362    0.500000  2.611930   \n16093            0.006672            0.178599  0.003849    0.576923  3.230272   \n16294            0.006672            0.150372  0.003336    0.500000  3.325085   \n16362            0.003849            0.150372  0.003079    0.800000  5.320137   \n\n       leverage  conviction  antecedent_len  consequent_len  \n0      0.003131    1.420722               1               1  \n1      0.000903    1.121287               1               1  \n2      0.004577    1.120529               1               1  \n3      0.000848    1.300488               1               1  \n4      0.001046    1.291121               1               1  \n...         ...         ...             ...             ...  \n15587  0.001584    1.617141               2               2  \n15672  0.002692    1.617141               2               2  \n16093  0.002658    1.941493               2               2  \n16294  0.002333    1.699256               2               2  \n16362  0.002500    4.248140               2               2  \n\n[3972 rows x 11 columns]",
      "text/html": "<div>\n<style scoped>\n    .dataframe tbody tr th:only-of-type {\n        vertical-align: middle;\n    }\n\n    .dataframe tbody tr th {\n        vertical-align: top;\n    }\n\n    .dataframe thead th {\n        text-align: right;\n    }\n</style>\n<table border=\"1\" class=\"dataframe\">\n  <thead>\n    <tr style=\"text-align: right;\">\n      <th></th>\n      <th>antecedents</th>\n      <th>consequents</th>\n      <th>antecedent support</th>\n      <th>consequent support</th>\n      <th>support</th>\n      <th>confidence</th>\n      <th>lift</th>\n      <th>leverage</th>\n      <th>conviction</th>\n      <th>antecedent_len</th>\n      <th>consequent_len</th>\n    </tr>\n  </thead>\n  <tbody>\n    <tr>\n      <th>0</th>\n      <td>(Instant food products)</td>\n      <td>(soda)</td>\n      <td>0.015396</td>\n      <td>0.313318</td>\n      <td>0.007955</td>\n      <td>0.516667</td>\n      <td>1.649017</td>\n      <td>0.003131</td>\n      <td>1.420722</td>\n      <td>1</td>\n      <td>1</td>\n    </tr>\n    <tr>\n      <th>1</th>\n      <td>(Instant food products)</td>\n      <td>(whole milk)</td>\n      <td>0.015396</td>\n      <td>0.458045</td>\n      <td>0.007955</td>\n      <td>0.516667</td>\n      <td>1.127983</td>\n      <td>0.000903</td>\n      <td>1.121287</td>\n      <td>1</td>\n      <td>1</td>\n    </tr>\n    <tr>\n      <th>2</th>\n      <td>(UHT-milk)</td>\n      <td>(whole milk)</td>\n      <td>0.078522</td>\n      <td>0.458045</td>\n      <td>0.040544</td>\n      <td>0.516340</td>\n      <td>1.127270</td>\n      <td>0.004577</td>\n      <td>1.120529</td>\n      <td>1</td>\n      <td>1</td>\n    </tr>\n    <tr>\n      <th>3</th>\n      <td>(abrasive cleaner)</td>\n      <td>(rolls/buns)</td>\n      <td>0.005645</td>\n      <td>0.349756</td>\n      <td>0.002823</td>\n      <td>0.500000</td>\n      <td>1.429567</td>\n      <td>0.000848</td>\n      <td>1.300488</td>\n      <td>1</td>\n      <td>1</td>\n    </tr>\n    <tr>\n      <th>4</th>\n      <td>(artif. sweetener)</td>\n      <td>(other vegetables)</td>\n      <td>0.007442</td>\n      <td>0.376700</td>\n      <td>0.003849</td>\n      <td>0.517241</td>\n      <td>1.373086</td>\n      <td>0.001046</td>\n      <td>1.291121</td>\n      <td>1</td>\n      <td>1</td>\n    </tr>\n    <tr>\n      <th>...</th>\n      <td>...</td>\n      <td>...</td>\n      <td>...</td>\n      <td>...</td>\n      <td>...</td>\n      <td>...</td>\n      <td>...</td>\n      <td>...</td>\n      <td>...</td>\n      <td>...</td>\n      <td>...</td>\n    </tr>\n    <tr>\n      <th>15587</th>\n      <td>(shopping bags, spread cheese)</td>\n      <td>(other vegetables, whole milk)</td>\n      <td>0.005132</td>\n      <td>0.191429</td>\n      <td>0.002566</td>\n      <td>0.500000</td>\n      <td>2.611930</td>\n      <td>0.001584</td>\n      <td>1.617141</td>\n      <td>2</td>\n      <td>2</td>\n    </tr>\n    <tr>\n      <th>15672</th>\n      <td>(yogurt, spread cheese)</td>\n      <td>(other vegetables, whole milk)</td>\n      <td>0.008725</td>\n      <td>0.191429</td>\n      <td>0.004362</td>\n      <td>0.500000</td>\n      <td>2.611930</td>\n      <td>0.002692</td>\n      <td>1.617141</td>\n      <td>2</td>\n      <td>2</td>\n    </tr>\n    <tr>\n      <th>16093</th>\n      <td>(sausage, soft cheese)</td>\n      <td>(whole milk, rolls/buns)</td>\n      <td>0.006672</td>\n      <td>0.178599</td>\n      <td>0.003849</td>\n      <td>0.576923</td>\n      <td>3.230272</td>\n      <td>0.002658</td>\n      <td>1.941493</td>\n      <td>2</td>\n      <td>2</td>\n    </tr>\n    <tr>\n      <th>16294</th>\n      <td>(sausage, soft cheese)</td>\n      <td>(whole milk, yogurt)</td>\n      <td>0.006672</td>\n      <td>0.150372</td>\n      <td>0.003336</td>\n      <td>0.500000</td>\n      <td>3.325085</td>\n      <td>0.002333</td>\n      <td>1.699256</td>\n      <td>2</td>\n      <td>2</td>\n    </tr>\n    <tr>\n      <th>16362</th>\n      <td>(sliced cheese, waffles)</td>\n      <td>(whole milk, yogurt)</td>\n      <td>0.003849</td>\n      <td>0.150372</td>\n      <td>0.003079</td>\n      <td>0.800000</td>\n      <td>5.320137</td>\n      <td>0.002500</td>\n      <td>4.248140</td>\n      <td>2</td>\n      <td>2</td>\n    </tr>\n  </tbody>\n</table>\n<p>3972 rows × 11 columns</p>\n</div>"
     },
     "execution_count": 48,
     "metadata": {},
     "output_type": "execute_result"
    }
   ],
   "source": [
    "df[ant_select]"
   ],
   "metadata": {
    "collapsed": false,
    "pycharm": {
     "name": "#%%\n"
    }
   }
  },
  {
   "cell_type": "code",
   "execution_count": 59,
   "outputs": [
    {
     "data": {
      "text/plain": "(whole milk)                      2080\n(other vegetables)                 929\n(rolls/buns)                       505\n(soda)                             217\n(yogurt)                           113\n(other vegetables, whole milk)      26\n(tropical fruit)                    24\n(root vegetables)                   19\n(bottled water)                     16\n(sausage)                           11\n(whole milk, rolls/buns)             7\n(citrus fruit)                       6\n(pastry)                             5\n(whole milk, yogurt)                 4\n(other vegetables, rolls/buns)       3\n(pip fruit)                          2\n(whole milk, bottled water)          1\n(soda, other vegetables)             1\n(butter)                             1\n(canned beer)                        1\n(soda, whole milk)                   1\nName: consequents, dtype: int64"
     },
     "execution_count": 59,
     "metadata": {},
     "output_type": "execute_result"
    }
   ],
   "source": [
    "df[ant_select]['consequents'].value_counts()"
   ],
   "metadata": {
    "collapsed": false,
    "pycharm": {
     "name": "#%%\n"
    }
   }
  },
  {
   "cell_type": "code",
   "execution_count": 49,
   "outputs": [],
   "source": [
    "con_select = df['consequent_len'] == 1"
   ],
   "metadata": {
    "collapsed": false,
    "pycharm": {
     "name": "#%%\n"
    }
   }
  },
  {
   "cell_type": "code",
   "execution_count": 50,
   "outputs": [
    {
     "data": {
      "text/plain": "                                             antecedents         consequents  \\\n0                                (Instant food products)              (soda)   \n1                                (Instant food products)        (whole milk)   \n2                                             (UHT-milk)        (whole milk)   \n3                                     (abrasive cleaner)        (rolls/buns)   \n4                                     (artif. sweetener)  (other vegetables)   \n...                                                  ...                 ...   \n24683  (sausage, soda, whole milk, other vegetables, ...   (root vegetables)   \n24684  (sausage, whole milk, other vegetables, rolls/...              (soda)   \n24685  (sausage, soda, whole milk, other vegetables, ...     (bottled water)   \n24686  (sausage, soda, whole milk, other vegetables, ...        (rolls/buns)   \n24687  (soda, sausage, whole milk, rolls/buns, root v...  (other vegetables)   \n\n       antecedent support  consequent support   support  confidence      lift  \\\n0                0.015396            0.313318  0.007955    0.516667  1.649017   \n1                0.015396            0.458045  0.007955    0.516667  1.127983   \n2                0.078522            0.458045  0.040544    0.516340  1.127270   \n3                0.005645            0.349756  0.002823    0.500000  1.429567   \n4                0.007442            0.376700  0.003849    0.517241  1.373086   \n...                   ...                 ...       ...         ...       ...   \n24683            0.003849            0.230690  0.002566    0.666667  2.889878   \n24684            0.003336            0.313318  0.002566    0.769231  2.455112   \n24685            0.003336            0.213754  0.002566    0.769231  3.598670   \n24686            0.003336            0.349756  0.002566    0.769231  2.199334   \n24687            0.003079            0.376700  0.002566    0.833333  2.212193   \n\n       leverage  conviction  antecedent_len  consequent_len  \n0      0.003131    1.420722               1               1  \n1      0.000903    1.121287               1               1  \n2      0.004577    1.120529               1               1  \n3      0.000848    1.300488               1               1  \n4      0.001046    1.291121               1               1  \n...         ...         ...             ...             ...  \n24683  0.001678    2.307929               6               1  \n24684  0.001521    2.975622               6               1  \n24685  0.001853    3.407065               6               1  \n24686  0.001399    2.817723               6               1  \n24687  0.001406    3.739800               6               1  \n\n[24252 rows x 11 columns]",
      "text/html": "<div>\n<style scoped>\n    .dataframe tbody tr th:only-of-type {\n        vertical-align: middle;\n    }\n\n    .dataframe tbody tr th {\n        vertical-align: top;\n    }\n\n    .dataframe thead th {\n        text-align: right;\n    }\n</style>\n<table border=\"1\" class=\"dataframe\">\n  <thead>\n    <tr style=\"text-align: right;\">\n      <th></th>\n      <th>antecedents</th>\n      <th>consequents</th>\n      <th>antecedent support</th>\n      <th>consequent support</th>\n      <th>support</th>\n      <th>confidence</th>\n      <th>lift</th>\n      <th>leverage</th>\n      <th>conviction</th>\n      <th>antecedent_len</th>\n      <th>consequent_len</th>\n    </tr>\n  </thead>\n  <tbody>\n    <tr>\n      <th>0</th>\n      <td>(Instant food products)</td>\n      <td>(soda)</td>\n      <td>0.015396</td>\n      <td>0.313318</td>\n      <td>0.007955</td>\n      <td>0.516667</td>\n      <td>1.649017</td>\n      <td>0.003131</td>\n      <td>1.420722</td>\n      <td>1</td>\n      <td>1</td>\n    </tr>\n    <tr>\n      <th>1</th>\n      <td>(Instant food products)</td>\n      <td>(whole milk)</td>\n      <td>0.015396</td>\n      <td>0.458045</td>\n      <td>0.007955</td>\n      <td>0.516667</td>\n      <td>1.127983</td>\n      <td>0.000903</td>\n      <td>1.121287</td>\n      <td>1</td>\n      <td>1</td>\n    </tr>\n    <tr>\n      <th>2</th>\n      <td>(UHT-milk)</td>\n      <td>(whole milk)</td>\n      <td>0.078522</td>\n      <td>0.458045</td>\n      <td>0.040544</td>\n      <td>0.516340</td>\n      <td>1.127270</td>\n      <td>0.004577</td>\n      <td>1.120529</td>\n      <td>1</td>\n      <td>1</td>\n    </tr>\n    <tr>\n      <th>3</th>\n      <td>(abrasive cleaner)</td>\n      <td>(rolls/buns)</td>\n      <td>0.005645</td>\n      <td>0.349756</td>\n      <td>0.002823</td>\n      <td>0.500000</td>\n      <td>1.429567</td>\n      <td>0.000848</td>\n      <td>1.300488</td>\n      <td>1</td>\n      <td>1</td>\n    </tr>\n    <tr>\n      <th>4</th>\n      <td>(artif. sweetener)</td>\n      <td>(other vegetables)</td>\n      <td>0.007442</td>\n      <td>0.376700</td>\n      <td>0.003849</td>\n      <td>0.517241</td>\n      <td>1.373086</td>\n      <td>0.001046</td>\n      <td>1.291121</td>\n      <td>1</td>\n      <td>1</td>\n    </tr>\n    <tr>\n      <th>...</th>\n      <td>...</td>\n      <td>...</td>\n      <td>...</td>\n      <td>...</td>\n      <td>...</td>\n      <td>...</td>\n      <td>...</td>\n      <td>...</td>\n      <td>...</td>\n      <td>...</td>\n      <td>...</td>\n    </tr>\n    <tr>\n      <th>24683</th>\n      <td>(sausage, soda, whole milk, other vegetables, ...</td>\n      <td>(root vegetables)</td>\n      <td>0.003849</td>\n      <td>0.230690</td>\n      <td>0.002566</td>\n      <td>0.666667</td>\n      <td>2.889878</td>\n      <td>0.001678</td>\n      <td>2.307929</td>\n      <td>6</td>\n      <td>1</td>\n    </tr>\n    <tr>\n      <th>24684</th>\n      <td>(sausage, whole milk, other vegetables, rolls/...</td>\n      <td>(soda)</td>\n      <td>0.003336</td>\n      <td>0.313318</td>\n      <td>0.002566</td>\n      <td>0.769231</td>\n      <td>2.455112</td>\n      <td>0.001521</td>\n      <td>2.975622</td>\n      <td>6</td>\n      <td>1</td>\n    </tr>\n    <tr>\n      <th>24685</th>\n      <td>(sausage, soda, whole milk, other vegetables, ...</td>\n      <td>(bottled water)</td>\n      <td>0.003336</td>\n      <td>0.213754</td>\n      <td>0.002566</td>\n      <td>0.769231</td>\n      <td>3.598670</td>\n      <td>0.001853</td>\n      <td>3.407065</td>\n      <td>6</td>\n      <td>1</td>\n    </tr>\n    <tr>\n      <th>24686</th>\n      <td>(sausage, soda, whole milk, other vegetables, ...</td>\n      <td>(rolls/buns)</td>\n      <td>0.003336</td>\n      <td>0.349756</td>\n      <td>0.002566</td>\n      <td>0.769231</td>\n      <td>2.199334</td>\n      <td>0.001399</td>\n      <td>2.817723</td>\n      <td>6</td>\n      <td>1</td>\n    </tr>\n    <tr>\n      <th>24687</th>\n      <td>(soda, sausage, whole milk, rolls/buns, root v...</td>\n      <td>(other vegetables)</td>\n      <td>0.003079</td>\n      <td>0.376700</td>\n      <td>0.002566</td>\n      <td>0.833333</td>\n      <td>2.212193</td>\n      <td>0.001406</td>\n      <td>3.739800</td>\n      <td>6</td>\n      <td>1</td>\n    </tr>\n  </tbody>\n</table>\n<p>24252 rows × 11 columns</p>\n</div>"
     },
     "execution_count": 50,
     "metadata": {},
     "output_type": "execute_result"
    }
   ],
   "source": [
    "df[con_select]"
   ],
   "metadata": {
    "collapsed": false,
    "pycharm": {
     "name": "#%%\n"
    }
   }
  },
  {
   "cell_type": "code",
   "execution_count": 61,
   "outputs": [
    {
     "data": {
      "text/plain": "                                             antecedents         consequents  \\\n0                                (Instant food products)              (soda)   \n1                                (Instant food products)        (whole milk)   \n2                                             (UHT-milk)        (whole milk)   \n3                                     (abrasive cleaner)        (rolls/buns)   \n4                                     (artif. sweetener)  (other vegetables)   \n...                                                  ...                 ...   \n24683  (sausage, soda, whole milk, other vegetables, ...   (root vegetables)   \n24684  (sausage, whole milk, other vegetables, rolls/...              (soda)   \n24685  (sausage, soda, whole milk, other vegetables, ...     (bottled water)   \n24686  (sausage, soda, whole milk, other vegetables, ...        (rolls/buns)   \n24687  (soda, sausage, whole milk, rolls/buns, root v...  (other vegetables)   \n\n       antecedent support  consequent support   support  confidence      lift  \\\n0                0.015396            0.313318  0.007955    0.516667  1.649017   \n1                0.015396            0.458045  0.007955    0.516667  1.127983   \n2                0.078522            0.458045  0.040544    0.516340  1.127270   \n3                0.005645            0.349756  0.002823    0.500000  1.429567   \n4                0.007442            0.376700  0.003849    0.517241  1.373086   \n...                   ...                 ...       ...         ...       ...   \n24683            0.003849            0.230690  0.002566    0.666667  2.889878   \n24684            0.003336            0.313318  0.002566    0.769231  2.455112   \n24685            0.003336            0.213754  0.002566    0.769231  3.598670   \n24686            0.003336            0.349756  0.002566    0.769231  2.199334   \n24687            0.003079            0.376700  0.002566    0.833333  2.212193   \n\n       leverage  conviction  antecedent_len  consequent_len  \n0      0.003131    1.420722               1               1  \n1      0.000903    1.121287               1               1  \n2      0.004577    1.120529               1               1  \n3      0.000848    1.300488               1               1  \n4      0.001046    1.291121               1               1  \n...         ...         ...             ...             ...  \n24683  0.001678    2.307929               6               1  \n24684  0.001521    2.975622               6               1  \n24685  0.001853    3.407065               6               1  \n24686  0.001399    2.817723               6               1  \n24687  0.001406    3.739800               6               1  \n\n[24252 rows x 11 columns]",
      "text/html": "<div>\n<style scoped>\n    .dataframe tbody tr th:only-of-type {\n        vertical-align: middle;\n    }\n\n    .dataframe tbody tr th {\n        vertical-align: top;\n    }\n\n    .dataframe thead th {\n        text-align: right;\n    }\n</style>\n<table border=\"1\" class=\"dataframe\">\n  <thead>\n    <tr style=\"text-align: right;\">\n      <th></th>\n      <th>antecedents</th>\n      <th>consequents</th>\n      <th>antecedent support</th>\n      <th>consequent support</th>\n      <th>support</th>\n      <th>confidence</th>\n      <th>lift</th>\n      <th>leverage</th>\n      <th>conviction</th>\n      <th>antecedent_len</th>\n      <th>consequent_len</th>\n    </tr>\n  </thead>\n  <tbody>\n    <tr>\n      <th>0</th>\n      <td>(Instant food products)</td>\n      <td>(soda)</td>\n      <td>0.015396</td>\n      <td>0.313318</td>\n      <td>0.007955</td>\n      <td>0.516667</td>\n      <td>1.649017</td>\n      <td>0.003131</td>\n      <td>1.420722</td>\n      <td>1</td>\n      <td>1</td>\n    </tr>\n    <tr>\n      <th>1</th>\n      <td>(Instant food products)</td>\n      <td>(whole milk)</td>\n      <td>0.015396</td>\n      <td>0.458045</td>\n      <td>0.007955</td>\n      <td>0.516667</td>\n      <td>1.127983</td>\n      <td>0.000903</td>\n      <td>1.121287</td>\n      <td>1</td>\n      <td>1</td>\n    </tr>\n    <tr>\n      <th>2</th>\n      <td>(UHT-milk)</td>\n      <td>(whole milk)</td>\n      <td>0.078522</td>\n      <td>0.458045</td>\n      <td>0.040544</td>\n      <td>0.516340</td>\n      <td>1.127270</td>\n      <td>0.004577</td>\n      <td>1.120529</td>\n      <td>1</td>\n      <td>1</td>\n    </tr>\n    <tr>\n      <th>3</th>\n      <td>(abrasive cleaner)</td>\n      <td>(rolls/buns)</td>\n      <td>0.005645</td>\n      <td>0.349756</td>\n      <td>0.002823</td>\n      <td>0.500000</td>\n      <td>1.429567</td>\n      <td>0.000848</td>\n      <td>1.300488</td>\n      <td>1</td>\n      <td>1</td>\n    </tr>\n    <tr>\n      <th>4</th>\n      <td>(artif. sweetener)</td>\n      <td>(other vegetables)</td>\n      <td>0.007442</td>\n      <td>0.376700</td>\n      <td>0.003849</td>\n      <td>0.517241</td>\n      <td>1.373086</td>\n      <td>0.001046</td>\n      <td>1.291121</td>\n      <td>1</td>\n      <td>1</td>\n    </tr>\n    <tr>\n      <th>...</th>\n      <td>...</td>\n      <td>...</td>\n      <td>...</td>\n      <td>...</td>\n      <td>...</td>\n      <td>...</td>\n      <td>...</td>\n      <td>...</td>\n      <td>...</td>\n      <td>...</td>\n      <td>...</td>\n    </tr>\n    <tr>\n      <th>24683</th>\n      <td>(sausage, soda, whole milk, other vegetables, ...</td>\n      <td>(root vegetables)</td>\n      <td>0.003849</td>\n      <td>0.230690</td>\n      <td>0.002566</td>\n      <td>0.666667</td>\n      <td>2.889878</td>\n      <td>0.001678</td>\n      <td>2.307929</td>\n      <td>6</td>\n      <td>1</td>\n    </tr>\n    <tr>\n      <th>24684</th>\n      <td>(sausage, whole milk, other vegetables, rolls/...</td>\n      <td>(soda)</td>\n      <td>0.003336</td>\n      <td>0.313318</td>\n      <td>0.002566</td>\n      <td>0.769231</td>\n      <td>2.455112</td>\n      <td>0.001521</td>\n      <td>2.975622</td>\n      <td>6</td>\n      <td>1</td>\n    </tr>\n    <tr>\n      <th>24685</th>\n      <td>(sausage, soda, whole milk, other vegetables, ...</td>\n      <td>(bottled water)</td>\n      <td>0.003336</td>\n      <td>0.213754</td>\n      <td>0.002566</td>\n      <td>0.769231</td>\n      <td>3.598670</td>\n      <td>0.001853</td>\n      <td>3.407065</td>\n      <td>6</td>\n      <td>1</td>\n    </tr>\n    <tr>\n      <th>24686</th>\n      <td>(sausage, soda, whole milk, other vegetables, ...</td>\n      <td>(rolls/buns)</td>\n      <td>0.003336</td>\n      <td>0.349756</td>\n      <td>0.002566</td>\n      <td>0.769231</td>\n      <td>2.199334</td>\n      <td>0.001399</td>\n      <td>2.817723</td>\n      <td>6</td>\n      <td>1</td>\n    </tr>\n    <tr>\n      <th>24687</th>\n      <td>(soda, sausage, whole milk, rolls/buns, root v...</td>\n      <td>(other vegetables)</td>\n      <td>0.003079</td>\n      <td>0.376700</td>\n      <td>0.002566</td>\n      <td>0.833333</td>\n      <td>2.212193</td>\n      <td>0.001406</td>\n      <td>3.739800</td>\n      <td>6</td>\n      <td>1</td>\n    </tr>\n  </tbody>\n</table>\n<p>24252 rows × 11 columns</p>\n</div>"
     },
     "execution_count": 61,
     "metadata": {},
     "output_type": "execute_result"
    }
   ],
   "source": [
    "df = df[con_select]\n",
    "df"
   ],
   "metadata": {
    "collapsed": false,
    "pycharm": {
     "name": "#%%\n"
    }
   }
  },
  {
   "cell_type": "code",
   "execution_count": 62,
   "outputs": [
    {
     "data": {
      "text/plain": "               antecedents         consequents  antecedent support  \\\n0  (Instant food products)              (soda)            0.015396   \n1  (Instant food products)        (whole milk)            0.015396   \n2               (UHT-milk)        (whole milk)            0.078522   \n3       (abrasive cleaner)        (rolls/buns)            0.005645   \n4       (artif. sweetener)  (other vegetables)            0.007442   \n\n   consequent support   support  confidence      lift  leverage  conviction  \n0            0.313318  0.007955    0.516667  1.649017  0.003131    1.420722  \n1            0.458045  0.007955    0.516667  1.127983  0.000903    1.121287  \n2            0.458045  0.040544    0.516340  1.127270  0.004577    1.120529  \n3            0.349756  0.002823    0.500000  1.429567  0.000848    1.300488  \n4            0.376700  0.003849    0.517241  1.373086  0.001046    1.291121  ",
      "text/html": "<div>\n<style scoped>\n    .dataframe tbody tr th:only-of-type {\n        vertical-align: middle;\n    }\n\n    .dataframe tbody tr th {\n        vertical-align: top;\n    }\n\n    .dataframe thead th {\n        text-align: right;\n    }\n</style>\n<table border=\"1\" class=\"dataframe\">\n  <thead>\n    <tr style=\"text-align: right;\">\n      <th></th>\n      <th>antecedents</th>\n      <th>consequents</th>\n      <th>antecedent support</th>\n      <th>consequent support</th>\n      <th>support</th>\n      <th>confidence</th>\n      <th>lift</th>\n      <th>leverage</th>\n      <th>conviction</th>\n    </tr>\n  </thead>\n  <tbody>\n    <tr>\n      <th>0</th>\n      <td>(Instant food products)</td>\n      <td>(soda)</td>\n      <td>0.015396</td>\n      <td>0.313318</td>\n      <td>0.007955</td>\n      <td>0.516667</td>\n      <td>1.649017</td>\n      <td>0.003131</td>\n      <td>1.420722</td>\n    </tr>\n    <tr>\n      <th>1</th>\n      <td>(Instant food products)</td>\n      <td>(whole milk)</td>\n      <td>0.015396</td>\n      <td>0.458045</td>\n      <td>0.007955</td>\n      <td>0.516667</td>\n      <td>1.127983</td>\n      <td>0.000903</td>\n      <td>1.121287</td>\n    </tr>\n    <tr>\n      <th>2</th>\n      <td>(UHT-milk)</td>\n      <td>(whole milk)</td>\n      <td>0.078522</td>\n      <td>0.458045</td>\n      <td>0.040544</td>\n      <td>0.516340</td>\n      <td>1.127270</td>\n      <td>0.004577</td>\n      <td>1.120529</td>\n    </tr>\n    <tr>\n      <th>3</th>\n      <td>(abrasive cleaner)</td>\n      <td>(rolls/buns)</td>\n      <td>0.005645</td>\n      <td>0.349756</td>\n      <td>0.002823</td>\n      <td>0.500000</td>\n      <td>1.429567</td>\n      <td>0.000848</td>\n      <td>1.300488</td>\n    </tr>\n    <tr>\n      <th>4</th>\n      <td>(artif. sweetener)</td>\n      <td>(other vegetables)</td>\n      <td>0.007442</td>\n      <td>0.376700</td>\n      <td>0.003849</td>\n      <td>0.517241</td>\n      <td>1.373086</td>\n      <td>0.001046</td>\n      <td>1.291121</td>\n    </tr>\n  </tbody>\n</table>\n</div>"
     },
     "execution_count": 62,
     "metadata": {},
     "output_type": "execute_result"
    }
   ],
   "source": [
    "df.drop(columns=['antecedent_len', 'consequent_len'], inplace=True)\n",
    "df.head()"
   ],
   "metadata": {
    "collapsed": false,
    "pycharm": {
     "name": "#%%\n"
    }
   }
  },
  {
   "cell_type": "code",
   "execution_count": 58,
   "outputs": [
    {
     "data": {
      "text/plain": "(whole milk)               10108\n(other vegetables)          5942\n(rolls/buns)                3672\n(soda)                      1894\n(yogurt)                    1519\n(root vegetables)            294\n(sausage)                    212\n(bottled water)              202\n(tropical fruit)             135\n(shopping bags)               64\n(citrus fruit)                42\n(pip fruit)                   30\n(pastry)                      28\n(canned beer)                 25\n(bottled beer)                18\n(brown bread)                 13\n(pork)                        12\n(frankfurter)                 11\n(whipped/sour cream)           9\n(newspapers)                   8\n(domestic eggs)                3\n(white bread)                  3\n(beef)                         2\n(dessert)                      2\n(butter)                       1\n(curd)                         1\n(fruit/vegetable juice)        1\n(margarine)                    1\nName: consequents, dtype: int64"
     },
     "execution_count": 58,
     "metadata": {},
     "output_type": "execute_result"
    }
   ],
   "source": [
    "df[con_select]['consequents'].value_counts()"
   ],
   "metadata": {
    "collapsed": false,
    "pycharm": {
     "name": "#%%\n"
    }
   }
  },
  {
   "cell_type": "code",
   "execution_count": null,
   "outputs": [],
   "source": [],
   "metadata": {
    "collapsed": false,
    "pycharm": {
     "name": "#%%\n"
    }
   }
  },
  {
   "cell_type": "code",
   "execution_count": 51,
   "outputs": [],
   "source": [
    "final_rule = (con_select & ant_select)"
   ],
   "metadata": {
    "collapsed": false,
    "pycharm": {
     "name": "#%%\n"
    }
   }
  },
  {
   "cell_type": "code",
   "execution_count": 52,
   "outputs": [
    {
     "data": {
      "text/plain": "                                             antecedents  \\\n3929                  (UHT-milk, other vegetables, beef)   \n3930                        (UHT-milk, beef, whole milk)   \n3931                         (UHT-milk, beef, pip fruit)   \n3932                        (UHT-milk, beef, rolls/buns)   \n3933             (UHT-milk, bottled beer, bottled water)   \n...                                                  ...   \n24689  (sausage, soda, other vegetables, root vegetab...   \n24690  (sausage, whole milk, other vegetables, root v...   \n24691  (soda, sausage, rolls/buns, root vegetables, b...   \n24692  (sausage, whole milk, rolls/buns, root vegetab...   \n24693  (soda, sausage, whole milk, root vegetables, b...   \n\n                          consequents  antecedent support  consequent support  \\\n3929                     (whole milk)            0.004619            0.458045   \n3930               (other vegetables)            0.006928            0.376700   \n3931                     (whole milk)            0.003593            0.458045   \n3932                     (whole milk)            0.004619            0.458045   \n3933               (other vegetables)            0.003849            0.376700   \n...                               ...                 ...                 ...   \n24689        (whole milk, rolls/buns)            0.004876            0.178599   \n24690              (soda, rolls/buns)            0.004876            0.119836   \n24691  (other vegetables, whole milk)            0.004106            0.191429   \n24692        (soda, other vegetables)            0.004362            0.124198   \n24693  (other vegetables, rolls/buns)            0.005132            0.146780   \n\n        support  confidence      lift  leverage  conviction  antecedent_len  \\\n3929   0.003593    0.777778  1.698039  0.001477    2.438799               3   \n3930   0.003593    0.518519  1.376476  0.000983    1.294546               3   \n3931   0.002823    0.785714  1.715366  0.001177    2.529125               3   \n3932   0.003079    0.666667  1.455462  0.000964    1.625866               3   \n3933   0.002566    0.666667  1.769755  0.001116    1.869900               3   \n...         ...         ...       ...       ...         ...             ...   \n24689  0.002566    0.526316  2.946915  0.001695    1.734069               5   \n24690  0.002566    0.526316  4.391976  0.001982    1.858124               5   \n24691  0.002566    0.625000  3.264913  0.001780    2.156189               5   \n24692  0.002566    0.588235  4.736266  0.002024    2.126947               5   \n24693  0.002566    0.500000  3.406469  0.001813    1.706441               5   \n\n       consequent_len  \n3929                1  \n3930                1  \n3931                1  \n3932                1  \n3933                1  \n...               ...  \n24689               2  \n24690               2  \n24691               2  \n24692               2  \n24693               2  \n\n[20765 rows x 11 columns]",
      "text/html": "<div>\n<style scoped>\n    .dataframe tbody tr th:only-of-type {\n        vertical-align: middle;\n    }\n\n    .dataframe tbody tr th {\n        vertical-align: top;\n    }\n\n    .dataframe thead th {\n        text-align: right;\n    }\n</style>\n<table border=\"1\" class=\"dataframe\">\n  <thead>\n    <tr style=\"text-align: right;\">\n      <th></th>\n      <th>antecedents</th>\n      <th>consequents</th>\n      <th>antecedent support</th>\n      <th>consequent support</th>\n      <th>support</th>\n      <th>confidence</th>\n      <th>lift</th>\n      <th>leverage</th>\n      <th>conviction</th>\n      <th>antecedent_len</th>\n      <th>consequent_len</th>\n    </tr>\n  </thead>\n  <tbody>\n    <tr>\n      <th>3929</th>\n      <td>(UHT-milk, other vegetables, beef)</td>\n      <td>(whole milk)</td>\n      <td>0.004619</td>\n      <td>0.458045</td>\n      <td>0.003593</td>\n      <td>0.777778</td>\n      <td>1.698039</td>\n      <td>0.001477</td>\n      <td>2.438799</td>\n      <td>3</td>\n      <td>1</td>\n    </tr>\n    <tr>\n      <th>3930</th>\n      <td>(UHT-milk, beef, whole milk)</td>\n      <td>(other vegetables)</td>\n      <td>0.006928</td>\n      <td>0.376700</td>\n      <td>0.003593</td>\n      <td>0.518519</td>\n      <td>1.376476</td>\n      <td>0.000983</td>\n      <td>1.294546</td>\n      <td>3</td>\n      <td>1</td>\n    </tr>\n    <tr>\n      <th>3931</th>\n      <td>(UHT-milk, beef, pip fruit)</td>\n      <td>(whole milk)</td>\n      <td>0.003593</td>\n      <td>0.458045</td>\n      <td>0.002823</td>\n      <td>0.785714</td>\n      <td>1.715366</td>\n      <td>0.001177</td>\n      <td>2.529125</td>\n      <td>3</td>\n      <td>1</td>\n    </tr>\n    <tr>\n      <th>3932</th>\n      <td>(UHT-milk, beef, rolls/buns)</td>\n      <td>(whole milk)</td>\n      <td>0.004619</td>\n      <td>0.458045</td>\n      <td>0.003079</td>\n      <td>0.666667</td>\n      <td>1.455462</td>\n      <td>0.000964</td>\n      <td>1.625866</td>\n      <td>3</td>\n      <td>1</td>\n    </tr>\n    <tr>\n      <th>3933</th>\n      <td>(UHT-milk, bottled beer, bottled water)</td>\n      <td>(other vegetables)</td>\n      <td>0.003849</td>\n      <td>0.376700</td>\n      <td>0.002566</td>\n      <td>0.666667</td>\n      <td>1.769755</td>\n      <td>0.001116</td>\n      <td>1.869900</td>\n      <td>3</td>\n      <td>1</td>\n    </tr>\n    <tr>\n      <th>...</th>\n      <td>...</td>\n      <td>...</td>\n      <td>...</td>\n      <td>...</td>\n      <td>...</td>\n      <td>...</td>\n      <td>...</td>\n      <td>...</td>\n      <td>...</td>\n      <td>...</td>\n      <td>...</td>\n    </tr>\n    <tr>\n      <th>24689</th>\n      <td>(sausage, soda, other vegetables, root vegetab...</td>\n      <td>(whole milk, rolls/buns)</td>\n      <td>0.004876</td>\n      <td>0.178599</td>\n      <td>0.002566</td>\n      <td>0.526316</td>\n      <td>2.946915</td>\n      <td>0.001695</td>\n      <td>1.734069</td>\n      <td>5</td>\n      <td>2</td>\n    </tr>\n    <tr>\n      <th>24690</th>\n      <td>(sausage, whole milk, other vegetables, root v...</td>\n      <td>(soda, rolls/buns)</td>\n      <td>0.004876</td>\n      <td>0.119836</td>\n      <td>0.002566</td>\n      <td>0.526316</td>\n      <td>4.391976</td>\n      <td>0.001982</td>\n      <td>1.858124</td>\n      <td>5</td>\n      <td>2</td>\n    </tr>\n    <tr>\n      <th>24691</th>\n      <td>(soda, sausage, rolls/buns, root vegetables, b...</td>\n      <td>(other vegetables, whole milk)</td>\n      <td>0.004106</td>\n      <td>0.191429</td>\n      <td>0.002566</td>\n      <td>0.625000</td>\n      <td>3.264913</td>\n      <td>0.001780</td>\n      <td>2.156189</td>\n      <td>5</td>\n      <td>2</td>\n    </tr>\n    <tr>\n      <th>24692</th>\n      <td>(sausage, whole milk, rolls/buns, root vegetab...</td>\n      <td>(soda, other vegetables)</td>\n      <td>0.004362</td>\n      <td>0.124198</td>\n      <td>0.002566</td>\n      <td>0.588235</td>\n      <td>4.736266</td>\n      <td>0.002024</td>\n      <td>2.126947</td>\n      <td>5</td>\n      <td>2</td>\n    </tr>\n    <tr>\n      <th>24693</th>\n      <td>(soda, sausage, whole milk, root vegetables, b...</td>\n      <td>(other vegetables, rolls/buns)</td>\n      <td>0.005132</td>\n      <td>0.146780</td>\n      <td>0.002566</td>\n      <td>0.500000</td>\n      <td>3.406469</td>\n      <td>0.001813</td>\n      <td>1.706441</td>\n      <td>5</td>\n      <td>2</td>\n    </tr>\n  </tbody>\n</table>\n<p>20765 rows × 11 columns</p>\n</div>"
     },
     "execution_count": 52,
     "metadata": {},
     "output_type": "execute_result"
    }
   ],
   "source": [
    "df.loc[ ~final_rule]"
   ],
   "metadata": {
    "collapsed": false,
    "pycharm": {
     "name": "#%%\n"
    }
   }
  },
  {
   "cell_type": "code",
   "execution_count": 54,
   "outputs": [],
   "source": [
    "df1 = df.loc[final_rule]"
   ],
   "metadata": {
    "collapsed": false,
    "pycharm": {
     "name": "#%%\n"
    }
   }
  },
  {
   "cell_type": "code",
   "execution_count": 55,
   "outputs": [
    {
     "data": {
      "text/plain": "               antecedents         consequents  antecedent support  \\\n0  (Instant food products)              (soda)            0.015396   \n1  (Instant food products)        (whole milk)            0.015396   \n2               (UHT-milk)        (whole milk)            0.078522   \n3       (abrasive cleaner)        (rolls/buns)            0.005645   \n4       (artif. sweetener)  (other vegetables)            0.007442   \n\n   consequent support   support  confidence      lift  leverage  conviction  \\\n0            0.313318  0.007955    0.516667  1.649017  0.003131    1.420722   \n1            0.458045  0.007955    0.516667  1.127983  0.000903    1.121287   \n2            0.458045  0.040544    0.516340  1.127270  0.004577    1.120529   \n3            0.349756  0.002823    0.500000  1.429567  0.000848    1.300488   \n4            0.376700  0.003849    0.517241  1.373086  0.001046    1.291121   \n\n   antecedent_len  consequent_len  \n0               1               1  \n1               1               1  \n2               1               1  \n3               1               1  \n4               1               1  ",
      "text/html": "<div>\n<style scoped>\n    .dataframe tbody tr th:only-of-type {\n        vertical-align: middle;\n    }\n\n    .dataframe tbody tr th {\n        vertical-align: top;\n    }\n\n    .dataframe thead th {\n        text-align: right;\n    }\n</style>\n<table border=\"1\" class=\"dataframe\">\n  <thead>\n    <tr style=\"text-align: right;\">\n      <th></th>\n      <th>antecedents</th>\n      <th>consequents</th>\n      <th>antecedent support</th>\n      <th>consequent support</th>\n      <th>support</th>\n      <th>confidence</th>\n      <th>lift</th>\n      <th>leverage</th>\n      <th>conviction</th>\n      <th>antecedent_len</th>\n      <th>consequent_len</th>\n    </tr>\n  </thead>\n  <tbody>\n    <tr>\n      <th>0</th>\n      <td>(Instant food products)</td>\n      <td>(soda)</td>\n      <td>0.015396</td>\n      <td>0.313318</td>\n      <td>0.007955</td>\n      <td>0.516667</td>\n      <td>1.649017</td>\n      <td>0.003131</td>\n      <td>1.420722</td>\n      <td>1</td>\n      <td>1</td>\n    </tr>\n    <tr>\n      <th>1</th>\n      <td>(Instant food products)</td>\n      <td>(whole milk)</td>\n      <td>0.015396</td>\n      <td>0.458045</td>\n      <td>0.007955</td>\n      <td>0.516667</td>\n      <td>1.127983</td>\n      <td>0.000903</td>\n      <td>1.121287</td>\n      <td>1</td>\n      <td>1</td>\n    </tr>\n    <tr>\n      <th>2</th>\n      <td>(UHT-milk)</td>\n      <td>(whole milk)</td>\n      <td>0.078522</td>\n      <td>0.458045</td>\n      <td>0.040544</td>\n      <td>0.516340</td>\n      <td>1.127270</td>\n      <td>0.004577</td>\n      <td>1.120529</td>\n      <td>1</td>\n      <td>1</td>\n    </tr>\n    <tr>\n      <th>3</th>\n      <td>(abrasive cleaner)</td>\n      <td>(rolls/buns)</td>\n      <td>0.005645</td>\n      <td>0.349756</td>\n      <td>0.002823</td>\n      <td>0.500000</td>\n      <td>1.429567</td>\n      <td>0.000848</td>\n      <td>1.300488</td>\n      <td>1</td>\n      <td>1</td>\n    </tr>\n    <tr>\n      <th>4</th>\n      <td>(artif. sweetener)</td>\n      <td>(other vegetables)</td>\n      <td>0.007442</td>\n      <td>0.376700</td>\n      <td>0.003849</td>\n      <td>0.517241</td>\n      <td>1.373086</td>\n      <td>0.001046</td>\n      <td>1.291121</td>\n      <td>1</td>\n      <td>1</td>\n    </tr>\n  </tbody>\n</table>\n</div>"
     },
     "execution_count": 55,
     "metadata": {},
     "output_type": "execute_result"
    }
   ],
   "source": [
    "df1.head()"
   ],
   "metadata": {
    "collapsed": false,
    "pycharm": {
     "name": "#%%\n"
    }
   }
  },
  {
   "cell_type": "code",
   "execution_count": 56,
   "outputs": [
    {
     "data": {
      "text/plain": "                           antecedents         consequents  \\\n0              (Instant food products)              (soda)   \n1              (Instant food products)        (whole milk)   \n2                           (UHT-milk)        (whole milk)   \n3                   (abrasive cleaner)        (rolls/buns)   \n4                   (artif. sweetener)  (other vegetables)   \n...                                ...                 ...   \n3924  (white wine, whipped/sour cream)        (whole milk)   \n3925      (yogurt, whipped/sour cream)        (whole milk)   \n3926             (white bread, yogurt)        (whole milk)   \n3927              (white wine, yogurt)        (whole milk)   \n3928                (zwieback, yogurt)        (whole milk)   \n\n      antecedent support  consequent support   support  confidence      lift  \\\n0               0.015396            0.313318  0.007955    0.516667  1.649017   \n1               0.015396            0.458045  0.007955    0.516667  1.127983   \n2               0.078522            0.458045  0.040544    0.516340  1.127270   \n3               0.005645            0.349756  0.002823    0.500000  1.429567   \n4               0.007442            0.376700  0.003849    0.517241  1.373086   \n...                  ...                 ...       ...         ...       ...   \n3924            0.007442            0.458045  0.003849    0.517241  1.129238   \n3925            0.047986            0.458045  0.027714    0.577540  1.260882   \n3926            0.028483            0.458045  0.016423    0.576577  1.258778   \n3927            0.016423            0.458045  0.009751    0.593750  1.296271   \n3928            0.005645            0.458045  0.003593    0.636364  1.389305   \n\n      leverage  conviction  antecedent_len  consequent_len  \n0     0.003131    1.420722               1               1  \n1     0.000903    1.121287               1               1  \n2     0.004577    1.120529               1               1  \n3     0.000848    1.300488               1               1  \n4     0.001046    1.291121               1               1  \n...        ...         ...             ...             ...  \n3924  0.000441    1.122622               2               1  \n3925  0.005734    1.282856               2               1  \n3926  0.003376    1.279937               2               1  \n3927  0.002229    1.334044               2               1  \n3928  0.001007    1.490377               2               1  \n\n[3929 rows x 11 columns]",
      "text/html": "<div>\n<style scoped>\n    .dataframe tbody tr th:only-of-type {\n        vertical-align: middle;\n    }\n\n    .dataframe tbody tr th {\n        vertical-align: top;\n    }\n\n    .dataframe thead th {\n        text-align: right;\n    }\n</style>\n<table border=\"1\" class=\"dataframe\">\n  <thead>\n    <tr style=\"text-align: right;\">\n      <th></th>\n      <th>antecedents</th>\n      <th>consequents</th>\n      <th>antecedent support</th>\n      <th>consequent support</th>\n      <th>support</th>\n      <th>confidence</th>\n      <th>lift</th>\n      <th>leverage</th>\n      <th>conviction</th>\n      <th>antecedent_len</th>\n      <th>consequent_len</th>\n    </tr>\n  </thead>\n  <tbody>\n    <tr>\n      <th>0</th>\n      <td>(Instant food products)</td>\n      <td>(soda)</td>\n      <td>0.015396</td>\n      <td>0.313318</td>\n      <td>0.007955</td>\n      <td>0.516667</td>\n      <td>1.649017</td>\n      <td>0.003131</td>\n      <td>1.420722</td>\n      <td>1</td>\n      <td>1</td>\n    </tr>\n    <tr>\n      <th>1</th>\n      <td>(Instant food products)</td>\n      <td>(whole milk)</td>\n      <td>0.015396</td>\n      <td>0.458045</td>\n      <td>0.007955</td>\n      <td>0.516667</td>\n      <td>1.127983</td>\n      <td>0.000903</td>\n      <td>1.121287</td>\n      <td>1</td>\n      <td>1</td>\n    </tr>\n    <tr>\n      <th>2</th>\n      <td>(UHT-milk)</td>\n      <td>(whole milk)</td>\n      <td>0.078522</td>\n      <td>0.458045</td>\n      <td>0.040544</td>\n      <td>0.516340</td>\n      <td>1.127270</td>\n      <td>0.004577</td>\n      <td>1.120529</td>\n      <td>1</td>\n      <td>1</td>\n    </tr>\n    <tr>\n      <th>3</th>\n      <td>(abrasive cleaner)</td>\n      <td>(rolls/buns)</td>\n      <td>0.005645</td>\n      <td>0.349756</td>\n      <td>0.002823</td>\n      <td>0.500000</td>\n      <td>1.429567</td>\n      <td>0.000848</td>\n      <td>1.300488</td>\n      <td>1</td>\n      <td>1</td>\n    </tr>\n    <tr>\n      <th>4</th>\n      <td>(artif. sweetener)</td>\n      <td>(other vegetables)</td>\n      <td>0.007442</td>\n      <td>0.376700</td>\n      <td>0.003849</td>\n      <td>0.517241</td>\n      <td>1.373086</td>\n      <td>0.001046</td>\n      <td>1.291121</td>\n      <td>1</td>\n      <td>1</td>\n    </tr>\n    <tr>\n      <th>...</th>\n      <td>...</td>\n      <td>...</td>\n      <td>...</td>\n      <td>...</td>\n      <td>...</td>\n      <td>...</td>\n      <td>...</td>\n      <td>...</td>\n      <td>...</td>\n      <td>...</td>\n      <td>...</td>\n    </tr>\n    <tr>\n      <th>3924</th>\n      <td>(white wine, whipped/sour cream)</td>\n      <td>(whole milk)</td>\n      <td>0.007442</td>\n      <td>0.458045</td>\n      <td>0.003849</td>\n      <td>0.517241</td>\n      <td>1.129238</td>\n      <td>0.000441</td>\n      <td>1.122622</td>\n      <td>2</td>\n      <td>1</td>\n    </tr>\n    <tr>\n      <th>3925</th>\n      <td>(yogurt, whipped/sour cream)</td>\n      <td>(whole milk)</td>\n      <td>0.047986</td>\n      <td>0.458045</td>\n      <td>0.027714</td>\n      <td>0.577540</td>\n      <td>1.260882</td>\n      <td>0.005734</td>\n      <td>1.282856</td>\n      <td>2</td>\n      <td>1</td>\n    </tr>\n    <tr>\n      <th>3926</th>\n      <td>(white bread, yogurt)</td>\n      <td>(whole milk)</td>\n      <td>0.028483</td>\n      <td>0.458045</td>\n      <td>0.016423</td>\n      <td>0.576577</td>\n      <td>1.258778</td>\n      <td>0.003376</td>\n      <td>1.279937</td>\n      <td>2</td>\n      <td>1</td>\n    </tr>\n    <tr>\n      <th>3927</th>\n      <td>(white wine, yogurt)</td>\n      <td>(whole milk)</td>\n      <td>0.016423</td>\n      <td>0.458045</td>\n      <td>0.009751</td>\n      <td>0.593750</td>\n      <td>1.296271</td>\n      <td>0.002229</td>\n      <td>1.334044</td>\n      <td>2</td>\n      <td>1</td>\n    </tr>\n    <tr>\n      <th>3928</th>\n      <td>(zwieback, yogurt)</td>\n      <td>(whole milk)</td>\n      <td>0.005645</td>\n      <td>0.458045</td>\n      <td>0.003593</td>\n      <td>0.636364</td>\n      <td>1.389305</td>\n      <td>0.001007</td>\n      <td>1.490377</td>\n      <td>2</td>\n      <td>1</td>\n    </tr>\n  </tbody>\n</table>\n<p>3929 rows × 11 columns</p>\n</div>"
     },
     "execution_count": 56,
     "metadata": {},
     "output_type": "execute_result"
    }
   ],
   "source": [
    "df1"
   ],
   "metadata": {
    "collapsed": false,
    "pycharm": {
     "name": "#%%\n"
    }
   }
  },
  {
   "cell_type": "code",
   "execution_count": 57,
   "outputs": [
    {
     "data": {
      "text/plain": "(whole milk)          2080\n(other vegetables)     929\n(rolls/buns)           505\n(soda)                 217\n(yogurt)               113\n(tropical fruit)        24\n(root vegetables)       19\n(bottled water)         16\n(sausage)               11\n(citrus fruit)           6\n(pastry)                 5\n(pip fruit)              2\n(canned beer)            1\n(butter)                 1\nName: consequents, dtype: int64"
     },
     "execution_count": 57,
     "metadata": {},
     "output_type": "execute_result"
    }
   ],
   "source": [
    "df1['consequents'].value_counts()"
   ],
   "metadata": {
    "collapsed": false,
    "pycharm": {
     "name": "#%%\n"
    }
   }
  },
  {
   "cell_type": "code",
   "execution_count": 63,
   "outputs": [
    {
     "data": {
      "text/plain": "               antecedents         consequents  antecedent support  \\\n0  (Instant food products)              (soda)            0.015396   \n1  (Instant food products)        (whole milk)            0.015396   \n2               (UHT-milk)        (whole milk)            0.078522   \n3       (abrasive cleaner)        (rolls/buns)            0.005645   \n4       (artif. sweetener)  (other vegetables)            0.007442   \n\n   consequent support   support  confidence      lift  leverage  conviction  \n0            0.313318  0.007955    0.516667  1.649017  0.003131    1.420722  \n1            0.458045  0.007955    0.516667  1.127983  0.000903    1.121287  \n2            0.458045  0.040544    0.516340  1.127270  0.004577    1.120529  \n3            0.349756  0.002823    0.500000  1.429567  0.000848    1.300488  \n4            0.376700  0.003849    0.517241  1.373086  0.001046    1.291121  ",
      "text/html": "<div>\n<style scoped>\n    .dataframe tbody tr th:only-of-type {\n        vertical-align: middle;\n    }\n\n    .dataframe tbody tr th {\n        vertical-align: top;\n    }\n\n    .dataframe thead th {\n        text-align: right;\n    }\n</style>\n<table border=\"1\" class=\"dataframe\">\n  <thead>\n    <tr style=\"text-align: right;\">\n      <th></th>\n      <th>antecedents</th>\n      <th>consequents</th>\n      <th>antecedent support</th>\n      <th>consequent support</th>\n      <th>support</th>\n      <th>confidence</th>\n      <th>lift</th>\n      <th>leverage</th>\n      <th>conviction</th>\n    </tr>\n  </thead>\n  <tbody>\n    <tr>\n      <th>0</th>\n      <td>(Instant food products)</td>\n      <td>(soda)</td>\n      <td>0.015396</td>\n      <td>0.313318</td>\n      <td>0.007955</td>\n      <td>0.516667</td>\n      <td>1.649017</td>\n      <td>0.003131</td>\n      <td>1.420722</td>\n    </tr>\n    <tr>\n      <th>1</th>\n      <td>(Instant food products)</td>\n      <td>(whole milk)</td>\n      <td>0.015396</td>\n      <td>0.458045</td>\n      <td>0.007955</td>\n      <td>0.516667</td>\n      <td>1.127983</td>\n      <td>0.000903</td>\n      <td>1.121287</td>\n    </tr>\n    <tr>\n      <th>2</th>\n      <td>(UHT-milk)</td>\n      <td>(whole milk)</td>\n      <td>0.078522</td>\n      <td>0.458045</td>\n      <td>0.040544</td>\n      <td>0.516340</td>\n      <td>1.127270</td>\n      <td>0.004577</td>\n      <td>1.120529</td>\n    </tr>\n    <tr>\n      <th>3</th>\n      <td>(abrasive cleaner)</td>\n      <td>(rolls/buns)</td>\n      <td>0.005645</td>\n      <td>0.349756</td>\n      <td>0.002823</td>\n      <td>0.500000</td>\n      <td>1.429567</td>\n      <td>0.000848</td>\n      <td>1.300488</td>\n    </tr>\n    <tr>\n      <th>4</th>\n      <td>(artif. sweetener)</td>\n      <td>(other vegetables)</td>\n      <td>0.007442</td>\n      <td>0.376700</td>\n      <td>0.003849</td>\n      <td>0.517241</td>\n      <td>1.373086</td>\n      <td>0.001046</td>\n      <td>1.291121</td>\n    </tr>\n  </tbody>\n</table>\n</div>"
     },
     "execution_count": 63,
     "metadata": {},
     "output_type": "execute_result"
    }
   ],
   "source": [
    "df.head()"
   ],
   "metadata": {
    "collapsed": false,
    "pycharm": {
     "name": "#%%\n"
    }
   }
  },
  {
   "cell_type": "code",
   "execution_count": 64,
   "outputs": [],
   "source": [
    "df.to_csv('Data/master_rules.csv', index=False)"
   ],
   "metadata": {
    "collapsed": false,
    "pycharm": {
     "name": "#%%\n"
    }
   }
  },
  {
   "cell_type": "code",
   "execution_count": 65,
   "outputs": [
    {
     "name": "stdout",
     "output_type": "stream",
     "text": [
      "DONE\n"
     ]
    }
   ],
   "source": [
    "print(\"DONE\")"
   ],
   "metadata": {
    "collapsed": false,
    "pycharm": {
     "name": "#%%\n"
    }
   }
  },
  {
   "cell_type": "code",
   "execution_count": null,
   "outputs": [],
   "source": [],
   "metadata": {
    "collapsed": false,
    "pycharm": {
     "name": "#%%\n"
    }
   }
  }
 ],
 "metadata": {
  "kernelspec": {
   "display_name": "Python 3",
   "language": "python",
   "name": "python3"
  },
  "language_info": {
   "codemirror_mode": {
    "name": "ipython",
    "version": 2
   },
   "file_extension": ".py",
   "mimetype": "text/x-python",
   "name": "python",
   "nbconvert_exporter": "python",
   "pygments_lexer": "ipython2",
   "version": "2.7.6"
  }
 },
 "nbformat": 4,
 "nbformat_minor": 0
}