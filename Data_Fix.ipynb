{
 "cells": [
  {
   "cell_type": "code",
   "execution_count": 1,
   "metadata": {
    "collapsed": true
   },
   "outputs": [],
   "source": [
    "import copy\n",
    "import time\n",
    "import threading\n",
    "import pandas as pd\n",
    "import numpy as np\n",
    "import more_itertools\n",
    "import csv\n",
    "import random\n",
    "import itertools\n",
    "import matplotlib.pyplot as plt\n",
    "\n",
    "pd.options.mode.chained_assignment = None  # default = 'warn'"
   ]
  },
  {
   "cell_type": "code",
   "execution_count": 2,
   "outputs": [
    {
     "data": {
      "text/plain": "                            antecedents                      consequents  \\\n0  frozenset({'instant food products'})              frozenset({'soda'})   \n1  frozenset({'instant food products'})        frozenset({'whole milk'})   \n2               frozenset({'uht-milk'})        frozenset({'whole milk'})   \n3       frozenset({'abrasive cleaner'})        frozenset({'rolls/buns'})   \n4       frozenset({'artif. sweetener'})  frozenset({'other vegetables'})   \n5       frozenset({'artif. sweetener'})        frozenset({'whole milk'})   \n6       frozenset({'bathroom cleaner'})  frozenset({'other vegetables'})   \n7       frozenset({'bathroom cleaner'})        frozenset({'whole milk'})   \n8                   frozenset({'beef'})        frozenset({'whole milk'})   \n9           frozenset({'bottled beer'})        frozenset({'whole milk'})   \n\n   antecedent support  consequent support   support  confidence      lift  \\\n0            0.015396            0.313318  0.007955    0.516667  1.649017   \n1            0.015396            0.458045  0.007955    0.516667  1.127983   \n2            0.078522            0.458045  0.040544    0.516340  1.127270   \n3            0.005645            0.349756  0.002823    0.500000  1.429567   \n4            0.007442            0.376700  0.003849    0.517241  1.373086   \n5            0.007442            0.458045  0.004619    0.620690  1.355085   \n6            0.004362            0.376700  0.002566    0.588235  1.561548   \n7            0.004362            0.458045  0.003079    0.705882  1.541078   \n8            0.119579            0.458045  0.064152    0.536481  1.171241   \n9            0.158840            0.458045  0.085450    0.537964  1.174480   \n\n   leverage  conviction  \n0  0.003131    1.420722  \n1  0.000903    1.121287  \n2  0.004577    1.120529  \n3  0.000848    1.300488  \n4  0.001046    1.291121  \n5  0.001210    1.428791  \n6  0.000923    1.513729  \n7  0.001081    1.842648  \n8  0.009379    1.169218  \n9  0.012694    1.172973  ",
      "text/html": "<div>\n<style scoped>\n    .dataframe tbody tr th:only-of-type {\n        vertical-align: middle;\n    }\n\n    .dataframe tbody tr th {\n        vertical-align: top;\n    }\n\n    .dataframe thead th {\n        text-align: right;\n    }\n</style>\n<table border=\"1\" class=\"dataframe\">\n  <thead>\n    <tr style=\"text-align: right;\">\n      <th></th>\n      <th>antecedents</th>\n      <th>consequents</th>\n      <th>antecedent support</th>\n      <th>consequent support</th>\n      <th>support</th>\n      <th>confidence</th>\n      <th>lift</th>\n      <th>leverage</th>\n      <th>conviction</th>\n    </tr>\n  </thead>\n  <tbody>\n    <tr>\n      <th>0</th>\n      <td>frozenset({'instant food products'})</td>\n      <td>frozenset({'soda'})</td>\n      <td>0.015396</td>\n      <td>0.313318</td>\n      <td>0.007955</td>\n      <td>0.516667</td>\n      <td>1.649017</td>\n      <td>0.003131</td>\n      <td>1.420722</td>\n    </tr>\n    <tr>\n      <th>1</th>\n      <td>frozenset({'instant food products'})</td>\n      <td>frozenset({'whole milk'})</td>\n      <td>0.015396</td>\n      <td>0.458045</td>\n      <td>0.007955</td>\n      <td>0.516667</td>\n      <td>1.127983</td>\n      <td>0.000903</td>\n      <td>1.121287</td>\n    </tr>\n    <tr>\n      <th>2</th>\n      <td>frozenset({'uht-milk'})</td>\n      <td>frozenset({'whole milk'})</td>\n      <td>0.078522</td>\n      <td>0.458045</td>\n      <td>0.040544</td>\n      <td>0.516340</td>\n      <td>1.127270</td>\n      <td>0.004577</td>\n      <td>1.120529</td>\n    </tr>\n    <tr>\n      <th>3</th>\n      <td>frozenset({'abrasive cleaner'})</td>\n      <td>frozenset({'rolls/buns'})</td>\n      <td>0.005645</td>\n      <td>0.349756</td>\n      <td>0.002823</td>\n      <td>0.500000</td>\n      <td>1.429567</td>\n      <td>0.000848</td>\n      <td>1.300488</td>\n    </tr>\n    <tr>\n      <th>4</th>\n      <td>frozenset({'artif. sweetener'})</td>\n      <td>frozenset({'other vegetables'})</td>\n      <td>0.007442</td>\n      <td>0.376700</td>\n      <td>0.003849</td>\n      <td>0.517241</td>\n      <td>1.373086</td>\n      <td>0.001046</td>\n      <td>1.291121</td>\n    </tr>\n    <tr>\n      <th>5</th>\n      <td>frozenset({'artif. sweetener'})</td>\n      <td>frozenset({'whole milk'})</td>\n      <td>0.007442</td>\n      <td>0.458045</td>\n      <td>0.004619</td>\n      <td>0.620690</td>\n      <td>1.355085</td>\n      <td>0.001210</td>\n      <td>1.428791</td>\n    </tr>\n    <tr>\n      <th>6</th>\n      <td>frozenset({'bathroom cleaner'})</td>\n      <td>frozenset({'other vegetables'})</td>\n      <td>0.004362</td>\n      <td>0.376700</td>\n      <td>0.002566</td>\n      <td>0.588235</td>\n      <td>1.561548</td>\n      <td>0.000923</td>\n      <td>1.513729</td>\n    </tr>\n    <tr>\n      <th>7</th>\n      <td>frozenset({'bathroom cleaner'})</td>\n      <td>frozenset({'whole milk'})</td>\n      <td>0.004362</td>\n      <td>0.458045</td>\n      <td>0.003079</td>\n      <td>0.705882</td>\n      <td>1.541078</td>\n      <td>0.001081</td>\n      <td>1.842648</td>\n    </tr>\n    <tr>\n      <th>8</th>\n      <td>frozenset({'beef'})</td>\n      <td>frozenset({'whole milk'})</td>\n      <td>0.119579</td>\n      <td>0.458045</td>\n      <td>0.064152</td>\n      <td>0.536481</td>\n      <td>1.171241</td>\n      <td>0.009379</td>\n      <td>1.169218</td>\n    </tr>\n    <tr>\n      <th>9</th>\n      <td>frozenset({'bottled beer'})</td>\n      <td>frozenset({'whole milk'})</td>\n      <td>0.158840</td>\n      <td>0.458045</td>\n      <td>0.085450</td>\n      <td>0.537964</td>\n      <td>1.174480</td>\n      <td>0.012694</td>\n      <td>1.172973</td>\n    </tr>\n  </tbody>\n</table>\n</div>"
     },
     "execution_count": 2,
     "metadata": {},
     "output_type": "execute_result"
    }
   ],
   "source": [
    "df = pd.read_csv('Data/master_rules.csv')\n",
    "df.head(10)"
   ],
   "metadata": {
    "collapsed": false,
    "pycharm": {
     "name": "#%%\n"
    }
   }
  },
  {
   "cell_type": "code",
   "execution_count": 3,
   "outputs": [
    {
     "data": {
      "text/plain": "                                             antecedents  \\\n0                   frozenset({'instant food products'})   \n1                   frozenset({'instant food products'})   \n2                                frozenset({'uht-milk'})   \n3                        frozenset({'abrasive cleaner'})   \n4                        frozenset({'artif. sweetener'})   \n...                                                  ...   \n24247  frozenset({'sausage', 'soda', 'whole milk', 'o...   \n24248  frozenset({'sausage', 'whole milk', 'other veg...   \n24249  frozenset({'sausage', 'soda', 'whole milk', 'o...   \n24250  frozenset({'sausage', 'soda', 'whole milk', 'o...   \n24251  frozenset({'soda', 'sausage', 'whole milk', 'r...   \n\n                           consequents  antecedent support  \\\n0                  frozenset({'soda'})            0.015396   \n1            frozenset({'whole milk'})            0.015396   \n2            frozenset({'whole milk'})            0.078522   \n3            frozenset({'rolls/buns'})            0.005645   \n4      frozenset({'other vegetables'})            0.007442   \n...                                ...                 ...   \n24247   frozenset({'root vegetables'})            0.003849   \n24248              frozenset({'soda'})            0.003336   \n24249     frozenset({'bottled water'})            0.003336   \n24250        frozenset({'rolls/buns'})            0.003336   \n24251  frozenset({'other vegetables'})            0.003079   \n\n       consequent support   support  confidence      lift  leverage  \\\n0                0.313318  0.007955    0.516667  1.649017  0.003131   \n1                0.458045  0.007955    0.516667  1.127983  0.000903   \n2                0.458045  0.040544    0.516340  1.127270  0.004577   \n3                0.349756  0.002823    0.500000  1.429567  0.000848   \n4                0.376700  0.003849    0.517241  1.373086  0.001046   \n...                   ...       ...         ...       ...       ...   \n24247            0.230690  0.002566    0.666667  2.889878  0.001678   \n24248            0.313318  0.002566    0.769231  2.455112  0.001521   \n24249            0.213754  0.002566    0.769231  3.598670  0.001853   \n24250            0.349756  0.002566    0.769231  2.199334  0.001399   \n24251            0.376700  0.002566    0.833333  2.212193  0.001406   \n\n       conviction  \n0        1.420722  \n1        1.121287  \n2        1.120529  \n3        1.300488  \n4        1.291121  \n...           ...  \n24247    2.307929  \n24248    2.975622  \n24249    3.407065  \n24250    2.817723  \n24251    3.739800  \n\n[24252 rows x 9 columns]",
      "text/html": "<div>\n<style scoped>\n    .dataframe tbody tr th:only-of-type {\n        vertical-align: middle;\n    }\n\n    .dataframe tbody tr th {\n        vertical-align: top;\n    }\n\n    .dataframe thead th {\n        text-align: right;\n    }\n</style>\n<table border=\"1\" class=\"dataframe\">\n  <thead>\n    <tr style=\"text-align: right;\">\n      <th></th>\n      <th>antecedents</th>\n      <th>consequents</th>\n      <th>antecedent support</th>\n      <th>consequent support</th>\n      <th>support</th>\n      <th>confidence</th>\n      <th>lift</th>\n      <th>leverage</th>\n      <th>conviction</th>\n    </tr>\n  </thead>\n  <tbody>\n    <tr>\n      <th>0</th>\n      <td>frozenset({'instant food products'})</td>\n      <td>frozenset({'soda'})</td>\n      <td>0.015396</td>\n      <td>0.313318</td>\n      <td>0.007955</td>\n      <td>0.516667</td>\n      <td>1.649017</td>\n      <td>0.003131</td>\n      <td>1.420722</td>\n    </tr>\n    <tr>\n      <th>1</th>\n      <td>frozenset({'instant food products'})</td>\n      <td>frozenset({'whole milk'})</td>\n      <td>0.015396</td>\n      <td>0.458045</td>\n      <td>0.007955</td>\n      <td>0.516667</td>\n      <td>1.127983</td>\n      <td>0.000903</td>\n      <td>1.121287</td>\n    </tr>\n    <tr>\n      <th>2</th>\n      <td>frozenset({'uht-milk'})</td>\n      <td>frozenset({'whole milk'})</td>\n      <td>0.078522</td>\n      <td>0.458045</td>\n      <td>0.040544</td>\n      <td>0.516340</td>\n      <td>1.127270</td>\n      <td>0.004577</td>\n      <td>1.120529</td>\n    </tr>\n    <tr>\n      <th>3</th>\n      <td>frozenset({'abrasive cleaner'})</td>\n      <td>frozenset({'rolls/buns'})</td>\n      <td>0.005645</td>\n      <td>0.349756</td>\n      <td>0.002823</td>\n      <td>0.500000</td>\n      <td>1.429567</td>\n      <td>0.000848</td>\n      <td>1.300488</td>\n    </tr>\n    <tr>\n      <th>4</th>\n      <td>frozenset({'artif. sweetener'})</td>\n      <td>frozenset({'other vegetables'})</td>\n      <td>0.007442</td>\n      <td>0.376700</td>\n      <td>0.003849</td>\n      <td>0.517241</td>\n      <td>1.373086</td>\n      <td>0.001046</td>\n      <td>1.291121</td>\n    </tr>\n    <tr>\n      <th>...</th>\n      <td>...</td>\n      <td>...</td>\n      <td>...</td>\n      <td>...</td>\n      <td>...</td>\n      <td>...</td>\n      <td>...</td>\n      <td>...</td>\n      <td>...</td>\n    </tr>\n    <tr>\n      <th>24247</th>\n      <td>frozenset({'sausage', 'soda', 'whole milk', 'o...</td>\n      <td>frozenset({'root vegetables'})</td>\n      <td>0.003849</td>\n      <td>0.230690</td>\n      <td>0.002566</td>\n      <td>0.666667</td>\n      <td>2.889878</td>\n      <td>0.001678</td>\n      <td>2.307929</td>\n    </tr>\n    <tr>\n      <th>24248</th>\n      <td>frozenset({'sausage', 'whole milk', 'other veg...</td>\n      <td>frozenset({'soda'})</td>\n      <td>0.003336</td>\n      <td>0.313318</td>\n      <td>0.002566</td>\n      <td>0.769231</td>\n      <td>2.455112</td>\n      <td>0.001521</td>\n      <td>2.975622</td>\n    </tr>\n    <tr>\n      <th>24249</th>\n      <td>frozenset({'sausage', 'soda', 'whole milk', 'o...</td>\n      <td>frozenset({'bottled water'})</td>\n      <td>0.003336</td>\n      <td>0.213754</td>\n      <td>0.002566</td>\n      <td>0.769231</td>\n      <td>3.598670</td>\n      <td>0.001853</td>\n      <td>3.407065</td>\n    </tr>\n    <tr>\n      <th>24250</th>\n      <td>frozenset({'sausage', 'soda', 'whole milk', 'o...</td>\n      <td>frozenset({'rolls/buns'})</td>\n      <td>0.003336</td>\n      <td>0.349756</td>\n      <td>0.002566</td>\n      <td>0.769231</td>\n      <td>2.199334</td>\n      <td>0.001399</td>\n      <td>2.817723</td>\n    </tr>\n    <tr>\n      <th>24251</th>\n      <td>frozenset({'soda', 'sausage', 'whole milk', 'r...</td>\n      <td>frozenset({'other vegetables'})</td>\n      <td>0.003079</td>\n      <td>0.376700</td>\n      <td>0.002566</td>\n      <td>0.833333</td>\n      <td>2.212193</td>\n      <td>0.001406</td>\n      <td>3.739800</td>\n    </tr>\n  </tbody>\n</table>\n<p>24252 rows × 9 columns</p>\n</div>"
     },
     "execution_count": 3,
     "metadata": {},
     "output_type": "execute_result"
    }
   ],
   "source": [
    "df"
   ],
   "metadata": {
    "collapsed": false,
    "pycharm": {
     "name": "#%%\n"
    }
   }
  },
  {
   "cell_type": "code",
   "execution_count": 4,
   "outputs": [
    {
     "data": {
      "text/plain": "frozenset({'whole milk'})               10108\nfrozenset({'other vegetables'})          5942\nfrozenset({'rolls/buns'})                3672\nfrozenset({'soda'})                      1894\nfrozenset({'yogurt'})                    1519\nfrozenset({'root vegetables'})            294\nfrozenset({'sausage'})                    212\nfrozenset({'bottled water'})              202\nfrozenset({'tropical fruit'})             135\nfrozenset({'shopping bags'})               64\nfrozenset({'citrus fruit'})                42\nfrozenset({'pip fruit'})                   30\nfrozenset({'pastry'})                      28\nfrozenset({'canned beer'})                 25\nfrozenset({'bottled beer'})                18\nfrozenset({'brown bread'})                 13\nfrozenset({'pork'})                        12\nfrozenset({'frankfurter'})                 11\nfrozenset({'whipped/sour cream'})           9\nfrozenset({'newspapers'})                   8\nfrozenset({'domestic eggs'})                3\nfrozenset({'white bread'})                  3\nfrozenset({'beef'})                         2\nfrozenset({'dessert'})                      2\nfrozenset({'butter'})                       1\nfrozenset({'curd'})                         1\nfrozenset({'fruit/vegetable juice'})        1\nfrozenset({'margarine'})                    1\nName: consequents, dtype: int64"
     },
     "execution_count": 4,
     "metadata": {},
     "output_type": "execute_result"
    }
   ],
   "source": [
    "df['consequents'].value_counts()"
   ],
   "metadata": {
    "collapsed": false,
    "pycharm": {
     "name": "#%%\n"
    }
   }
  },
  {
   "cell_type": "code",
   "execution_count": 5,
   "outputs": [
    {
     "data": {
      "text/plain": "                                             antecedents  \\\n0                   frozenset({'instant food products'})   \n1                   frozenset({'instant food products'})   \n2                                frozenset({'uht-milk'})   \n3                        frozenset({'abrasive cleaner'})   \n4                        frozenset({'artif. sweetener'})   \n...                                                  ...   \n24247  frozenset({'sausage', 'soda', 'whole milk', 'o...   \n24248  frozenset({'sausage', 'whole milk', 'other veg...   \n24249  frozenset({'sausage', 'soda', 'whole milk', 'o...   \n24250  frozenset({'sausage', 'soda', 'whole milk', 'o...   \n24251  frozenset({'soda', 'sausage', 'whole milk', 'r...   \n\n                           consequents  antecedent support  \\\n0                  frozenset({'soda'})            0.015396   \n1            frozenset({'whole milk'})            0.015396   \n2            frozenset({'whole milk'})            0.078522   \n3            frozenset({'rolls/buns'})            0.005645   \n4      frozenset({'other vegetables'})            0.007442   \n...                                ...                 ...   \n24247   frozenset({'root vegetables'})            0.003849   \n24248              frozenset({'soda'})            0.003336   \n24249     frozenset({'bottled water'})            0.003336   \n24250        frozenset({'rolls/buns'})            0.003336   \n24251  frozenset({'other vegetables'})            0.003079   \n\n       consequent support   support  confidence      lift  leverage  \\\n0                0.313318  0.007955    0.516667  1.649017  0.003131   \n1                0.458045  0.007955    0.516667  1.127983  0.000903   \n2                0.458045  0.040544    0.516340  1.127270  0.004577   \n3                0.349756  0.002823    0.500000  1.429567  0.000848   \n4                0.376700  0.003849    0.517241  1.373086  0.001046   \n...                   ...       ...         ...       ...       ...   \n24247            0.230690  0.002566    0.666667  2.889878  0.001678   \n24248            0.313318  0.002566    0.769231  2.455112  0.001521   \n24249            0.213754  0.002566    0.769231  3.598670  0.001853   \n24250            0.349756  0.002566    0.769231  2.199334  0.001399   \n24251            0.376700  0.002566    0.833333  2.212193  0.001406   \n\n       conviction  \n0        1.420722  \n1        1.121287  \n2        1.120529  \n3        1.300488  \n4        1.291121  \n...           ...  \n24247    2.307929  \n24248    2.975622  \n24249    3.407065  \n24250    2.817723  \n24251    3.739800  \n\n[24252 rows x 9 columns]",
      "text/html": "<div>\n<style scoped>\n    .dataframe tbody tr th:only-of-type {\n        vertical-align: middle;\n    }\n\n    .dataframe tbody tr th {\n        vertical-align: top;\n    }\n\n    .dataframe thead th {\n        text-align: right;\n    }\n</style>\n<table border=\"1\" class=\"dataframe\">\n  <thead>\n    <tr style=\"text-align: right;\">\n      <th></th>\n      <th>antecedents</th>\n      <th>consequents</th>\n      <th>antecedent support</th>\n      <th>consequent support</th>\n      <th>support</th>\n      <th>confidence</th>\n      <th>lift</th>\n      <th>leverage</th>\n      <th>conviction</th>\n    </tr>\n  </thead>\n  <tbody>\n    <tr>\n      <th>0</th>\n      <td>frozenset({'instant food products'})</td>\n      <td>frozenset({'soda'})</td>\n      <td>0.015396</td>\n      <td>0.313318</td>\n      <td>0.007955</td>\n      <td>0.516667</td>\n      <td>1.649017</td>\n      <td>0.003131</td>\n      <td>1.420722</td>\n    </tr>\n    <tr>\n      <th>1</th>\n      <td>frozenset({'instant food products'})</td>\n      <td>frozenset({'whole milk'})</td>\n      <td>0.015396</td>\n      <td>0.458045</td>\n      <td>0.007955</td>\n      <td>0.516667</td>\n      <td>1.127983</td>\n      <td>0.000903</td>\n      <td>1.121287</td>\n    </tr>\n    <tr>\n      <th>2</th>\n      <td>frozenset({'uht-milk'})</td>\n      <td>frozenset({'whole milk'})</td>\n      <td>0.078522</td>\n      <td>0.458045</td>\n      <td>0.040544</td>\n      <td>0.516340</td>\n      <td>1.127270</td>\n      <td>0.004577</td>\n      <td>1.120529</td>\n    </tr>\n    <tr>\n      <th>3</th>\n      <td>frozenset({'abrasive cleaner'})</td>\n      <td>frozenset({'rolls/buns'})</td>\n      <td>0.005645</td>\n      <td>0.349756</td>\n      <td>0.002823</td>\n      <td>0.500000</td>\n      <td>1.429567</td>\n      <td>0.000848</td>\n      <td>1.300488</td>\n    </tr>\n    <tr>\n      <th>4</th>\n      <td>frozenset({'artif. sweetener'})</td>\n      <td>frozenset({'other vegetables'})</td>\n      <td>0.007442</td>\n      <td>0.376700</td>\n      <td>0.003849</td>\n      <td>0.517241</td>\n      <td>1.373086</td>\n      <td>0.001046</td>\n      <td>1.291121</td>\n    </tr>\n    <tr>\n      <th>...</th>\n      <td>...</td>\n      <td>...</td>\n      <td>...</td>\n      <td>...</td>\n      <td>...</td>\n      <td>...</td>\n      <td>...</td>\n      <td>...</td>\n      <td>...</td>\n    </tr>\n    <tr>\n      <th>24247</th>\n      <td>frozenset({'sausage', 'soda', 'whole milk', 'o...</td>\n      <td>frozenset({'root vegetables'})</td>\n      <td>0.003849</td>\n      <td>0.230690</td>\n      <td>0.002566</td>\n      <td>0.666667</td>\n      <td>2.889878</td>\n      <td>0.001678</td>\n      <td>2.307929</td>\n    </tr>\n    <tr>\n      <th>24248</th>\n      <td>frozenset({'sausage', 'whole milk', 'other veg...</td>\n      <td>frozenset({'soda'})</td>\n      <td>0.003336</td>\n      <td>0.313318</td>\n      <td>0.002566</td>\n      <td>0.769231</td>\n      <td>2.455112</td>\n      <td>0.001521</td>\n      <td>2.975622</td>\n    </tr>\n    <tr>\n      <th>24249</th>\n      <td>frozenset({'sausage', 'soda', 'whole milk', 'o...</td>\n      <td>frozenset({'bottled water'})</td>\n      <td>0.003336</td>\n      <td>0.213754</td>\n      <td>0.002566</td>\n      <td>0.769231</td>\n      <td>3.598670</td>\n      <td>0.001853</td>\n      <td>3.407065</td>\n    </tr>\n    <tr>\n      <th>24250</th>\n      <td>frozenset({'sausage', 'soda', 'whole milk', 'o...</td>\n      <td>frozenset({'rolls/buns'})</td>\n      <td>0.003336</td>\n      <td>0.349756</td>\n      <td>0.002566</td>\n      <td>0.769231</td>\n      <td>2.199334</td>\n      <td>0.001399</td>\n      <td>2.817723</td>\n    </tr>\n    <tr>\n      <th>24251</th>\n      <td>frozenset({'soda', 'sausage', 'whole milk', 'r...</td>\n      <td>frozenset({'other vegetables'})</td>\n      <td>0.003079</td>\n      <td>0.376700</td>\n      <td>0.002566</td>\n      <td>0.833333</td>\n      <td>2.212193</td>\n      <td>0.001406</td>\n      <td>3.739800</td>\n    </tr>\n  </tbody>\n</table>\n<p>24252 rows × 9 columns</p>\n</div>"
     },
     "execution_count": 5,
     "metadata": {},
     "output_type": "execute_result"
    }
   ],
   "source": [
    "df"
   ],
   "metadata": {
    "collapsed": false,
    "pycharm": {
     "name": "#%%\n"
    }
   }
  },
  {
   "cell_type": "code",
   "execution_count": 6,
   "outputs": [],
   "source": [
    "def fix_frozen_set(x): # takes panda dataframe and reformats antecedents and consequents as Frozensets for correct querying\n",
    "    beginning = x.find(\"'\") + 1\n",
    "    end = x.rfind(\"'\")\n",
    "    data = x[beginning: end]\n",
    "    data_remove_apostrophes = data.replace(\"'\",'')\n",
    "    new_data = data_remove_apostrophes.split(',')\n",
    "    new_data_stripped = []\n",
    "    for i in range(len(new_data)):\n",
    "        new_data_stripped.append(copy.copy(new_data[i].strip()))\n",
    "    if len(new_data_stripped) == 1:\n",
    "        return frozenset(new_data_stripped)\n",
    "    else:\n",
    "        return frozenset([x for x in new_data_stripped])"
   ],
   "metadata": {
    "collapsed": false,
    "pycharm": {
     "name": "#%%\n"
    }
   }
  },
  {
   "cell_type": "code",
   "execution_count": 7,
   "outputs": [],
   "source": [
    "df['antecedents'] = df['antecedents'].apply(fix_frozen_set)\n",
    "df['consequents'] = df['consequents'].apply(fix_frozen_set)"
   ],
   "metadata": {
    "collapsed": false,
    "pycharm": {
     "name": "#%%\n"
    }
   }
  },
  {
   "cell_type": "code",
   "execution_count": 8,
   "outputs": [
    {
     "data": {
      "text/plain": "                                             antecedents         consequents  \\\n0                                (instant food products)              (soda)   \n1                                (instant food products)        (whole milk)   \n2                                             (uht-milk)        (whole milk)   \n3                                     (abrasive cleaner)        (rolls/buns)   \n4                                     (artif. sweetener)  (other vegetables)   \n...                                                  ...                 ...   \n24247  (other vegetables, sausage, bottled water, rol...   (root vegetables)   \n24248  (root vegetables, other vegetables, sausage, b...              (soda)   \n24249  (root vegetables, other vegetables, sausage, r...     (bottled water)   \n24250  (root vegetables, other vegetables, sausage, b...        (rolls/buns)   \n24251  (root vegetables, sausage, bottled water, roll...  (other vegetables)   \n\n       antecedent support  consequent support   support  confidence      lift  \\\n0                0.015396            0.313318  0.007955    0.516667  1.649017   \n1                0.015396            0.458045  0.007955    0.516667  1.127983   \n2                0.078522            0.458045  0.040544    0.516340  1.127270   \n3                0.005645            0.349756  0.002823    0.500000  1.429567   \n4                0.007442            0.376700  0.003849    0.517241  1.373086   \n...                   ...                 ...       ...         ...       ...   \n24247            0.003849            0.230690  0.002566    0.666667  2.889878   \n24248            0.003336            0.313318  0.002566    0.769231  2.455112   \n24249            0.003336            0.213754  0.002566    0.769231  3.598670   \n24250            0.003336            0.349756  0.002566    0.769231  2.199334   \n24251            0.003079            0.376700  0.002566    0.833333  2.212193   \n\n       leverage  conviction  \n0      0.003131    1.420722  \n1      0.000903    1.121287  \n2      0.004577    1.120529  \n3      0.000848    1.300488  \n4      0.001046    1.291121  \n...         ...         ...  \n24247  0.001678    2.307929  \n24248  0.001521    2.975622  \n24249  0.001853    3.407065  \n24250  0.001399    2.817723  \n24251  0.001406    3.739800  \n\n[24252 rows x 9 columns]",
      "text/html": "<div>\n<style scoped>\n    .dataframe tbody tr th:only-of-type {\n        vertical-align: middle;\n    }\n\n    .dataframe tbody tr th {\n        vertical-align: top;\n    }\n\n    .dataframe thead th {\n        text-align: right;\n    }\n</style>\n<table border=\"1\" class=\"dataframe\">\n  <thead>\n    <tr style=\"text-align: right;\">\n      <th></th>\n      <th>antecedents</th>\n      <th>consequents</th>\n      <th>antecedent support</th>\n      <th>consequent support</th>\n      <th>support</th>\n      <th>confidence</th>\n      <th>lift</th>\n      <th>leverage</th>\n      <th>conviction</th>\n    </tr>\n  </thead>\n  <tbody>\n    <tr>\n      <th>0</th>\n      <td>(instant food products)</td>\n      <td>(soda)</td>\n      <td>0.015396</td>\n      <td>0.313318</td>\n      <td>0.007955</td>\n      <td>0.516667</td>\n      <td>1.649017</td>\n      <td>0.003131</td>\n      <td>1.420722</td>\n    </tr>\n    <tr>\n      <th>1</th>\n      <td>(instant food products)</td>\n      <td>(whole milk)</td>\n      <td>0.015396</td>\n      <td>0.458045</td>\n      <td>0.007955</td>\n      <td>0.516667</td>\n      <td>1.127983</td>\n      <td>0.000903</td>\n      <td>1.121287</td>\n    </tr>\n    <tr>\n      <th>2</th>\n      <td>(uht-milk)</td>\n      <td>(whole milk)</td>\n      <td>0.078522</td>\n      <td>0.458045</td>\n      <td>0.040544</td>\n      <td>0.516340</td>\n      <td>1.127270</td>\n      <td>0.004577</td>\n      <td>1.120529</td>\n    </tr>\n    <tr>\n      <th>3</th>\n      <td>(abrasive cleaner)</td>\n      <td>(rolls/buns)</td>\n      <td>0.005645</td>\n      <td>0.349756</td>\n      <td>0.002823</td>\n      <td>0.500000</td>\n      <td>1.429567</td>\n      <td>0.000848</td>\n      <td>1.300488</td>\n    </tr>\n    <tr>\n      <th>4</th>\n      <td>(artif. sweetener)</td>\n      <td>(other vegetables)</td>\n      <td>0.007442</td>\n      <td>0.376700</td>\n      <td>0.003849</td>\n      <td>0.517241</td>\n      <td>1.373086</td>\n      <td>0.001046</td>\n      <td>1.291121</td>\n    </tr>\n    <tr>\n      <th>...</th>\n      <td>...</td>\n      <td>...</td>\n      <td>...</td>\n      <td>...</td>\n      <td>...</td>\n      <td>...</td>\n      <td>...</td>\n      <td>...</td>\n      <td>...</td>\n    </tr>\n    <tr>\n      <th>24247</th>\n      <td>(other vegetables, sausage, bottled water, rol...</td>\n      <td>(root vegetables)</td>\n      <td>0.003849</td>\n      <td>0.230690</td>\n      <td>0.002566</td>\n      <td>0.666667</td>\n      <td>2.889878</td>\n      <td>0.001678</td>\n      <td>2.307929</td>\n    </tr>\n    <tr>\n      <th>24248</th>\n      <td>(root vegetables, other vegetables, sausage, b...</td>\n      <td>(soda)</td>\n      <td>0.003336</td>\n      <td>0.313318</td>\n      <td>0.002566</td>\n      <td>0.769231</td>\n      <td>2.455112</td>\n      <td>0.001521</td>\n      <td>2.975622</td>\n    </tr>\n    <tr>\n      <th>24249</th>\n      <td>(root vegetables, other vegetables, sausage, r...</td>\n      <td>(bottled water)</td>\n      <td>0.003336</td>\n      <td>0.213754</td>\n      <td>0.002566</td>\n      <td>0.769231</td>\n      <td>3.598670</td>\n      <td>0.001853</td>\n      <td>3.407065</td>\n    </tr>\n    <tr>\n      <th>24250</th>\n      <td>(root vegetables, other vegetables, sausage, b...</td>\n      <td>(rolls/buns)</td>\n      <td>0.003336</td>\n      <td>0.349756</td>\n      <td>0.002566</td>\n      <td>0.769231</td>\n      <td>2.199334</td>\n      <td>0.001399</td>\n      <td>2.817723</td>\n    </tr>\n    <tr>\n      <th>24251</th>\n      <td>(root vegetables, sausage, bottled water, roll...</td>\n      <td>(other vegetables)</td>\n      <td>0.003079</td>\n      <td>0.376700</td>\n      <td>0.002566</td>\n      <td>0.833333</td>\n      <td>2.212193</td>\n      <td>0.001406</td>\n      <td>3.739800</td>\n    </tr>\n  </tbody>\n</table>\n<p>24252 rows × 9 columns</p>\n</div>"
     },
     "execution_count": 8,
     "metadata": {},
     "output_type": "execute_result"
    }
   ],
   "source": [
    "df"
   ],
   "metadata": {
    "collapsed": false,
    "pycharm": {
     "name": "#%%\n"
    }
   }
  },
  {
   "cell_type": "code",
   "execution_count": 9,
   "outputs": [],
   "source": [
    "query = df.iloc[1000:1200,:]"
   ],
   "metadata": {
    "collapsed": false,
    "pycharm": {
     "name": "#%%\n"
    }
   }
  },
  {
   "cell_type": "code",
   "execution_count": 10,
   "outputs": [
    {
     "data": {
      "text/plain": "                            antecedents         consequents  \\\n1000        (frozen vegetables, butter)  (other vegetables)   \n1001        (frozen vegetables, butter)        (whole milk)   \n1002    (fruit/vegetable juice, butter)  (other vegetables)   \n1003    (fruit/vegetable juice, butter)        (whole milk)   \n1004                   (grapes, butter)  (other vegetables)   \n...                                 ...                 ...   \n1195                     (herbs, candy)        (whole milk)   \n1196                 (ice cream, candy)        (whole milk)   \n1197  (candy, long life bakery product)        (rolls/buns)   \n1198                 (candy, margarine)  (other vegetables)   \n1199                 (candy, margarine)              (soda)   \n\n      antecedent support  consequent support   support  confidence      lift  \\\n1000            0.012830            0.376700  0.006672    0.520000  1.380409   \n1001            0.012830            0.458045  0.007442    0.580000  1.266252   \n1002            0.019502            0.376700  0.011034    0.565789  1.501963   \n1003            0.019502            0.458045  0.011291    0.578947  1.263954   \n1004            0.009238            0.376700  0.004619    0.500000  1.327316   \n...                  ...                 ...       ...         ...       ...   \n1195            0.002823            0.458045  0.002566    0.909091  1.984721   \n1196            0.004362            0.458045  0.002823    0.647059  1.412654   \n1197            0.004362            0.349756  0.003079    0.705882  2.018212   \n1198            0.005645            0.376700  0.003079    0.545455  1.447981   \n1199            0.005645            0.313318  0.003079    0.545455  1.740898   \n\n      leverage  conviction  \n1000  0.001839    1.298542  \n1001  0.001565    1.290370  \n1002  0.003688    1.435479  \n1003  0.002358    1.287144  \n1004  0.001139    1.246600  \n...        ...         ...  \n1195  0.001273    5.961509  \n1196  0.000825    1.535540  \n1197  0.001554    2.210829  \n1198  0.000953    1.371260  \n1199  0.001310    1.510701  \n\n[200 rows x 9 columns]",
      "text/html": "<div>\n<style scoped>\n    .dataframe tbody tr th:only-of-type {\n        vertical-align: middle;\n    }\n\n    .dataframe tbody tr th {\n        vertical-align: top;\n    }\n\n    .dataframe thead th {\n        text-align: right;\n    }\n</style>\n<table border=\"1\" class=\"dataframe\">\n  <thead>\n    <tr style=\"text-align: right;\">\n      <th></th>\n      <th>antecedents</th>\n      <th>consequents</th>\n      <th>antecedent support</th>\n      <th>consequent support</th>\n      <th>support</th>\n      <th>confidence</th>\n      <th>lift</th>\n      <th>leverage</th>\n      <th>conviction</th>\n    </tr>\n  </thead>\n  <tbody>\n    <tr>\n      <th>1000</th>\n      <td>(frozen vegetables, butter)</td>\n      <td>(other vegetables)</td>\n      <td>0.012830</td>\n      <td>0.376700</td>\n      <td>0.006672</td>\n      <td>0.520000</td>\n      <td>1.380409</td>\n      <td>0.001839</td>\n      <td>1.298542</td>\n    </tr>\n    <tr>\n      <th>1001</th>\n      <td>(frozen vegetables, butter)</td>\n      <td>(whole milk)</td>\n      <td>0.012830</td>\n      <td>0.458045</td>\n      <td>0.007442</td>\n      <td>0.580000</td>\n      <td>1.266252</td>\n      <td>0.001565</td>\n      <td>1.290370</td>\n    </tr>\n    <tr>\n      <th>1002</th>\n      <td>(fruit/vegetable juice, butter)</td>\n      <td>(other vegetables)</td>\n      <td>0.019502</td>\n      <td>0.376700</td>\n      <td>0.011034</td>\n      <td>0.565789</td>\n      <td>1.501963</td>\n      <td>0.003688</td>\n      <td>1.435479</td>\n    </tr>\n    <tr>\n      <th>1003</th>\n      <td>(fruit/vegetable juice, butter)</td>\n      <td>(whole milk)</td>\n      <td>0.019502</td>\n      <td>0.458045</td>\n      <td>0.011291</td>\n      <td>0.578947</td>\n      <td>1.263954</td>\n      <td>0.002358</td>\n      <td>1.287144</td>\n    </tr>\n    <tr>\n      <th>1004</th>\n      <td>(grapes, butter)</td>\n      <td>(other vegetables)</td>\n      <td>0.009238</td>\n      <td>0.376700</td>\n      <td>0.004619</td>\n      <td>0.500000</td>\n      <td>1.327316</td>\n      <td>0.001139</td>\n      <td>1.246600</td>\n    </tr>\n    <tr>\n      <th>...</th>\n      <td>...</td>\n      <td>...</td>\n      <td>...</td>\n      <td>...</td>\n      <td>...</td>\n      <td>...</td>\n      <td>...</td>\n      <td>...</td>\n      <td>...</td>\n    </tr>\n    <tr>\n      <th>1195</th>\n      <td>(herbs, candy)</td>\n      <td>(whole milk)</td>\n      <td>0.002823</td>\n      <td>0.458045</td>\n      <td>0.002566</td>\n      <td>0.909091</td>\n      <td>1.984721</td>\n      <td>0.001273</td>\n      <td>5.961509</td>\n    </tr>\n    <tr>\n      <th>1196</th>\n      <td>(ice cream, candy)</td>\n      <td>(whole milk)</td>\n      <td>0.004362</td>\n      <td>0.458045</td>\n      <td>0.002823</td>\n      <td>0.647059</td>\n      <td>1.412654</td>\n      <td>0.000825</td>\n      <td>1.535540</td>\n    </tr>\n    <tr>\n      <th>1197</th>\n      <td>(candy, long life bakery product)</td>\n      <td>(rolls/buns)</td>\n      <td>0.004362</td>\n      <td>0.349756</td>\n      <td>0.003079</td>\n      <td>0.705882</td>\n      <td>2.018212</td>\n      <td>0.001554</td>\n      <td>2.210829</td>\n    </tr>\n    <tr>\n      <th>1198</th>\n      <td>(candy, margarine)</td>\n      <td>(other vegetables)</td>\n      <td>0.005645</td>\n      <td>0.376700</td>\n      <td>0.003079</td>\n      <td>0.545455</td>\n      <td>1.447981</td>\n      <td>0.000953</td>\n      <td>1.371260</td>\n    </tr>\n    <tr>\n      <th>1199</th>\n      <td>(candy, margarine)</td>\n      <td>(soda)</td>\n      <td>0.005645</td>\n      <td>0.313318</td>\n      <td>0.003079</td>\n      <td>0.545455</td>\n      <td>1.740898</td>\n      <td>0.001310</td>\n      <td>1.510701</td>\n    </tr>\n  </tbody>\n</table>\n<p>200 rows × 9 columns</p>\n</div>"
     },
     "execution_count": 10,
     "metadata": {},
     "output_type": "execute_result"
    }
   ],
   "source": [
    "query"
   ],
   "metadata": {
    "collapsed": false,
    "pycharm": {
     "name": "#%%\n"
    }
   }
  },
  {
   "cell_type": "code",
   "execution_count": 11,
   "outputs": [
    {
     "data": {
      "text/plain": "      antecedent support  consequent support   support  confidence      lift  \\\n1000            0.012830            0.376700  0.006672    0.520000  1.380409   \n1001            0.012830            0.458045  0.007442    0.580000  1.266252   \n1002            0.019502            0.376700  0.011034    0.565789  1.501963   \n1003            0.019502            0.458045  0.011291    0.578947  1.263954   \n1004            0.009238            0.376700  0.004619    0.500000  1.327316   \n...                  ...                 ...       ...         ...       ...   \n1195            0.002823            0.458045  0.002566    0.909091  1.984721   \n1196            0.004362            0.458045  0.002823    0.647059  1.412654   \n1197            0.004362            0.349756  0.003079    0.705882  2.018212   \n1198            0.005645            0.376700  0.003079    0.545455  1.447981   \n1199            0.005645            0.313318  0.003079    0.545455  1.740898   \n\n      leverage  conviction  \n1000  0.001839    1.298542  \n1001  0.001565    1.290370  \n1002  0.003688    1.435479  \n1003  0.002358    1.287144  \n1004  0.001139    1.246600  \n...        ...         ...  \n1195  0.001273    5.961509  \n1196  0.000825    1.535540  \n1197  0.001554    2.210829  \n1198  0.000953    1.371260  \n1199  0.001310    1.510701  \n\n[200 rows x 7 columns]",
      "text/html": "<div>\n<style scoped>\n    .dataframe tbody tr th:only-of-type {\n        vertical-align: middle;\n    }\n\n    .dataframe tbody tr th {\n        vertical-align: top;\n    }\n\n    .dataframe thead th {\n        text-align: right;\n    }\n</style>\n<table border=\"1\" class=\"dataframe\">\n  <thead>\n    <tr style=\"text-align: right;\">\n      <th></th>\n      <th>antecedent support</th>\n      <th>consequent support</th>\n      <th>support</th>\n      <th>confidence</th>\n      <th>lift</th>\n      <th>leverage</th>\n      <th>conviction</th>\n    </tr>\n  </thead>\n  <tbody>\n    <tr>\n      <th>1000</th>\n      <td>0.012830</td>\n      <td>0.376700</td>\n      <td>0.006672</td>\n      <td>0.520000</td>\n      <td>1.380409</td>\n      <td>0.001839</td>\n      <td>1.298542</td>\n    </tr>\n    <tr>\n      <th>1001</th>\n      <td>0.012830</td>\n      <td>0.458045</td>\n      <td>0.007442</td>\n      <td>0.580000</td>\n      <td>1.266252</td>\n      <td>0.001565</td>\n      <td>1.290370</td>\n    </tr>\n    <tr>\n      <th>1002</th>\n      <td>0.019502</td>\n      <td>0.376700</td>\n      <td>0.011034</td>\n      <td>0.565789</td>\n      <td>1.501963</td>\n      <td>0.003688</td>\n      <td>1.435479</td>\n    </tr>\n    <tr>\n      <th>1003</th>\n      <td>0.019502</td>\n      <td>0.458045</td>\n      <td>0.011291</td>\n      <td>0.578947</td>\n      <td>1.263954</td>\n      <td>0.002358</td>\n      <td>1.287144</td>\n    </tr>\n    <tr>\n      <th>1004</th>\n      <td>0.009238</td>\n      <td>0.376700</td>\n      <td>0.004619</td>\n      <td>0.500000</td>\n      <td>1.327316</td>\n      <td>0.001139</td>\n      <td>1.246600</td>\n    </tr>\n    <tr>\n      <th>...</th>\n      <td>...</td>\n      <td>...</td>\n      <td>...</td>\n      <td>...</td>\n      <td>...</td>\n      <td>...</td>\n      <td>...</td>\n    </tr>\n    <tr>\n      <th>1195</th>\n      <td>0.002823</td>\n      <td>0.458045</td>\n      <td>0.002566</td>\n      <td>0.909091</td>\n      <td>1.984721</td>\n      <td>0.001273</td>\n      <td>5.961509</td>\n    </tr>\n    <tr>\n      <th>1196</th>\n      <td>0.004362</td>\n      <td>0.458045</td>\n      <td>0.002823</td>\n      <td>0.647059</td>\n      <td>1.412654</td>\n      <td>0.000825</td>\n      <td>1.535540</td>\n    </tr>\n    <tr>\n      <th>1197</th>\n      <td>0.004362</td>\n      <td>0.349756</td>\n      <td>0.003079</td>\n      <td>0.705882</td>\n      <td>2.018212</td>\n      <td>0.001554</td>\n      <td>2.210829</td>\n    </tr>\n    <tr>\n      <th>1198</th>\n      <td>0.005645</td>\n      <td>0.376700</td>\n      <td>0.003079</td>\n      <td>0.545455</td>\n      <td>1.447981</td>\n      <td>0.000953</td>\n      <td>1.371260</td>\n    </tr>\n    <tr>\n      <th>1199</th>\n      <td>0.005645</td>\n      <td>0.313318</td>\n      <td>0.003079</td>\n      <td>0.545455</td>\n      <td>1.740898</td>\n      <td>0.001310</td>\n      <td>1.510701</td>\n    </tr>\n  </tbody>\n</table>\n<p>200 rows × 7 columns</p>\n</div>"
     },
     "execution_count": 11,
     "metadata": {},
     "output_type": "execute_result"
    }
   ],
   "source": [
    "query.drop(columns=['antecedents','consequents'], inplace=True)\n",
    "query"
   ],
   "metadata": {
    "collapsed": false,
    "pycharm": {
     "name": "#%%\n"
    }
   }
  },
  {
   "cell_type": "code",
   "execution_count": 12,
   "outputs": [
    {
     "name": "stdout",
     "output_type": "stream",
     "text": [
      "Index(['antecedent support', 'consequent support', 'support', 'confidence',\n",
      "       'lift', 'leverage', 'conviction'],\n",
      "      dtype='object')\n",
      "<class 'pandas.core.indexes.base.Index'>\n",
      "['antecedent support', 'consequent support', 'support', 'confidence', 'lift', 'leverage', 'conviction']\n",
      "<class 'list'>\n"
     ]
    }
   ],
   "source": [
    "column = df.columns[2:]\n",
    "print(column)\n",
    "print(type(column))\n",
    "column1 = list(column)\n",
    "print(column1)\n",
    "print(type(column1))"
   ],
   "metadata": {
    "collapsed": false,
    "pycharm": {
     "name": "#%%\n"
    }
   }
  },
  {
   "cell_type": "code",
   "execution_count": 13,
   "outputs": [
    {
     "name": "stdout",
     "output_type": "stream",
     "text": [
      "<class 'pandas.core.frame.DataFrame'>\n"
     ]
    }
   ],
   "source": [
    "print(type(query))"
   ],
   "metadata": {
    "collapsed": false,
    "pycharm": {
     "name": "#%%\n"
    }
   }
  },
  {
   "cell_type": "code",
   "execution_count": 15,
   "outputs": [
    {
     "name": "stdout",
     "output_type": "stream",
     "text": [
      "<class 'numpy.ndarray'>\n",
      "1400\n"
     ]
    }
   ],
   "source": [
    "q_num = query.to_numpy()\n",
    "print(type(q_num))\n",
    "print(q_num.size)"
   ],
   "metadata": {
    "collapsed": false,
    "pycharm": {
     "name": "#%%\n"
    }
   }
  },
  {
   "cell_type": "code",
   "execution_count": 17,
   "outputs": [
    {
     "data": {
      "text/plain": "      antecedent support  consequent support   support  confidence      lift  \\\n1000            0.012830            0.376700  0.006672    0.520000  1.380409   \n1001            0.012830            0.458045  0.007442    0.580000  1.266252   \n1002            0.019502            0.376700  0.011034    0.565789  1.501963   \n1003            0.019502            0.458045  0.011291    0.578947  1.263954   \n1004            0.009238            0.376700  0.004619    0.500000  1.327316   \n1005            0.009238            0.458045  0.005389    0.583333  1.273529   \n1006            0.010008            0.458045  0.006415    0.641026  1.399483   \n1007            0.009751            0.376700  0.005132    0.526316  1.397175   \n1008            0.009751            0.458045  0.005389    0.552632  1.206502   \n1009            0.008981            0.376700  0.004619    0.514286  1.365239   \n\n      leverage  conviction  \n1000  0.001839    1.298542  \n1001  0.001565    1.290370  \n1002  0.003688    1.435479  \n1003  0.002358    1.287144  \n1004  0.001139    1.246600  \n1005  0.001157    1.300693  \n1006  0.001831    1.509733  \n1007  0.001459    1.315856  \n1008  0.000922    1.211430  \n1009  0.001236    1.283265  ",
      "text/html": "<div>\n<style scoped>\n    .dataframe tbody tr th:only-of-type {\n        vertical-align: middle;\n    }\n\n    .dataframe tbody tr th {\n        vertical-align: top;\n    }\n\n    .dataframe thead th {\n        text-align: right;\n    }\n</style>\n<table border=\"1\" class=\"dataframe\">\n  <thead>\n    <tr style=\"text-align: right;\">\n      <th></th>\n      <th>antecedent support</th>\n      <th>consequent support</th>\n      <th>support</th>\n      <th>confidence</th>\n      <th>lift</th>\n      <th>leverage</th>\n      <th>conviction</th>\n    </tr>\n  </thead>\n  <tbody>\n    <tr>\n      <th>1000</th>\n      <td>0.012830</td>\n      <td>0.376700</td>\n      <td>0.006672</td>\n      <td>0.520000</td>\n      <td>1.380409</td>\n      <td>0.001839</td>\n      <td>1.298542</td>\n    </tr>\n    <tr>\n      <th>1001</th>\n      <td>0.012830</td>\n      <td>0.458045</td>\n      <td>0.007442</td>\n      <td>0.580000</td>\n      <td>1.266252</td>\n      <td>0.001565</td>\n      <td>1.290370</td>\n    </tr>\n    <tr>\n      <th>1002</th>\n      <td>0.019502</td>\n      <td>0.376700</td>\n      <td>0.011034</td>\n      <td>0.565789</td>\n      <td>1.501963</td>\n      <td>0.003688</td>\n      <td>1.435479</td>\n    </tr>\n    <tr>\n      <th>1003</th>\n      <td>0.019502</td>\n      <td>0.458045</td>\n      <td>0.011291</td>\n      <td>0.578947</td>\n      <td>1.263954</td>\n      <td>0.002358</td>\n      <td>1.287144</td>\n    </tr>\n    <tr>\n      <th>1004</th>\n      <td>0.009238</td>\n      <td>0.376700</td>\n      <td>0.004619</td>\n      <td>0.500000</td>\n      <td>1.327316</td>\n      <td>0.001139</td>\n      <td>1.246600</td>\n    </tr>\n    <tr>\n      <th>1005</th>\n      <td>0.009238</td>\n      <td>0.458045</td>\n      <td>0.005389</td>\n      <td>0.583333</td>\n      <td>1.273529</td>\n      <td>0.001157</td>\n      <td>1.300693</td>\n    </tr>\n    <tr>\n      <th>1006</th>\n      <td>0.010008</td>\n      <td>0.458045</td>\n      <td>0.006415</td>\n      <td>0.641026</td>\n      <td>1.399483</td>\n      <td>0.001831</td>\n      <td>1.509733</td>\n    </tr>\n    <tr>\n      <th>1007</th>\n      <td>0.009751</td>\n      <td>0.376700</td>\n      <td>0.005132</td>\n      <td>0.526316</td>\n      <td>1.397175</td>\n      <td>0.001459</td>\n      <td>1.315856</td>\n    </tr>\n    <tr>\n      <th>1008</th>\n      <td>0.009751</td>\n      <td>0.458045</td>\n      <td>0.005389</td>\n      <td>0.552632</td>\n      <td>1.206502</td>\n      <td>0.000922</td>\n      <td>1.211430</td>\n    </tr>\n    <tr>\n      <th>1009</th>\n      <td>0.008981</td>\n      <td>0.376700</td>\n      <td>0.004619</td>\n      <td>0.514286</td>\n      <td>1.365239</td>\n      <td>0.001236</td>\n      <td>1.283265</td>\n    </tr>\n  </tbody>\n</table>\n</div>"
     },
     "execution_count": 17,
     "metadata": {},
     "output_type": "execute_result"
    }
   ],
   "source": [
    "query_smaller = query.iloc[:10,:]\n",
    "query_smaller\n",
    "# print(type(query_smaller))"
   ],
   "metadata": {
    "collapsed": false,
    "pycharm": {
     "name": "#%%\n"
    }
   }
  },
  {
   "cell_type": "code",
   "execution_count": 55,
   "outputs": [
    {
     "data": {
      "text/plain": "antecedent support    0.012830\nconsequent support    0.376700\nsupport               0.006672\nconfidence            0.520000\nlift                  1.380409\nleverage              0.001839\nconviction            1.298542\nName: 1000, dtype: float64"
     },
     "execution_count": 55,
     "metadata": {},
     "output_type": "execute_result"
    }
   ],
   "source": [
    "query_smaller.iloc[0]"
   ],
   "metadata": {
    "collapsed": false,
    "pycharm": {
     "name": "#%%\n"
    }
   }
  },
  {
   "cell_type": "code",
   "execution_count": 56,
   "outputs": [
    {
     "data": {
      "text/plain": "0.012830382"
     },
     "execution_count": 56,
     "metadata": {},
     "output_type": "execute_result"
    }
   ],
   "source": [
    "query_smaller.iloc[0][0]"
   ],
   "metadata": {
    "collapsed": false,
    "pycharm": {
     "name": "#%%\n"
    }
   }
  },
  {
   "cell_type": "code",
   "execution_count": 57,
   "outputs": [
    {
     "data": {
      "text/plain": "[0.012830382,\n 0.376700026,\n 0.006671799,\n 0.52,\n 1.380408719,\n 0.001838593,\n 1.298541613]"
     },
     "execution_count": 57,
     "metadata": {},
     "output_type": "execute_result"
    }
   ],
   "source": [
    "query_smaller.iloc[0].to_list()"
   ],
   "metadata": {
    "collapsed": false,
    "pycharm": {
     "name": "#%%\n"
    }
   }
  },
  {
   "cell_type": "code",
   "execution_count": 61,
   "outputs": [
    {
     "name": "stdout",
     "output_type": "stream",
     "text": [
      "<class 'float'>\n"
     ]
    }
   ],
   "source": [
    "print(type((query_smaller.iloc[0].to_list())[0]))"
   ],
   "metadata": {
    "collapsed": false,
    "pycharm": {
     "name": "#%%\n"
    }
   }
  },
  {
   "cell_type": "code",
   "execution_count": null,
   "outputs": [],
   "source": [
    "color = plt.cm.rainbow(np.linspace(0, 1, 100))\n",
    "x = np.linspace(0.0,2.0, 501)\n",
    "\n",
    "fig6, axes = plt.subplots(5,2,constrained_layout=True, sharey=True,figsize=(20,20))\n",
    "for i in range(5):\n",
    "    p1 = axes[i][0].bar(column1,query_smaller.iloc[i].to_list(),color=color,edgecolor='black')\n",
    "    axes[i][0].set_title(\"POS: \"+str(i))\n",
    "    axes[i][0].set_xlabel('Categories')\n",
    "    axes[i][0].set_ylabel('Variance')\n",
    "    axes[i][0].tick_params(axis='x',rotation=45)\n",
    "    axes[i][0].bar_label(p1, label_type='edge')\n",
    "    p2 = axes[i][1].bar(column1,query_smaller.iloc[i+1].to_list(),color=color,edgecolor='black')\n",
    "    axes[i][1].set_title(\"POS: \"+str(i+1))\n",
    "    axes[i][1].set_xlabel('Categories')\n",
    "    axes[i][1].set_ylabel('Variance')\n",
    "    axes[i][1].tick_params(axis='x',rotation=45)\n",
    "    axes[i][1].bar_label(p2,label_type='edge')\n",
    "\n",
    "fig6.suptitle(\"ALL OF THE PLOTS!!!\",fontsize=16)"
   ],
   "metadata": {
    "collapsed": false,
    "pycharm": {
     "name": "#%%\n",
     "is_executing": true
    }
   }
  },
  {
   "cell_type": "code",
   "execution_count": null,
   "outputs": [],
   "source": [],
   "metadata": {
    "collapsed": false,
    "pycharm": {
     "name": "#%%\n",
     "is_executing": true
    }
   }
  },
  {
   "cell_type": "code",
   "execution_count": 19,
   "outputs": [
    {
     "data": {
      "text/plain": "Empty DataFrame\nColumns: [antecedents, consequents, antecedent support, consequent support, support, confidence, lift, leverage, conviction]\nIndex: []",
      "text/html": "<div>\n<style scoped>\n    .dataframe tbody tr th:only-of-type {\n        vertical-align: middle;\n    }\n\n    .dataframe tbody tr th {\n        vertical-align: top;\n    }\n\n    .dataframe thead th {\n        text-align: right;\n    }\n</style>\n<table border=\"1\" class=\"dataframe\">\n  <thead>\n    <tr style=\"text-align: right;\">\n      <th></th>\n      <th>antecedents</th>\n      <th>consequents</th>\n      <th>antecedent support</th>\n      <th>consequent support</th>\n      <th>support</th>\n      <th>confidence</th>\n      <th>lift</th>\n      <th>leverage</th>\n      <th>conviction</th>\n    </tr>\n  </thead>\n  <tbody>\n  </tbody>\n</table>\n</div>"
     },
     "execution_count": 19,
     "metadata": {},
     "output_type": "execute_result"
    }
   ],
   "source": [
    "df[df['antecedents'] == {'rolls/buns', 'Instant food products'}]"
   ],
   "metadata": {
    "collapsed": false,
    "pycharm": {
     "name": "#%%\n"
    }
   }
  },
  {
   "cell_type": "code",
   "execution_count": 20,
   "outputs": [
    {
     "data": {
      "text/plain": "               antecedents         consequents  antecedent support  \\\n0  (instant food products)              (soda)            0.015396   \n1  (instant food products)        (whole milk)            0.015396   \n2               (uht-milk)        (whole milk)            0.078522   \n3       (abrasive cleaner)        (rolls/buns)            0.005645   \n4       (artif. sweetener)  (other vegetables)            0.007442   \n\n   consequent support   support  confidence      lift  leverage  conviction  \\\n0            0.313318  0.007955    0.516667  1.649017  0.003131    1.420722   \n1            0.458045  0.007955    0.516667  1.127983  0.000903    1.121287   \n2            0.458045  0.040544    0.516340  1.127270  0.004577    1.120529   \n3            0.349756  0.002823    0.500000  1.429567  0.000848    1.300488   \n4            0.376700  0.003849    0.517241  1.373086  0.001046    1.291121   \n\n   antecedent_len  \n0               1  \n1               1  \n2               1  \n3               1  \n4               1  ",
      "text/html": "<div>\n<style scoped>\n    .dataframe tbody tr th:only-of-type {\n        vertical-align: middle;\n    }\n\n    .dataframe tbody tr th {\n        vertical-align: top;\n    }\n\n    .dataframe thead th {\n        text-align: right;\n    }\n</style>\n<table border=\"1\" class=\"dataframe\">\n  <thead>\n    <tr style=\"text-align: right;\">\n      <th></th>\n      <th>antecedents</th>\n      <th>consequents</th>\n      <th>antecedent support</th>\n      <th>consequent support</th>\n      <th>support</th>\n      <th>confidence</th>\n      <th>lift</th>\n      <th>leverage</th>\n      <th>conviction</th>\n      <th>antecedent_len</th>\n    </tr>\n  </thead>\n  <tbody>\n    <tr>\n      <th>0</th>\n      <td>(instant food products)</td>\n      <td>(soda)</td>\n      <td>0.015396</td>\n      <td>0.313318</td>\n      <td>0.007955</td>\n      <td>0.516667</td>\n      <td>1.649017</td>\n      <td>0.003131</td>\n      <td>1.420722</td>\n      <td>1</td>\n    </tr>\n    <tr>\n      <th>1</th>\n      <td>(instant food products)</td>\n      <td>(whole milk)</td>\n      <td>0.015396</td>\n      <td>0.458045</td>\n      <td>0.007955</td>\n      <td>0.516667</td>\n      <td>1.127983</td>\n      <td>0.000903</td>\n      <td>1.121287</td>\n      <td>1</td>\n    </tr>\n    <tr>\n      <th>2</th>\n      <td>(uht-milk)</td>\n      <td>(whole milk)</td>\n      <td>0.078522</td>\n      <td>0.458045</td>\n      <td>0.040544</td>\n      <td>0.516340</td>\n      <td>1.127270</td>\n      <td>0.004577</td>\n      <td>1.120529</td>\n      <td>1</td>\n    </tr>\n    <tr>\n      <th>3</th>\n      <td>(abrasive cleaner)</td>\n      <td>(rolls/buns)</td>\n      <td>0.005645</td>\n      <td>0.349756</td>\n      <td>0.002823</td>\n      <td>0.500000</td>\n      <td>1.429567</td>\n      <td>0.000848</td>\n      <td>1.300488</td>\n      <td>1</td>\n    </tr>\n    <tr>\n      <th>4</th>\n      <td>(artif. sweetener)</td>\n      <td>(other vegetables)</td>\n      <td>0.007442</td>\n      <td>0.376700</td>\n      <td>0.003849</td>\n      <td>0.517241</td>\n      <td>1.373086</td>\n      <td>0.001046</td>\n      <td>1.291121</td>\n      <td>1</td>\n    </tr>\n  </tbody>\n</table>\n</div>"
     },
     "execution_count": 20,
     "metadata": {},
     "output_type": "execute_result"
    }
   ],
   "source": [
    "df['antecedent_len'] = df['antecedents'].apply(lambda x: len(x))\n",
    "df.head()"
   ],
   "metadata": {
    "collapsed": false,
    "pycharm": {
     "name": "#%%\n"
    }
   }
  },
  {
   "cell_type": "code",
   "execution_count": 21,
   "outputs": [
    {
     "data": {
      "text/plain": "                                             antecedents         consequents  \\\n24247  (other vegetables, sausage, bottled water, rol...   (root vegetables)   \n24248  (root vegetables, other vegetables, sausage, b...              (soda)   \n24249  (root vegetables, other vegetables, sausage, r...     (bottled water)   \n24250  (root vegetables, other vegetables, sausage, b...        (rolls/buns)   \n24251  (root vegetables, sausage, bottled water, roll...  (other vegetables)   \n\n       antecedent support  consequent support   support  confidence      lift  \\\n24247            0.003849            0.230690  0.002566    0.666667  2.889878   \n24248            0.003336            0.313318  0.002566    0.769231  2.455112   \n24249            0.003336            0.213754  0.002566    0.769231  3.598670   \n24250            0.003336            0.349756  0.002566    0.769231  2.199334   \n24251            0.003079            0.376700  0.002566    0.833333  2.212193   \n\n       leverage  conviction  antecedent_len  \n24247  0.001678    2.307929               6  \n24248  0.001521    2.975622               6  \n24249  0.001853    3.407065               6  \n24250  0.001399    2.817723               6  \n24251  0.001406    3.739800               6  ",
      "text/html": "<div>\n<style scoped>\n    .dataframe tbody tr th:only-of-type {\n        vertical-align: middle;\n    }\n\n    .dataframe tbody tr th {\n        vertical-align: top;\n    }\n\n    .dataframe thead th {\n        text-align: right;\n    }\n</style>\n<table border=\"1\" class=\"dataframe\">\n  <thead>\n    <tr style=\"text-align: right;\">\n      <th></th>\n      <th>antecedents</th>\n      <th>consequents</th>\n      <th>antecedent support</th>\n      <th>consequent support</th>\n      <th>support</th>\n      <th>confidence</th>\n      <th>lift</th>\n      <th>leverage</th>\n      <th>conviction</th>\n      <th>antecedent_len</th>\n    </tr>\n  </thead>\n  <tbody>\n    <tr>\n      <th>24247</th>\n      <td>(other vegetables, sausage, bottled water, rol...</td>\n      <td>(root vegetables)</td>\n      <td>0.003849</td>\n      <td>0.230690</td>\n      <td>0.002566</td>\n      <td>0.666667</td>\n      <td>2.889878</td>\n      <td>0.001678</td>\n      <td>2.307929</td>\n      <td>6</td>\n    </tr>\n    <tr>\n      <th>24248</th>\n      <td>(root vegetables, other vegetables, sausage, b...</td>\n      <td>(soda)</td>\n      <td>0.003336</td>\n      <td>0.313318</td>\n      <td>0.002566</td>\n      <td>0.769231</td>\n      <td>2.455112</td>\n      <td>0.001521</td>\n      <td>2.975622</td>\n      <td>6</td>\n    </tr>\n    <tr>\n      <th>24249</th>\n      <td>(root vegetables, other vegetables, sausage, r...</td>\n      <td>(bottled water)</td>\n      <td>0.003336</td>\n      <td>0.213754</td>\n      <td>0.002566</td>\n      <td>0.769231</td>\n      <td>3.598670</td>\n      <td>0.001853</td>\n      <td>3.407065</td>\n      <td>6</td>\n    </tr>\n    <tr>\n      <th>24250</th>\n      <td>(root vegetables, other vegetables, sausage, b...</td>\n      <td>(rolls/buns)</td>\n      <td>0.003336</td>\n      <td>0.349756</td>\n      <td>0.002566</td>\n      <td>0.769231</td>\n      <td>2.199334</td>\n      <td>0.001399</td>\n      <td>2.817723</td>\n      <td>6</td>\n    </tr>\n    <tr>\n      <th>24251</th>\n      <td>(root vegetables, sausage, bottled water, roll...</td>\n      <td>(other vegetables)</td>\n      <td>0.003079</td>\n      <td>0.376700</td>\n      <td>0.002566</td>\n      <td>0.833333</td>\n      <td>2.212193</td>\n      <td>0.001406</td>\n      <td>3.739800</td>\n      <td>6</td>\n    </tr>\n  </tbody>\n</table>\n</div>"
     },
     "execution_count": 21,
     "metadata": {},
     "output_type": "execute_result"
    }
   ],
   "source": [
    "df.tail()"
   ],
   "metadata": {
    "collapsed": false,
    "pycharm": {
     "name": "#%%\n"
    }
   }
  },
  {
   "cell_type": "code",
   "execution_count": 22,
   "outputs": [
    {
     "data": {
      "text/plain": "               antecedents         consequents  antecedent support  \\\n0  (instant food products)              (soda)            0.015396   \n1  (instant food products)        (whole milk)            0.015396   \n2               (uht-milk)        (whole milk)            0.078522   \n3       (abrasive cleaner)        (rolls/buns)            0.005645   \n4       (artif. sweetener)  (other vegetables)            0.007442   \n\n   consequent support   support  confidence      lift  leverage  conviction  \\\n0            0.313318  0.007955    0.516667  1.649017  0.003131    1.420722   \n1            0.458045  0.007955    0.516667  1.127983  0.000903    1.121287   \n2            0.458045  0.040544    0.516340  1.127270  0.004577    1.120529   \n3            0.349756  0.002823    0.500000  1.429567  0.000848    1.300488   \n4            0.376700  0.003849    0.517241  1.373086  0.001046    1.291121   \n\n   antecedent_len  consequent_len  \n0               1               1  \n1               1               1  \n2               1               1  \n3               1               1  \n4               1               1  ",
      "text/html": "<div>\n<style scoped>\n    .dataframe tbody tr th:only-of-type {\n        vertical-align: middle;\n    }\n\n    .dataframe tbody tr th {\n        vertical-align: top;\n    }\n\n    .dataframe thead th {\n        text-align: right;\n    }\n</style>\n<table border=\"1\" class=\"dataframe\">\n  <thead>\n    <tr style=\"text-align: right;\">\n      <th></th>\n      <th>antecedents</th>\n      <th>consequents</th>\n      <th>antecedent support</th>\n      <th>consequent support</th>\n      <th>support</th>\n      <th>confidence</th>\n      <th>lift</th>\n      <th>leverage</th>\n      <th>conviction</th>\n      <th>antecedent_len</th>\n      <th>consequent_len</th>\n    </tr>\n  </thead>\n  <tbody>\n    <tr>\n      <th>0</th>\n      <td>(instant food products)</td>\n      <td>(soda)</td>\n      <td>0.015396</td>\n      <td>0.313318</td>\n      <td>0.007955</td>\n      <td>0.516667</td>\n      <td>1.649017</td>\n      <td>0.003131</td>\n      <td>1.420722</td>\n      <td>1</td>\n      <td>1</td>\n    </tr>\n    <tr>\n      <th>1</th>\n      <td>(instant food products)</td>\n      <td>(whole milk)</td>\n      <td>0.015396</td>\n      <td>0.458045</td>\n      <td>0.007955</td>\n      <td>0.516667</td>\n      <td>1.127983</td>\n      <td>0.000903</td>\n      <td>1.121287</td>\n      <td>1</td>\n      <td>1</td>\n    </tr>\n    <tr>\n      <th>2</th>\n      <td>(uht-milk)</td>\n      <td>(whole milk)</td>\n      <td>0.078522</td>\n      <td>0.458045</td>\n      <td>0.040544</td>\n      <td>0.516340</td>\n      <td>1.127270</td>\n      <td>0.004577</td>\n      <td>1.120529</td>\n      <td>1</td>\n      <td>1</td>\n    </tr>\n    <tr>\n      <th>3</th>\n      <td>(abrasive cleaner)</td>\n      <td>(rolls/buns)</td>\n      <td>0.005645</td>\n      <td>0.349756</td>\n      <td>0.002823</td>\n      <td>0.500000</td>\n      <td>1.429567</td>\n      <td>0.000848</td>\n      <td>1.300488</td>\n      <td>1</td>\n      <td>1</td>\n    </tr>\n    <tr>\n      <th>4</th>\n      <td>(artif. sweetener)</td>\n      <td>(other vegetables)</td>\n      <td>0.007442</td>\n      <td>0.376700</td>\n      <td>0.003849</td>\n      <td>0.517241</td>\n      <td>1.373086</td>\n      <td>0.001046</td>\n      <td>1.291121</td>\n      <td>1</td>\n      <td>1</td>\n    </tr>\n  </tbody>\n</table>\n</div>"
     },
     "execution_count": 22,
     "metadata": {},
     "output_type": "execute_result"
    }
   ],
   "source": [
    "df['consequent_len'] = df['consequents'].apply(lambda x: len(x))\n",
    "df.head()"
   ],
   "metadata": {
    "collapsed": false,
    "pycharm": {
     "name": "#%%\n"
    }
   }
  },
  {
   "cell_type": "code",
   "execution_count": 23,
   "outputs": [
    {
     "data": {
      "text/plain": "                                             antecedents         consequents  \\\n24247  (other vegetables, sausage, bottled water, rol...   (root vegetables)   \n24248  (root vegetables, other vegetables, sausage, b...              (soda)   \n24249  (root vegetables, other vegetables, sausage, r...     (bottled water)   \n24250  (root vegetables, other vegetables, sausage, b...        (rolls/buns)   \n24251  (root vegetables, sausage, bottled water, roll...  (other vegetables)   \n\n       antecedent support  consequent support   support  confidence      lift  \\\n24247            0.003849            0.230690  0.002566    0.666667  2.889878   \n24248            0.003336            0.313318  0.002566    0.769231  2.455112   \n24249            0.003336            0.213754  0.002566    0.769231  3.598670   \n24250            0.003336            0.349756  0.002566    0.769231  2.199334   \n24251            0.003079            0.376700  0.002566    0.833333  2.212193   \n\n       leverage  conviction  antecedent_len  consequent_len  \n24247  0.001678    2.307929               6               1  \n24248  0.001521    2.975622               6               1  \n24249  0.001853    3.407065               6               1  \n24250  0.001399    2.817723               6               1  \n24251  0.001406    3.739800               6               1  ",
      "text/html": "<div>\n<style scoped>\n    .dataframe tbody tr th:only-of-type {\n        vertical-align: middle;\n    }\n\n    .dataframe tbody tr th {\n        vertical-align: top;\n    }\n\n    .dataframe thead th {\n        text-align: right;\n    }\n</style>\n<table border=\"1\" class=\"dataframe\">\n  <thead>\n    <tr style=\"text-align: right;\">\n      <th></th>\n      <th>antecedents</th>\n      <th>consequents</th>\n      <th>antecedent support</th>\n      <th>consequent support</th>\n      <th>support</th>\n      <th>confidence</th>\n      <th>lift</th>\n      <th>leverage</th>\n      <th>conviction</th>\n      <th>antecedent_len</th>\n      <th>consequent_len</th>\n    </tr>\n  </thead>\n  <tbody>\n    <tr>\n      <th>24247</th>\n      <td>(other vegetables, sausage, bottled water, rol...</td>\n      <td>(root vegetables)</td>\n      <td>0.003849</td>\n      <td>0.230690</td>\n      <td>0.002566</td>\n      <td>0.666667</td>\n      <td>2.889878</td>\n      <td>0.001678</td>\n      <td>2.307929</td>\n      <td>6</td>\n      <td>1</td>\n    </tr>\n    <tr>\n      <th>24248</th>\n      <td>(root vegetables, other vegetables, sausage, b...</td>\n      <td>(soda)</td>\n      <td>0.003336</td>\n      <td>0.313318</td>\n      <td>0.002566</td>\n      <td>0.769231</td>\n      <td>2.455112</td>\n      <td>0.001521</td>\n      <td>2.975622</td>\n      <td>6</td>\n      <td>1</td>\n    </tr>\n    <tr>\n      <th>24249</th>\n      <td>(root vegetables, other vegetables, sausage, r...</td>\n      <td>(bottled water)</td>\n      <td>0.003336</td>\n      <td>0.213754</td>\n      <td>0.002566</td>\n      <td>0.769231</td>\n      <td>3.598670</td>\n      <td>0.001853</td>\n      <td>3.407065</td>\n      <td>6</td>\n      <td>1</td>\n    </tr>\n    <tr>\n      <th>24250</th>\n      <td>(root vegetables, other vegetables, sausage, b...</td>\n      <td>(rolls/buns)</td>\n      <td>0.003336</td>\n      <td>0.349756</td>\n      <td>0.002566</td>\n      <td>0.769231</td>\n      <td>2.199334</td>\n      <td>0.001399</td>\n      <td>2.817723</td>\n      <td>6</td>\n      <td>1</td>\n    </tr>\n    <tr>\n      <th>24251</th>\n      <td>(root vegetables, sausage, bottled water, roll...</td>\n      <td>(other vegetables)</td>\n      <td>0.003079</td>\n      <td>0.376700</td>\n      <td>0.002566</td>\n      <td>0.833333</td>\n      <td>2.212193</td>\n      <td>0.001406</td>\n      <td>3.739800</td>\n      <td>6</td>\n      <td>1</td>\n    </tr>\n  </tbody>\n</table>\n</div>"
     },
     "execution_count": 23,
     "metadata": {},
     "output_type": "execute_result"
    }
   ],
   "source": [
    "df.tail()"
   ],
   "metadata": {
    "collapsed": false,
    "pycharm": {
     "name": "#%%\n"
    }
   }
  },
  {
   "cell_type": "code",
   "execution_count": 24,
   "outputs": [
    {
     "data": {
      "text/plain": "(whole milk)               10108\n(other vegetables)          5942\n(rolls/buns)                3672\n(soda)                      1894\n(yogurt)                    1519\n(root vegetables)            294\n(sausage)                    212\n(bottled water)              202\n(tropical fruit)             135\n(shopping bags)               64\n(citrus fruit)                42\n(pip fruit)                   30\n(pastry)                      28\n(canned beer)                 25\n(bottled beer)                18\n(brown bread)                 13\n(pork)                        12\n(frankfurter)                 11\n(whipped/sour cream)           9\n(newspapers)                   8\n(domestic eggs)                3\n(white bread)                  3\n(beef)                         2\n(dessert)                      2\n(butter)                       1\n(curd)                         1\n(fruit/vegetable juice)        1\n(margarine)                    1\nName: consequents, dtype: int64"
     },
     "execution_count": 24,
     "metadata": {},
     "output_type": "execute_result"
    }
   ],
   "source": [
    "df['consequents'].value_counts()"
   ],
   "metadata": {
    "collapsed": false,
    "pycharm": {
     "name": "#%%\n"
    }
   }
  },
  {
   "cell_type": "code",
   "execution_count": 25,
   "outputs": [],
   "source": [
    "ant_select = df['antecedent_len'] <= 2"
   ],
   "metadata": {
    "collapsed": false,
    "pycharm": {
     "name": "#%%\n"
    }
   }
  },
  {
   "cell_type": "code",
   "execution_count": 26,
   "outputs": [
    {
     "data": {
      "text/plain": "                           antecedents         consequents  \\\n0              (instant food products)              (soda)   \n1              (instant food products)        (whole milk)   \n2                           (uht-milk)        (whole milk)   \n3                   (abrasive cleaner)        (rolls/buns)   \n4                   (artif. sweetener)  (other vegetables)   \n...                                ...                 ...   \n3924  (white wine, whipped/sour cream)        (whole milk)   \n3925      (yogurt, whipped/sour cream)        (whole milk)   \n3926             (yogurt, white bread)        (whole milk)   \n3927              (yogurt, white wine)        (whole milk)   \n3928                (yogurt, zwieback)        (whole milk)   \n\n      antecedent support  consequent support   support  confidence      lift  \\\n0               0.015396            0.313318  0.007955    0.516667  1.649017   \n1               0.015396            0.458045  0.007955    0.516667  1.127983   \n2               0.078522            0.458045  0.040544    0.516340  1.127270   \n3               0.005645            0.349756  0.002823    0.500000  1.429567   \n4               0.007442            0.376700  0.003849    0.517241  1.373086   \n...                  ...                 ...       ...         ...       ...   \n3924            0.007442            0.458045  0.003849    0.517241  1.129238   \n3925            0.047986            0.458045  0.027714    0.577540  1.260882   \n3926            0.028483            0.458045  0.016423    0.576577  1.258778   \n3927            0.016423            0.458045  0.009751    0.593750  1.296271   \n3928            0.005645            0.458045  0.003593    0.636364  1.389305   \n\n      leverage  conviction  antecedent_len  consequent_len  \n0     0.003131    1.420722               1               1  \n1     0.000903    1.121287               1               1  \n2     0.004577    1.120529               1               1  \n3     0.000848    1.300488               1               1  \n4     0.001046    1.291121               1               1  \n...        ...         ...             ...             ...  \n3924  0.000441    1.122622               2               1  \n3925  0.005734    1.282856               2               1  \n3926  0.003376    1.279937               2               1  \n3927  0.002229    1.334044               2               1  \n3928  0.001007    1.490377               2               1  \n\n[3929 rows x 11 columns]",
      "text/html": "<div>\n<style scoped>\n    .dataframe tbody tr th:only-of-type {\n        vertical-align: middle;\n    }\n\n    .dataframe tbody tr th {\n        vertical-align: top;\n    }\n\n    .dataframe thead th {\n        text-align: right;\n    }\n</style>\n<table border=\"1\" class=\"dataframe\">\n  <thead>\n    <tr style=\"text-align: right;\">\n      <th></th>\n      <th>antecedents</th>\n      <th>consequents</th>\n      <th>antecedent support</th>\n      <th>consequent support</th>\n      <th>support</th>\n      <th>confidence</th>\n      <th>lift</th>\n      <th>leverage</th>\n      <th>conviction</th>\n      <th>antecedent_len</th>\n      <th>consequent_len</th>\n    </tr>\n  </thead>\n  <tbody>\n    <tr>\n      <th>0</th>\n      <td>(instant food products)</td>\n      <td>(soda)</td>\n      <td>0.015396</td>\n      <td>0.313318</td>\n      <td>0.007955</td>\n      <td>0.516667</td>\n      <td>1.649017</td>\n      <td>0.003131</td>\n      <td>1.420722</td>\n      <td>1</td>\n      <td>1</td>\n    </tr>\n    <tr>\n      <th>1</th>\n      <td>(instant food products)</td>\n      <td>(whole milk)</td>\n      <td>0.015396</td>\n      <td>0.458045</td>\n      <td>0.007955</td>\n      <td>0.516667</td>\n      <td>1.127983</td>\n      <td>0.000903</td>\n      <td>1.121287</td>\n      <td>1</td>\n      <td>1</td>\n    </tr>\n    <tr>\n      <th>2</th>\n      <td>(uht-milk)</td>\n      <td>(whole milk)</td>\n      <td>0.078522</td>\n      <td>0.458045</td>\n      <td>0.040544</td>\n      <td>0.516340</td>\n      <td>1.127270</td>\n      <td>0.004577</td>\n      <td>1.120529</td>\n      <td>1</td>\n      <td>1</td>\n    </tr>\n    <tr>\n      <th>3</th>\n      <td>(abrasive cleaner)</td>\n      <td>(rolls/buns)</td>\n      <td>0.005645</td>\n      <td>0.349756</td>\n      <td>0.002823</td>\n      <td>0.500000</td>\n      <td>1.429567</td>\n      <td>0.000848</td>\n      <td>1.300488</td>\n      <td>1</td>\n      <td>1</td>\n    </tr>\n    <tr>\n      <th>4</th>\n      <td>(artif. sweetener)</td>\n      <td>(other vegetables)</td>\n      <td>0.007442</td>\n      <td>0.376700</td>\n      <td>0.003849</td>\n      <td>0.517241</td>\n      <td>1.373086</td>\n      <td>0.001046</td>\n      <td>1.291121</td>\n      <td>1</td>\n      <td>1</td>\n    </tr>\n    <tr>\n      <th>...</th>\n      <td>...</td>\n      <td>...</td>\n      <td>...</td>\n      <td>...</td>\n      <td>...</td>\n      <td>...</td>\n      <td>...</td>\n      <td>...</td>\n      <td>...</td>\n      <td>...</td>\n      <td>...</td>\n    </tr>\n    <tr>\n      <th>3924</th>\n      <td>(white wine, whipped/sour cream)</td>\n      <td>(whole milk)</td>\n      <td>0.007442</td>\n      <td>0.458045</td>\n      <td>0.003849</td>\n      <td>0.517241</td>\n      <td>1.129238</td>\n      <td>0.000441</td>\n      <td>1.122622</td>\n      <td>2</td>\n      <td>1</td>\n    </tr>\n    <tr>\n      <th>3925</th>\n      <td>(yogurt, whipped/sour cream)</td>\n      <td>(whole milk)</td>\n      <td>0.047986</td>\n      <td>0.458045</td>\n      <td>0.027714</td>\n      <td>0.577540</td>\n      <td>1.260882</td>\n      <td>0.005734</td>\n      <td>1.282856</td>\n      <td>2</td>\n      <td>1</td>\n    </tr>\n    <tr>\n      <th>3926</th>\n      <td>(yogurt, white bread)</td>\n      <td>(whole milk)</td>\n      <td>0.028483</td>\n      <td>0.458045</td>\n      <td>0.016423</td>\n      <td>0.576577</td>\n      <td>1.258778</td>\n      <td>0.003376</td>\n      <td>1.279937</td>\n      <td>2</td>\n      <td>1</td>\n    </tr>\n    <tr>\n      <th>3927</th>\n      <td>(yogurt, white wine)</td>\n      <td>(whole milk)</td>\n      <td>0.016423</td>\n      <td>0.458045</td>\n      <td>0.009751</td>\n      <td>0.593750</td>\n      <td>1.296271</td>\n      <td>0.002229</td>\n      <td>1.334044</td>\n      <td>2</td>\n      <td>1</td>\n    </tr>\n    <tr>\n      <th>3928</th>\n      <td>(yogurt, zwieback)</td>\n      <td>(whole milk)</td>\n      <td>0.005645</td>\n      <td>0.458045</td>\n      <td>0.003593</td>\n      <td>0.636364</td>\n      <td>1.389305</td>\n      <td>0.001007</td>\n      <td>1.490377</td>\n      <td>2</td>\n      <td>1</td>\n    </tr>\n  </tbody>\n</table>\n<p>3929 rows × 11 columns</p>\n</div>"
     },
     "execution_count": 26,
     "metadata": {},
     "output_type": "execute_result"
    }
   ],
   "source": [
    "df[ant_select]"
   ],
   "metadata": {
    "collapsed": false,
    "pycharm": {
     "name": "#%%\n"
    }
   }
  },
  {
   "cell_type": "code",
   "execution_count": 27,
   "outputs": [
    {
     "data": {
      "text/plain": "(whole milk)          2080\n(other vegetables)     929\n(rolls/buns)           505\n(soda)                 217\n(yogurt)               113\n(tropical fruit)        24\n(root vegetables)       19\n(bottled water)         16\n(sausage)               11\n(citrus fruit)           6\n(pastry)                 5\n(pip fruit)              2\n(canned beer)            1\n(butter)                 1\nName: consequents, dtype: int64"
     },
     "execution_count": 27,
     "metadata": {},
     "output_type": "execute_result"
    }
   ],
   "source": [
    "df[ant_select]['consequents'].value_counts()"
   ],
   "metadata": {
    "collapsed": false,
    "pycharm": {
     "name": "#%%\n"
    }
   }
  },
  {
   "cell_type": "code",
   "execution_count": 28,
   "outputs": [],
   "source": [
    "con_select = df['consequent_len'] == 1"
   ],
   "metadata": {
    "collapsed": false,
    "pycharm": {
     "name": "#%%\n"
    }
   }
  },
  {
   "cell_type": "code",
   "execution_count": 29,
   "outputs": [
    {
     "data": {
      "text/plain": "                                             antecedents         consequents  \\\n0                                (instant food products)              (soda)   \n1                                (instant food products)        (whole milk)   \n2                                             (uht-milk)        (whole milk)   \n3                                     (abrasive cleaner)        (rolls/buns)   \n4                                     (artif. sweetener)  (other vegetables)   \n...                                                  ...                 ...   \n24247  (other vegetables, sausage, bottled water, rol...   (root vegetables)   \n24248  (root vegetables, other vegetables, sausage, b...              (soda)   \n24249  (root vegetables, other vegetables, sausage, r...     (bottled water)   \n24250  (root vegetables, other vegetables, sausage, b...        (rolls/buns)   \n24251  (root vegetables, sausage, bottled water, roll...  (other vegetables)   \n\n       antecedent support  consequent support   support  confidence      lift  \\\n0                0.015396            0.313318  0.007955    0.516667  1.649017   \n1                0.015396            0.458045  0.007955    0.516667  1.127983   \n2                0.078522            0.458045  0.040544    0.516340  1.127270   \n3                0.005645            0.349756  0.002823    0.500000  1.429567   \n4                0.007442            0.376700  0.003849    0.517241  1.373086   \n...                   ...                 ...       ...         ...       ...   \n24247            0.003849            0.230690  0.002566    0.666667  2.889878   \n24248            0.003336            0.313318  0.002566    0.769231  2.455112   \n24249            0.003336            0.213754  0.002566    0.769231  3.598670   \n24250            0.003336            0.349756  0.002566    0.769231  2.199334   \n24251            0.003079            0.376700  0.002566    0.833333  2.212193   \n\n       leverage  conviction  antecedent_len  consequent_len  \n0      0.003131    1.420722               1               1  \n1      0.000903    1.121287               1               1  \n2      0.004577    1.120529               1               1  \n3      0.000848    1.300488               1               1  \n4      0.001046    1.291121               1               1  \n...         ...         ...             ...             ...  \n24247  0.001678    2.307929               6               1  \n24248  0.001521    2.975622               6               1  \n24249  0.001853    3.407065               6               1  \n24250  0.001399    2.817723               6               1  \n24251  0.001406    3.739800               6               1  \n\n[24252 rows x 11 columns]",
      "text/html": "<div>\n<style scoped>\n    .dataframe tbody tr th:only-of-type {\n        vertical-align: middle;\n    }\n\n    .dataframe tbody tr th {\n        vertical-align: top;\n    }\n\n    .dataframe thead th {\n        text-align: right;\n    }\n</style>\n<table border=\"1\" class=\"dataframe\">\n  <thead>\n    <tr style=\"text-align: right;\">\n      <th></th>\n      <th>antecedents</th>\n      <th>consequents</th>\n      <th>antecedent support</th>\n      <th>consequent support</th>\n      <th>support</th>\n      <th>confidence</th>\n      <th>lift</th>\n      <th>leverage</th>\n      <th>conviction</th>\n      <th>antecedent_len</th>\n      <th>consequent_len</th>\n    </tr>\n  </thead>\n  <tbody>\n    <tr>\n      <th>0</th>\n      <td>(instant food products)</td>\n      <td>(soda)</td>\n      <td>0.015396</td>\n      <td>0.313318</td>\n      <td>0.007955</td>\n      <td>0.516667</td>\n      <td>1.649017</td>\n      <td>0.003131</td>\n      <td>1.420722</td>\n      <td>1</td>\n      <td>1</td>\n    </tr>\n    <tr>\n      <th>1</th>\n      <td>(instant food products)</td>\n      <td>(whole milk)</td>\n      <td>0.015396</td>\n      <td>0.458045</td>\n      <td>0.007955</td>\n      <td>0.516667</td>\n      <td>1.127983</td>\n      <td>0.000903</td>\n      <td>1.121287</td>\n      <td>1</td>\n      <td>1</td>\n    </tr>\n    <tr>\n      <th>2</th>\n      <td>(uht-milk)</td>\n      <td>(whole milk)</td>\n      <td>0.078522</td>\n      <td>0.458045</td>\n      <td>0.040544</td>\n      <td>0.516340</td>\n      <td>1.127270</td>\n      <td>0.004577</td>\n      <td>1.120529</td>\n      <td>1</td>\n      <td>1</td>\n    </tr>\n    <tr>\n      <th>3</th>\n      <td>(abrasive cleaner)</td>\n      <td>(rolls/buns)</td>\n      <td>0.005645</td>\n      <td>0.349756</td>\n      <td>0.002823</td>\n      <td>0.500000</td>\n      <td>1.429567</td>\n      <td>0.000848</td>\n      <td>1.300488</td>\n      <td>1</td>\n      <td>1</td>\n    </tr>\n    <tr>\n      <th>4</th>\n      <td>(artif. sweetener)</td>\n      <td>(other vegetables)</td>\n      <td>0.007442</td>\n      <td>0.376700</td>\n      <td>0.003849</td>\n      <td>0.517241</td>\n      <td>1.373086</td>\n      <td>0.001046</td>\n      <td>1.291121</td>\n      <td>1</td>\n      <td>1</td>\n    </tr>\n    <tr>\n      <th>...</th>\n      <td>...</td>\n      <td>...</td>\n      <td>...</td>\n      <td>...</td>\n      <td>...</td>\n      <td>...</td>\n      <td>...</td>\n      <td>...</td>\n      <td>...</td>\n      <td>...</td>\n      <td>...</td>\n    </tr>\n    <tr>\n      <th>24247</th>\n      <td>(other vegetables, sausage, bottled water, rol...</td>\n      <td>(root vegetables)</td>\n      <td>0.003849</td>\n      <td>0.230690</td>\n      <td>0.002566</td>\n      <td>0.666667</td>\n      <td>2.889878</td>\n      <td>0.001678</td>\n      <td>2.307929</td>\n      <td>6</td>\n      <td>1</td>\n    </tr>\n    <tr>\n      <th>24248</th>\n      <td>(root vegetables, other vegetables, sausage, b...</td>\n      <td>(soda)</td>\n      <td>0.003336</td>\n      <td>0.313318</td>\n      <td>0.002566</td>\n      <td>0.769231</td>\n      <td>2.455112</td>\n      <td>0.001521</td>\n      <td>2.975622</td>\n      <td>6</td>\n      <td>1</td>\n    </tr>\n    <tr>\n      <th>24249</th>\n      <td>(root vegetables, other vegetables, sausage, r...</td>\n      <td>(bottled water)</td>\n      <td>0.003336</td>\n      <td>0.213754</td>\n      <td>0.002566</td>\n      <td>0.769231</td>\n      <td>3.598670</td>\n      <td>0.001853</td>\n      <td>3.407065</td>\n      <td>6</td>\n      <td>1</td>\n    </tr>\n    <tr>\n      <th>24250</th>\n      <td>(root vegetables, other vegetables, sausage, b...</td>\n      <td>(rolls/buns)</td>\n      <td>0.003336</td>\n      <td>0.349756</td>\n      <td>0.002566</td>\n      <td>0.769231</td>\n      <td>2.199334</td>\n      <td>0.001399</td>\n      <td>2.817723</td>\n      <td>6</td>\n      <td>1</td>\n    </tr>\n    <tr>\n      <th>24251</th>\n      <td>(root vegetables, sausage, bottled water, roll...</td>\n      <td>(other vegetables)</td>\n      <td>0.003079</td>\n      <td>0.376700</td>\n      <td>0.002566</td>\n      <td>0.833333</td>\n      <td>2.212193</td>\n      <td>0.001406</td>\n      <td>3.739800</td>\n      <td>6</td>\n      <td>1</td>\n    </tr>\n  </tbody>\n</table>\n<p>24252 rows × 11 columns</p>\n</div>"
     },
     "execution_count": 29,
     "metadata": {},
     "output_type": "execute_result"
    }
   ],
   "source": [
    "df[con_select]"
   ],
   "metadata": {
    "collapsed": false,
    "pycharm": {
     "name": "#%%\n"
    }
   }
  },
  {
   "cell_type": "code",
   "execution_count": 30,
   "outputs": [
    {
     "data": {
      "text/plain": "                                             antecedents         consequents  \\\n0                                (instant food products)              (soda)   \n1                                (instant food products)        (whole milk)   \n2                                             (uht-milk)        (whole milk)   \n3                                     (abrasive cleaner)        (rolls/buns)   \n4                                     (artif. sweetener)  (other vegetables)   \n...                                                  ...                 ...   \n24247  (other vegetables, sausage, bottled water, rol...   (root vegetables)   \n24248  (root vegetables, other vegetables, sausage, b...              (soda)   \n24249  (root vegetables, other vegetables, sausage, r...     (bottled water)   \n24250  (root vegetables, other vegetables, sausage, b...        (rolls/buns)   \n24251  (root vegetables, sausage, bottled water, roll...  (other vegetables)   \n\n       antecedent support  consequent support   support  confidence      lift  \\\n0                0.015396            0.313318  0.007955    0.516667  1.649017   \n1                0.015396            0.458045  0.007955    0.516667  1.127983   \n2                0.078522            0.458045  0.040544    0.516340  1.127270   \n3                0.005645            0.349756  0.002823    0.500000  1.429567   \n4                0.007442            0.376700  0.003849    0.517241  1.373086   \n...                   ...                 ...       ...         ...       ...   \n24247            0.003849            0.230690  0.002566    0.666667  2.889878   \n24248            0.003336            0.313318  0.002566    0.769231  2.455112   \n24249            0.003336            0.213754  0.002566    0.769231  3.598670   \n24250            0.003336            0.349756  0.002566    0.769231  2.199334   \n24251            0.003079            0.376700  0.002566    0.833333  2.212193   \n\n       leverage  conviction  antecedent_len  consequent_len  \n0      0.003131    1.420722               1               1  \n1      0.000903    1.121287               1               1  \n2      0.004577    1.120529               1               1  \n3      0.000848    1.300488               1               1  \n4      0.001046    1.291121               1               1  \n...         ...         ...             ...             ...  \n24247  0.001678    2.307929               6               1  \n24248  0.001521    2.975622               6               1  \n24249  0.001853    3.407065               6               1  \n24250  0.001399    2.817723               6               1  \n24251  0.001406    3.739800               6               1  \n\n[24252 rows x 11 columns]",
      "text/html": "<div>\n<style scoped>\n    .dataframe tbody tr th:only-of-type {\n        vertical-align: middle;\n    }\n\n    .dataframe tbody tr th {\n        vertical-align: top;\n    }\n\n    .dataframe thead th {\n        text-align: right;\n    }\n</style>\n<table border=\"1\" class=\"dataframe\">\n  <thead>\n    <tr style=\"text-align: right;\">\n      <th></th>\n      <th>antecedents</th>\n      <th>consequents</th>\n      <th>antecedent support</th>\n      <th>consequent support</th>\n      <th>support</th>\n      <th>confidence</th>\n      <th>lift</th>\n      <th>leverage</th>\n      <th>conviction</th>\n      <th>antecedent_len</th>\n      <th>consequent_len</th>\n    </tr>\n  </thead>\n  <tbody>\n    <tr>\n      <th>0</th>\n      <td>(instant food products)</td>\n      <td>(soda)</td>\n      <td>0.015396</td>\n      <td>0.313318</td>\n      <td>0.007955</td>\n      <td>0.516667</td>\n      <td>1.649017</td>\n      <td>0.003131</td>\n      <td>1.420722</td>\n      <td>1</td>\n      <td>1</td>\n    </tr>\n    <tr>\n      <th>1</th>\n      <td>(instant food products)</td>\n      <td>(whole milk)</td>\n      <td>0.015396</td>\n      <td>0.458045</td>\n      <td>0.007955</td>\n      <td>0.516667</td>\n      <td>1.127983</td>\n      <td>0.000903</td>\n      <td>1.121287</td>\n      <td>1</td>\n      <td>1</td>\n    </tr>\n    <tr>\n      <th>2</th>\n      <td>(uht-milk)</td>\n      <td>(whole milk)</td>\n      <td>0.078522</td>\n      <td>0.458045</td>\n      <td>0.040544</td>\n      <td>0.516340</td>\n      <td>1.127270</td>\n      <td>0.004577</td>\n      <td>1.120529</td>\n      <td>1</td>\n      <td>1</td>\n    </tr>\n    <tr>\n      <th>3</th>\n      <td>(abrasive cleaner)</td>\n      <td>(rolls/buns)</td>\n      <td>0.005645</td>\n      <td>0.349756</td>\n      <td>0.002823</td>\n      <td>0.500000</td>\n      <td>1.429567</td>\n      <td>0.000848</td>\n      <td>1.300488</td>\n      <td>1</td>\n      <td>1</td>\n    </tr>\n    <tr>\n      <th>4</th>\n      <td>(artif. sweetener)</td>\n      <td>(other vegetables)</td>\n      <td>0.007442</td>\n      <td>0.376700</td>\n      <td>0.003849</td>\n      <td>0.517241</td>\n      <td>1.373086</td>\n      <td>0.001046</td>\n      <td>1.291121</td>\n      <td>1</td>\n      <td>1</td>\n    </tr>\n    <tr>\n      <th>...</th>\n      <td>...</td>\n      <td>...</td>\n      <td>...</td>\n      <td>...</td>\n      <td>...</td>\n      <td>...</td>\n      <td>...</td>\n      <td>...</td>\n      <td>...</td>\n      <td>...</td>\n      <td>...</td>\n    </tr>\n    <tr>\n      <th>24247</th>\n      <td>(other vegetables, sausage, bottled water, rol...</td>\n      <td>(root vegetables)</td>\n      <td>0.003849</td>\n      <td>0.230690</td>\n      <td>0.002566</td>\n      <td>0.666667</td>\n      <td>2.889878</td>\n      <td>0.001678</td>\n      <td>2.307929</td>\n      <td>6</td>\n      <td>1</td>\n    </tr>\n    <tr>\n      <th>24248</th>\n      <td>(root vegetables, other vegetables, sausage, b...</td>\n      <td>(soda)</td>\n      <td>0.003336</td>\n      <td>0.313318</td>\n      <td>0.002566</td>\n      <td>0.769231</td>\n      <td>2.455112</td>\n      <td>0.001521</td>\n      <td>2.975622</td>\n      <td>6</td>\n      <td>1</td>\n    </tr>\n    <tr>\n      <th>24249</th>\n      <td>(root vegetables, other vegetables, sausage, r...</td>\n      <td>(bottled water)</td>\n      <td>0.003336</td>\n      <td>0.213754</td>\n      <td>0.002566</td>\n      <td>0.769231</td>\n      <td>3.598670</td>\n      <td>0.001853</td>\n      <td>3.407065</td>\n      <td>6</td>\n      <td>1</td>\n    </tr>\n    <tr>\n      <th>24250</th>\n      <td>(root vegetables, other vegetables, sausage, b...</td>\n      <td>(rolls/buns)</td>\n      <td>0.003336</td>\n      <td>0.349756</td>\n      <td>0.002566</td>\n      <td>0.769231</td>\n      <td>2.199334</td>\n      <td>0.001399</td>\n      <td>2.817723</td>\n      <td>6</td>\n      <td>1</td>\n    </tr>\n    <tr>\n      <th>24251</th>\n      <td>(root vegetables, sausage, bottled water, roll...</td>\n      <td>(other vegetables)</td>\n      <td>0.003079</td>\n      <td>0.376700</td>\n      <td>0.002566</td>\n      <td>0.833333</td>\n      <td>2.212193</td>\n      <td>0.001406</td>\n      <td>3.739800</td>\n      <td>6</td>\n      <td>1</td>\n    </tr>\n  </tbody>\n</table>\n<p>24252 rows × 11 columns</p>\n</div>"
     },
     "execution_count": 30,
     "metadata": {},
     "output_type": "execute_result"
    }
   ],
   "source": [
    "df = df[con_select]\n",
    "df"
   ],
   "metadata": {
    "collapsed": false,
    "pycharm": {
     "name": "#%%\n"
    }
   }
  },
  {
   "cell_type": "code",
   "execution_count": 31,
   "outputs": [
    {
     "data": {
      "text/plain": "               antecedents         consequents  antecedent support  \\\n0  (instant food products)              (soda)            0.015396   \n1  (instant food products)        (whole milk)            0.015396   \n2               (uht-milk)        (whole milk)            0.078522   \n3       (abrasive cleaner)        (rolls/buns)            0.005645   \n4       (artif. sweetener)  (other vegetables)            0.007442   \n\n   consequent support   support  confidence      lift  leverage  conviction  \n0            0.313318  0.007955    0.516667  1.649017  0.003131    1.420722  \n1            0.458045  0.007955    0.516667  1.127983  0.000903    1.121287  \n2            0.458045  0.040544    0.516340  1.127270  0.004577    1.120529  \n3            0.349756  0.002823    0.500000  1.429567  0.000848    1.300488  \n4            0.376700  0.003849    0.517241  1.373086  0.001046    1.291121  ",
      "text/html": "<div>\n<style scoped>\n    .dataframe tbody tr th:only-of-type {\n        vertical-align: middle;\n    }\n\n    .dataframe tbody tr th {\n        vertical-align: top;\n    }\n\n    .dataframe thead th {\n        text-align: right;\n    }\n</style>\n<table border=\"1\" class=\"dataframe\">\n  <thead>\n    <tr style=\"text-align: right;\">\n      <th></th>\n      <th>antecedents</th>\n      <th>consequents</th>\n      <th>antecedent support</th>\n      <th>consequent support</th>\n      <th>support</th>\n      <th>confidence</th>\n      <th>lift</th>\n      <th>leverage</th>\n      <th>conviction</th>\n    </tr>\n  </thead>\n  <tbody>\n    <tr>\n      <th>0</th>\n      <td>(instant food products)</td>\n      <td>(soda)</td>\n      <td>0.015396</td>\n      <td>0.313318</td>\n      <td>0.007955</td>\n      <td>0.516667</td>\n      <td>1.649017</td>\n      <td>0.003131</td>\n      <td>1.420722</td>\n    </tr>\n    <tr>\n      <th>1</th>\n      <td>(instant food products)</td>\n      <td>(whole milk)</td>\n      <td>0.015396</td>\n      <td>0.458045</td>\n      <td>0.007955</td>\n      <td>0.516667</td>\n      <td>1.127983</td>\n      <td>0.000903</td>\n      <td>1.121287</td>\n    </tr>\n    <tr>\n      <th>2</th>\n      <td>(uht-milk)</td>\n      <td>(whole milk)</td>\n      <td>0.078522</td>\n      <td>0.458045</td>\n      <td>0.040544</td>\n      <td>0.516340</td>\n      <td>1.127270</td>\n      <td>0.004577</td>\n      <td>1.120529</td>\n    </tr>\n    <tr>\n      <th>3</th>\n      <td>(abrasive cleaner)</td>\n      <td>(rolls/buns)</td>\n      <td>0.005645</td>\n      <td>0.349756</td>\n      <td>0.002823</td>\n      <td>0.500000</td>\n      <td>1.429567</td>\n      <td>0.000848</td>\n      <td>1.300488</td>\n    </tr>\n    <tr>\n      <th>4</th>\n      <td>(artif. sweetener)</td>\n      <td>(other vegetables)</td>\n      <td>0.007442</td>\n      <td>0.376700</td>\n      <td>0.003849</td>\n      <td>0.517241</td>\n      <td>1.373086</td>\n      <td>0.001046</td>\n      <td>1.291121</td>\n    </tr>\n  </tbody>\n</table>\n</div>"
     },
     "execution_count": 31,
     "metadata": {},
     "output_type": "execute_result"
    }
   ],
   "source": [
    "df.drop(columns=['antecedent_len', 'consequent_len'], inplace=True)\n",
    "df.head()"
   ],
   "metadata": {
    "collapsed": false,
    "pycharm": {
     "name": "#%%\n"
    }
   }
  },
  {
   "cell_type": "code",
   "execution_count": 32,
   "outputs": [
    {
     "data": {
      "text/plain": "(whole milk)               10108\n(other vegetables)          5942\n(rolls/buns)                3672\n(soda)                      1894\n(yogurt)                    1519\n(root vegetables)            294\n(sausage)                    212\n(bottled water)              202\n(tropical fruit)             135\n(shopping bags)               64\n(citrus fruit)                42\n(pip fruit)                   30\n(pastry)                      28\n(canned beer)                 25\n(bottled beer)                18\n(brown bread)                 13\n(pork)                        12\n(frankfurter)                 11\n(whipped/sour cream)           9\n(newspapers)                   8\n(domestic eggs)                3\n(white bread)                  3\n(beef)                         2\n(dessert)                      2\n(butter)                       1\n(curd)                         1\n(fruit/vegetable juice)        1\n(margarine)                    1\nName: consequents, dtype: int64"
     },
     "execution_count": 32,
     "metadata": {},
     "output_type": "execute_result"
    }
   ],
   "source": [
    "df[con_select]['consequents'].value_counts()"
   ],
   "metadata": {
    "collapsed": false,
    "pycharm": {
     "name": "#%%\n"
    }
   }
  },
  {
   "cell_type": "code",
   "execution_count": 32,
   "outputs": [],
   "source": [],
   "metadata": {
    "collapsed": false,
    "pycharm": {
     "name": "#%%\n"
    }
   }
  },
  {
   "cell_type": "code",
   "execution_count": 33,
   "outputs": [],
   "source": [
    "final_rule = (con_select & ant_select)"
   ],
   "metadata": {
    "collapsed": false,
    "pycharm": {
     "name": "#%%\n"
    }
   }
  },
  {
   "cell_type": "code",
   "execution_count": 34,
   "outputs": [
    {
     "data": {
      "text/plain": "                                             antecedents         consequents  \\\n3929                  (uht-milk, other vegetables, beef)        (whole milk)   \n3930                        (uht-milk, whole milk, beef)  (other vegetables)   \n3931                         (uht-milk, beef, pip fruit)        (whole milk)   \n3932                        (uht-milk, rolls/buns, beef)        (whole milk)   \n3933             (uht-milk, bottled beer, bottled water)  (other vegetables)   \n...                                                  ...                 ...   \n24247  (other vegetables, sausage, bottled water, rol...   (root vegetables)   \n24248  (root vegetables, other vegetables, sausage, b...              (soda)   \n24249  (root vegetables, other vegetables, sausage, r...     (bottled water)   \n24250  (root vegetables, other vegetables, sausage, b...        (rolls/buns)   \n24251  (root vegetables, sausage, bottled water, roll...  (other vegetables)   \n\n       antecedent support  consequent support   support  confidence      lift  \\\n3929             0.004619            0.458045  0.003593    0.777778  1.698039   \n3930             0.006928            0.376700  0.003593    0.518519  1.376476   \n3931             0.003593            0.458045  0.002823    0.785714  1.715366   \n3932             0.004619            0.458045  0.003079    0.666667  1.455462   \n3933             0.003849            0.376700  0.002566    0.666667  1.769755   \n...                   ...                 ...       ...         ...       ...   \n24247            0.003849            0.230690  0.002566    0.666667  2.889878   \n24248            0.003336            0.313318  0.002566    0.769231  2.455112   \n24249            0.003336            0.213754  0.002566    0.769231  3.598670   \n24250            0.003336            0.349756  0.002566    0.769231  2.199334   \n24251            0.003079            0.376700  0.002566    0.833333  2.212193   \n\n       leverage  conviction  \n3929   0.001477    2.438799  \n3930   0.000983    1.294546  \n3931   0.001177    2.529125  \n3932   0.000964    1.625866  \n3933   0.001116    1.869900  \n...         ...         ...  \n24247  0.001678    2.307929  \n24248  0.001521    2.975622  \n24249  0.001853    3.407065  \n24250  0.001399    2.817723  \n24251  0.001406    3.739800  \n\n[20323 rows x 9 columns]",
      "text/html": "<div>\n<style scoped>\n    .dataframe tbody tr th:only-of-type {\n        vertical-align: middle;\n    }\n\n    .dataframe tbody tr th {\n        vertical-align: top;\n    }\n\n    .dataframe thead th {\n        text-align: right;\n    }\n</style>\n<table border=\"1\" class=\"dataframe\">\n  <thead>\n    <tr style=\"text-align: right;\">\n      <th></th>\n      <th>antecedents</th>\n      <th>consequents</th>\n      <th>antecedent support</th>\n      <th>consequent support</th>\n      <th>support</th>\n      <th>confidence</th>\n      <th>lift</th>\n      <th>leverage</th>\n      <th>conviction</th>\n    </tr>\n  </thead>\n  <tbody>\n    <tr>\n      <th>3929</th>\n      <td>(uht-milk, other vegetables, beef)</td>\n      <td>(whole milk)</td>\n      <td>0.004619</td>\n      <td>0.458045</td>\n      <td>0.003593</td>\n      <td>0.777778</td>\n      <td>1.698039</td>\n      <td>0.001477</td>\n      <td>2.438799</td>\n    </tr>\n    <tr>\n      <th>3930</th>\n      <td>(uht-milk, whole milk, beef)</td>\n      <td>(other vegetables)</td>\n      <td>0.006928</td>\n      <td>0.376700</td>\n      <td>0.003593</td>\n      <td>0.518519</td>\n      <td>1.376476</td>\n      <td>0.000983</td>\n      <td>1.294546</td>\n    </tr>\n    <tr>\n      <th>3931</th>\n      <td>(uht-milk, beef, pip fruit)</td>\n      <td>(whole milk)</td>\n      <td>0.003593</td>\n      <td>0.458045</td>\n      <td>0.002823</td>\n      <td>0.785714</td>\n      <td>1.715366</td>\n      <td>0.001177</td>\n      <td>2.529125</td>\n    </tr>\n    <tr>\n      <th>3932</th>\n      <td>(uht-milk, rolls/buns, beef)</td>\n      <td>(whole milk)</td>\n      <td>0.004619</td>\n      <td>0.458045</td>\n      <td>0.003079</td>\n      <td>0.666667</td>\n      <td>1.455462</td>\n      <td>0.000964</td>\n      <td>1.625866</td>\n    </tr>\n    <tr>\n      <th>3933</th>\n      <td>(uht-milk, bottled beer, bottled water)</td>\n      <td>(other vegetables)</td>\n      <td>0.003849</td>\n      <td>0.376700</td>\n      <td>0.002566</td>\n      <td>0.666667</td>\n      <td>1.769755</td>\n      <td>0.001116</td>\n      <td>1.869900</td>\n    </tr>\n    <tr>\n      <th>...</th>\n      <td>...</td>\n      <td>...</td>\n      <td>...</td>\n      <td>...</td>\n      <td>...</td>\n      <td>...</td>\n      <td>...</td>\n      <td>...</td>\n      <td>...</td>\n    </tr>\n    <tr>\n      <th>24247</th>\n      <td>(other vegetables, sausage, bottled water, rol...</td>\n      <td>(root vegetables)</td>\n      <td>0.003849</td>\n      <td>0.230690</td>\n      <td>0.002566</td>\n      <td>0.666667</td>\n      <td>2.889878</td>\n      <td>0.001678</td>\n      <td>2.307929</td>\n    </tr>\n    <tr>\n      <th>24248</th>\n      <td>(root vegetables, other vegetables, sausage, b...</td>\n      <td>(soda)</td>\n      <td>0.003336</td>\n      <td>0.313318</td>\n      <td>0.002566</td>\n      <td>0.769231</td>\n      <td>2.455112</td>\n      <td>0.001521</td>\n      <td>2.975622</td>\n    </tr>\n    <tr>\n      <th>24249</th>\n      <td>(root vegetables, other vegetables, sausage, r...</td>\n      <td>(bottled water)</td>\n      <td>0.003336</td>\n      <td>0.213754</td>\n      <td>0.002566</td>\n      <td>0.769231</td>\n      <td>3.598670</td>\n      <td>0.001853</td>\n      <td>3.407065</td>\n    </tr>\n    <tr>\n      <th>24250</th>\n      <td>(root vegetables, other vegetables, sausage, b...</td>\n      <td>(rolls/buns)</td>\n      <td>0.003336</td>\n      <td>0.349756</td>\n      <td>0.002566</td>\n      <td>0.769231</td>\n      <td>2.199334</td>\n      <td>0.001399</td>\n      <td>2.817723</td>\n    </tr>\n    <tr>\n      <th>24251</th>\n      <td>(root vegetables, sausage, bottled water, roll...</td>\n      <td>(other vegetables)</td>\n      <td>0.003079</td>\n      <td>0.376700</td>\n      <td>0.002566</td>\n      <td>0.833333</td>\n      <td>2.212193</td>\n      <td>0.001406</td>\n      <td>3.739800</td>\n    </tr>\n  </tbody>\n</table>\n<p>20323 rows × 9 columns</p>\n</div>"
     },
     "execution_count": 34,
     "metadata": {},
     "output_type": "execute_result"
    }
   ],
   "source": [
    "df.loc[ ~final_rule]"
   ],
   "metadata": {
    "collapsed": false,
    "pycharm": {
     "name": "#%%\n"
    }
   }
  },
  {
   "cell_type": "code",
   "execution_count": 35,
   "outputs": [],
   "source": [
    "df1 = df.loc[final_rule]"
   ],
   "metadata": {
    "collapsed": false,
    "pycharm": {
     "name": "#%%\n"
    }
   }
  },
  {
   "cell_type": "code",
   "execution_count": 36,
   "outputs": [
    {
     "data": {
      "text/plain": "               antecedents         consequents  antecedent support  \\\n0  (instant food products)              (soda)            0.015396   \n1  (instant food products)        (whole milk)            0.015396   \n2               (uht-milk)        (whole milk)            0.078522   \n3       (abrasive cleaner)        (rolls/buns)            0.005645   \n4       (artif. sweetener)  (other vegetables)            0.007442   \n\n   consequent support   support  confidence      lift  leverage  conviction  \n0            0.313318  0.007955    0.516667  1.649017  0.003131    1.420722  \n1            0.458045  0.007955    0.516667  1.127983  0.000903    1.121287  \n2            0.458045  0.040544    0.516340  1.127270  0.004577    1.120529  \n3            0.349756  0.002823    0.500000  1.429567  0.000848    1.300488  \n4            0.376700  0.003849    0.517241  1.373086  0.001046    1.291121  ",
      "text/html": "<div>\n<style scoped>\n    .dataframe tbody tr th:only-of-type {\n        vertical-align: middle;\n    }\n\n    .dataframe tbody tr th {\n        vertical-align: top;\n    }\n\n    .dataframe thead th {\n        text-align: right;\n    }\n</style>\n<table border=\"1\" class=\"dataframe\">\n  <thead>\n    <tr style=\"text-align: right;\">\n      <th></th>\n      <th>antecedents</th>\n      <th>consequents</th>\n      <th>antecedent support</th>\n      <th>consequent support</th>\n      <th>support</th>\n      <th>confidence</th>\n      <th>lift</th>\n      <th>leverage</th>\n      <th>conviction</th>\n    </tr>\n  </thead>\n  <tbody>\n    <tr>\n      <th>0</th>\n      <td>(instant food products)</td>\n      <td>(soda)</td>\n      <td>0.015396</td>\n      <td>0.313318</td>\n      <td>0.007955</td>\n      <td>0.516667</td>\n      <td>1.649017</td>\n      <td>0.003131</td>\n      <td>1.420722</td>\n    </tr>\n    <tr>\n      <th>1</th>\n      <td>(instant food products)</td>\n      <td>(whole milk)</td>\n      <td>0.015396</td>\n      <td>0.458045</td>\n      <td>0.007955</td>\n      <td>0.516667</td>\n      <td>1.127983</td>\n      <td>0.000903</td>\n      <td>1.121287</td>\n    </tr>\n    <tr>\n      <th>2</th>\n      <td>(uht-milk)</td>\n      <td>(whole milk)</td>\n      <td>0.078522</td>\n      <td>0.458045</td>\n      <td>0.040544</td>\n      <td>0.516340</td>\n      <td>1.127270</td>\n      <td>0.004577</td>\n      <td>1.120529</td>\n    </tr>\n    <tr>\n      <th>3</th>\n      <td>(abrasive cleaner)</td>\n      <td>(rolls/buns)</td>\n      <td>0.005645</td>\n      <td>0.349756</td>\n      <td>0.002823</td>\n      <td>0.500000</td>\n      <td>1.429567</td>\n      <td>0.000848</td>\n      <td>1.300488</td>\n    </tr>\n    <tr>\n      <th>4</th>\n      <td>(artif. sweetener)</td>\n      <td>(other vegetables)</td>\n      <td>0.007442</td>\n      <td>0.376700</td>\n      <td>0.003849</td>\n      <td>0.517241</td>\n      <td>1.373086</td>\n      <td>0.001046</td>\n      <td>1.291121</td>\n    </tr>\n  </tbody>\n</table>\n</div>"
     },
     "execution_count": 36,
     "metadata": {},
     "output_type": "execute_result"
    }
   ],
   "source": [
    "df1.head()"
   ],
   "metadata": {
    "collapsed": false,
    "pycharm": {
     "name": "#%%\n"
    }
   }
  },
  {
   "cell_type": "code",
   "execution_count": 37,
   "outputs": [
    {
     "data": {
      "text/plain": "                           antecedents         consequents  \\\n0              (instant food products)              (soda)   \n1              (instant food products)        (whole milk)   \n2                           (uht-milk)        (whole milk)   \n3                   (abrasive cleaner)        (rolls/buns)   \n4                   (artif. sweetener)  (other vegetables)   \n...                                ...                 ...   \n3924  (white wine, whipped/sour cream)        (whole milk)   \n3925      (yogurt, whipped/sour cream)        (whole milk)   \n3926             (yogurt, white bread)        (whole milk)   \n3927              (yogurt, white wine)        (whole milk)   \n3928                (yogurt, zwieback)        (whole milk)   \n\n      antecedent support  consequent support   support  confidence      lift  \\\n0               0.015396            0.313318  0.007955    0.516667  1.649017   \n1               0.015396            0.458045  0.007955    0.516667  1.127983   \n2               0.078522            0.458045  0.040544    0.516340  1.127270   \n3               0.005645            0.349756  0.002823    0.500000  1.429567   \n4               0.007442            0.376700  0.003849    0.517241  1.373086   \n...                  ...                 ...       ...         ...       ...   \n3924            0.007442            0.458045  0.003849    0.517241  1.129238   \n3925            0.047986            0.458045  0.027714    0.577540  1.260882   \n3926            0.028483            0.458045  0.016423    0.576577  1.258778   \n3927            0.016423            0.458045  0.009751    0.593750  1.296271   \n3928            0.005645            0.458045  0.003593    0.636364  1.389305   \n\n      leverage  conviction  \n0     0.003131    1.420722  \n1     0.000903    1.121287  \n2     0.004577    1.120529  \n3     0.000848    1.300488  \n4     0.001046    1.291121  \n...        ...         ...  \n3924  0.000441    1.122622  \n3925  0.005734    1.282856  \n3926  0.003376    1.279937  \n3927  0.002229    1.334044  \n3928  0.001007    1.490377  \n\n[3929 rows x 9 columns]",
      "text/html": "<div>\n<style scoped>\n    .dataframe tbody tr th:only-of-type {\n        vertical-align: middle;\n    }\n\n    .dataframe tbody tr th {\n        vertical-align: top;\n    }\n\n    .dataframe thead th {\n        text-align: right;\n    }\n</style>\n<table border=\"1\" class=\"dataframe\">\n  <thead>\n    <tr style=\"text-align: right;\">\n      <th></th>\n      <th>antecedents</th>\n      <th>consequents</th>\n      <th>antecedent support</th>\n      <th>consequent support</th>\n      <th>support</th>\n      <th>confidence</th>\n      <th>lift</th>\n      <th>leverage</th>\n      <th>conviction</th>\n    </tr>\n  </thead>\n  <tbody>\n    <tr>\n      <th>0</th>\n      <td>(instant food products)</td>\n      <td>(soda)</td>\n      <td>0.015396</td>\n      <td>0.313318</td>\n      <td>0.007955</td>\n      <td>0.516667</td>\n      <td>1.649017</td>\n      <td>0.003131</td>\n      <td>1.420722</td>\n    </tr>\n    <tr>\n      <th>1</th>\n      <td>(instant food products)</td>\n      <td>(whole milk)</td>\n      <td>0.015396</td>\n      <td>0.458045</td>\n      <td>0.007955</td>\n      <td>0.516667</td>\n      <td>1.127983</td>\n      <td>0.000903</td>\n      <td>1.121287</td>\n    </tr>\n    <tr>\n      <th>2</th>\n      <td>(uht-milk)</td>\n      <td>(whole milk)</td>\n      <td>0.078522</td>\n      <td>0.458045</td>\n      <td>0.040544</td>\n      <td>0.516340</td>\n      <td>1.127270</td>\n      <td>0.004577</td>\n      <td>1.120529</td>\n    </tr>\n    <tr>\n      <th>3</th>\n      <td>(abrasive cleaner)</td>\n      <td>(rolls/buns)</td>\n      <td>0.005645</td>\n      <td>0.349756</td>\n      <td>0.002823</td>\n      <td>0.500000</td>\n      <td>1.429567</td>\n      <td>0.000848</td>\n      <td>1.300488</td>\n    </tr>\n    <tr>\n      <th>4</th>\n      <td>(artif. sweetener)</td>\n      <td>(other vegetables)</td>\n      <td>0.007442</td>\n      <td>0.376700</td>\n      <td>0.003849</td>\n      <td>0.517241</td>\n      <td>1.373086</td>\n      <td>0.001046</td>\n      <td>1.291121</td>\n    </tr>\n    <tr>\n      <th>...</th>\n      <td>...</td>\n      <td>...</td>\n      <td>...</td>\n      <td>...</td>\n      <td>...</td>\n      <td>...</td>\n      <td>...</td>\n      <td>...</td>\n      <td>...</td>\n    </tr>\n    <tr>\n      <th>3924</th>\n      <td>(white wine, whipped/sour cream)</td>\n      <td>(whole milk)</td>\n      <td>0.007442</td>\n      <td>0.458045</td>\n      <td>0.003849</td>\n      <td>0.517241</td>\n      <td>1.129238</td>\n      <td>0.000441</td>\n      <td>1.122622</td>\n    </tr>\n    <tr>\n      <th>3925</th>\n      <td>(yogurt, whipped/sour cream)</td>\n      <td>(whole milk)</td>\n      <td>0.047986</td>\n      <td>0.458045</td>\n      <td>0.027714</td>\n      <td>0.577540</td>\n      <td>1.260882</td>\n      <td>0.005734</td>\n      <td>1.282856</td>\n    </tr>\n    <tr>\n      <th>3926</th>\n      <td>(yogurt, white bread)</td>\n      <td>(whole milk)</td>\n      <td>0.028483</td>\n      <td>0.458045</td>\n      <td>0.016423</td>\n      <td>0.576577</td>\n      <td>1.258778</td>\n      <td>0.003376</td>\n      <td>1.279937</td>\n    </tr>\n    <tr>\n      <th>3927</th>\n      <td>(yogurt, white wine)</td>\n      <td>(whole milk)</td>\n      <td>0.016423</td>\n      <td>0.458045</td>\n      <td>0.009751</td>\n      <td>0.593750</td>\n      <td>1.296271</td>\n      <td>0.002229</td>\n      <td>1.334044</td>\n    </tr>\n    <tr>\n      <th>3928</th>\n      <td>(yogurt, zwieback)</td>\n      <td>(whole milk)</td>\n      <td>0.005645</td>\n      <td>0.458045</td>\n      <td>0.003593</td>\n      <td>0.636364</td>\n      <td>1.389305</td>\n      <td>0.001007</td>\n      <td>1.490377</td>\n    </tr>\n  </tbody>\n</table>\n<p>3929 rows × 9 columns</p>\n</div>"
     },
     "execution_count": 37,
     "metadata": {},
     "output_type": "execute_result"
    }
   ],
   "source": [
    "df1"
   ],
   "metadata": {
    "collapsed": false,
    "pycharm": {
     "name": "#%%\n"
    }
   }
  },
  {
   "cell_type": "code",
   "execution_count": 38,
   "outputs": [
    {
     "data": {
      "text/plain": "(whole milk)          2080\n(other vegetables)     929\n(rolls/buns)           505\n(soda)                 217\n(yogurt)               113\n(tropical fruit)        24\n(root vegetables)       19\n(bottled water)         16\n(sausage)               11\n(citrus fruit)           6\n(pastry)                 5\n(pip fruit)              2\n(canned beer)            1\n(butter)                 1\nName: consequents, dtype: int64"
     },
     "execution_count": 38,
     "metadata": {},
     "output_type": "execute_result"
    }
   ],
   "source": [
    "df1['consequents'].value_counts()"
   ],
   "metadata": {
    "collapsed": false,
    "pycharm": {
     "name": "#%%\n"
    }
   }
  },
  {
   "cell_type": "code",
   "execution_count": 39,
   "outputs": [
    {
     "data": {
      "text/plain": "               antecedents         consequents  antecedent support  \\\n0  (instant food products)              (soda)            0.015396   \n1  (instant food products)        (whole milk)            0.015396   \n2               (uht-milk)        (whole milk)            0.078522   \n3       (abrasive cleaner)        (rolls/buns)            0.005645   \n4       (artif. sweetener)  (other vegetables)            0.007442   \n\n   consequent support   support  confidence      lift  leverage  conviction  \n0            0.313318  0.007955    0.516667  1.649017  0.003131    1.420722  \n1            0.458045  0.007955    0.516667  1.127983  0.000903    1.121287  \n2            0.458045  0.040544    0.516340  1.127270  0.004577    1.120529  \n3            0.349756  0.002823    0.500000  1.429567  0.000848    1.300488  \n4            0.376700  0.003849    0.517241  1.373086  0.001046    1.291121  ",
      "text/html": "<div>\n<style scoped>\n    .dataframe tbody tr th:only-of-type {\n        vertical-align: middle;\n    }\n\n    .dataframe tbody tr th {\n        vertical-align: top;\n    }\n\n    .dataframe thead th {\n        text-align: right;\n    }\n</style>\n<table border=\"1\" class=\"dataframe\">\n  <thead>\n    <tr style=\"text-align: right;\">\n      <th></th>\n      <th>antecedents</th>\n      <th>consequents</th>\n      <th>antecedent support</th>\n      <th>consequent support</th>\n      <th>support</th>\n      <th>confidence</th>\n      <th>lift</th>\n      <th>leverage</th>\n      <th>conviction</th>\n    </tr>\n  </thead>\n  <tbody>\n    <tr>\n      <th>0</th>\n      <td>(instant food products)</td>\n      <td>(soda)</td>\n      <td>0.015396</td>\n      <td>0.313318</td>\n      <td>0.007955</td>\n      <td>0.516667</td>\n      <td>1.649017</td>\n      <td>0.003131</td>\n      <td>1.420722</td>\n    </tr>\n    <tr>\n      <th>1</th>\n      <td>(instant food products)</td>\n      <td>(whole milk)</td>\n      <td>0.015396</td>\n      <td>0.458045</td>\n      <td>0.007955</td>\n      <td>0.516667</td>\n      <td>1.127983</td>\n      <td>0.000903</td>\n      <td>1.121287</td>\n    </tr>\n    <tr>\n      <th>2</th>\n      <td>(uht-milk)</td>\n      <td>(whole milk)</td>\n      <td>0.078522</td>\n      <td>0.458045</td>\n      <td>0.040544</td>\n      <td>0.516340</td>\n      <td>1.127270</td>\n      <td>0.004577</td>\n      <td>1.120529</td>\n    </tr>\n    <tr>\n      <th>3</th>\n      <td>(abrasive cleaner)</td>\n      <td>(rolls/buns)</td>\n      <td>0.005645</td>\n      <td>0.349756</td>\n      <td>0.002823</td>\n      <td>0.500000</td>\n      <td>1.429567</td>\n      <td>0.000848</td>\n      <td>1.300488</td>\n    </tr>\n    <tr>\n      <th>4</th>\n      <td>(artif. sweetener)</td>\n      <td>(other vegetables)</td>\n      <td>0.007442</td>\n      <td>0.376700</td>\n      <td>0.003849</td>\n      <td>0.517241</td>\n      <td>1.373086</td>\n      <td>0.001046</td>\n      <td>1.291121</td>\n    </tr>\n  </tbody>\n</table>\n</div>"
     },
     "execution_count": 39,
     "metadata": {},
     "output_type": "execute_result"
    }
   ],
   "source": [
    "df.head()"
   ],
   "metadata": {
    "collapsed": false,
    "pycharm": {
     "name": "#%%\n"
    }
   }
  },
  {
   "cell_type": "code",
   "execution_count": 40,
   "outputs": [],
   "source": [
    "df.to_csv('Data/master_rules.csv', index=False)"
   ],
   "metadata": {
    "collapsed": false,
    "pycharm": {
     "name": "#%%\n"
    }
   }
  },
  {
   "cell_type": "code",
   "execution_count": 41,
   "outputs": [
    {
     "name": "stdout",
     "output_type": "stream",
     "text": [
      "DONE\n"
     ]
    }
   ],
   "source": [
    "print(\"DONE\")"
   ],
   "metadata": {
    "collapsed": false,
    "pycharm": {
     "name": "#%%\n"
    }
   }
  },
  {
   "cell_type": "code",
   "execution_count": 41,
   "outputs": [],
   "source": [],
   "metadata": {
    "collapsed": false,
    "pycharm": {
     "name": "#%%\n"
    }
   }
  }
 ],
 "metadata": {
  "kernelspec": {
   "display_name": "Python 3",
   "language": "python",
   "name": "python3"
  },
  "language_info": {
   "codemirror_mode": {
    "name": "ipython",
    "version": 2
   },
   "file_extension": ".py",
   "mimetype": "text/x-python",
   "name": "python",
   "nbconvert_exporter": "python",
   "pygments_lexer": "ipython2",
   "version": "2.7.6"
  }
 },
 "nbformat": 4,
 "nbformat_minor": 0
}