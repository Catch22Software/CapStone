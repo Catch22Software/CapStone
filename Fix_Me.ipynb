{
 "cells": [
  {
   "cell_type": "code",
   "execution_count": 174,
   "metadata": {
    "collapsed": true
   },
   "outputs": [],
   "source": [
    "import copy\n",
    "\n",
    "import pandas as pd\n",
    "import numpy as np\n",
    "import more_itertools\n",
    "import csv\n",
    "import random\n",
    "import itertools\n",
    "pd.options.mode.chained_assignment = None  # default = 'warn'"
   ]
  },
  {
   "cell_type": "code",
   "execution_count": 74,
   "outputs": [
    {
     "data": {
      "text/plain": "             antecedents       consequents  antecedent support  \\\n0  Instant food products              soda            0.015396   \n1  Instant food products        whole milk            0.015396   \n2               UHT-milk        whole milk            0.078522   \n3       abrasive cleaner        rolls/buns            0.005645   \n4       artif. sweetener  other vegetables            0.007442   \n\n   consequent support   support  confidence      lift  leverage  conviction  \n0            0.313318  0.007955    0.516667  1.649017  0.003131    1.420722  \n1            0.458045  0.007955    0.516667  1.127983  0.000903    1.121287  \n2            0.458045  0.040544    0.516340  1.127270  0.004577    1.120529  \n3            0.349756  0.002823    0.500000  1.429567  0.000848    1.300488  \n4            0.376700  0.003849    0.517241  1.373086  0.001046    1.291121  ",
      "text/html": "<div>\n<style scoped>\n    .dataframe tbody tr th:only-of-type {\n        vertical-align: middle;\n    }\n\n    .dataframe tbody tr th {\n        vertical-align: top;\n    }\n\n    .dataframe thead th {\n        text-align: right;\n    }\n</style>\n<table border=\"1\" class=\"dataframe\">\n  <thead>\n    <tr style=\"text-align: right;\">\n      <th></th>\n      <th>antecedents</th>\n      <th>consequents</th>\n      <th>antecedent support</th>\n      <th>consequent support</th>\n      <th>support</th>\n      <th>confidence</th>\n      <th>lift</th>\n      <th>leverage</th>\n      <th>conviction</th>\n    </tr>\n  </thead>\n  <tbody>\n    <tr>\n      <th>0</th>\n      <td>Instant food products</td>\n      <td>soda</td>\n      <td>0.015396</td>\n      <td>0.313318</td>\n      <td>0.007955</td>\n      <td>0.516667</td>\n      <td>1.649017</td>\n      <td>0.003131</td>\n      <td>1.420722</td>\n    </tr>\n    <tr>\n      <th>1</th>\n      <td>Instant food products</td>\n      <td>whole milk</td>\n      <td>0.015396</td>\n      <td>0.458045</td>\n      <td>0.007955</td>\n      <td>0.516667</td>\n      <td>1.127983</td>\n      <td>0.000903</td>\n      <td>1.121287</td>\n    </tr>\n    <tr>\n      <th>2</th>\n      <td>UHT-milk</td>\n      <td>whole milk</td>\n      <td>0.078522</td>\n      <td>0.458045</td>\n      <td>0.040544</td>\n      <td>0.516340</td>\n      <td>1.127270</td>\n      <td>0.004577</td>\n      <td>1.120529</td>\n    </tr>\n    <tr>\n      <th>3</th>\n      <td>abrasive cleaner</td>\n      <td>rolls/buns</td>\n      <td>0.005645</td>\n      <td>0.349756</td>\n      <td>0.002823</td>\n      <td>0.500000</td>\n      <td>1.429567</td>\n      <td>0.000848</td>\n      <td>1.300488</td>\n    </tr>\n    <tr>\n      <th>4</th>\n      <td>artif. sweetener</td>\n      <td>other vegetables</td>\n      <td>0.007442</td>\n      <td>0.376700</td>\n      <td>0.003849</td>\n      <td>0.517241</td>\n      <td>1.373086</td>\n      <td>0.001046</td>\n      <td>1.291121</td>\n    </tr>\n  </tbody>\n</table>\n</div>"
     },
     "execution_count": 74,
     "metadata": {},
     "output_type": "execute_result"
    }
   ],
   "source": [
    "product_rules = pd.read_csv('Data/master_rules.csv')\n",
    "# product_rules.drop(columns=['Unnamed: 0'], inplace=True)\n",
    "product_rules.head()"
   ],
   "metadata": {
    "collapsed": false,
    "pycharm": {
     "name": "#%%\n"
    }
   }
  },
  {
   "cell_type": "code",
   "execution_count": 160,
   "outputs": [],
   "source": [
    "with open('Data/names.csv') as f:\n",
    "    read = csv.reader(f)\n",
    "    names = list(read)"
   ],
   "metadata": {
    "collapsed": false,
    "pycharm": {
     "name": "#%%\n"
    }
   }
  },
  {
   "cell_type": "code",
   "execution_count": 161,
   "outputs": [
    {
     "name": "stdout",
     "output_type": "stream",
     "text": [
      "[['Instant food products', 'UHT-milk', 'abrasive cleaner', 'artif. sweetener', 'baby cosmetics', 'bags', 'baking powder', 'bathroom cleaner', 'beef', 'berries', 'beverages', 'bottled beer', 'bottled water', 'brandy', 'brown bread', 'butter', 'butter milk', 'cake bar', 'candles', 'candy', 'canned beer', 'canned fish', 'canned fruit', 'canned vegetables', 'cat food', 'cereals', 'chewing gum', 'chicken', 'chocolate', 'chocolate marshmallow', 'citrus fruit', 'cleaner', 'cling film/bags', 'cocoa drinks', 'coffee', 'condensed milk', 'cooking chocolate', 'cookware', 'cream', 'cream cheese ', 'curd', 'curd cheese', 'decalcifier', 'dental care', 'dessert', 'detergent', 'dish cleaner', 'dishes', 'dog food', 'domestic eggs', 'female sanitary products', 'finished products', 'fish', 'flour', 'flower (seeds)', 'flower soil/fertilizer', 'frankfurter', 'frozen chicken', 'frozen dessert', 'frozen fish', 'frozen fruits', 'frozen meals', 'frozen potato products', 'frozen vegetables', 'fruit/vegetable juice', 'grapes', 'hair spray', 'ham', 'hamburger meat', 'hard cheese', 'herbs', 'honey', 'house keeping products', 'hygiene articles', 'ice cream', 'instant coffee', 'jam', 'ketchup', 'kitchen towels', 'kitchen utensil', 'light bulbs', 'liqueur', 'liquor', 'liquor (appetizer)', 'liver loaf', 'long life bakery product', 'make up remover', 'male cosmetics', 'margarine', 'mayonnaise', 'meat', 'meat spreads', 'misc. beverages', 'mustard', 'napkins', 'newspapers', 'nut snack', 'nuts/prunes', 'oil', 'onions', 'organic products', 'organic sausage', 'other vegetables', 'packaged fruit/vegetables', 'pasta', 'pastry', 'pet care', 'photo/film', 'pickled vegetables', 'pip fruit', 'popcorn', 'pork', 'pot plants', 'potato products', 'preservation products', 'processed cheese', 'prosecco', 'pudding powder', 'ready soups', 'red/blush wine', 'rice', 'roll products ', 'rolls/buns', 'root vegetables', 'rubbing alcohol', 'rum', 'salad dressing', 'salt', 'salty snack', 'sauces', 'sausage', 'seasonal products', 'semi-finished bread', 'shopping bags', 'skin care', 'sliced cheese', 'snack products', 'soap', 'soda', 'soft cheese', 'softener', 'soups', 'sparkling wine', 'specialty bar', 'specialty cheese', 'specialty chocolate', 'specialty fat', 'specialty vegetables', 'spices', 'spread cheese', 'sugar', 'sweet spreads', 'syrup', 'tea', 'tidbits', 'toilet cleaner', 'tropical fruit', 'turkey', 'vinegar', 'waffles', 'whipped/sour cream', 'whisky', 'white bread', 'white wine', 'whole milk', 'yogurt', 'zwieback']]\n"
     ]
    }
   ],
   "source": [
    "print(names)"
   ],
   "metadata": {
    "collapsed": false,
    "pycharm": {
     "name": "#%%\n"
    }
   }
  },
  {
   "cell_type": "code",
   "execution_count": 163,
   "outputs": [
    {
     "name": "stdout",
     "output_type": "stream",
     "text": [
      "167\n"
     ]
    }
   ],
   "source": [
    "print(len(names[0]))"
   ],
   "metadata": {
    "collapsed": false,
    "pycharm": {
     "name": "#%%\n"
    }
   }
  },
  {
   "cell_type": "code",
   "execution_count": 75,
   "outputs": [
    {
     "data": {
      "text/plain": "antecedents            object\nconsequents            object\nantecedent support    float64\nconsequent support    float64\nsupport               float64\nconfidence            float64\nlift                  float64\nleverage              float64\nconviction            float64\ndtype: object"
     },
     "execution_count": 75,
     "metadata": {},
     "output_type": "execute_result"
    }
   ],
   "source": [
    "product_rules.dtypes"
   ],
   "metadata": {
    "collapsed": false,
    "pycharm": {
     "name": "#%%\n"
    }
   }
  },
  {
   "cell_type": "code",
   "execution_count": 88,
   "outputs": [
    {
     "name": "stdout",
     "output_type": "stream",
     "text": [
      "Instant food products\n",
      "UHT-milk, curd\n"
     ]
    }
   ],
   "source": [
    "test = product_rules['antecedents'].iloc[0]\n",
    "print(test)\n",
    "test1 = product_rules['antecedents'].iloc[167]\n",
    "print(test1)"
   ],
   "metadata": {
    "collapsed": false,
    "pycharm": {
     "name": "#%%\n"
    }
   }
  },
  {
   "cell_type": "code",
   "execution_count": 89,
   "outputs": [],
   "source": [
    "def change_format(x):\n",
    "    delim = ','\n",
    "    return frozenset(x.split(delim))"
   ],
   "metadata": {
    "collapsed": false,
    "pycharm": {
     "name": "#%%\n"
    }
   }
  },
  {
   "cell_type": "code",
   "execution_count": 90,
   "outputs": [
    {
     "name": "stdout",
     "output_type": "stream",
     "text": [
      "frozenset({'Instant food products'})\n",
      "<class 'frozenset'>\n",
      "frozenset({' curd', 'UHT-milk'})\n",
      "<class 'frozenset'>\n"
     ]
    }
   ],
   "source": [
    "test = change_format(test)\n",
    "print(test)\n",
    "print(type(test))\n",
    "test1 = change_format(test1)\n",
    "print(test1)\n",
    "print(type(test1))"
   ],
   "metadata": {
    "collapsed": false,
    "pycharm": {
     "name": "#%%\n"
    }
   }
  },
  {
   "cell_type": "code",
   "execution_count": 91,
   "outputs": [
    {
     "data": {
      "text/plain": "               antecedents         consequents  antecedent support  \\\n0  (Instant food products)              (soda)            0.015396   \n1  (Instant food products)        (whole milk)            0.015396   \n2               (UHT-milk)        (whole milk)            0.078522   \n3       (abrasive cleaner)        (rolls/buns)            0.005645   \n4       (artif. sweetener)  (other vegetables)            0.007442   \n\n   consequent support   support  confidence      lift  leverage  conviction  \n0            0.313318  0.007955    0.516667  1.649017  0.003131    1.420722  \n1            0.458045  0.007955    0.516667  1.127983  0.000903    1.121287  \n2            0.458045  0.040544    0.516340  1.127270  0.004577    1.120529  \n3            0.349756  0.002823    0.500000  1.429567  0.000848    1.300488  \n4            0.376700  0.003849    0.517241  1.373086  0.001046    1.291121  ",
      "text/html": "<div>\n<style scoped>\n    .dataframe tbody tr th:only-of-type {\n        vertical-align: middle;\n    }\n\n    .dataframe tbody tr th {\n        vertical-align: top;\n    }\n\n    .dataframe thead th {\n        text-align: right;\n    }\n</style>\n<table border=\"1\" class=\"dataframe\">\n  <thead>\n    <tr style=\"text-align: right;\">\n      <th></th>\n      <th>antecedents</th>\n      <th>consequents</th>\n      <th>antecedent support</th>\n      <th>consequent support</th>\n      <th>support</th>\n      <th>confidence</th>\n      <th>lift</th>\n      <th>leverage</th>\n      <th>conviction</th>\n    </tr>\n  </thead>\n  <tbody>\n    <tr>\n      <th>0</th>\n      <td>(Instant food products)</td>\n      <td>(soda)</td>\n      <td>0.015396</td>\n      <td>0.313318</td>\n      <td>0.007955</td>\n      <td>0.516667</td>\n      <td>1.649017</td>\n      <td>0.003131</td>\n      <td>1.420722</td>\n    </tr>\n    <tr>\n      <th>1</th>\n      <td>(Instant food products)</td>\n      <td>(whole milk)</td>\n      <td>0.015396</td>\n      <td>0.458045</td>\n      <td>0.007955</td>\n      <td>0.516667</td>\n      <td>1.127983</td>\n      <td>0.000903</td>\n      <td>1.121287</td>\n    </tr>\n    <tr>\n      <th>2</th>\n      <td>(UHT-milk)</td>\n      <td>(whole milk)</td>\n      <td>0.078522</td>\n      <td>0.458045</td>\n      <td>0.040544</td>\n      <td>0.516340</td>\n      <td>1.127270</td>\n      <td>0.004577</td>\n      <td>1.120529</td>\n    </tr>\n    <tr>\n      <th>3</th>\n      <td>(abrasive cleaner)</td>\n      <td>(rolls/buns)</td>\n      <td>0.005645</td>\n      <td>0.349756</td>\n      <td>0.002823</td>\n      <td>0.500000</td>\n      <td>1.429567</td>\n      <td>0.000848</td>\n      <td>1.300488</td>\n    </tr>\n    <tr>\n      <th>4</th>\n      <td>(artif. sweetener)</td>\n      <td>(other vegetables)</td>\n      <td>0.007442</td>\n      <td>0.376700</td>\n      <td>0.003849</td>\n      <td>0.517241</td>\n      <td>1.373086</td>\n      <td>0.001046</td>\n      <td>1.291121</td>\n    </tr>\n  </tbody>\n</table>\n</div>"
     },
     "execution_count": 91,
     "metadata": {},
     "output_type": "execute_result"
    }
   ],
   "source": [
    "product_rules['antecedents'] = product_rules['antecedents'].apply(change_format)\n",
    "product_rules['consequents'] = product_rules['consequents'].apply(change_format)\n",
    "product_rules.head()"
   ],
   "metadata": {
    "collapsed": false,
    "pycharm": {
     "name": "#%%\n"
    }
   }
  },
  {
   "cell_type": "code",
   "execution_count": 92,
   "outputs": [
    {
     "data": {
      "text/plain": "                                             antecedents  \\\n0                                (Instant food products)   \n1                                (Instant food products)   \n2                                             (UHT-milk)   \n3                                     (abrasive cleaner)   \n4                                     (artif. sweetener)   \n...                                                  ...   \n24689  ( root vegetables,  soda, other vegetables,  s...   \n24690  ( root vegetables, other vegetables,  sausage,...   \n24691  (rolls/buns,  root vegetables,  soda,  sausage...   \n24692  (rolls/buns,  root vegetables,  sausage,  whol...   \n24693  ( root vegetables, bottled water,  soda,  saus...   \n\n                           consequents  antecedent support  \\\n0                               (soda)            0.015396   \n1                         (whole milk)            0.015396   \n2                         (whole milk)            0.078522   \n3                         (rolls/buns)            0.005645   \n4                   (other vegetables)            0.007442   \n...                                ...                 ...   \n24689        ( rolls/buns, whole milk)            0.004876   \n24690              (soda,  rolls/buns)            0.004876   \n24691  ( other vegetables, whole milk)            0.004106   \n24692        (soda,  other vegetables)            0.004362   \n24693  ( rolls/buns, other vegetables)            0.005132   \n\n       consequent support   support  confidence      lift  leverage  \\\n0                0.313318  0.007955    0.516667  1.649017  0.003131   \n1                0.458045  0.007955    0.516667  1.127983  0.000903   \n2                0.458045  0.040544    0.516340  1.127270  0.004577   \n3                0.349756  0.002823    0.500000  1.429567  0.000848   \n4                0.376700  0.003849    0.517241  1.373086  0.001046   \n...                   ...       ...         ...       ...       ...   \n24689            0.178599  0.002566    0.526316  2.946915  0.001695   \n24690            0.119836  0.002566    0.526316  4.391976  0.001982   \n24691            0.191429  0.002566    0.625000  3.264913  0.001780   \n24692            0.124198  0.002566    0.588235  4.736266  0.002024   \n24693            0.146780  0.002566    0.500000  3.406469  0.001813   \n\n       conviction  \n0        1.420722  \n1        1.121287  \n2        1.120529  \n3        1.300488  \n4        1.291121  \n...           ...  \n24689    1.734069  \n24690    1.858124  \n24691    2.156189  \n24692    2.126947  \n24693    1.706441  \n\n[24694 rows x 9 columns]",
      "text/html": "<div>\n<style scoped>\n    .dataframe tbody tr th:only-of-type {\n        vertical-align: middle;\n    }\n\n    .dataframe tbody tr th {\n        vertical-align: top;\n    }\n\n    .dataframe thead th {\n        text-align: right;\n    }\n</style>\n<table border=\"1\" class=\"dataframe\">\n  <thead>\n    <tr style=\"text-align: right;\">\n      <th></th>\n      <th>antecedents</th>\n      <th>consequents</th>\n      <th>antecedent support</th>\n      <th>consequent support</th>\n      <th>support</th>\n      <th>confidence</th>\n      <th>lift</th>\n      <th>leverage</th>\n      <th>conviction</th>\n    </tr>\n  </thead>\n  <tbody>\n    <tr>\n      <th>0</th>\n      <td>(Instant food products)</td>\n      <td>(soda)</td>\n      <td>0.015396</td>\n      <td>0.313318</td>\n      <td>0.007955</td>\n      <td>0.516667</td>\n      <td>1.649017</td>\n      <td>0.003131</td>\n      <td>1.420722</td>\n    </tr>\n    <tr>\n      <th>1</th>\n      <td>(Instant food products)</td>\n      <td>(whole milk)</td>\n      <td>0.015396</td>\n      <td>0.458045</td>\n      <td>0.007955</td>\n      <td>0.516667</td>\n      <td>1.127983</td>\n      <td>0.000903</td>\n      <td>1.121287</td>\n    </tr>\n    <tr>\n      <th>2</th>\n      <td>(UHT-milk)</td>\n      <td>(whole milk)</td>\n      <td>0.078522</td>\n      <td>0.458045</td>\n      <td>0.040544</td>\n      <td>0.516340</td>\n      <td>1.127270</td>\n      <td>0.004577</td>\n      <td>1.120529</td>\n    </tr>\n    <tr>\n      <th>3</th>\n      <td>(abrasive cleaner)</td>\n      <td>(rolls/buns)</td>\n      <td>0.005645</td>\n      <td>0.349756</td>\n      <td>0.002823</td>\n      <td>0.500000</td>\n      <td>1.429567</td>\n      <td>0.000848</td>\n      <td>1.300488</td>\n    </tr>\n    <tr>\n      <th>4</th>\n      <td>(artif. sweetener)</td>\n      <td>(other vegetables)</td>\n      <td>0.007442</td>\n      <td>0.376700</td>\n      <td>0.003849</td>\n      <td>0.517241</td>\n      <td>1.373086</td>\n      <td>0.001046</td>\n      <td>1.291121</td>\n    </tr>\n    <tr>\n      <th>...</th>\n      <td>...</td>\n      <td>...</td>\n      <td>...</td>\n      <td>...</td>\n      <td>...</td>\n      <td>...</td>\n      <td>...</td>\n      <td>...</td>\n      <td>...</td>\n    </tr>\n    <tr>\n      <th>24689</th>\n      <td>( root vegetables,  soda, other vegetables,  s...</td>\n      <td>( rolls/buns, whole milk)</td>\n      <td>0.004876</td>\n      <td>0.178599</td>\n      <td>0.002566</td>\n      <td>0.526316</td>\n      <td>2.946915</td>\n      <td>0.001695</td>\n      <td>1.734069</td>\n    </tr>\n    <tr>\n      <th>24690</th>\n      <td>( root vegetables, other vegetables,  sausage,...</td>\n      <td>(soda,  rolls/buns)</td>\n      <td>0.004876</td>\n      <td>0.119836</td>\n      <td>0.002566</td>\n      <td>0.526316</td>\n      <td>4.391976</td>\n      <td>0.001982</td>\n      <td>1.858124</td>\n    </tr>\n    <tr>\n      <th>24691</th>\n      <td>(rolls/buns,  root vegetables,  soda,  sausage...</td>\n      <td>( other vegetables, whole milk)</td>\n      <td>0.004106</td>\n      <td>0.191429</td>\n      <td>0.002566</td>\n      <td>0.625000</td>\n      <td>3.264913</td>\n      <td>0.001780</td>\n      <td>2.156189</td>\n    </tr>\n    <tr>\n      <th>24692</th>\n      <td>(rolls/buns,  root vegetables,  sausage,  whol...</td>\n      <td>(soda,  other vegetables)</td>\n      <td>0.004362</td>\n      <td>0.124198</td>\n      <td>0.002566</td>\n      <td>0.588235</td>\n      <td>4.736266</td>\n      <td>0.002024</td>\n      <td>2.126947</td>\n    </tr>\n    <tr>\n      <th>24693</th>\n      <td>( root vegetables, bottled water,  soda,  saus...</td>\n      <td>( rolls/buns, other vegetables)</td>\n      <td>0.005132</td>\n      <td>0.146780</td>\n      <td>0.002566</td>\n      <td>0.500000</td>\n      <td>3.406469</td>\n      <td>0.001813</td>\n      <td>1.706441</td>\n    </tr>\n  </tbody>\n</table>\n<p>24694 rows × 9 columns</p>\n</div>"
     },
     "execution_count": 92,
     "metadata": {},
     "output_type": "execute_result"
    }
   ],
   "source": [
    "product_rules"
   ],
   "metadata": {
    "collapsed": false,
    "pycharm": {
     "name": "#%%\n"
    }
   }
  },
  {
   "cell_type": "code",
   "execution_count": 93,
   "outputs": [
    {
     "data": {
      "text/plain": "               antecedents         consequents  antecedent support  \\\n0  (Instant food products)              (soda)            0.015396   \n1  (Instant food products)        (whole milk)            0.015396   \n2               (UHT-milk)        (whole milk)            0.078522   \n3       (abrasive cleaner)        (rolls/buns)            0.005645   \n4       (artif. sweetener)  (other vegetables)            0.007442   \n\n   consequent support   support  confidence      lift  leverage  conviction  \n0            0.313318  0.007955    0.516667  1.649017  0.003131    1.420722  \n1            0.458045  0.007955    0.516667  1.127983  0.000903    1.121287  \n2            0.458045  0.040544    0.516340  1.127270  0.004577    1.120529  \n3            0.349756  0.002823    0.500000  1.429567  0.000848    1.300488  \n4            0.376700  0.003849    0.517241  1.373086  0.001046    1.291121  ",
      "text/html": "<div>\n<style scoped>\n    .dataframe tbody tr th:only-of-type {\n        vertical-align: middle;\n    }\n\n    .dataframe tbody tr th {\n        vertical-align: top;\n    }\n\n    .dataframe thead th {\n        text-align: right;\n    }\n</style>\n<table border=\"1\" class=\"dataframe\">\n  <thead>\n    <tr style=\"text-align: right;\">\n      <th></th>\n      <th>antecedents</th>\n      <th>consequents</th>\n      <th>antecedent support</th>\n      <th>consequent support</th>\n      <th>support</th>\n      <th>confidence</th>\n      <th>lift</th>\n      <th>leverage</th>\n      <th>conviction</th>\n    </tr>\n  </thead>\n  <tbody>\n    <tr>\n      <th>0</th>\n      <td>(Instant food products)</td>\n      <td>(soda)</td>\n      <td>0.015396</td>\n      <td>0.313318</td>\n      <td>0.007955</td>\n      <td>0.516667</td>\n      <td>1.649017</td>\n      <td>0.003131</td>\n      <td>1.420722</td>\n    </tr>\n    <tr>\n      <th>1</th>\n      <td>(Instant food products)</td>\n      <td>(whole milk)</td>\n      <td>0.015396</td>\n      <td>0.458045</td>\n      <td>0.007955</td>\n      <td>0.516667</td>\n      <td>1.127983</td>\n      <td>0.000903</td>\n      <td>1.121287</td>\n    </tr>\n    <tr>\n      <th>2</th>\n      <td>(UHT-milk)</td>\n      <td>(whole milk)</td>\n      <td>0.078522</td>\n      <td>0.458045</td>\n      <td>0.040544</td>\n      <td>0.516340</td>\n      <td>1.127270</td>\n      <td>0.004577</td>\n      <td>1.120529</td>\n    </tr>\n    <tr>\n      <th>3</th>\n      <td>(abrasive cleaner)</td>\n      <td>(rolls/buns)</td>\n      <td>0.005645</td>\n      <td>0.349756</td>\n      <td>0.002823</td>\n      <td>0.500000</td>\n      <td>1.429567</td>\n      <td>0.000848</td>\n      <td>1.300488</td>\n    </tr>\n    <tr>\n      <th>4</th>\n      <td>(artif. sweetener)</td>\n      <td>(other vegetables)</td>\n      <td>0.007442</td>\n      <td>0.376700</td>\n      <td>0.003849</td>\n      <td>0.517241</td>\n      <td>1.373086</td>\n      <td>0.001046</td>\n      <td>1.291121</td>\n    </tr>\n  </tbody>\n</table>\n</div>"
     },
     "execution_count": 93,
     "metadata": {},
     "output_type": "execute_result"
    }
   ],
   "source": [
    "product_rules.head()"
   ],
   "metadata": {
    "collapsed": false,
    "pycharm": {
     "name": "#%%\n"
    }
   }
  },
  {
   "cell_type": "code",
   "execution_count": 122,
   "outputs": [
    {
     "data": {
      "text/plain": "                                             antecedents  \\\n0                                (Instant food products)   \n1                                (Instant food products)   \n2                                             (UHT-milk)   \n3                                     (abrasive cleaner)   \n4                                     (artif. sweetener)   \n...                                                  ...   \n24689  ( root vegetables,  soda, other vegetables,  s...   \n24690  ( root vegetables, other vegetables,  sausage,...   \n24691  (rolls/buns,  root vegetables,  soda,  sausage...   \n24692  (rolls/buns,  root vegetables,  sausage,  whol...   \n24693  ( root vegetables, bottled water,  soda,  saus...   \n\n                           consequents  antecedent support  \\\n0                               (soda)            0.015396   \n1                         (whole milk)            0.015396   \n2                         (whole milk)            0.078522   \n3                         (rolls/buns)            0.005645   \n4                   (other vegetables)            0.007442   \n...                                ...                 ...   \n24689        ( rolls/buns, whole milk)            0.004876   \n24690              (soda,  rolls/buns)            0.004876   \n24691  ( other vegetables, whole milk)            0.004106   \n24692        (soda,  other vegetables)            0.004362   \n24693  ( rolls/buns, other vegetables)            0.005132   \n\n       consequent support   support  confidence      lift  leverage  \\\n0                0.313318  0.007955    0.516667  1.649017  0.003131   \n1                0.458045  0.007955    0.516667  1.127983  0.000903   \n2                0.458045  0.040544    0.516340  1.127270  0.004577   \n3                0.349756  0.002823    0.500000  1.429567  0.000848   \n4                0.376700  0.003849    0.517241  1.373086  0.001046   \n...                   ...       ...         ...       ...       ...   \n24689            0.178599  0.002566    0.526316  2.946915  0.001695   \n24690            0.119836  0.002566    0.526316  4.391976  0.001982   \n24691            0.191429  0.002566    0.625000  3.264913  0.001780   \n24692            0.124198  0.002566    0.588235  4.736266  0.002024   \n24693            0.146780  0.002566    0.500000  3.406469  0.001813   \n\n       conviction  \n0        1.420722  \n1        1.121287  \n2        1.120529  \n3        1.300488  \n4        1.291121  \n...           ...  \n24689    1.734069  \n24690    1.858124  \n24691    2.156189  \n24692    2.126947  \n24693    1.706441  \n\n[24694 rows x 9 columns]",
      "text/html": "<div>\n<style scoped>\n    .dataframe tbody tr th:only-of-type {\n        vertical-align: middle;\n    }\n\n    .dataframe tbody tr th {\n        vertical-align: top;\n    }\n\n    .dataframe thead th {\n        text-align: right;\n    }\n</style>\n<table border=\"1\" class=\"dataframe\">\n  <thead>\n    <tr style=\"text-align: right;\">\n      <th></th>\n      <th>antecedents</th>\n      <th>consequents</th>\n      <th>antecedent support</th>\n      <th>consequent support</th>\n      <th>support</th>\n      <th>confidence</th>\n      <th>lift</th>\n      <th>leverage</th>\n      <th>conviction</th>\n    </tr>\n  </thead>\n  <tbody>\n    <tr>\n      <th>0</th>\n      <td>(Instant food products)</td>\n      <td>(soda)</td>\n      <td>0.015396</td>\n      <td>0.313318</td>\n      <td>0.007955</td>\n      <td>0.516667</td>\n      <td>1.649017</td>\n      <td>0.003131</td>\n      <td>1.420722</td>\n    </tr>\n    <tr>\n      <th>1</th>\n      <td>(Instant food products)</td>\n      <td>(whole milk)</td>\n      <td>0.015396</td>\n      <td>0.458045</td>\n      <td>0.007955</td>\n      <td>0.516667</td>\n      <td>1.127983</td>\n      <td>0.000903</td>\n      <td>1.121287</td>\n    </tr>\n    <tr>\n      <th>2</th>\n      <td>(UHT-milk)</td>\n      <td>(whole milk)</td>\n      <td>0.078522</td>\n      <td>0.458045</td>\n      <td>0.040544</td>\n      <td>0.516340</td>\n      <td>1.127270</td>\n      <td>0.004577</td>\n      <td>1.120529</td>\n    </tr>\n    <tr>\n      <th>3</th>\n      <td>(abrasive cleaner)</td>\n      <td>(rolls/buns)</td>\n      <td>0.005645</td>\n      <td>0.349756</td>\n      <td>0.002823</td>\n      <td>0.500000</td>\n      <td>1.429567</td>\n      <td>0.000848</td>\n      <td>1.300488</td>\n    </tr>\n    <tr>\n      <th>4</th>\n      <td>(artif. sweetener)</td>\n      <td>(other vegetables)</td>\n      <td>0.007442</td>\n      <td>0.376700</td>\n      <td>0.003849</td>\n      <td>0.517241</td>\n      <td>1.373086</td>\n      <td>0.001046</td>\n      <td>1.291121</td>\n    </tr>\n    <tr>\n      <th>...</th>\n      <td>...</td>\n      <td>...</td>\n      <td>...</td>\n      <td>...</td>\n      <td>...</td>\n      <td>...</td>\n      <td>...</td>\n      <td>...</td>\n      <td>...</td>\n    </tr>\n    <tr>\n      <th>24689</th>\n      <td>( root vegetables,  soda, other vegetables,  s...</td>\n      <td>( rolls/buns, whole milk)</td>\n      <td>0.004876</td>\n      <td>0.178599</td>\n      <td>0.002566</td>\n      <td>0.526316</td>\n      <td>2.946915</td>\n      <td>0.001695</td>\n      <td>1.734069</td>\n    </tr>\n    <tr>\n      <th>24690</th>\n      <td>( root vegetables, other vegetables,  sausage,...</td>\n      <td>(soda,  rolls/buns)</td>\n      <td>0.004876</td>\n      <td>0.119836</td>\n      <td>0.002566</td>\n      <td>0.526316</td>\n      <td>4.391976</td>\n      <td>0.001982</td>\n      <td>1.858124</td>\n    </tr>\n    <tr>\n      <th>24691</th>\n      <td>(rolls/buns,  root vegetables,  soda,  sausage...</td>\n      <td>( other vegetables, whole milk)</td>\n      <td>0.004106</td>\n      <td>0.191429</td>\n      <td>0.002566</td>\n      <td>0.625000</td>\n      <td>3.264913</td>\n      <td>0.001780</td>\n      <td>2.156189</td>\n    </tr>\n    <tr>\n      <th>24692</th>\n      <td>(rolls/buns,  root vegetables,  sausage,  whol...</td>\n      <td>(soda,  other vegetables)</td>\n      <td>0.004362</td>\n      <td>0.124198</td>\n      <td>0.002566</td>\n      <td>0.588235</td>\n      <td>4.736266</td>\n      <td>0.002024</td>\n      <td>2.126947</td>\n    </tr>\n    <tr>\n      <th>24693</th>\n      <td>( root vegetables, bottled water,  soda,  saus...</td>\n      <td>( rolls/buns, other vegetables)</td>\n      <td>0.005132</td>\n      <td>0.146780</td>\n      <td>0.002566</td>\n      <td>0.500000</td>\n      <td>3.406469</td>\n      <td>0.001813</td>\n      <td>1.706441</td>\n    </tr>\n  </tbody>\n</table>\n<p>24694 rows × 9 columns</p>\n</div>"
     },
     "execution_count": 122,
     "metadata": {},
     "output_type": "execute_result"
    }
   ],
   "source": [
    "product_rules"
   ],
   "metadata": {
    "collapsed": false,
    "pycharm": {
     "name": "#%%\n"
    }
   }
  },
  {
   "cell_type": "code",
   "execution_count": 157,
   "outputs": [
    {
     "data": {
      "text/plain": "                                             antecedents  \\\n24689  ( root vegetables,  soda, other vegetables,  s...   \n24690  ( root vegetables, other vegetables,  sausage,...   \n24691  (rolls/buns,  root vegetables,  soda,  sausage...   \n24692  (rolls/buns,  root vegetables,  sausage,  whol...   \n24693  ( root vegetables, bottled water,  soda,  saus...   \n\n                           consequents  antecedent support  \\\n24689        ( rolls/buns, whole milk)            0.004876   \n24690              (soda,  rolls/buns)            0.004876   \n24691  ( other vegetables, whole milk)            0.004106   \n24692        (soda,  other vegetables)            0.004362   \n24693  ( rolls/buns, other vegetables)            0.005132   \n\n       consequent support   support  confidence      lift  leverage  \\\n24689            0.178599  0.002566    0.526316  2.946915  0.001695   \n24690            0.119836  0.002566    0.526316  4.391976  0.001982   \n24691            0.191429  0.002566    0.625000  3.264913  0.001780   \n24692            0.124198  0.002566    0.588235  4.736266  0.002024   \n24693            0.146780  0.002566    0.500000  3.406469  0.001813   \n\n       conviction  \n24689    1.734069  \n24690    1.858124  \n24691    2.156189  \n24692    2.126947  \n24693    1.706441  ",
      "text/html": "<div>\n<style scoped>\n    .dataframe tbody tr th:only-of-type {\n        vertical-align: middle;\n    }\n\n    .dataframe tbody tr th {\n        vertical-align: top;\n    }\n\n    .dataframe thead th {\n        text-align: right;\n    }\n</style>\n<table border=\"1\" class=\"dataframe\">\n  <thead>\n    <tr style=\"text-align: right;\">\n      <th></th>\n      <th>antecedents</th>\n      <th>consequents</th>\n      <th>antecedent support</th>\n      <th>consequent support</th>\n      <th>support</th>\n      <th>confidence</th>\n      <th>lift</th>\n      <th>leverage</th>\n      <th>conviction</th>\n    </tr>\n  </thead>\n  <tbody>\n    <tr>\n      <th>24689</th>\n      <td>( root vegetables,  soda, other vegetables,  s...</td>\n      <td>( rolls/buns, whole milk)</td>\n      <td>0.004876</td>\n      <td>0.178599</td>\n      <td>0.002566</td>\n      <td>0.526316</td>\n      <td>2.946915</td>\n      <td>0.001695</td>\n      <td>1.734069</td>\n    </tr>\n    <tr>\n      <th>24690</th>\n      <td>( root vegetables, other vegetables,  sausage,...</td>\n      <td>(soda,  rolls/buns)</td>\n      <td>0.004876</td>\n      <td>0.119836</td>\n      <td>0.002566</td>\n      <td>0.526316</td>\n      <td>4.391976</td>\n      <td>0.001982</td>\n      <td>1.858124</td>\n    </tr>\n    <tr>\n      <th>24691</th>\n      <td>(rolls/buns,  root vegetables,  soda,  sausage...</td>\n      <td>( other vegetables, whole milk)</td>\n      <td>0.004106</td>\n      <td>0.191429</td>\n      <td>0.002566</td>\n      <td>0.625000</td>\n      <td>3.264913</td>\n      <td>0.001780</td>\n      <td>2.156189</td>\n    </tr>\n    <tr>\n      <th>24692</th>\n      <td>(rolls/buns,  root vegetables,  sausage,  whol...</td>\n      <td>(soda,  other vegetables)</td>\n      <td>0.004362</td>\n      <td>0.124198</td>\n      <td>0.002566</td>\n      <td>0.588235</td>\n      <td>4.736266</td>\n      <td>0.002024</td>\n      <td>2.126947</td>\n    </tr>\n    <tr>\n      <th>24693</th>\n      <td>( root vegetables, bottled water,  soda,  saus...</td>\n      <td>( rolls/buns, other vegetables)</td>\n      <td>0.005132</td>\n      <td>0.146780</td>\n      <td>0.002566</td>\n      <td>0.500000</td>\n      <td>3.406469</td>\n      <td>0.001813</td>\n      <td>1.706441</td>\n    </tr>\n  </tbody>\n</table>\n</div>"
     },
     "execution_count": 157,
     "metadata": {},
     "output_type": "execute_result"
    }
   ],
   "source": [
    "product_rules.tail()"
   ],
   "metadata": {
    "collapsed": false,
    "pycharm": {
     "name": "#%%\n"
    }
   }
  },
  {
   "cell_type": "code",
   "execution_count": 95,
   "outputs": [
    {
     "data": {
      "text/plain": "antecedents            object\nconsequents            object\nantecedent support    float64\nconsequent support    float64\nsupport               float64\nconfidence            float64\nlift                  float64\nleverage              float64\nconviction            float64\ndtype: object"
     },
     "execution_count": 95,
     "metadata": {},
     "output_type": "execute_result"
    }
   ],
   "source": [
    "product_rules.dtypes"
   ],
   "metadata": {
    "collapsed": false,
    "pycharm": {
     "name": "#%%\n"
    }
   }
  },
  {
   "cell_type": "code",
   "execution_count": 127,
   "outputs": [
    {
     "data": {
      "text/plain": "                antecedents         consequents  antecedent support  \\\n141  (beverages,  UHT-milk)  (other vegetables)            0.006159   \n142  (beverages,  UHT-milk)        (whole milk)            0.006159   \n\n     consequent support   support  confidence      lift  leverage  conviction  \n141            0.376700  0.003336    0.541667  1.437926  0.001016    1.359927  \n142            0.458045  0.004106    0.666667  1.455462  0.001285    1.625866  ",
      "text/html": "<div>\n<style scoped>\n    .dataframe tbody tr th:only-of-type {\n        vertical-align: middle;\n    }\n\n    .dataframe tbody tr th {\n        vertical-align: top;\n    }\n\n    .dataframe thead th {\n        text-align: right;\n    }\n</style>\n<table border=\"1\" class=\"dataframe\">\n  <thead>\n    <tr style=\"text-align: right;\">\n      <th></th>\n      <th>antecedents</th>\n      <th>consequents</th>\n      <th>antecedent support</th>\n      <th>consequent support</th>\n      <th>support</th>\n      <th>confidence</th>\n      <th>lift</th>\n      <th>leverage</th>\n      <th>conviction</th>\n    </tr>\n  </thead>\n  <tbody>\n    <tr>\n      <th>141</th>\n      <td>(beverages,  UHT-milk)</td>\n      <td>(other vegetables)</td>\n      <td>0.006159</td>\n      <td>0.376700</td>\n      <td>0.003336</td>\n      <td>0.541667</td>\n      <td>1.437926</td>\n      <td>0.001016</td>\n      <td>1.359927</td>\n    </tr>\n    <tr>\n      <th>142</th>\n      <td>(beverages,  UHT-milk)</td>\n      <td>(whole milk)</td>\n      <td>0.006159</td>\n      <td>0.458045</td>\n      <td>0.004106</td>\n      <td>0.666667</td>\n      <td>1.455462</td>\n      <td>0.001285</td>\n      <td>1.625866</td>\n    </tr>\n  </tbody>\n</table>\n</div>"
     },
     "execution_count": 127,
     "metadata": {},
     "output_type": "execute_result"
    }
   ],
   "source": [
    "query = product_rules[(product_rules['antecedents'].astype(str).str.contains('UHT-milk')) & (product_rules['antecedents'].astype(str).str.contains('beverages'))]\n",
    "query"
   ],
   "metadata": {
    "collapsed": false,
    "pycharm": {
     "name": "#%%\n"
    }
   }
  },
  {
   "cell_type": "code",
   "execution_count": 128,
   "outputs": [
    {
     "data": {
      "text/plain": "                                             antecedents         consequents  \\\n141                               (beverages,  UHT-milk)  (other vegetables)   \n142                               (beverages,  UHT-milk)        (whole milk)   \n310                                   ( beef, beverages)  (other vegetables)   \n311                                   ( beef, beverages)        (whole milk)   \n360                             (beef,  misc. beverages)        (whole milk)   \n...                                                  ...                 ...   \n22597  ( whole milk, tropical fruit,  rolls/buns,  mi...  (other vegetables)   \n22598  (yogurt,  other vegetables,  rolls/buns,  misc...        (whole milk)   \n22599  ( rolls/buns,  other vegetables, whole milk,  ...            (yogurt)   \n22600  ( misc. beverages,  other vegetables, whole mi...        (rolls/buns)   \n22601  (yogurt,  whole milk,  rolls/buns,  misc. beve...  (other vegetables)   \n\n       antecedent support  consequent support   support  confidence      lift  \\\n141              0.006159            0.376700  0.003336    0.541667  1.437926   \n142              0.006159            0.458045  0.004106    0.666667  1.455462   \n310              0.008981            0.376700  0.005645    0.628571  1.668626   \n311              0.008981            0.458045  0.005389    0.600000  1.309916   \n360              0.008211            0.458045  0.004106    0.500000  1.091597   \n...                   ...                 ...       ...         ...       ...   \n22597            0.003849            0.376700  0.002566    0.666667  1.769755   \n22598            0.004619            0.458045  0.003079    0.666667  1.455462   \n22599            0.005902            0.282782  0.003079    0.521739  1.845025   \n22600            0.005645            0.349756  0.003079    0.545455  1.559528   \n22601            0.005902            0.376700  0.003079    0.521739  1.385025   \n\n       leverage  conviction  \n141    0.001016    1.359927  \n142    0.001285    1.625866  \n310    0.002262    1.678115  \n311    0.001275    1.354888  \n360    0.000345    1.083911  \n...         ...         ...  \n22597  0.001116    1.869900  \n22598  0.000964    1.625866  \n22599  0.001410    1.499638  \n22600  0.001105    1.430536  \n22601  0.000856    1.303264  \n\n[629 rows x 9 columns]",
      "text/html": "<div>\n<style scoped>\n    .dataframe tbody tr th:only-of-type {\n        vertical-align: middle;\n    }\n\n    .dataframe tbody tr th {\n        vertical-align: top;\n    }\n\n    .dataframe thead th {\n        text-align: right;\n    }\n</style>\n<table border=\"1\" class=\"dataframe\">\n  <thead>\n    <tr style=\"text-align: right;\">\n      <th></th>\n      <th>antecedents</th>\n      <th>consequents</th>\n      <th>antecedent support</th>\n      <th>consequent support</th>\n      <th>support</th>\n      <th>confidence</th>\n      <th>lift</th>\n      <th>leverage</th>\n      <th>conviction</th>\n    </tr>\n  </thead>\n  <tbody>\n    <tr>\n      <th>141</th>\n      <td>(beverages,  UHT-milk)</td>\n      <td>(other vegetables)</td>\n      <td>0.006159</td>\n      <td>0.376700</td>\n      <td>0.003336</td>\n      <td>0.541667</td>\n      <td>1.437926</td>\n      <td>0.001016</td>\n      <td>1.359927</td>\n    </tr>\n    <tr>\n      <th>142</th>\n      <td>(beverages,  UHT-milk)</td>\n      <td>(whole milk)</td>\n      <td>0.006159</td>\n      <td>0.458045</td>\n      <td>0.004106</td>\n      <td>0.666667</td>\n      <td>1.455462</td>\n      <td>0.001285</td>\n      <td>1.625866</td>\n    </tr>\n    <tr>\n      <th>310</th>\n      <td>( beef, beverages)</td>\n      <td>(other vegetables)</td>\n      <td>0.008981</td>\n      <td>0.376700</td>\n      <td>0.005645</td>\n      <td>0.628571</td>\n      <td>1.668626</td>\n      <td>0.002262</td>\n      <td>1.678115</td>\n    </tr>\n    <tr>\n      <th>311</th>\n      <td>( beef, beverages)</td>\n      <td>(whole milk)</td>\n      <td>0.008981</td>\n      <td>0.458045</td>\n      <td>0.005389</td>\n      <td>0.600000</td>\n      <td>1.309916</td>\n      <td>0.001275</td>\n      <td>1.354888</td>\n    </tr>\n    <tr>\n      <th>360</th>\n      <td>(beef,  misc. beverages)</td>\n      <td>(whole milk)</td>\n      <td>0.008211</td>\n      <td>0.458045</td>\n      <td>0.004106</td>\n      <td>0.500000</td>\n      <td>1.091597</td>\n      <td>0.000345</td>\n      <td>1.083911</td>\n    </tr>\n    <tr>\n      <th>...</th>\n      <td>...</td>\n      <td>...</td>\n      <td>...</td>\n      <td>...</td>\n      <td>...</td>\n      <td>...</td>\n      <td>...</td>\n      <td>...</td>\n      <td>...</td>\n    </tr>\n    <tr>\n      <th>22597</th>\n      <td>( whole milk, tropical fruit,  rolls/buns,  mi...</td>\n      <td>(other vegetables)</td>\n      <td>0.003849</td>\n      <td>0.376700</td>\n      <td>0.002566</td>\n      <td>0.666667</td>\n      <td>1.769755</td>\n      <td>0.001116</td>\n      <td>1.869900</td>\n    </tr>\n    <tr>\n      <th>22598</th>\n      <td>(yogurt,  other vegetables,  rolls/buns,  misc...</td>\n      <td>(whole milk)</td>\n      <td>0.004619</td>\n      <td>0.458045</td>\n      <td>0.003079</td>\n      <td>0.666667</td>\n      <td>1.455462</td>\n      <td>0.000964</td>\n      <td>1.625866</td>\n    </tr>\n    <tr>\n      <th>22599</th>\n      <td>( rolls/buns,  other vegetables, whole milk,  ...</td>\n      <td>(yogurt)</td>\n      <td>0.005902</td>\n      <td>0.282782</td>\n      <td>0.003079</td>\n      <td>0.521739</td>\n      <td>1.845025</td>\n      <td>0.001410</td>\n      <td>1.499638</td>\n    </tr>\n    <tr>\n      <th>22600</th>\n      <td>( misc. beverages,  other vegetables, whole mi...</td>\n      <td>(rolls/buns)</td>\n      <td>0.005645</td>\n      <td>0.349756</td>\n      <td>0.003079</td>\n      <td>0.545455</td>\n      <td>1.559528</td>\n      <td>0.001105</td>\n      <td>1.430536</td>\n    </tr>\n    <tr>\n      <th>22601</th>\n      <td>(yogurt,  whole milk,  rolls/buns,  misc. beve...</td>\n      <td>(other vegetables)</td>\n      <td>0.005902</td>\n      <td>0.376700</td>\n      <td>0.003079</td>\n      <td>0.521739</td>\n      <td>1.385025</td>\n      <td>0.000856</td>\n      <td>1.303264</td>\n    </tr>\n  </tbody>\n</table>\n<p>629 rows × 9 columns</p>\n</div>"
     },
     "execution_count": 128,
     "metadata": {},
     "output_type": "execute_result"
    }
   ],
   "source": [
    "query1 = product_rules[product_rules['antecedents'].astype(str).str.contains('UHT-milk' and 'beverages')]\n",
    "query1"
   ],
   "metadata": {
    "collapsed": false,
    "pycharm": {
     "name": "#%%\n"
    }
   }
  },
  {
   "cell_type": "code",
   "execution_count": 129,
   "outputs": [
    {
     "data": {
      "text/plain": "                                           antecedents          consequents  \\\n139                               ( UHT-milk, berries)   (other vegetables)   \n140                               ( UHT-milk, berries)         (whole milk)   \n309                                   ( beef, berries)         (whole milk)   \n412                              ( beverages, berries)   (other vegetables)   \n413                              ( beverages, berries)         (whole milk)   \n...                                                ...                  ...   \n17077           ( whole milk,  soda,  yogurt, berries)      (shopping bags)   \n17078  ( whole milk,  shopping bags,  yogurt, berries)               (soda)   \n17079               ( shopping bags,  yogurt, berries)  (soda,  whole milk)   \n17080       ( soda,  tropical fruit,  yogurt, berries)         (whole milk)   \n17081   ( whole milk,  soda,  tropical fruit, berries)             (yogurt)   \n\n       antecedent support  consequent support   support  confidence      lift  \\\n139              0.007442            0.376700  0.004106    0.551724  1.464625   \n140              0.007442            0.458045  0.003849    0.517241  1.129238   \n309              0.011291            0.458045  0.006159    0.545455  1.190833   \n412              0.006159            0.376700  0.003593    0.583333  1.548535   \n413              0.006159            0.458045  0.003336    0.541667  1.182563   \n...                   ...                 ...       ...         ...       ...   \n17077            0.006415            0.168335  0.003336    0.520000  3.089085   \n17078            0.004619            0.313318  0.003336    0.722222  2.305078   \n17079            0.005645            0.150885  0.003336    0.590909  3.916280   \n17080            0.004106            0.458045  0.002823    0.687500  1.500945   \n17081            0.004619            0.282782  0.002823    0.611111  2.161071   \n\n       leverage  conviction  \n139    0.001302    1.390438  \n140    0.000441    1.122622  \n309    0.000987    1.192302  \n412    0.001273    1.495920  \n413    0.000515    1.182448  \n...         ...         ...  \n17077  0.002256    1.732636  \n17078  0.001889    2.472055  \n17079  0.002484    2.075614  \n17080  0.000942    1.734257  \n17081  0.001517    1.844276  \n\n[604 rows x 9 columns]",
      "text/html": "<div>\n<style scoped>\n    .dataframe tbody tr th:only-of-type {\n        vertical-align: middle;\n    }\n\n    .dataframe tbody tr th {\n        vertical-align: top;\n    }\n\n    .dataframe thead th {\n        text-align: right;\n    }\n</style>\n<table border=\"1\" class=\"dataframe\">\n  <thead>\n    <tr style=\"text-align: right;\">\n      <th></th>\n      <th>antecedents</th>\n      <th>consequents</th>\n      <th>antecedent support</th>\n      <th>consequent support</th>\n      <th>support</th>\n      <th>confidence</th>\n      <th>lift</th>\n      <th>leverage</th>\n      <th>conviction</th>\n    </tr>\n  </thead>\n  <tbody>\n    <tr>\n      <th>139</th>\n      <td>( UHT-milk, berries)</td>\n      <td>(other vegetables)</td>\n      <td>0.007442</td>\n      <td>0.376700</td>\n      <td>0.004106</td>\n      <td>0.551724</td>\n      <td>1.464625</td>\n      <td>0.001302</td>\n      <td>1.390438</td>\n    </tr>\n    <tr>\n      <th>140</th>\n      <td>( UHT-milk, berries)</td>\n      <td>(whole milk)</td>\n      <td>0.007442</td>\n      <td>0.458045</td>\n      <td>0.003849</td>\n      <td>0.517241</td>\n      <td>1.129238</td>\n      <td>0.000441</td>\n      <td>1.122622</td>\n    </tr>\n    <tr>\n      <th>309</th>\n      <td>( beef, berries)</td>\n      <td>(whole milk)</td>\n      <td>0.011291</td>\n      <td>0.458045</td>\n      <td>0.006159</td>\n      <td>0.545455</td>\n      <td>1.190833</td>\n      <td>0.000987</td>\n      <td>1.192302</td>\n    </tr>\n    <tr>\n      <th>412</th>\n      <td>( beverages, berries)</td>\n      <td>(other vegetables)</td>\n      <td>0.006159</td>\n      <td>0.376700</td>\n      <td>0.003593</td>\n      <td>0.583333</td>\n      <td>1.548535</td>\n      <td>0.001273</td>\n      <td>1.495920</td>\n    </tr>\n    <tr>\n      <th>413</th>\n      <td>( beverages, berries)</td>\n      <td>(whole milk)</td>\n      <td>0.006159</td>\n      <td>0.458045</td>\n      <td>0.003336</td>\n      <td>0.541667</td>\n      <td>1.182563</td>\n      <td>0.000515</td>\n      <td>1.182448</td>\n    </tr>\n    <tr>\n      <th>...</th>\n      <td>...</td>\n      <td>...</td>\n      <td>...</td>\n      <td>...</td>\n      <td>...</td>\n      <td>...</td>\n      <td>...</td>\n      <td>...</td>\n      <td>...</td>\n    </tr>\n    <tr>\n      <th>17077</th>\n      <td>( whole milk,  soda,  yogurt, berries)</td>\n      <td>(shopping bags)</td>\n      <td>0.006415</td>\n      <td>0.168335</td>\n      <td>0.003336</td>\n      <td>0.520000</td>\n      <td>3.089085</td>\n      <td>0.002256</td>\n      <td>1.732636</td>\n    </tr>\n    <tr>\n      <th>17078</th>\n      <td>( whole milk,  shopping bags,  yogurt, berries)</td>\n      <td>(soda)</td>\n      <td>0.004619</td>\n      <td>0.313318</td>\n      <td>0.003336</td>\n      <td>0.722222</td>\n      <td>2.305078</td>\n      <td>0.001889</td>\n      <td>2.472055</td>\n    </tr>\n    <tr>\n      <th>17079</th>\n      <td>( shopping bags,  yogurt, berries)</td>\n      <td>(soda,  whole milk)</td>\n      <td>0.005645</td>\n      <td>0.150885</td>\n      <td>0.003336</td>\n      <td>0.590909</td>\n      <td>3.916280</td>\n      <td>0.002484</td>\n      <td>2.075614</td>\n    </tr>\n    <tr>\n      <th>17080</th>\n      <td>( soda,  tropical fruit,  yogurt, berries)</td>\n      <td>(whole milk)</td>\n      <td>0.004106</td>\n      <td>0.458045</td>\n      <td>0.002823</td>\n      <td>0.687500</td>\n      <td>1.500945</td>\n      <td>0.000942</td>\n      <td>1.734257</td>\n    </tr>\n    <tr>\n      <th>17081</th>\n      <td>( whole milk,  soda,  tropical fruit, berries)</td>\n      <td>(yogurt)</td>\n      <td>0.004619</td>\n      <td>0.282782</td>\n      <td>0.002823</td>\n      <td>0.611111</td>\n      <td>2.161071</td>\n      <td>0.001517</td>\n      <td>1.844276</td>\n    </tr>\n  </tbody>\n</table>\n<p>604 rows × 9 columns</p>\n</div>"
     },
     "execution_count": 129,
     "metadata": {},
     "output_type": "execute_result"
    }
   ],
   "source": [
    "query2 = product_rules[product_rules['antecedents'].astype(str).str.contains('UHT-milk' and 'berries')]\n",
    "query2"
   ],
   "metadata": {
    "collapsed": false,
    "pycharm": {
     "name": "#%%\n"
    }
   }
  },
  {
   "cell_type": "code",
   "execution_count": 132,
   "outputs": [
    {
     "data": {
      "text/plain": "              antecedents         consequents  antecedent support  \\\n139  ( UHT-milk, berries)  (other vegetables)            0.007442   \n140  ( UHT-milk, berries)        (whole milk)            0.007442   \n\n     consequent support   support  confidence      lift  leverage  conviction  \n139            0.376700  0.004106    0.551724  1.464625  0.001302    1.390438  \n140            0.458045  0.003849    0.517241  1.129238  0.000441    1.122622  ",
      "text/html": "<div>\n<style scoped>\n    .dataframe tbody tr th:only-of-type {\n        vertical-align: middle;\n    }\n\n    .dataframe tbody tr th {\n        vertical-align: top;\n    }\n\n    .dataframe thead th {\n        text-align: right;\n    }\n</style>\n<table border=\"1\" class=\"dataframe\">\n  <thead>\n    <tr style=\"text-align: right;\">\n      <th></th>\n      <th>antecedents</th>\n      <th>consequents</th>\n      <th>antecedent support</th>\n      <th>consequent support</th>\n      <th>support</th>\n      <th>confidence</th>\n      <th>lift</th>\n      <th>leverage</th>\n      <th>conviction</th>\n    </tr>\n  </thead>\n  <tbody>\n    <tr>\n      <th>139</th>\n      <td>( UHT-milk, berries)</td>\n      <td>(other vegetables)</td>\n      <td>0.007442</td>\n      <td>0.376700</td>\n      <td>0.004106</td>\n      <td>0.551724</td>\n      <td>1.464625</td>\n      <td>0.001302</td>\n      <td>1.390438</td>\n    </tr>\n    <tr>\n      <th>140</th>\n      <td>( UHT-milk, berries)</td>\n      <td>(whole milk)</td>\n      <td>0.007442</td>\n      <td>0.458045</td>\n      <td>0.003849</td>\n      <td>0.517241</td>\n      <td>1.129238</td>\n      <td>0.000441</td>\n      <td>1.122622</td>\n    </tr>\n  </tbody>\n</table>\n</div>"
     },
     "execution_count": 132,
     "metadata": {},
     "output_type": "execute_result"
    }
   ],
   "source": [
    "query3 = product_rules[(product_rules['antecedents'].astype(str).str.contains('UHT-milk')) & (product_rules['antecedents'].astype(str).str.contains('berries'))]\n",
    "query3"
   ],
   "metadata": {
    "collapsed": false,
    "pycharm": {
     "name": "#%%\n"
    }
   }
  },
  {
   "cell_type": "code",
   "execution_count": 153,
   "outputs": [
    {
     "data": {
      "text/plain": "              antecedents         consequents  antecedent support  \\\n140  ( UHT-milk, berries)        (whole milk)            0.007442   \n139  ( UHT-milk, berries)  (other vegetables)            0.007442   \n\n     consequent support   support  confidence      lift  leverage  conviction  \n140            0.458045  0.003849    0.517241  1.129238  0.000441    1.122622  \n139            0.376700  0.004106    0.551724  1.464625  0.001302    1.390438  ",
      "text/html": "<div>\n<style scoped>\n    .dataframe tbody tr th:only-of-type {\n        vertical-align: middle;\n    }\n\n    .dataframe tbody tr th {\n        vertical-align: top;\n    }\n\n    .dataframe thead th {\n        text-align: right;\n    }\n</style>\n<table border=\"1\" class=\"dataframe\">\n  <thead>\n    <tr style=\"text-align: right;\">\n      <th></th>\n      <th>antecedents</th>\n      <th>consequents</th>\n      <th>antecedent support</th>\n      <th>consequent support</th>\n      <th>support</th>\n      <th>confidence</th>\n      <th>lift</th>\n      <th>leverage</th>\n      <th>conviction</th>\n    </tr>\n  </thead>\n  <tbody>\n    <tr>\n      <th>140</th>\n      <td>( UHT-milk, berries)</td>\n      <td>(whole milk)</td>\n      <td>0.007442</td>\n      <td>0.458045</td>\n      <td>0.003849</td>\n      <td>0.517241</td>\n      <td>1.129238</td>\n      <td>0.000441</td>\n      <td>1.122622</td>\n    </tr>\n    <tr>\n      <th>139</th>\n      <td>( UHT-milk, berries)</td>\n      <td>(other vegetables)</td>\n      <td>0.007442</td>\n      <td>0.376700</td>\n      <td>0.004106</td>\n      <td>0.551724</td>\n      <td>1.464625</td>\n      <td>0.001302</td>\n      <td>1.390438</td>\n    </tr>\n  </tbody>\n</table>\n</div>"
     },
     "execution_count": 153,
     "metadata": {},
     "output_type": "execute_result"
    }
   ],
   "source": [
    "query3.sort_values(by=['support','confidence','lift'],inplace=True)\n",
    "query3"
   ],
   "metadata": {
    "collapsed": false,
    "pycharm": {
     "name": "#%%\n"
    }
   }
  },
  {
   "cell_type": "code",
   "execution_count": 154,
   "outputs": [
    {
     "data": {
      "text/plain": "              antecedents       consequents  antecedent support  \\\n140  ( UHT-milk, berries)        whole milk            0.007442   \n139  ( UHT-milk, berries)  other vegetables            0.007442   \n\n     consequent support   support  confidence      lift  leverage  conviction  \n140            0.458045  0.003849    0.517241  1.129238  0.000441    1.122622  \n139            0.376700  0.004106    0.551724  1.464625  0.001302    1.390438  ",
      "text/html": "<div>\n<style scoped>\n    .dataframe tbody tr th:only-of-type {\n        vertical-align: middle;\n    }\n\n    .dataframe tbody tr th {\n        vertical-align: top;\n    }\n\n    .dataframe thead th {\n        text-align: right;\n    }\n</style>\n<table border=\"1\" class=\"dataframe\">\n  <thead>\n    <tr style=\"text-align: right;\">\n      <th></th>\n      <th>antecedents</th>\n      <th>consequents</th>\n      <th>antecedent support</th>\n      <th>consequent support</th>\n      <th>support</th>\n      <th>confidence</th>\n      <th>lift</th>\n      <th>leverage</th>\n      <th>conviction</th>\n    </tr>\n  </thead>\n  <tbody>\n    <tr>\n      <th>140</th>\n      <td>( UHT-milk, berries)</td>\n      <td>whole milk</td>\n      <td>0.007442</td>\n      <td>0.458045</td>\n      <td>0.003849</td>\n      <td>0.517241</td>\n      <td>1.129238</td>\n      <td>0.000441</td>\n      <td>1.122622</td>\n    </tr>\n    <tr>\n      <th>139</th>\n      <td>( UHT-milk, berries)</td>\n      <td>other vegetables</td>\n      <td>0.007442</td>\n      <td>0.376700</td>\n      <td>0.004106</td>\n      <td>0.551724</td>\n      <td>1.464625</td>\n      <td>0.001302</td>\n      <td>1.390438</td>\n    </tr>\n  </tbody>\n</table>\n</div>"
     },
     "execution_count": 154,
     "metadata": {},
     "output_type": "execute_result"
    }
   ],
   "source": [
    "query3['consequents'] = query3['consequents'].apply(lambda x: ', '.join(list(x))).astype(\"unicode\")\n",
    "query3"
   ],
   "metadata": {
    "collapsed": false,
    "pycharm": {
     "name": "#%%\n"
    }
   }
  },
  {
   "cell_type": "code",
   "execution_count": 155,
   "outputs": [
    {
     "name": "stdout",
     "output_type": "stream",
     "text": [
      "['whole milk', 'other vegetables']\n"
     ]
    }
   ],
   "source": [
    "recommend = list(query3['consequents'])\n",
    "print(recommend)"
   ],
   "metadata": {
    "collapsed": false,
    "pycharm": {
     "name": "#%%\n"
    }
   }
  },
  {
   "cell_type": "code",
   "execution_count": 156,
   "outputs": [
    {
     "data": {
      "text/plain": "       antecedent support  consequent support       support    confidence  \\\ncount        24694.000000        24694.000000  24694.000000  24694.000000   \nmean             0.007474            0.383971      0.004419      0.614172   \nstd              0.008207            0.075710      0.004397      0.095497   \nmin              0.002566            0.066975      0.002566      0.500000   \n25%              0.004619            0.349756      0.002823      0.538462   \n50%              0.005645            0.376700      0.003336      0.590909   \n75%              0.007698            0.458045      0.004619      0.666667   \nmax              0.376700            0.458045      0.191429      1.000000   \n\n               lift      leverage    conviction  \ncount  24694.000000  24694.000000  2.469400e+04  \nmean       1.667469      0.001476           inf  \nstd        0.457445      0.000872           NaN  \nmin        1.091597      0.000215  1.083911e+00  \n25%        1.397175      0.001015  1.365512e+00  \n50%        1.561548      0.001310  1.536940e+00  \n75%        1.804921      0.001721  1.842648e+00  \nmax        8.128911      0.020845           inf  ",
      "text/html": "<div>\n<style scoped>\n    .dataframe tbody tr th:only-of-type {\n        vertical-align: middle;\n    }\n\n    .dataframe tbody tr th {\n        vertical-align: top;\n    }\n\n    .dataframe thead th {\n        text-align: right;\n    }\n</style>\n<table border=\"1\" class=\"dataframe\">\n  <thead>\n    <tr style=\"text-align: right;\">\n      <th></th>\n      <th>antecedent support</th>\n      <th>consequent support</th>\n      <th>support</th>\n      <th>confidence</th>\n      <th>lift</th>\n      <th>leverage</th>\n      <th>conviction</th>\n    </tr>\n  </thead>\n  <tbody>\n    <tr>\n      <th>count</th>\n      <td>24694.000000</td>\n      <td>24694.000000</td>\n      <td>24694.000000</td>\n      <td>24694.000000</td>\n      <td>24694.000000</td>\n      <td>24694.000000</td>\n      <td>2.469400e+04</td>\n    </tr>\n    <tr>\n      <th>mean</th>\n      <td>0.007474</td>\n      <td>0.383971</td>\n      <td>0.004419</td>\n      <td>0.614172</td>\n      <td>1.667469</td>\n      <td>0.001476</td>\n      <td>inf</td>\n    </tr>\n    <tr>\n      <th>std</th>\n      <td>0.008207</td>\n      <td>0.075710</td>\n      <td>0.004397</td>\n      <td>0.095497</td>\n      <td>0.457445</td>\n      <td>0.000872</td>\n      <td>NaN</td>\n    </tr>\n    <tr>\n      <th>min</th>\n      <td>0.002566</td>\n      <td>0.066975</td>\n      <td>0.002566</td>\n      <td>0.500000</td>\n      <td>1.091597</td>\n      <td>0.000215</td>\n      <td>1.083911e+00</td>\n    </tr>\n    <tr>\n      <th>25%</th>\n      <td>0.004619</td>\n      <td>0.349756</td>\n      <td>0.002823</td>\n      <td>0.538462</td>\n      <td>1.397175</td>\n      <td>0.001015</td>\n      <td>1.365512e+00</td>\n    </tr>\n    <tr>\n      <th>50%</th>\n      <td>0.005645</td>\n      <td>0.376700</td>\n      <td>0.003336</td>\n      <td>0.590909</td>\n      <td>1.561548</td>\n      <td>0.001310</td>\n      <td>1.536940e+00</td>\n    </tr>\n    <tr>\n      <th>75%</th>\n      <td>0.007698</td>\n      <td>0.458045</td>\n      <td>0.004619</td>\n      <td>0.666667</td>\n      <td>1.804921</td>\n      <td>0.001721</td>\n      <td>1.842648e+00</td>\n    </tr>\n    <tr>\n      <th>max</th>\n      <td>0.376700</td>\n      <td>0.458045</td>\n      <td>0.191429</td>\n      <td>1.000000</td>\n      <td>8.128911</td>\n      <td>0.020845</td>\n      <td>inf</td>\n    </tr>\n  </tbody>\n</table>\n</div>"
     },
     "execution_count": 156,
     "metadata": {},
     "output_type": "execute_result"
    }
   ],
   "source": [
    "product_rules.head()\n",
    "product_rules.describe()"
   ],
   "metadata": {
    "collapsed": false,
    "pycharm": {
     "name": "#%%\n"
    }
   }
  },
  {
   "cell_type": "code",
   "execution_count": 158,
   "outputs": [],
   "source": [
    "def recommend(z):\n",
    "    global product_rules\n",
    "    if type(z) == list:\n",
    "        if len(z) == 1:\n",
    "            master_query = product_rules[(product_rules['antecedents'].astype(str).str.contains(str(z[0])))]\n",
    "        elif len(z) == 2:\n",
    "            master_query = product_rules[(product_rules['antecedents'].astype(str).str.contains(str(z[0])))\n",
    "                                         & (product_rules['antecedents'].astype(str).str.contains(str(z[1])))]\n",
    "        elif len(z) == 3:\n",
    "            master_query = product_rules[(product_rules['antecedents'].astype(str).str.contains(str(z[0])))\n",
    "                                         & (product_rules['antecedents'].astype(str).str.contains(str(z[1])))\n",
    "                                         & (product_rules['antecedents'].astype(str).str.contains(str(z[2])))]\n",
    "        elif len(z) == 4:\n",
    "            master_query = product_rules[(product_rules['antecedents'].astype(str).str.contains(str(z[0])))\n",
    "                                         & (product_rules['antecedents'].astype(str).str.contains(str(z[1])))\n",
    "                                         & (product_rules['antecedents'].astype(str).str.contains(str(z[2])))\n",
    "                                         & (product_rules['antecedents'].astype(str).str.contains(str(z[3])))]\n",
    "        elif len(z) == 5:\n",
    "            master_query = product_rules[(product_rules['antecedents'].astype(str).str.contains(str(z[0])))\n",
    "                                         & (product_rules['antecedents'].astype(str).str.contains(str(z[1])))\n",
    "                                         & (product_rules['antecedents'].astype(str).str.contains(str(z[2])))\n",
    "                                         & (product_rules['antecedents'].astype(str).str.contains(str(z[3])))\n",
    "                                         & (product_rules['antecedents'].astype(str).str.contains(str(z[4])))]\n",
    "        else:\n",
    "            return \"Something Happened That Should Never Have Happened!!!\"\n",
    "    else:\n",
    "        master_query = product_rules[(product_rules['antecedents'].astype(str).str.contains(str(z)))]\n",
    "    master_query.sort_values(by=['support','confidence','lift'],inplace=True,ascending=(False,False,False), ignore_index=True)\n",
    "    # maybe update possible graph here ???\n",
    "    master_query['consequents'] = master_query['consequents'].apply(lambda x: ', '.join(list(x))).astype(\"unicode\")\n",
    "    result = list(master_query['conseqents'])\n",
    "    return result"
   ],
   "metadata": {
    "collapsed": false,
    "pycharm": {
     "name": "#%%\n"
    }
   }
  },
  {
   "cell_type": "code",
   "execution_count": 183,
   "outputs": [],
   "source": [
    "def start_here(x):\n",
    "    # hold = more_itertools.powerset(x)\n",
    "    # for result in more_itertools.powerset(x):\n",
    "    #     print(result)\n",
    "    # new_list = [combo for r in range(len(x) + 1) for combo in itertools.combinations(x, r)]\n",
    "    # print(new_list)\n",
    "    s = len(x)\n",
    "    masks = [1 << i for i in range(s)]\n",
    "    for i in range(1 << s):\n",
    "        yield [ss for mask, ss in zip(masks, x) if i & mask]"
   ],
   "metadata": {
    "collapsed": false,
    "pycharm": {
     "name": "#%%\n"
    }
   }
  },
  {
   "cell_type": "code",
   "execution_count": 184,
   "outputs": [],
   "source": [
    "product_rules.head(10)"
   ],
   "metadata": {
    "collapsed": false,
    "pycharm": {
     "name": "#%%\n"
    }
   }
  },
  {
   "cell_type": "code",
   "execution_count": 182,
   "outputs": [],
   "source": [
    "random_index = random.randrange(len(names[0]))\n",
    "list_to_check = copy.copy(names[0][random_index])\n",
    "list_to_check_1 = [x[random_index] for x in names[0]] * 5\n",
    "print(list_to_check_1)\n",
    "print(type(list_to_check_1))\n",
    "# print(list(start_here(list_to_check)))"
   ],
   "metadata": {
    "collapsed": false,
    "pycharm": {
     "name": "#%%\n"
    }
   }
  },
  {
   "cell_type": "code",
   "execution_count": null,
   "outputs": [],
   "source": [],
   "metadata": {
    "collapsed": false,
    "pycharm": {
     "name": "#%%\n"
    }
   }
  },
  {
   "cell_type": "code",
   "execution_count": null,
   "outputs": [],
   "source": [],
   "metadata": {
    "collapsed": false,
    "pycharm": {
     "name": "#%%\n"
    }
   }
  },
  {
   "cell_type": "code",
   "execution_count": null,
   "outputs": [],
   "source": [],
   "metadata": {
    "collapsed": false,
    "pycharm": {
     "name": "#%%\n"
    }
   }
  },
  {
   "cell_type": "code",
   "execution_count": null,
   "outputs": [],
   "source": [],
   "metadata": {
    "collapsed": false,
    "pycharm": {
     "name": "#%%\n"
    }
   }
  },
  {
   "cell_type": "code",
   "execution_count": null,
   "outputs": [],
   "source": [],
   "metadata": {
    "collapsed": false,
    "pycharm": {
     "name": "#%%\n"
    }
   }
  },
  {
   "cell_type": "code",
   "execution_count": null,
   "outputs": [],
   "source": [],
   "metadata": {
    "collapsed": false,
    "pycharm": {
     "name": "#%%\n"
    }
   }
  },
  {
   "cell_type": "code",
   "execution_count": null,
   "outputs": [],
   "source": [],
   "metadata": {
    "collapsed": false,
    "pycharm": {
     "name": "#%%\n"
    }
   }
  },
  {
   "cell_type": "code",
   "execution_count": 150,
   "outputs": [
    {
     "name": "stdout",
     "output_type": "stream",
     "text": [
      "[frozenset({'whole milk'})]\n",
      "<class 'list'>\n",
      "<class 'frozenset'>\n"
     ]
    }
   ],
   "source": [
    "print(recommend)\n",
    "print(type(recommend))\n",
    "print(type(recommend[0]))"
   ],
   "metadata": {
    "collapsed": false,
    "pycharm": {
     "name": "#%%\n"
    }
   }
  },
  {
   "cell_type": "code",
   "execution_count": 133,
   "outputs": [
    {
     "data": {
      "text/plain": "               antecedents         consequents  antecedent support  \\\n0  (Instant food products)              (soda)            0.015396   \n1  (Instant food products)        (whole milk)            0.015396   \n2               (UHT-milk)        (whole milk)            0.078522   \n3       (abrasive cleaner)        (rolls/buns)            0.005645   \n4       (artif. sweetener)  (other vegetables)            0.007442   \n\n   consequent support   support  confidence      lift  leverage  conviction  \n0            0.313318  0.007955    0.516667  1.649017  0.003131    1.420722  \n1            0.458045  0.007955    0.516667  1.127983  0.000903    1.121287  \n2            0.458045  0.040544    0.516340  1.127270  0.004577    1.120529  \n3            0.349756  0.002823    0.500000  1.429567  0.000848    1.300488  \n4            0.376700  0.003849    0.517241  1.373086  0.001046    1.291121  ",
      "text/html": "<div>\n<style scoped>\n    .dataframe tbody tr th:only-of-type {\n        vertical-align: middle;\n    }\n\n    .dataframe tbody tr th {\n        vertical-align: top;\n    }\n\n    .dataframe thead th {\n        text-align: right;\n    }\n</style>\n<table border=\"1\" class=\"dataframe\">\n  <thead>\n    <tr style=\"text-align: right;\">\n      <th></th>\n      <th>antecedents</th>\n      <th>consequents</th>\n      <th>antecedent support</th>\n      <th>consequent support</th>\n      <th>support</th>\n      <th>confidence</th>\n      <th>lift</th>\n      <th>leverage</th>\n      <th>conviction</th>\n    </tr>\n  </thead>\n  <tbody>\n    <tr>\n      <th>0</th>\n      <td>(Instant food products)</td>\n      <td>(soda)</td>\n      <td>0.015396</td>\n      <td>0.313318</td>\n      <td>0.007955</td>\n      <td>0.516667</td>\n      <td>1.649017</td>\n      <td>0.003131</td>\n      <td>1.420722</td>\n    </tr>\n    <tr>\n      <th>1</th>\n      <td>(Instant food products)</td>\n      <td>(whole milk)</td>\n      <td>0.015396</td>\n      <td>0.458045</td>\n      <td>0.007955</td>\n      <td>0.516667</td>\n      <td>1.127983</td>\n      <td>0.000903</td>\n      <td>1.121287</td>\n    </tr>\n    <tr>\n      <th>2</th>\n      <td>(UHT-milk)</td>\n      <td>(whole milk)</td>\n      <td>0.078522</td>\n      <td>0.458045</td>\n      <td>0.040544</td>\n      <td>0.516340</td>\n      <td>1.127270</td>\n      <td>0.004577</td>\n      <td>1.120529</td>\n    </tr>\n    <tr>\n      <th>3</th>\n      <td>(abrasive cleaner)</td>\n      <td>(rolls/buns)</td>\n      <td>0.005645</td>\n      <td>0.349756</td>\n      <td>0.002823</td>\n      <td>0.500000</td>\n      <td>1.429567</td>\n      <td>0.000848</td>\n      <td>1.300488</td>\n    </tr>\n    <tr>\n      <th>4</th>\n      <td>(artif. sweetener)</td>\n      <td>(other vegetables)</td>\n      <td>0.007442</td>\n      <td>0.376700</td>\n      <td>0.003849</td>\n      <td>0.517241</td>\n      <td>1.373086</td>\n      <td>0.001046</td>\n      <td>1.291121</td>\n    </tr>\n  </tbody>\n</table>\n</div>"
     },
     "execution_count": 133,
     "metadata": {},
     "output_type": "execute_result"
    }
   ],
   "source": [
    "product_rules.head()"
   ],
   "metadata": {
    "collapsed": false,
    "pycharm": {
     "name": "#%%\n"
    }
   }
  },
  {
   "cell_type": "code",
   "execution_count": null,
   "outputs": [],
   "source": [],
   "metadata": {
    "collapsed": false,
    "pycharm": {
     "name": "#%%\n"
    }
   }
  }
 ],
 "metadata": {
  "kernelspec": {
   "display_name": "Python 3",
   "language": "python",
   "name": "python3"
  },
  "language_info": {
   "codemirror_mode": {
    "name": "ipython",
    "version": 2
   },
   "file_extension": ".py",
   "mimetype": "text/x-python",
   "name": "python",
   "nbconvert_exporter": "python",
   "pygments_lexer": "ipython2",
   "version": "2.7.6"
  }
 },
 "nbformat": 4,
 "nbformat_minor": 0
}