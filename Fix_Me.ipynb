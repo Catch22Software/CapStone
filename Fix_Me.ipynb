{
 "cells": [
  {
   "cell_type": "code",
   "execution_count": 1,
   "metadata": {
    "collapsed": true
   },
   "outputs": [],
   "source": [
    "import copy\n",
    "import time\n",
    "import threading\n",
    "import pandas as pd\n",
    "import numpy as np\n",
    "import more_itertools\n",
    "import csv\n",
    "import random\n",
    "import itertools\n",
    "pd.options.mode.chained_assignment = None  # default = 'warn'"
   ]
  },
  {
   "cell_type": "code",
   "execution_count": 2,
   "outputs": [
    {
     "data": {
      "text/plain": "                            antecedents                      consequents  \\\n0  frozenset({'Instant food products'})              frozenset({'soda'})   \n1  frozenset({'Instant food products'})        frozenset({'whole milk'})   \n2               frozenset({'UHT-milk'})        frozenset({'whole milk'})   \n3       frozenset({'abrasive cleaner'})        frozenset({'rolls/buns'})   \n4       frozenset({'artif. sweetener'})  frozenset({'other vegetables'})   \n\n   antecedent support  consequent support   support  confidence      lift  \\\n0            0.015396            0.313318  0.007955    0.516667  1.649017   \n1            0.015396            0.458045  0.007955    0.516667  1.127983   \n2            0.078522            0.458045  0.040544    0.516340  1.127270   \n3            0.005645            0.349756  0.002823    0.500000  1.429567   \n4            0.007442            0.376700  0.003849    0.517241  1.373086   \n\n   leverage  conviction  \n0  0.003131    1.420722  \n1  0.000903    1.121287  \n2  0.004577    1.120529  \n3  0.000848    1.300488  \n4  0.001046    1.291121  ",
      "text/html": "<div>\n<style scoped>\n    .dataframe tbody tr th:only-of-type {\n        vertical-align: middle;\n    }\n\n    .dataframe tbody tr th {\n        vertical-align: top;\n    }\n\n    .dataframe thead th {\n        text-align: right;\n    }\n</style>\n<table border=\"1\" class=\"dataframe\">\n  <thead>\n    <tr style=\"text-align: right;\">\n      <th></th>\n      <th>antecedents</th>\n      <th>consequents</th>\n      <th>antecedent support</th>\n      <th>consequent support</th>\n      <th>support</th>\n      <th>confidence</th>\n      <th>lift</th>\n      <th>leverage</th>\n      <th>conviction</th>\n    </tr>\n  </thead>\n  <tbody>\n    <tr>\n      <th>0</th>\n      <td>frozenset({'Instant food products'})</td>\n      <td>frozenset({'soda'})</td>\n      <td>0.015396</td>\n      <td>0.313318</td>\n      <td>0.007955</td>\n      <td>0.516667</td>\n      <td>1.649017</td>\n      <td>0.003131</td>\n      <td>1.420722</td>\n    </tr>\n    <tr>\n      <th>1</th>\n      <td>frozenset({'Instant food products'})</td>\n      <td>frozenset({'whole milk'})</td>\n      <td>0.015396</td>\n      <td>0.458045</td>\n      <td>0.007955</td>\n      <td>0.516667</td>\n      <td>1.127983</td>\n      <td>0.000903</td>\n      <td>1.121287</td>\n    </tr>\n    <tr>\n      <th>2</th>\n      <td>frozenset({'UHT-milk'})</td>\n      <td>frozenset({'whole milk'})</td>\n      <td>0.078522</td>\n      <td>0.458045</td>\n      <td>0.040544</td>\n      <td>0.516340</td>\n      <td>1.127270</td>\n      <td>0.004577</td>\n      <td>1.120529</td>\n    </tr>\n    <tr>\n      <th>3</th>\n      <td>frozenset({'abrasive cleaner'})</td>\n      <td>frozenset({'rolls/buns'})</td>\n      <td>0.005645</td>\n      <td>0.349756</td>\n      <td>0.002823</td>\n      <td>0.500000</td>\n      <td>1.429567</td>\n      <td>0.000848</td>\n      <td>1.300488</td>\n    </tr>\n    <tr>\n      <th>4</th>\n      <td>frozenset({'artif. sweetener'})</td>\n      <td>frozenset({'other vegetables'})</td>\n      <td>0.007442</td>\n      <td>0.376700</td>\n      <td>0.003849</td>\n      <td>0.517241</td>\n      <td>1.373086</td>\n      <td>0.001046</td>\n      <td>1.291121</td>\n    </tr>\n  </tbody>\n</table>\n</div>"
     },
     "execution_count": 2,
     "metadata": {},
     "output_type": "execute_result"
    }
   ],
   "source": [
    "product_rules = pd.read_csv('Data/master_rules.csv')\n",
    "# product_rules.drop(columns=['Unnamed: 0'], inplace=True)\n",
    "product_rules.head()"
   ],
   "metadata": {
    "collapsed": false,
    "pycharm": {
     "name": "#%%\n"
    }
   }
  },
  {
   "cell_type": "code",
   "execution_count": 3,
   "outputs": [],
   "source": [
    "with open('Data/names.csv') as f:\n",
    "    read = csv.reader(f)\n",
    "    names = list(read)"
   ],
   "metadata": {
    "collapsed": false,
    "pycharm": {
     "name": "#%%\n"
    }
   }
  },
  {
   "cell_type": "code",
   "execution_count": 4,
   "outputs": [
    {
     "name": "stdout",
     "output_type": "stream",
     "text": [
      "[['Instant food products', 'UHT-milk', 'abrasive cleaner', 'artif. sweetener', 'baby cosmetics', 'bags', 'baking powder', 'bathroom cleaner', 'beef', 'berries', 'beverages', 'bottled beer', 'bottled water', 'brandy', 'brown bread', 'butter', 'butter milk', 'cake bar', 'candles', 'candy', 'canned beer', 'canned fish', 'canned fruit', 'canned vegetables', 'cat food', 'cereals', 'chewing gum', 'chicken', 'chocolate', 'chocolate marshmallow', 'citrus fruit', 'cleaner', 'cling film/bags', 'cocoa drinks', 'coffee', 'condensed milk', 'cooking chocolate', 'cookware', 'cream', 'cream cheese ', 'curd', 'curd cheese', 'decalcifier', 'dental care', 'dessert', 'detergent', 'dish cleaner', 'dishes', 'dog food', 'domestic eggs', 'female sanitary products', 'finished products', 'fish', 'flour', 'flower (seeds)', 'flower soil/fertilizer', 'frankfurter', 'frozen chicken', 'frozen dessert', 'frozen fish', 'frozen fruits', 'frozen meals', 'frozen potato products', 'frozen vegetables', 'fruit/vegetable juice', 'grapes', 'hair spray', 'ham', 'hamburger meat', 'hard cheese', 'herbs', 'honey', 'house keeping products', 'hygiene articles', 'ice cream', 'instant coffee', 'jam', 'ketchup', 'kitchen towels', 'kitchen utensil', 'light bulbs', 'liqueur', 'liquor', 'liquor (appetizer)', 'liver loaf', 'long life bakery product', 'make up remover', 'male cosmetics', 'margarine', 'mayonnaise', 'meat', 'meat spreads', 'misc. beverages', 'mustard', 'napkins', 'newspapers', 'nut snack', 'nuts/prunes', 'oil', 'onions', 'organic products', 'organic sausage', 'other vegetables', 'packaged fruit/vegetables', 'pasta', 'pastry', 'pet care', 'photo/film', 'pickled vegetables', 'pip fruit', 'popcorn', 'pork', 'pot plants', 'potato products', 'preservation products', 'processed cheese', 'prosecco', 'pudding powder', 'ready soups', 'red/blush wine', 'rice', 'roll products ', 'rolls/buns', 'root vegetables', 'rubbing alcohol', 'rum', 'salad dressing', 'salt', 'salty snack', 'sauces', 'sausage', 'seasonal products', 'semi-finished bread', 'shopping bags', 'skin care', 'sliced cheese', 'snack products', 'soap', 'soda', 'soft cheese', 'softener', 'soups', 'sparkling wine', 'specialty bar', 'specialty cheese', 'specialty chocolate', 'specialty fat', 'specialty vegetables', 'spices', 'spread cheese', 'sugar', 'sweet spreads', 'syrup', 'tea', 'tidbits', 'toilet cleaner', 'tropical fruit', 'turkey', 'vinegar', 'waffles', 'whipped/sour cream', 'whisky', 'white bread', 'white wine', 'whole milk', 'yogurt', 'zwieback']]\n"
     ]
    }
   ],
   "source": [
    "print(names)"
   ],
   "metadata": {
    "collapsed": false,
    "pycharm": {
     "name": "#%%\n"
    }
   }
  },
  {
   "cell_type": "code",
   "execution_count": 5,
   "outputs": [
    {
     "name": "stdout",
     "output_type": "stream",
     "text": [
      "167\n"
     ]
    }
   ],
   "source": [
    "print(len(names[0]))"
   ],
   "metadata": {
    "collapsed": false,
    "pycharm": {
     "name": "#%%\n"
    }
   }
  },
  {
   "cell_type": "code",
   "execution_count": 6,
   "outputs": [
    {
     "data": {
      "text/plain": "antecedents            object\nconsequents            object\nantecedent support    float64\nconsequent support    float64\nsupport               float64\nconfidence            float64\nlift                  float64\nleverage              float64\nconviction            float64\ndtype: object"
     },
     "execution_count": 6,
     "metadata": {},
     "output_type": "execute_result"
    }
   ],
   "source": [
    "product_rules.dtypes"
   ],
   "metadata": {
    "collapsed": false,
    "pycharm": {
     "name": "#%%\n"
    }
   }
  },
  {
   "cell_type": "code",
   "execution_count": 7,
   "outputs": [],
   "source": [
    "def fix_frozen_set(x):\n",
    "    \"\"\"\n",
    "    :param x:\n",
    "    :return: takes panda dataframe and reformats antecedents and consequents as Frozensets for correct querying\n",
    "    \"\"\"\n",
    "    beginning = x.find(\"'\") + 1\n",
    "    end = x.rfind(\"'\")\n",
    "    data = x[beginning: end]\n",
    "    data_remove_apostrophes = data.replace(\"'\", '')\n",
    "    new_data = data_remove_apostrophes.split(',')\n",
    "    new_data_stripped = []\n",
    "    for i in range(len(new_data)):\n",
    "        new_data_stripped.append(copy.copy(new_data[i].strip()))\n",
    "    if len(new_data_stripped) == 1:\n",
    "        return frozenset(new_data_stripped)\n",
    "    else:\n",
    "        return frozenset([x for x in new_data_stripped])\n"
   ],
   "metadata": {
    "collapsed": false,
    "pycharm": {
     "name": "#%%\n"
    }
   }
  },
  {
   "cell_type": "code",
   "execution_count": 8,
   "outputs": [
    {
     "data": {
      "text/plain": "               antecedents         consequents  antecedent support  \\\n0  (Instant food products)              (soda)            0.015396   \n1  (Instant food products)        (whole milk)            0.015396   \n2               (UHT-milk)        (whole milk)            0.078522   \n3       (abrasive cleaner)        (rolls/buns)            0.005645   \n4       (artif. sweetener)  (other vegetables)            0.007442   \n\n   consequent support   support  confidence      lift  leverage  conviction  \n0            0.313318  0.007955    0.516667  1.649017  0.003131    1.420722  \n1            0.458045  0.007955    0.516667  1.127983  0.000903    1.121287  \n2            0.458045  0.040544    0.516340  1.127270  0.004577    1.120529  \n3            0.349756  0.002823    0.500000  1.429567  0.000848    1.300488  \n4            0.376700  0.003849    0.517241  1.373086  0.001046    1.291121  ",
      "text/html": "<div>\n<style scoped>\n    .dataframe tbody tr th:only-of-type {\n        vertical-align: middle;\n    }\n\n    .dataframe tbody tr th {\n        vertical-align: top;\n    }\n\n    .dataframe thead th {\n        text-align: right;\n    }\n</style>\n<table border=\"1\" class=\"dataframe\">\n  <thead>\n    <tr style=\"text-align: right;\">\n      <th></th>\n      <th>antecedents</th>\n      <th>consequents</th>\n      <th>antecedent support</th>\n      <th>consequent support</th>\n      <th>support</th>\n      <th>confidence</th>\n      <th>lift</th>\n      <th>leverage</th>\n      <th>conviction</th>\n    </tr>\n  </thead>\n  <tbody>\n    <tr>\n      <th>0</th>\n      <td>(Instant food products)</td>\n      <td>(soda)</td>\n      <td>0.015396</td>\n      <td>0.313318</td>\n      <td>0.007955</td>\n      <td>0.516667</td>\n      <td>1.649017</td>\n      <td>0.003131</td>\n      <td>1.420722</td>\n    </tr>\n    <tr>\n      <th>1</th>\n      <td>(Instant food products)</td>\n      <td>(whole milk)</td>\n      <td>0.015396</td>\n      <td>0.458045</td>\n      <td>0.007955</td>\n      <td>0.516667</td>\n      <td>1.127983</td>\n      <td>0.000903</td>\n      <td>1.121287</td>\n    </tr>\n    <tr>\n      <th>2</th>\n      <td>(UHT-milk)</td>\n      <td>(whole milk)</td>\n      <td>0.078522</td>\n      <td>0.458045</td>\n      <td>0.040544</td>\n      <td>0.516340</td>\n      <td>1.127270</td>\n      <td>0.004577</td>\n      <td>1.120529</td>\n    </tr>\n    <tr>\n      <th>3</th>\n      <td>(abrasive cleaner)</td>\n      <td>(rolls/buns)</td>\n      <td>0.005645</td>\n      <td>0.349756</td>\n      <td>0.002823</td>\n      <td>0.500000</td>\n      <td>1.429567</td>\n      <td>0.000848</td>\n      <td>1.300488</td>\n    </tr>\n    <tr>\n      <th>4</th>\n      <td>(artif. sweetener)</td>\n      <td>(other vegetables)</td>\n      <td>0.007442</td>\n      <td>0.376700</td>\n      <td>0.003849</td>\n      <td>0.517241</td>\n      <td>1.373086</td>\n      <td>0.001046</td>\n      <td>1.291121</td>\n    </tr>\n  </tbody>\n</table>\n</div>"
     },
     "execution_count": 8,
     "metadata": {},
     "output_type": "execute_result"
    }
   ],
   "source": [
    "product_rules['antecedents'] = product_rules['antecedents'].apply(fix_frozen_set)\n",
    "product_rules['consequents'] = product_rules['consequents'].apply(fix_frozen_set)\n",
    "product_rules.head()"
   ],
   "metadata": {
    "collapsed": false,
    "pycharm": {
     "name": "#%%\n"
    }
   }
  },
  {
   "cell_type": "code",
   "execution_count": 9,
   "outputs": [
    {
     "data": {
      "text/plain": "                                             antecedents         consequents  \\\n0                                (Instant food products)              (soda)   \n1                                (Instant food products)        (whole milk)   \n2                                             (UHT-milk)        (whole milk)   \n3                                     (abrasive cleaner)        (rolls/buns)   \n4                                     (artif. sweetener)  (other vegetables)   \n...                                                  ...                 ...   \n24247  (soda, bottled water, other vegetables, rolls/...   (root vegetables)   \n24248  (root vegetables, bottled water, other vegetab...              (soda)   \n24249  (root vegetables, soda, other vegetables, roll...     (bottled water)   \n24250  (root vegetables, soda, bottled water, other v...        (rolls/buns)   \n24251  (root vegetables, soda, bottled water, rolls/b...  (other vegetables)   \n\n       antecedent support  consequent support   support  confidence      lift  \\\n0                0.015396            0.313318  0.007955    0.516667  1.649017   \n1                0.015396            0.458045  0.007955    0.516667  1.127983   \n2                0.078522            0.458045  0.040544    0.516340  1.127270   \n3                0.005645            0.349756  0.002823    0.500000  1.429567   \n4                0.007442            0.376700  0.003849    0.517241  1.373086   \n...                   ...                 ...       ...         ...       ...   \n24247            0.003849            0.230690  0.002566    0.666667  2.889878   \n24248            0.003336            0.313318  0.002566    0.769231  2.455112   \n24249            0.003336            0.213754  0.002566    0.769231  3.598670   \n24250            0.003336            0.349756  0.002566    0.769231  2.199334   \n24251            0.003079            0.376700  0.002566    0.833333  2.212193   \n\n       leverage  conviction  \n0      0.003131    1.420722  \n1      0.000903    1.121287  \n2      0.004577    1.120529  \n3      0.000848    1.300488  \n4      0.001046    1.291121  \n...         ...         ...  \n24247  0.001678    2.307929  \n24248  0.001521    2.975622  \n24249  0.001853    3.407065  \n24250  0.001399    2.817723  \n24251  0.001406    3.739800  \n\n[24252 rows x 9 columns]",
      "text/html": "<div>\n<style scoped>\n    .dataframe tbody tr th:only-of-type {\n        vertical-align: middle;\n    }\n\n    .dataframe tbody tr th {\n        vertical-align: top;\n    }\n\n    .dataframe thead th {\n        text-align: right;\n    }\n</style>\n<table border=\"1\" class=\"dataframe\">\n  <thead>\n    <tr style=\"text-align: right;\">\n      <th></th>\n      <th>antecedents</th>\n      <th>consequents</th>\n      <th>antecedent support</th>\n      <th>consequent support</th>\n      <th>support</th>\n      <th>confidence</th>\n      <th>lift</th>\n      <th>leverage</th>\n      <th>conviction</th>\n    </tr>\n  </thead>\n  <tbody>\n    <tr>\n      <th>0</th>\n      <td>(Instant food products)</td>\n      <td>(soda)</td>\n      <td>0.015396</td>\n      <td>0.313318</td>\n      <td>0.007955</td>\n      <td>0.516667</td>\n      <td>1.649017</td>\n      <td>0.003131</td>\n      <td>1.420722</td>\n    </tr>\n    <tr>\n      <th>1</th>\n      <td>(Instant food products)</td>\n      <td>(whole milk)</td>\n      <td>0.015396</td>\n      <td>0.458045</td>\n      <td>0.007955</td>\n      <td>0.516667</td>\n      <td>1.127983</td>\n      <td>0.000903</td>\n      <td>1.121287</td>\n    </tr>\n    <tr>\n      <th>2</th>\n      <td>(UHT-milk)</td>\n      <td>(whole milk)</td>\n      <td>0.078522</td>\n      <td>0.458045</td>\n      <td>0.040544</td>\n      <td>0.516340</td>\n      <td>1.127270</td>\n      <td>0.004577</td>\n      <td>1.120529</td>\n    </tr>\n    <tr>\n      <th>3</th>\n      <td>(abrasive cleaner)</td>\n      <td>(rolls/buns)</td>\n      <td>0.005645</td>\n      <td>0.349756</td>\n      <td>0.002823</td>\n      <td>0.500000</td>\n      <td>1.429567</td>\n      <td>0.000848</td>\n      <td>1.300488</td>\n    </tr>\n    <tr>\n      <th>4</th>\n      <td>(artif. sweetener)</td>\n      <td>(other vegetables)</td>\n      <td>0.007442</td>\n      <td>0.376700</td>\n      <td>0.003849</td>\n      <td>0.517241</td>\n      <td>1.373086</td>\n      <td>0.001046</td>\n      <td>1.291121</td>\n    </tr>\n    <tr>\n      <th>...</th>\n      <td>...</td>\n      <td>...</td>\n      <td>...</td>\n      <td>...</td>\n      <td>...</td>\n      <td>...</td>\n      <td>...</td>\n      <td>...</td>\n      <td>...</td>\n    </tr>\n    <tr>\n      <th>24247</th>\n      <td>(soda, bottled water, other vegetables, rolls/...</td>\n      <td>(root vegetables)</td>\n      <td>0.003849</td>\n      <td>0.230690</td>\n      <td>0.002566</td>\n      <td>0.666667</td>\n      <td>2.889878</td>\n      <td>0.001678</td>\n      <td>2.307929</td>\n    </tr>\n    <tr>\n      <th>24248</th>\n      <td>(root vegetables, bottled water, other vegetab...</td>\n      <td>(soda)</td>\n      <td>0.003336</td>\n      <td>0.313318</td>\n      <td>0.002566</td>\n      <td>0.769231</td>\n      <td>2.455112</td>\n      <td>0.001521</td>\n      <td>2.975622</td>\n    </tr>\n    <tr>\n      <th>24249</th>\n      <td>(root vegetables, soda, other vegetables, roll...</td>\n      <td>(bottled water)</td>\n      <td>0.003336</td>\n      <td>0.213754</td>\n      <td>0.002566</td>\n      <td>0.769231</td>\n      <td>3.598670</td>\n      <td>0.001853</td>\n      <td>3.407065</td>\n    </tr>\n    <tr>\n      <th>24250</th>\n      <td>(root vegetables, soda, bottled water, other v...</td>\n      <td>(rolls/buns)</td>\n      <td>0.003336</td>\n      <td>0.349756</td>\n      <td>0.002566</td>\n      <td>0.769231</td>\n      <td>2.199334</td>\n      <td>0.001399</td>\n      <td>2.817723</td>\n    </tr>\n    <tr>\n      <th>24251</th>\n      <td>(root vegetables, soda, bottled water, rolls/b...</td>\n      <td>(other vegetables)</td>\n      <td>0.003079</td>\n      <td>0.376700</td>\n      <td>0.002566</td>\n      <td>0.833333</td>\n      <td>2.212193</td>\n      <td>0.001406</td>\n      <td>3.739800</td>\n    </tr>\n  </tbody>\n</table>\n<p>24252 rows × 9 columns</p>\n</div>"
     },
     "execution_count": 9,
     "metadata": {},
     "output_type": "execute_result"
    }
   ],
   "source": [
    "product_rules"
   ],
   "metadata": {
    "collapsed": false,
    "pycharm": {
     "name": "#%%\n"
    }
   }
  },
  {
   "cell_type": "code",
   "execution_count": 80,
   "outputs": [],
   "source": [
    "# def clean_up(factored_answer):\n",
    "#     if len(factored_answer) == 1:\n",
    "#         return factored_answer\n",
    "#     to_check = copy.deepcopy(factored_answer)\n",
    "#     index = 0\n",
    "#     while index < len(to_check):\n",
    "#         if to_check[index].find(','):\n",
    "#             to_split = copy.copy(to_check[index].split(','))\n",
    "#             to_check.pop(index)\n",
    "#             for j in range(len(to_split)):\n",
    "#                 to_check.append(copy.copy(to_split[j]))\n",
    "#             index = 0\n",
    "#         else:\n",
    "#             index += 1\n",
    "#             continue\n",
    "#     return set(to_check)\n",
    "\n",
    "def recommend(z):  # input is list of lists\n",
    "    print(\"Z contains: \", z)\n",
    "    print()\n",
    "    print(\"Length of Z is: \",len(z))\n",
    "    print()\n",
    "    global product_rules\n",
    "    master_query = None\n",
    "    while True:\n",
    "        try:\n",
    "            master_query = product_rules[product_rules['antecedents'] == {z[0], z[1], z[2], z[3], z[4]}]\n",
    "        except IndexError:\n",
    "            print(\"Query after not having 5 entries is: \",master_query)\n",
    "            print(\"Type of query is: \", type(master_query))\n",
    "            print()\n",
    "            pass\n",
    "        if master_query is not None:\n",
    "            break\n",
    "        try:\n",
    "            print(\"Made it to second try statement!!\\n\")\n",
    "            master_query = product_rules[product_rules['antecedents'] == {z[0], z[1], z[2], z[3]}]\n",
    "        except IndexError:\n",
    "            pass\n",
    "        if master_query is not None:\n",
    "            break\n",
    "        try:\n",
    "            print(\"Made it to the third try statement!!\\n\")\n",
    "            master_query = product_rules[product_rules['antecedents'] == {z[0], z[1], z[2]}]\n",
    "        except IndexError:\n",
    "            pass\n",
    "        if master_query is not None:\n",
    "            break\n",
    "        try:\n",
    "            print(\"Made it to the fourth try statement!!\\n\")\n",
    "            master_query = product_rules[product_rules['antecedents'] == {z[0], z[1]}]\n",
    "        except IndexError:\n",
    "            pass\n",
    "        if master_query is not None:\n",
    "            break\n",
    "        try:\n",
    "            print(\"Made it to the last try statement!!\\n\")\n",
    "            master_query = product_rules[product_rules['antecedents'] == {z[0]}]\n",
    "        except IndexError:\n",
    "            return \"OOPS!\"\n",
    "        if master_query is None:\n",
    "            return None\n",
    "    master_query.sort_values(by=['support','confidence','lift'],inplace=True,ascending=(False,False,False), ignore_index=True)\n",
    "    # maybe update possible graph here ???\n",
    "    master_query['consequents'] = master_query['consequents'].apply(lambda x: ', '.join(list(x))).astype(\"unicode\")\n",
    "    results = list(master_query['consequents'])\n",
    "    print(len(results))\n",
    "    print(results)\n",
    "    if len(results) == 0:\n",
    "        return None\n",
    "    else:\n",
    "        return set(results)\n",
    "    # if len(results) == 1:\n",
    "    #     print(\"GOT CAUGHT IN THE IF STATEMENT!!\")\n",
    "    #     return results\n",
    "    # print('MADE IT PAST THE IF STATEMENT!!!')\n",
    "    # factored_answer = set()\n",
    "    # for value in range(len(results)):\n",
    "    #     factored_answer.add(copy.copy(results[value]))\n",
    "    # print(\"Factored answer: \",factored_answer)\n",
    "    # print(len(factored_answer))\n",
    "    # factored_answer_after_cleanup = clean_up(factored_answer)\n",
    "    # return factored_answer_after_cleanup\n",
    "    # df[df['antecedents'] == {'rolls/buns', 'Instant food products'}]"
   ],
   "metadata": {
    "collapsed": false,
    "pycharm": {
     "name": "#%%\n"
    }
   }
  },
  {
   "cell_type": "code",
   "execution_count": 81,
   "outputs": [],
   "source": [
    "# def synchronized(func):\n",
    "#     func.__lock__ = threading.Lock()\n",
    "#\n",
    "#     def synced_func(*args, **kws):\n",
    "#         with func.__lock__:\n",
    "#             return func(*args, **kws)\n",
    "#     return synced_func"
   ],
   "metadata": {
    "collapsed": false,
    "pycharm": {
     "name": "#%%\n"
    }
   }
  },
  {
   "cell_type": "code",
   "execution_count": 102,
   "outputs": [],
   "source": [
    "def start_here(x):\n",
    "    master_search = []\n",
    "    for j in range(1,6):\n",
    "        for element in itertools.combinations(x, j):\n",
    "            master_search.append(list(element))\n",
    "    print(\"Length of master search is: \", len(master_search))\n",
    "    while True:\n",
    "        try:\n",
    "            print(\"GOING INTO RECOMMEND!!!\\n\\n\")\n",
    "            response = recommend(master_search[-1])\n",
    "            print(\"LEFT RECOMMEND!!!\\n\\n\")\n",
    "        except IndexError:\n",
    "            return 'SOMETHING WENT WRONG!!!'\n",
    "        if response is None or response == \"OOPS!\":\n",
    "            master_search.pop()\n",
    "            print(\"Length of Master Search is: \", len(master_search))\n",
    "            print(\"Master search contains: \", master_search)\n",
    "            response = None\n",
    "            continue\n",
    "        elif response == 0: # this becomes else statement once code is added TODO\n",
    "            pass\n",
    "            # add code to check if item returned is in list already\n",
    "        else:\n",
    "            print(\"MAKES IT TO FINAL ELSE!!! \\n\\n\\n\")\n",
    "            # add code to check if items already in inventory... TODO\n",
    "            return response\n",
    "    # print(\"Master Search Query Contains: \", master_search)\n",
    "    # print('Length of Master Search Query: ', len(master_search))\n",
    "    # print('\\n\\n\\n')\n",
    "    # print('\\n\\n\\n')\n",
    "    # print('Cleaned up version is: ', response)\n",
    "    # print(\"Length is: \", len(response))\n",
    "    # return response"
   ],
   "metadata": {
    "collapsed": false,
    "pycharm": {
     "name": "#%%\n"
    }
   }
  },
  {
   "cell_type": "code",
   "execution_count": 103,
   "outputs": [],
   "source": [
    "list_to_check_5 = []\n",
    "for i in range(5):\n",
    "    random_index = random.randrange(len(names[0]))\n",
    "    list_to_check_5.append(copy.copy(names[0][random_index]))"
   ],
   "metadata": {
    "collapsed": false,
    "pycharm": {
     "name": "#%%\n"
    }
   }
  },
  {
   "cell_type": "code",
   "execution_count": 104,
   "outputs": [
    {
     "name": "stdout",
     "output_type": "stream",
     "text": [
      "['sugar', 'whisky', 'spices', 'cooking chocolate', 'long life bakery product']\n"
     ]
    }
   ],
   "source": [
    "print(list_to_check_5)"
   ],
   "metadata": {
    "collapsed": false,
    "pycharm": {
     "name": "#%%\n"
    }
   }
  },
  {
   "cell_type": "code",
   "execution_count": 105,
   "outputs": [
    {
     "name": "stdout",
     "output_type": "stream",
     "text": [
      "Length of master search is:  31\n",
      "GOING INTO RECOMMEND!!!\n",
      "\n",
      "\n",
      "Z contains:  ['sugar', 'whisky', 'spices', 'cooking chocolate', 'long life bakery product']\n",
      "\n",
      "Length of Z is:  5\n",
      "\n",
      "0\n",
      "[]\n",
      "LEFT RECOMMEND!!!\n",
      "\n",
      "\n",
      "Length of Master Search is:  30\n",
      "Master search contains:  [['sugar'], ['whisky'], ['spices'], ['cooking chocolate'], ['long life bakery product'], ['sugar', 'whisky'], ['sugar', 'spices'], ['sugar', 'cooking chocolate'], ['sugar', 'long life bakery product'], ['whisky', 'spices'], ['whisky', 'cooking chocolate'], ['whisky', 'long life bakery product'], ['spices', 'cooking chocolate'], ['spices', 'long life bakery product'], ['cooking chocolate', 'long life bakery product'], ['sugar', 'whisky', 'spices'], ['sugar', 'whisky', 'cooking chocolate'], ['sugar', 'whisky', 'long life bakery product'], ['sugar', 'spices', 'cooking chocolate'], ['sugar', 'spices', 'long life bakery product'], ['sugar', 'cooking chocolate', 'long life bakery product'], ['whisky', 'spices', 'cooking chocolate'], ['whisky', 'spices', 'long life bakery product'], ['whisky', 'cooking chocolate', 'long life bakery product'], ['spices', 'cooking chocolate', 'long life bakery product'], ['sugar', 'whisky', 'spices', 'cooking chocolate'], ['sugar', 'whisky', 'spices', 'long life bakery product'], ['sugar', 'whisky', 'cooking chocolate', 'long life bakery product'], ['sugar', 'spices', 'cooking chocolate', 'long life bakery product'], ['whisky', 'spices', 'cooking chocolate', 'long life bakery product']]\n",
      "GOING INTO RECOMMEND!!!\n",
      "\n",
      "\n",
      "Z contains:  ['whisky', 'spices', 'cooking chocolate', 'long life bakery product']\n",
      "\n",
      "Length of Z is:  4\n",
      "\n",
      "Query after not having 5 entries is:  None\n",
      "Type of query is:  <class 'NoneType'>\n",
      "\n",
      "Made it to second try statement!!\n",
      "\n",
      "0\n",
      "[]\n",
      "LEFT RECOMMEND!!!\n",
      "\n",
      "\n",
      "Length of Master Search is:  29\n",
      "Master search contains:  [['sugar'], ['whisky'], ['spices'], ['cooking chocolate'], ['long life bakery product'], ['sugar', 'whisky'], ['sugar', 'spices'], ['sugar', 'cooking chocolate'], ['sugar', 'long life bakery product'], ['whisky', 'spices'], ['whisky', 'cooking chocolate'], ['whisky', 'long life bakery product'], ['spices', 'cooking chocolate'], ['spices', 'long life bakery product'], ['cooking chocolate', 'long life bakery product'], ['sugar', 'whisky', 'spices'], ['sugar', 'whisky', 'cooking chocolate'], ['sugar', 'whisky', 'long life bakery product'], ['sugar', 'spices', 'cooking chocolate'], ['sugar', 'spices', 'long life bakery product'], ['sugar', 'cooking chocolate', 'long life bakery product'], ['whisky', 'spices', 'cooking chocolate'], ['whisky', 'spices', 'long life bakery product'], ['whisky', 'cooking chocolate', 'long life bakery product'], ['spices', 'cooking chocolate', 'long life bakery product'], ['sugar', 'whisky', 'spices', 'cooking chocolate'], ['sugar', 'whisky', 'spices', 'long life bakery product'], ['sugar', 'whisky', 'cooking chocolate', 'long life bakery product'], ['sugar', 'spices', 'cooking chocolate', 'long life bakery product']]\n",
      "GOING INTO RECOMMEND!!!\n",
      "\n",
      "\n",
      "Z contains:  ['sugar', 'spices', 'cooking chocolate', 'long life bakery product']\n",
      "\n",
      "Length of Z is:  4\n",
      "\n",
      "Query after not having 5 entries is:  None\n",
      "Type of query is:  <class 'NoneType'>\n",
      "\n",
      "Made it to second try statement!!\n",
      "\n",
      "0\n",
      "[]\n",
      "LEFT RECOMMEND!!!\n",
      "\n",
      "\n",
      "Length of Master Search is:  28\n",
      "Master search contains:  [['sugar'], ['whisky'], ['spices'], ['cooking chocolate'], ['long life bakery product'], ['sugar', 'whisky'], ['sugar', 'spices'], ['sugar', 'cooking chocolate'], ['sugar', 'long life bakery product'], ['whisky', 'spices'], ['whisky', 'cooking chocolate'], ['whisky', 'long life bakery product'], ['spices', 'cooking chocolate'], ['spices', 'long life bakery product'], ['cooking chocolate', 'long life bakery product'], ['sugar', 'whisky', 'spices'], ['sugar', 'whisky', 'cooking chocolate'], ['sugar', 'whisky', 'long life bakery product'], ['sugar', 'spices', 'cooking chocolate'], ['sugar', 'spices', 'long life bakery product'], ['sugar', 'cooking chocolate', 'long life bakery product'], ['whisky', 'spices', 'cooking chocolate'], ['whisky', 'spices', 'long life bakery product'], ['whisky', 'cooking chocolate', 'long life bakery product'], ['spices', 'cooking chocolate', 'long life bakery product'], ['sugar', 'whisky', 'spices', 'cooking chocolate'], ['sugar', 'whisky', 'spices', 'long life bakery product'], ['sugar', 'whisky', 'cooking chocolate', 'long life bakery product']]\n",
      "GOING INTO RECOMMEND!!!\n",
      "\n",
      "\n",
      "Z contains:  ['sugar', 'whisky', 'cooking chocolate', 'long life bakery product']\n",
      "\n",
      "Length of Z is:  4\n",
      "\n",
      "Query after not having 5 entries is:  None\n",
      "Type of query is:  <class 'NoneType'>\n",
      "\n",
      "Made it to second try statement!!\n",
      "\n",
      "0\n",
      "[]\n",
      "LEFT RECOMMEND!!!\n",
      "\n",
      "\n",
      "Length of Master Search is:  27\n",
      "Master search contains:  [['sugar'], ['whisky'], ['spices'], ['cooking chocolate'], ['long life bakery product'], ['sugar', 'whisky'], ['sugar', 'spices'], ['sugar', 'cooking chocolate'], ['sugar', 'long life bakery product'], ['whisky', 'spices'], ['whisky', 'cooking chocolate'], ['whisky', 'long life bakery product'], ['spices', 'cooking chocolate'], ['spices', 'long life bakery product'], ['cooking chocolate', 'long life bakery product'], ['sugar', 'whisky', 'spices'], ['sugar', 'whisky', 'cooking chocolate'], ['sugar', 'whisky', 'long life bakery product'], ['sugar', 'spices', 'cooking chocolate'], ['sugar', 'spices', 'long life bakery product'], ['sugar', 'cooking chocolate', 'long life bakery product'], ['whisky', 'spices', 'cooking chocolate'], ['whisky', 'spices', 'long life bakery product'], ['whisky', 'cooking chocolate', 'long life bakery product'], ['spices', 'cooking chocolate', 'long life bakery product'], ['sugar', 'whisky', 'spices', 'cooking chocolate'], ['sugar', 'whisky', 'spices', 'long life bakery product']]\n",
      "GOING INTO RECOMMEND!!!\n",
      "\n",
      "\n",
      "Z contains:  ['sugar', 'whisky', 'spices', 'long life bakery product']\n",
      "\n",
      "Length of Z is:  4\n",
      "\n",
      "Query after not having 5 entries is:  None\n",
      "Type of query is:  <class 'NoneType'>\n",
      "\n",
      "Made it to second try statement!!\n",
      "\n",
      "0\n",
      "[]\n",
      "LEFT RECOMMEND!!!\n",
      "\n",
      "\n",
      "Length of Master Search is:  26\n",
      "Master search contains:  [['sugar'], ['whisky'], ['spices'], ['cooking chocolate'], ['long life bakery product'], ['sugar', 'whisky'], ['sugar', 'spices'], ['sugar', 'cooking chocolate'], ['sugar', 'long life bakery product'], ['whisky', 'spices'], ['whisky', 'cooking chocolate'], ['whisky', 'long life bakery product'], ['spices', 'cooking chocolate'], ['spices', 'long life bakery product'], ['cooking chocolate', 'long life bakery product'], ['sugar', 'whisky', 'spices'], ['sugar', 'whisky', 'cooking chocolate'], ['sugar', 'whisky', 'long life bakery product'], ['sugar', 'spices', 'cooking chocolate'], ['sugar', 'spices', 'long life bakery product'], ['sugar', 'cooking chocolate', 'long life bakery product'], ['whisky', 'spices', 'cooking chocolate'], ['whisky', 'spices', 'long life bakery product'], ['whisky', 'cooking chocolate', 'long life bakery product'], ['spices', 'cooking chocolate', 'long life bakery product'], ['sugar', 'whisky', 'spices', 'cooking chocolate']]\n",
      "GOING INTO RECOMMEND!!!\n",
      "\n",
      "\n",
      "Z contains:  ['sugar', 'whisky', 'spices', 'cooking chocolate']\n",
      "\n",
      "Length of Z is:  4\n",
      "\n",
      "Query after not having 5 entries is:  None\n",
      "Type of query is:  <class 'NoneType'>\n",
      "\n",
      "Made it to second try statement!!\n",
      "\n",
      "0\n",
      "[]\n",
      "LEFT RECOMMEND!!!\n",
      "\n",
      "\n",
      "Length of Master Search is:  25\n",
      "Master search contains:  [['sugar'], ['whisky'], ['spices'], ['cooking chocolate'], ['long life bakery product'], ['sugar', 'whisky'], ['sugar', 'spices'], ['sugar', 'cooking chocolate'], ['sugar', 'long life bakery product'], ['whisky', 'spices'], ['whisky', 'cooking chocolate'], ['whisky', 'long life bakery product'], ['spices', 'cooking chocolate'], ['spices', 'long life bakery product'], ['cooking chocolate', 'long life bakery product'], ['sugar', 'whisky', 'spices'], ['sugar', 'whisky', 'cooking chocolate'], ['sugar', 'whisky', 'long life bakery product'], ['sugar', 'spices', 'cooking chocolate'], ['sugar', 'spices', 'long life bakery product'], ['sugar', 'cooking chocolate', 'long life bakery product'], ['whisky', 'spices', 'cooking chocolate'], ['whisky', 'spices', 'long life bakery product'], ['whisky', 'cooking chocolate', 'long life bakery product'], ['spices', 'cooking chocolate', 'long life bakery product']]\n",
      "GOING INTO RECOMMEND!!!\n",
      "\n",
      "\n",
      "Z contains:  ['spices', 'cooking chocolate', 'long life bakery product']\n",
      "\n",
      "Length of Z is:  3\n",
      "\n",
      "Query after not having 5 entries is:  None\n",
      "Type of query is:  <class 'NoneType'>\n",
      "\n",
      "Made it to second try statement!!\n",
      "\n",
      "Made it to the third try statement!!\n",
      "\n",
      "0\n",
      "[]\n",
      "LEFT RECOMMEND!!!\n",
      "\n",
      "\n",
      "Length of Master Search is:  24\n",
      "Master search contains:  [['sugar'], ['whisky'], ['spices'], ['cooking chocolate'], ['long life bakery product'], ['sugar', 'whisky'], ['sugar', 'spices'], ['sugar', 'cooking chocolate'], ['sugar', 'long life bakery product'], ['whisky', 'spices'], ['whisky', 'cooking chocolate'], ['whisky', 'long life bakery product'], ['spices', 'cooking chocolate'], ['spices', 'long life bakery product'], ['cooking chocolate', 'long life bakery product'], ['sugar', 'whisky', 'spices'], ['sugar', 'whisky', 'cooking chocolate'], ['sugar', 'whisky', 'long life bakery product'], ['sugar', 'spices', 'cooking chocolate'], ['sugar', 'spices', 'long life bakery product'], ['sugar', 'cooking chocolate', 'long life bakery product'], ['whisky', 'spices', 'cooking chocolate'], ['whisky', 'spices', 'long life bakery product'], ['whisky', 'cooking chocolate', 'long life bakery product']]\n",
      "GOING INTO RECOMMEND!!!\n",
      "\n",
      "\n",
      "Z contains:  ['whisky', 'cooking chocolate', 'long life bakery product']\n",
      "\n",
      "Length of Z is:  3\n",
      "\n",
      "Query after not having 5 entries is:  None\n",
      "Type of query is:  <class 'NoneType'>\n",
      "\n",
      "Made it to second try statement!!\n",
      "\n",
      "Made it to the third try statement!!\n",
      "\n",
      "0\n",
      "[]\n",
      "LEFT RECOMMEND!!!\n",
      "\n",
      "\n",
      "Length of Master Search is:  23\n",
      "Master search contains:  [['sugar'], ['whisky'], ['spices'], ['cooking chocolate'], ['long life bakery product'], ['sugar', 'whisky'], ['sugar', 'spices'], ['sugar', 'cooking chocolate'], ['sugar', 'long life bakery product'], ['whisky', 'spices'], ['whisky', 'cooking chocolate'], ['whisky', 'long life bakery product'], ['spices', 'cooking chocolate'], ['spices', 'long life bakery product'], ['cooking chocolate', 'long life bakery product'], ['sugar', 'whisky', 'spices'], ['sugar', 'whisky', 'cooking chocolate'], ['sugar', 'whisky', 'long life bakery product'], ['sugar', 'spices', 'cooking chocolate'], ['sugar', 'spices', 'long life bakery product'], ['sugar', 'cooking chocolate', 'long life bakery product'], ['whisky', 'spices', 'cooking chocolate'], ['whisky', 'spices', 'long life bakery product']]\n",
      "GOING INTO RECOMMEND!!!\n",
      "\n",
      "\n",
      "Z contains:  ['whisky', 'spices', 'long life bakery product']\n",
      "\n",
      "Length of Z is:  3\n",
      "\n",
      "Query after not having 5 entries is:  None\n",
      "Type of query is:  <class 'NoneType'>\n",
      "\n",
      "Made it to second try statement!!\n",
      "\n",
      "Made it to the third try statement!!\n",
      "\n",
      "0\n",
      "[]\n",
      "LEFT RECOMMEND!!!\n",
      "\n",
      "\n",
      "Length of Master Search is:  22\n",
      "Master search contains:  [['sugar'], ['whisky'], ['spices'], ['cooking chocolate'], ['long life bakery product'], ['sugar', 'whisky'], ['sugar', 'spices'], ['sugar', 'cooking chocolate'], ['sugar', 'long life bakery product'], ['whisky', 'spices'], ['whisky', 'cooking chocolate'], ['whisky', 'long life bakery product'], ['spices', 'cooking chocolate'], ['spices', 'long life bakery product'], ['cooking chocolate', 'long life bakery product'], ['sugar', 'whisky', 'spices'], ['sugar', 'whisky', 'cooking chocolate'], ['sugar', 'whisky', 'long life bakery product'], ['sugar', 'spices', 'cooking chocolate'], ['sugar', 'spices', 'long life bakery product'], ['sugar', 'cooking chocolate', 'long life bakery product'], ['whisky', 'spices', 'cooking chocolate']]\n",
      "GOING INTO RECOMMEND!!!\n",
      "\n",
      "\n",
      "Z contains:  ['whisky', 'spices', 'cooking chocolate']\n",
      "\n",
      "Length of Z is:  3\n",
      "\n",
      "Query after not having 5 entries is:  None\n",
      "Type of query is:  <class 'NoneType'>\n",
      "\n",
      "Made it to second try statement!!\n",
      "\n",
      "Made it to the third try statement!!\n",
      "\n",
      "0\n",
      "[]\n",
      "LEFT RECOMMEND!!!\n",
      "\n",
      "\n",
      "Length of Master Search is:  21\n",
      "Master search contains:  [['sugar'], ['whisky'], ['spices'], ['cooking chocolate'], ['long life bakery product'], ['sugar', 'whisky'], ['sugar', 'spices'], ['sugar', 'cooking chocolate'], ['sugar', 'long life bakery product'], ['whisky', 'spices'], ['whisky', 'cooking chocolate'], ['whisky', 'long life bakery product'], ['spices', 'cooking chocolate'], ['spices', 'long life bakery product'], ['cooking chocolate', 'long life bakery product'], ['sugar', 'whisky', 'spices'], ['sugar', 'whisky', 'cooking chocolate'], ['sugar', 'whisky', 'long life bakery product'], ['sugar', 'spices', 'cooking chocolate'], ['sugar', 'spices', 'long life bakery product'], ['sugar', 'cooking chocolate', 'long life bakery product']]\n",
      "GOING INTO RECOMMEND!!!\n",
      "\n",
      "\n",
      "Z contains:  ['sugar', 'cooking chocolate', 'long life bakery product']\n",
      "\n",
      "Length of Z is:  3\n",
      "\n",
      "Query after not having 5 entries is:  None\n",
      "Type of query is:  <class 'NoneType'>\n",
      "\n",
      "Made it to second try statement!!\n",
      "\n",
      "Made it to the third try statement!!\n",
      "\n",
      "0\n",
      "[]\n",
      "LEFT RECOMMEND!!!\n",
      "\n",
      "\n",
      "Length of Master Search is:  20\n",
      "Master search contains:  [['sugar'], ['whisky'], ['spices'], ['cooking chocolate'], ['long life bakery product'], ['sugar', 'whisky'], ['sugar', 'spices'], ['sugar', 'cooking chocolate'], ['sugar', 'long life bakery product'], ['whisky', 'spices'], ['whisky', 'cooking chocolate'], ['whisky', 'long life bakery product'], ['spices', 'cooking chocolate'], ['spices', 'long life bakery product'], ['cooking chocolate', 'long life bakery product'], ['sugar', 'whisky', 'spices'], ['sugar', 'whisky', 'cooking chocolate'], ['sugar', 'whisky', 'long life bakery product'], ['sugar', 'spices', 'cooking chocolate'], ['sugar', 'spices', 'long life bakery product']]\n",
      "GOING INTO RECOMMEND!!!\n",
      "\n",
      "\n",
      "Z contains:  ['sugar', 'spices', 'long life bakery product']\n",
      "\n",
      "Length of Z is:  3\n",
      "\n",
      "Query after not having 5 entries is:  None\n",
      "Type of query is:  <class 'NoneType'>\n",
      "\n",
      "Made it to second try statement!!\n",
      "\n",
      "Made it to the third try statement!!\n",
      "\n",
      "0\n",
      "[]\n",
      "LEFT RECOMMEND!!!\n",
      "\n",
      "\n",
      "Length of Master Search is:  19\n",
      "Master search contains:  [['sugar'], ['whisky'], ['spices'], ['cooking chocolate'], ['long life bakery product'], ['sugar', 'whisky'], ['sugar', 'spices'], ['sugar', 'cooking chocolate'], ['sugar', 'long life bakery product'], ['whisky', 'spices'], ['whisky', 'cooking chocolate'], ['whisky', 'long life bakery product'], ['spices', 'cooking chocolate'], ['spices', 'long life bakery product'], ['cooking chocolate', 'long life bakery product'], ['sugar', 'whisky', 'spices'], ['sugar', 'whisky', 'cooking chocolate'], ['sugar', 'whisky', 'long life bakery product'], ['sugar', 'spices', 'cooking chocolate']]\n",
      "GOING INTO RECOMMEND!!!\n",
      "\n",
      "\n",
      "Z contains:  ['sugar', 'spices', 'cooking chocolate']\n",
      "\n",
      "Length of Z is:  3\n",
      "\n",
      "Query after not having 5 entries is:  None\n",
      "Type of query is:  <class 'NoneType'>\n",
      "\n",
      "Made it to second try statement!!\n",
      "\n",
      "Made it to the third try statement!!\n",
      "\n",
      "0\n",
      "[]\n",
      "LEFT RECOMMEND!!!\n",
      "\n",
      "\n",
      "Length of Master Search is:  18\n",
      "Master search contains:  [['sugar'], ['whisky'], ['spices'], ['cooking chocolate'], ['long life bakery product'], ['sugar', 'whisky'], ['sugar', 'spices'], ['sugar', 'cooking chocolate'], ['sugar', 'long life bakery product'], ['whisky', 'spices'], ['whisky', 'cooking chocolate'], ['whisky', 'long life bakery product'], ['spices', 'cooking chocolate'], ['spices', 'long life bakery product'], ['cooking chocolate', 'long life bakery product'], ['sugar', 'whisky', 'spices'], ['sugar', 'whisky', 'cooking chocolate'], ['sugar', 'whisky', 'long life bakery product']]\n",
      "GOING INTO RECOMMEND!!!\n",
      "\n",
      "\n",
      "Z contains:  ['sugar', 'whisky', 'long life bakery product']\n",
      "\n",
      "Length of Z is:  3\n",
      "\n",
      "Query after not having 5 entries is:  None\n",
      "Type of query is:  <class 'NoneType'>\n",
      "\n",
      "Made it to second try statement!!\n",
      "\n",
      "Made it to the third try statement!!\n",
      "\n",
      "0\n",
      "[]\n",
      "LEFT RECOMMEND!!!\n",
      "\n",
      "\n",
      "Length of Master Search is:  17\n",
      "Master search contains:  [['sugar'], ['whisky'], ['spices'], ['cooking chocolate'], ['long life bakery product'], ['sugar', 'whisky'], ['sugar', 'spices'], ['sugar', 'cooking chocolate'], ['sugar', 'long life bakery product'], ['whisky', 'spices'], ['whisky', 'cooking chocolate'], ['whisky', 'long life bakery product'], ['spices', 'cooking chocolate'], ['spices', 'long life bakery product'], ['cooking chocolate', 'long life bakery product'], ['sugar', 'whisky', 'spices'], ['sugar', 'whisky', 'cooking chocolate']]\n",
      "GOING INTO RECOMMEND!!!\n",
      "\n",
      "\n",
      "Z contains:  ['sugar', 'whisky', 'cooking chocolate']\n",
      "\n",
      "Length of Z is:  3\n",
      "\n",
      "Query after not having 5 entries is:  None\n",
      "Type of query is:  <class 'NoneType'>\n",
      "\n",
      "Made it to second try statement!!\n",
      "\n",
      "Made it to the third try statement!!\n",
      "\n",
      "0\n",
      "[]\n",
      "LEFT RECOMMEND!!!\n",
      "\n",
      "\n",
      "Length of Master Search is:  16\n",
      "Master search contains:  [['sugar'], ['whisky'], ['spices'], ['cooking chocolate'], ['long life bakery product'], ['sugar', 'whisky'], ['sugar', 'spices'], ['sugar', 'cooking chocolate'], ['sugar', 'long life bakery product'], ['whisky', 'spices'], ['whisky', 'cooking chocolate'], ['whisky', 'long life bakery product'], ['spices', 'cooking chocolate'], ['spices', 'long life bakery product'], ['cooking chocolate', 'long life bakery product'], ['sugar', 'whisky', 'spices']]\n",
      "GOING INTO RECOMMEND!!!\n",
      "\n",
      "\n",
      "Z contains:  ['sugar', 'whisky', 'spices']\n",
      "\n",
      "Length of Z is:  3\n",
      "\n",
      "Query after not having 5 entries is:  None\n",
      "Type of query is:  <class 'NoneType'>\n",
      "\n",
      "Made it to second try statement!!\n",
      "\n",
      "Made it to the third try statement!!\n",
      "\n",
      "0\n",
      "[]\n",
      "LEFT RECOMMEND!!!\n",
      "\n",
      "\n",
      "Length of Master Search is:  15\n",
      "Master search contains:  [['sugar'], ['whisky'], ['spices'], ['cooking chocolate'], ['long life bakery product'], ['sugar', 'whisky'], ['sugar', 'spices'], ['sugar', 'cooking chocolate'], ['sugar', 'long life bakery product'], ['whisky', 'spices'], ['whisky', 'cooking chocolate'], ['whisky', 'long life bakery product'], ['spices', 'cooking chocolate'], ['spices', 'long life bakery product'], ['cooking chocolate', 'long life bakery product']]\n",
      "GOING INTO RECOMMEND!!!\n",
      "\n",
      "\n",
      "Z contains:  ['cooking chocolate', 'long life bakery product']\n",
      "\n",
      "Length of Z is:  2\n",
      "\n",
      "Query after not having 5 entries is:  None\n",
      "Type of query is:  <class 'NoneType'>\n",
      "\n",
      "Made it to second try statement!!\n",
      "\n",
      "Made it to the third try statement!!\n",
      "\n",
      "Made it to the fourth try statement!!\n",
      "\n",
      "0\n",
      "[]\n",
      "LEFT RECOMMEND!!!\n",
      "\n",
      "\n",
      "Length of Master Search is:  14\n",
      "Master search contains:  [['sugar'], ['whisky'], ['spices'], ['cooking chocolate'], ['long life bakery product'], ['sugar', 'whisky'], ['sugar', 'spices'], ['sugar', 'cooking chocolate'], ['sugar', 'long life bakery product'], ['whisky', 'spices'], ['whisky', 'cooking chocolate'], ['whisky', 'long life bakery product'], ['spices', 'cooking chocolate'], ['spices', 'long life bakery product']]\n",
      "GOING INTO RECOMMEND!!!\n",
      "\n",
      "\n",
      "Z contains:  ['spices', 'long life bakery product']\n",
      "\n",
      "Length of Z is:  2\n",
      "\n",
      "Query after not having 5 entries is:  None\n",
      "Type of query is:  <class 'NoneType'>\n",
      "\n",
      "Made it to second try statement!!\n",
      "\n",
      "Made it to the third try statement!!\n",
      "\n",
      "Made it to the fourth try statement!!\n",
      "\n",
      "0\n",
      "[]\n",
      "LEFT RECOMMEND!!!\n",
      "\n",
      "\n",
      "Length of Master Search is:  13\n",
      "Master search contains:  [['sugar'], ['whisky'], ['spices'], ['cooking chocolate'], ['long life bakery product'], ['sugar', 'whisky'], ['sugar', 'spices'], ['sugar', 'cooking chocolate'], ['sugar', 'long life bakery product'], ['whisky', 'spices'], ['whisky', 'cooking chocolate'], ['whisky', 'long life bakery product'], ['spices', 'cooking chocolate']]\n",
      "GOING INTO RECOMMEND!!!\n",
      "\n",
      "\n",
      "Z contains:  ['spices', 'cooking chocolate']\n",
      "\n",
      "Length of Z is:  2\n",
      "\n",
      "Query after not having 5 entries is:  None\n",
      "Type of query is:  <class 'NoneType'>\n",
      "\n",
      "Made it to second try statement!!\n",
      "\n",
      "Made it to the third try statement!!\n",
      "\n",
      "Made it to the fourth try statement!!\n",
      "\n",
      "0\n",
      "[]\n",
      "LEFT RECOMMEND!!!\n",
      "\n",
      "\n",
      "Length of Master Search is:  12\n",
      "Master search contains:  [['sugar'], ['whisky'], ['spices'], ['cooking chocolate'], ['long life bakery product'], ['sugar', 'whisky'], ['sugar', 'spices'], ['sugar', 'cooking chocolate'], ['sugar', 'long life bakery product'], ['whisky', 'spices'], ['whisky', 'cooking chocolate'], ['whisky', 'long life bakery product']]\n",
      "GOING INTO RECOMMEND!!!\n",
      "\n",
      "\n",
      "Z contains:  ['whisky', 'long life bakery product']\n",
      "\n",
      "Length of Z is:  2\n",
      "\n",
      "Query after not having 5 entries is:  None\n",
      "Type of query is:  <class 'NoneType'>\n",
      "\n",
      "Made it to second try statement!!\n",
      "\n",
      "Made it to the third try statement!!\n",
      "\n",
      "Made it to the fourth try statement!!\n",
      "\n",
      "0\n",
      "[]\n",
      "LEFT RECOMMEND!!!\n",
      "\n",
      "\n",
      "Length of Master Search is:  11\n",
      "Master search contains:  [['sugar'], ['whisky'], ['spices'], ['cooking chocolate'], ['long life bakery product'], ['sugar', 'whisky'], ['sugar', 'spices'], ['sugar', 'cooking chocolate'], ['sugar', 'long life bakery product'], ['whisky', 'spices'], ['whisky', 'cooking chocolate']]\n",
      "GOING INTO RECOMMEND!!!\n",
      "\n",
      "\n",
      "Z contains:  ['whisky', 'cooking chocolate']\n",
      "\n",
      "Length of Z is:  2\n",
      "\n",
      "Query after not having 5 entries is:  None\n",
      "Type of query is:  <class 'NoneType'>\n",
      "\n",
      "Made it to second try statement!!\n",
      "\n",
      "Made it to the third try statement!!\n",
      "\n",
      "Made it to the fourth try statement!!\n",
      "\n",
      "0\n",
      "[]\n",
      "LEFT RECOMMEND!!!\n",
      "\n",
      "\n",
      "Length of Master Search is:  10\n",
      "Master search contains:  [['sugar'], ['whisky'], ['spices'], ['cooking chocolate'], ['long life bakery product'], ['sugar', 'whisky'], ['sugar', 'spices'], ['sugar', 'cooking chocolate'], ['sugar', 'long life bakery product'], ['whisky', 'spices']]\n",
      "GOING INTO RECOMMEND!!!\n",
      "\n",
      "\n",
      "Z contains:  ['whisky', 'spices']\n",
      "\n",
      "Length of Z is:  2\n",
      "\n",
      "Query after not having 5 entries is:  None\n",
      "Type of query is:  <class 'NoneType'>\n",
      "\n",
      "Made it to second try statement!!\n",
      "\n",
      "Made it to the third try statement!!\n",
      "\n",
      "Made it to the fourth try statement!!\n",
      "\n",
      "0\n",
      "[]\n",
      "LEFT RECOMMEND!!!\n",
      "\n",
      "\n",
      "Length of Master Search is:  9\n",
      "Master search contains:  [['sugar'], ['whisky'], ['spices'], ['cooking chocolate'], ['long life bakery product'], ['sugar', 'whisky'], ['sugar', 'spices'], ['sugar', 'cooking chocolate'], ['sugar', 'long life bakery product']]\n",
      "GOING INTO RECOMMEND!!!\n",
      "\n",
      "\n",
      "Z contains:  ['sugar', 'long life bakery product']\n",
      "\n",
      "Length of Z is:  2\n",
      "\n",
      "Query after not having 5 entries is:  None\n",
      "Type of query is:  <class 'NoneType'>\n",
      "\n",
      "Made it to second try statement!!\n",
      "\n",
      "Made it to the third try statement!!\n",
      "\n",
      "Made it to the fourth try statement!!\n",
      "\n",
      "3\n",
      "['whole milk', 'rolls/buns', 'other vegetables']\n",
      "LEFT RECOMMEND!!!\n",
      "\n",
      "\n",
      "MAKES IT TO FINAL ELSE!!! \n",
      "\n",
      "\n",
      "\n"
     ]
    }
   ],
   "source": [
    "ans5 = start_here(list_to_check_5)"
   ],
   "metadata": {
    "collapsed": false,
    "pycharm": {
     "name": "#%%\n"
    }
   }
  },
  {
   "cell_type": "code",
   "execution_count": 106,
   "outputs": [
    {
     "name": "stdout",
     "output_type": "stream",
     "text": [
      "{'rolls/buns', 'other vegetables', 'whole milk'}\n"
     ]
    }
   ],
   "source": [
    "print(ans5)"
   ],
   "metadata": {
    "collapsed": false,
    "pycharm": {
     "name": "#%%\n"
    }
   }
  },
  {
   "cell_type": "code",
   "execution_count": 107,
   "outputs": [
    {
     "name": "stdout",
     "output_type": "stream",
     "text": [
      "<class 'set'>\n"
     ]
    }
   ],
   "source": [
    "print(type(ans5))"
   ],
   "metadata": {
    "collapsed": false,
    "pycharm": {
     "name": "#%%\n"
    }
   }
  },
  {
   "cell_type": "code",
   "execution_count": 108,
   "outputs": [
    {
     "name": "stdout",
     "output_type": "stream",
     "text": [
      "rolls/buns\n"
     ]
    }
   ],
   "source": [
    "print(ans5.pop())"
   ],
   "metadata": {
    "collapsed": false,
    "pycharm": {
     "name": "#%%\n"
    }
   }
  },
  {
   "cell_type": "code",
   "execution_count": 109,
   "outputs": [
    {
     "name": "stdout",
     "output_type": "stream",
     "text": [
      "2\n"
     ]
    }
   ],
   "source": [
    "print(len(ans5))"
   ],
   "metadata": {
    "collapsed": false,
    "pycharm": {
     "name": "#%%\n"
    }
   }
  },
  {
   "cell_type": "code",
   "execution_count": 110,
   "outputs": [],
   "source": [
    "# print(type(ans5.pop()))"
   ],
   "metadata": {
    "collapsed": false,
    "pycharm": {
     "name": "#%%\n"
    }
   }
  },
  {
   "cell_type": "code",
   "execution_count": 111,
   "outputs": [
    {
     "name": "stdout",
     "output_type": "stream",
     "text": [
      "['liquor', 'rum', 'sugar', 'beverages']\n"
     ]
    }
   ],
   "source": [
    "list_to_check_4 = []\n",
    "for i in range(4):\n",
    "    random_index = random.randrange(len(names[0]))\n",
    "    list_to_check_4.append(copy.copy(names[0][random_index]))\n",
    "print(list_to_check_4)"
   ],
   "metadata": {
    "collapsed": false,
    "pycharm": {
     "name": "#%%\n"
    }
   }
  },
  {
   "cell_type": "code",
   "execution_count": 112,
   "outputs": [
    {
     "name": "stdout",
     "output_type": "stream",
     "text": [
      "Length of master search is:  15\n",
      "GOING INTO RECOMMEND!!!\n",
      "\n",
      "\n",
      "Z contains:  ['liquor', 'rum', 'sugar', 'beverages']\n",
      "\n",
      "Length of Z is:  4\n",
      "\n",
      "Query after not having 5 entries is:  None\n",
      "Type of query is:  <class 'NoneType'>\n",
      "\n",
      "Made it to second try statement!!\n",
      "\n",
      "0\n",
      "[]\n",
      "LEFT RECOMMEND!!!\n",
      "\n",
      "\n",
      "Length of Master Search is:  14\n",
      "Master search contains:  [['liquor'], ['rum'], ['sugar'], ['beverages'], ['liquor', 'rum'], ['liquor', 'sugar'], ['liquor', 'beverages'], ['rum', 'sugar'], ['rum', 'beverages'], ['sugar', 'beverages'], ['liquor', 'rum', 'sugar'], ['liquor', 'rum', 'beverages'], ['liquor', 'sugar', 'beverages'], ['rum', 'sugar', 'beverages']]\n",
      "GOING INTO RECOMMEND!!!\n",
      "\n",
      "\n",
      "Z contains:  ['rum', 'sugar', 'beverages']\n",
      "\n",
      "Length of Z is:  3\n",
      "\n",
      "Query after not having 5 entries is:  None\n",
      "Type of query is:  <class 'NoneType'>\n",
      "\n",
      "Made it to second try statement!!\n",
      "\n",
      "Made it to the third try statement!!\n",
      "\n",
      "0\n",
      "[]\n",
      "LEFT RECOMMEND!!!\n",
      "\n",
      "\n",
      "Length of Master Search is:  13\n",
      "Master search contains:  [['liquor'], ['rum'], ['sugar'], ['beverages'], ['liquor', 'rum'], ['liquor', 'sugar'], ['liquor', 'beverages'], ['rum', 'sugar'], ['rum', 'beverages'], ['sugar', 'beverages'], ['liquor', 'rum', 'sugar'], ['liquor', 'rum', 'beverages'], ['liquor', 'sugar', 'beverages']]\n",
      "GOING INTO RECOMMEND!!!\n",
      "\n",
      "\n",
      "Z contains:  ['liquor', 'sugar', 'beverages']\n",
      "\n",
      "Length of Z is:  3\n",
      "\n",
      "Query after not having 5 entries is:  None\n",
      "Type of query is:  <class 'NoneType'>\n",
      "\n",
      "Made it to second try statement!!\n",
      "\n",
      "Made it to the third try statement!!\n",
      "\n",
      "0\n",
      "[]\n",
      "LEFT RECOMMEND!!!\n",
      "\n",
      "\n",
      "Length of Master Search is:  12\n",
      "Master search contains:  [['liquor'], ['rum'], ['sugar'], ['beverages'], ['liquor', 'rum'], ['liquor', 'sugar'], ['liquor', 'beverages'], ['rum', 'sugar'], ['rum', 'beverages'], ['sugar', 'beverages'], ['liquor', 'rum', 'sugar'], ['liquor', 'rum', 'beverages']]\n",
      "GOING INTO RECOMMEND!!!\n",
      "\n",
      "\n",
      "Z contains:  ['liquor', 'rum', 'beverages']\n",
      "\n",
      "Length of Z is:  3\n",
      "\n",
      "Query after not having 5 entries is:  None\n",
      "Type of query is:  <class 'NoneType'>\n",
      "\n",
      "Made it to second try statement!!\n",
      "\n",
      "Made it to the third try statement!!\n",
      "\n",
      "0\n",
      "[]\n",
      "LEFT RECOMMEND!!!\n",
      "\n",
      "\n",
      "Length of Master Search is:  11\n",
      "Master search contains:  [['liquor'], ['rum'], ['sugar'], ['beverages'], ['liquor', 'rum'], ['liquor', 'sugar'], ['liquor', 'beverages'], ['rum', 'sugar'], ['rum', 'beverages'], ['sugar', 'beverages'], ['liquor', 'rum', 'sugar']]\n",
      "GOING INTO RECOMMEND!!!\n",
      "\n",
      "\n",
      "Z contains:  ['liquor', 'rum', 'sugar']\n",
      "\n",
      "Length of Z is:  3\n",
      "\n",
      "Query after not having 5 entries is:  None\n",
      "Type of query is:  <class 'NoneType'>\n",
      "\n",
      "Made it to second try statement!!\n",
      "\n",
      "Made it to the third try statement!!\n",
      "\n",
      "0\n",
      "[]\n",
      "LEFT RECOMMEND!!!\n",
      "\n",
      "\n",
      "Length of Master Search is:  10\n",
      "Master search contains:  [['liquor'], ['rum'], ['sugar'], ['beverages'], ['liquor', 'rum'], ['liquor', 'sugar'], ['liquor', 'beverages'], ['rum', 'sugar'], ['rum', 'beverages'], ['sugar', 'beverages']]\n",
      "GOING INTO RECOMMEND!!!\n",
      "\n",
      "\n",
      "Z contains:  ['sugar', 'beverages']\n",
      "\n",
      "Length of Z is:  2\n",
      "\n",
      "Query after not having 5 entries is:  None\n",
      "Type of query is:  <class 'NoneType'>\n",
      "\n",
      "Made it to second try statement!!\n",
      "\n",
      "Made it to the third try statement!!\n",
      "\n",
      "Made it to the fourth try statement!!\n",
      "\n",
      "3\n",
      "['whole milk', 'sausage', 'other vegetables']\n",
      "LEFT RECOMMEND!!!\n",
      "\n",
      "\n",
      "MAKES IT TO FINAL ELSE!!! \n",
      "\n",
      "\n",
      "\n"
     ]
    }
   ],
   "source": [
    "ans4 = start_here(list_to_check_4)"
   ],
   "metadata": {
    "collapsed": false,
    "pycharm": {
     "name": "#%%\n"
    }
   }
  },
  {
   "cell_type": "code",
   "execution_count": 113,
   "outputs": [
    {
     "name": "stdout",
     "output_type": "stream",
     "text": [
      "{'sausage', 'other vegetables', 'whole milk'}\n"
     ]
    }
   ],
   "source": [
    "print(ans4)"
   ],
   "metadata": {
    "collapsed": false,
    "pycharm": {
     "name": "#%%\n"
    }
   }
  },
  {
   "cell_type": "code",
   "execution_count": 114,
   "outputs": [
    {
     "name": "stdout",
     "output_type": "stream",
     "text": [
      "['tropical fruit', 'mustard', 'white wine']\n"
     ]
    }
   ],
   "source": [
    "list_to_check_3 = []\n",
    "for i in range(3):\n",
    "    random_index = random.randrange(len(names[0]))\n",
    "    list_to_check_3.append(copy.copy(names[0][random_index]))\n",
    "print(list_to_check_3)"
   ],
   "metadata": {
    "collapsed": false,
    "pycharm": {
     "name": "#%%\n"
    }
   }
  },
  {
   "cell_type": "code",
   "execution_count": 115,
   "outputs": [
    {
     "name": "stdout",
     "output_type": "stream",
     "text": [
      "Length of master search is:  7\n",
      "GOING INTO RECOMMEND!!!\n",
      "\n",
      "\n",
      "Z contains:  ['tropical fruit', 'mustard', 'white wine']\n",
      "\n",
      "Length of Z is:  3\n",
      "\n",
      "Query after not having 5 entries is:  None\n",
      "Type of query is:  <class 'NoneType'>\n",
      "\n",
      "Made it to second try statement!!\n",
      "\n",
      "Made it to the third try statement!!\n",
      "\n",
      "0\n",
      "[]\n",
      "LEFT RECOMMEND!!!\n",
      "\n",
      "\n",
      "Length of Master Search is:  6\n",
      "Master search contains:  [['tropical fruit'], ['mustard'], ['white wine'], ['tropical fruit', 'mustard'], ['tropical fruit', 'white wine'], ['mustard', 'white wine']]\n",
      "GOING INTO RECOMMEND!!!\n",
      "\n",
      "\n",
      "Z contains:  ['mustard', 'white wine']\n",
      "\n",
      "Length of Z is:  2\n",
      "\n",
      "Query after not having 5 entries is:  None\n",
      "Type of query is:  <class 'NoneType'>\n",
      "\n",
      "Made it to second try statement!!\n",
      "\n",
      "Made it to the third try statement!!\n",
      "\n",
      "Made it to the fourth try statement!!\n",
      "\n",
      "0\n",
      "[]\n",
      "LEFT RECOMMEND!!!\n",
      "\n",
      "\n",
      "Length of Master Search is:  5\n",
      "Master search contains:  [['tropical fruit'], ['mustard'], ['white wine'], ['tropical fruit', 'mustard'], ['tropical fruit', 'white wine']]\n",
      "GOING INTO RECOMMEND!!!\n",
      "\n",
      "\n",
      "Z contains:  ['tropical fruit', 'white wine']\n",
      "\n",
      "Length of Z is:  2\n",
      "\n",
      "Query after not having 5 entries is:  None\n",
      "Type of query is:  <class 'NoneType'>\n",
      "\n",
      "Made it to second try statement!!\n",
      "\n",
      "Made it to the third try statement!!\n",
      "\n",
      "Made it to the fourth try statement!!\n",
      "\n",
      "1\n",
      "['yogurt']\n",
      "LEFT RECOMMEND!!!\n",
      "\n",
      "\n",
      "MAKES IT TO FINAL ELSE!!! \n",
      "\n",
      "\n",
      "\n"
     ]
    }
   ],
   "source": [
    "ans3 = start_here(list_to_check_3)"
   ],
   "metadata": {
    "collapsed": false,
    "pycharm": {
     "name": "#%%\n"
    }
   }
  },
  {
   "cell_type": "code",
   "execution_count": 116,
   "outputs": [
    {
     "name": "stdout",
     "output_type": "stream",
     "text": [
      "{'yogurt'}\n"
     ]
    }
   ],
   "source": [
    "print(ans3)"
   ],
   "metadata": {
    "collapsed": false,
    "pycharm": {
     "name": "#%%\n"
    }
   }
  },
  {
   "cell_type": "code",
   "execution_count": 117,
   "outputs": [
    {
     "name": "stdout",
     "output_type": "stream",
     "text": [
      "['pickled vegetables', 'citrus fruit']\n"
     ]
    }
   ],
   "source": [
    "list_to_check_2 = []\n",
    "for i in range(2):\n",
    "    random_index = random.randrange(len(names[0]))\n",
    "    list_to_check_2.append(copy.copy(names[0][random_index]))\n",
    "print(list_to_check_2)"
   ],
   "metadata": {
    "collapsed": false,
    "pycharm": {
     "name": "#%%\n"
    }
   }
  },
  {
   "cell_type": "code",
   "execution_count": 118,
   "outputs": [
    {
     "name": "stdout",
     "output_type": "stream",
     "text": [
      "Length of master search is:  3\n",
      "GOING INTO RECOMMEND!!!\n",
      "\n",
      "\n",
      "Z contains:  ['pickled vegetables', 'citrus fruit']\n",
      "\n",
      "Length of Z is:  2\n",
      "\n",
      "Query after not having 5 entries is:  None\n",
      "Type of query is:  <class 'NoneType'>\n",
      "\n",
      "Made it to second try statement!!\n",
      "\n",
      "Made it to the third try statement!!\n",
      "\n",
      "Made it to the fourth try statement!!\n",
      "\n",
      "1\n",
      "['whole milk']\n",
      "LEFT RECOMMEND!!!\n",
      "\n",
      "\n",
      "MAKES IT TO FINAL ELSE!!! \n",
      "\n",
      "\n",
      "\n"
     ]
    }
   ],
   "source": [
    "ans2 = start_here(list_to_check_2)"
   ],
   "metadata": {
    "collapsed": false,
    "pycharm": {
     "name": "#%%\n"
    }
   }
  },
  {
   "cell_type": "code",
   "execution_count": 119,
   "outputs": [
    {
     "name": "stdout",
     "output_type": "stream",
     "text": [
      "{'whole milk'}\n"
     ]
    }
   ],
   "source": [
    "print(ans2)"
   ],
   "metadata": {
    "collapsed": false,
    "pycharm": {
     "name": "#%%\n"
    }
   }
  },
  {
   "cell_type": "code",
   "execution_count": 120,
   "outputs": [
    {
     "name": "stdout",
     "output_type": "stream",
     "text": [
      "['soups']\n"
     ]
    }
   ],
   "source": [
    "list_to_check_1 = []\n",
    "for i in range(1):\n",
    "    random_index = random.randrange(len(names[0]))\n",
    "    list_to_check_1.append(copy.copy(names[0][random_index]))\n",
    "print(list_to_check_1)"
   ],
   "metadata": {
    "collapsed": false,
    "pycharm": {
     "name": "#%%\n"
    }
   }
  },
  {
   "cell_type": "code",
   "execution_count": 121,
   "outputs": [
    {
     "name": "stdout",
     "output_type": "stream",
     "text": [
      "Length of master search is:  1\n",
      "GOING INTO RECOMMEND!!!\n",
      "\n",
      "\n",
      "Z contains:  ['soups']\n",
      "\n",
      "Length of Z is:  1\n",
      "\n",
      "Query after not having 5 entries is:  None\n",
      "Type of query is:  <class 'NoneType'>\n",
      "\n",
      "Made it to second try statement!!\n",
      "\n",
      "Made it to the third try statement!!\n",
      "\n",
      "Made it to the fourth try statement!!\n",
      "\n",
      "Made it to the last try statement!!\n",
      "\n",
      "Query after not having 5 entries is:      antecedents   consequents  antecedent support  consequent support  \\\n",
      "112     (soups)        (soda)            0.012317            0.313318   \n",
      "115     (soups)  (whole milk)            0.012317            0.458045   \n",
      "\n",
      "      support  confidence      lift  leverage  conviction  \n",
      "112  0.006159    0.500000  1.595823  0.002299    1.373364  \n",
      "115  0.006415    0.520833  1.137080  0.000773    1.131037  \n",
      "Type of query is:  <class 'pandas.core.frame.DataFrame'>\n",
      "\n",
      "2\n",
      "['whole milk', 'soda']\n",
      "LEFT RECOMMEND!!!\n",
      "\n",
      "\n",
      "MAKES IT TO FINAL ELSE!!! \n",
      "\n",
      "\n",
      "\n"
     ]
    }
   ],
   "source": [
    "ans1 = start_here(list_to_check_1)"
   ],
   "metadata": {
    "collapsed": false,
    "pycharm": {
     "name": "#%%\n"
    }
   }
  },
  {
   "cell_type": "code",
   "execution_count": 122,
   "outputs": [
    {
     "name": "stdout",
     "output_type": "stream",
     "text": [
      "{'soda', 'whole milk'}\n"
     ]
    }
   ],
   "source": [
    "print(ans1)"
   ],
   "metadata": {
    "collapsed": false,
    "pycharm": {
     "name": "#%%\n"
    }
   }
  },
  {
   "cell_type": "code",
   "execution_count": null,
   "outputs": [],
   "source": [],
   "metadata": {
    "collapsed": false,
    "pycharm": {
     "name": "#%%\n"
    }
   }
  },
  {
   "cell_type": "code",
   "execution_count": 223,
   "outputs": [
    {
     "data": {
      "text/plain": "               antecedents         consequents  antecedent support  \\\n0  (Instant food products)              (soda)            0.015396   \n1  (Instant food products)        (whole milk)            0.015396   \n2               (UHT-milk)        (whole milk)            0.078522   \n3       (abrasive cleaner)        (rolls/buns)            0.005645   \n4       (artif. sweetener)  (other vegetables)            0.007442   \n\n   consequent support   support  confidence      lift  leverage  conviction  \n0            0.313318  0.007955    0.516667  1.649017  0.003131    1.420722  \n1            0.458045  0.007955    0.516667  1.127983  0.000903    1.121287  \n2            0.458045  0.040544    0.516340  1.127270  0.004577    1.120529  \n3            0.349756  0.002823    0.500000  1.429567  0.000848    1.300488  \n4            0.376700  0.003849    0.517241  1.373086  0.001046    1.291121  ",
      "text/html": "<div>\n<style scoped>\n    .dataframe tbody tr th:only-of-type {\n        vertical-align: middle;\n    }\n\n    .dataframe tbody tr th {\n        vertical-align: top;\n    }\n\n    .dataframe thead th {\n        text-align: right;\n    }\n</style>\n<table border=\"1\" class=\"dataframe\">\n  <thead>\n    <tr style=\"text-align: right;\">\n      <th></th>\n      <th>antecedents</th>\n      <th>consequents</th>\n      <th>antecedent support</th>\n      <th>consequent support</th>\n      <th>support</th>\n      <th>confidence</th>\n      <th>lift</th>\n      <th>leverage</th>\n      <th>conviction</th>\n    </tr>\n  </thead>\n  <tbody>\n    <tr>\n      <th>0</th>\n      <td>(Instant food products)</td>\n      <td>(soda)</td>\n      <td>0.015396</td>\n      <td>0.313318</td>\n      <td>0.007955</td>\n      <td>0.516667</td>\n      <td>1.649017</td>\n      <td>0.003131</td>\n      <td>1.420722</td>\n    </tr>\n    <tr>\n      <th>1</th>\n      <td>(Instant food products)</td>\n      <td>(whole milk)</td>\n      <td>0.015396</td>\n      <td>0.458045</td>\n      <td>0.007955</td>\n      <td>0.516667</td>\n      <td>1.127983</td>\n      <td>0.000903</td>\n      <td>1.121287</td>\n    </tr>\n    <tr>\n      <th>2</th>\n      <td>(UHT-milk)</td>\n      <td>(whole milk)</td>\n      <td>0.078522</td>\n      <td>0.458045</td>\n      <td>0.040544</td>\n      <td>0.516340</td>\n      <td>1.127270</td>\n      <td>0.004577</td>\n      <td>1.120529</td>\n    </tr>\n    <tr>\n      <th>3</th>\n      <td>(abrasive cleaner)</td>\n      <td>(rolls/buns)</td>\n      <td>0.005645</td>\n      <td>0.349756</td>\n      <td>0.002823</td>\n      <td>0.500000</td>\n      <td>1.429567</td>\n      <td>0.000848</td>\n      <td>1.300488</td>\n    </tr>\n    <tr>\n      <th>4</th>\n      <td>(artif. sweetener)</td>\n      <td>(other vegetables)</td>\n      <td>0.007442</td>\n      <td>0.376700</td>\n      <td>0.003849</td>\n      <td>0.517241</td>\n      <td>1.373086</td>\n      <td>0.001046</td>\n      <td>1.291121</td>\n    </tr>\n  </tbody>\n</table>\n</div>"
     },
     "execution_count": 223,
     "metadata": {},
     "output_type": "execute_result"
    }
   ],
   "source": [
    "product_rules.head()"
   ],
   "metadata": {
    "collapsed": false,
    "pycharm": {
     "name": "#%%\n"
    }
   }
  },
  {
   "cell_type": "code",
   "execution_count": 165,
   "outputs": [],
   "source": [
    "product_rules.to_csv('Data/master_rules.csv', index=False)"
   ],
   "metadata": {
    "collapsed": false,
    "pycharm": {
     "name": "#%%\n"
    }
   }
  },
  {
   "cell_type": "code",
   "execution_count": 225,
   "outputs": [
    {
     "data": {
      "text/plain": "               antecedents         consequents  antecedent support  \\\n0  (Instant food products)              (soda)            0.015396   \n1  (Instant food products)        (whole milk)            0.015396   \n2               (UHT-milk)        (whole milk)            0.078522   \n3       (abrasive cleaner)        (rolls/buns)            0.005645   \n4       (artif. sweetener)  (other vegetables)            0.007442   \n\n   consequent support   support  confidence      lift  leverage  conviction  \n0            0.313318  0.007955    0.516667  1.649017  0.003131    1.420722  \n1            0.458045  0.007955    0.516667  1.127983  0.000903    1.121287  \n2            0.458045  0.040544    0.516340  1.127270  0.004577    1.120529  \n3            0.349756  0.002823    0.500000  1.429567  0.000848    1.300488  \n4            0.376700  0.003849    0.517241  1.373086  0.001046    1.291121  ",
      "text/html": "<div>\n<style scoped>\n    .dataframe tbody tr th:only-of-type {\n        vertical-align: middle;\n    }\n\n    .dataframe tbody tr th {\n        vertical-align: top;\n    }\n\n    .dataframe thead th {\n        text-align: right;\n    }\n</style>\n<table border=\"1\" class=\"dataframe\">\n  <thead>\n    <tr style=\"text-align: right;\">\n      <th></th>\n      <th>antecedents</th>\n      <th>consequents</th>\n      <th>antecedent support</th>\n      <th>consequent support</th>\n      <th>support</th>\n      <th>confidence</th>\n      <th>lift</th>\n      <th>leverage</th>\n      <th>conviction</th>\n    </tr>\n  </thead>\n  <tbody>\n    <tr>\n      <th>0</th>\n      <td>(Instant food products)</td>\n      <td>(soda)</td>\n      <td>0.015396</td>\n      <td>0.313318</td>\n      <td>0.007955</td>\n      <td>0.516667</td>\n      <td>1.649017</td>\n      <td>0.003131</td>\n      <td>1.420722</td>\n    </tr>\n    <tr>\n      <th>1</th>\n      <td>(Instant food products)</td>\n      <td>(whole milk)</td>\n      <td>0.015396</td>\n      <td>0.458045</td>\n      <td>0.007955</td>\n      <td>0.516667</td>\n      <td>1.127983</td>\n      <td>0.000903</td>\n      <td>1.121287</td>\n    </tr>\n    <tr>\n      <th>2</th>\n      <td>(UHT-milk)</td>\n      <td>(whole milk)</td>\n      <td>0.078522</td>\n      <td>0.458045</td>\n      <td>0.040544</td>\n      <td>0.516340</td>\n      <td>1.127270</td>\n      <td>0.004577</td>\n      <td>1.120529</td>\n    </tr>\n    <tr>\n      <th>3</th>\n      <td>(abrasive cleaner)</td>\n      <td>(rolls/buns)</td>\n      <td>0.005645</td>\n      <td>0.349756</td>\n      <td>0.002823</td>\n      <td>0.500000</td>\n      <td>1.429567</td>\n      <td>0.000848</td>\n      <td>1.300488</td>\n    </tr>\n    <tr>\n      <th>4</th>\n      <td>(artif. sweetener)</td>\n      <td>(other vegetables)</td>\n      <td>0.007442</td>\n      <td>0.376700</td>\n      <td>0.003849</td>\n      <td>0.517241</td>\n      <td>1.373086</td>\n      <td>0.001046</td>\n      <td>1.291121</td>\n    </tr>\n  </tbody>\n</table>\n</div>"
     },
     "execution_count": 225,
     "metadata": {},
     "output_type": "execute_result"
    }
   ],
   "source": [
    "product_rules.head()"
   ],
   "metadata": {
    "collapsed": false,
    "pycharm": {
     "name": "#%%\n"
    }
   }
  },
  {
   "cell_type": "code",
   "execution_count": null,
   "outputs": [],
   "source": [],
   "metadata": {
    "collapsed": false,
    "pycharm": {
     "name": "#%%\n"
    }
   }
  }
 ],
 "metadata": {
  "kernelspec": {
   "display_name": "Python 3",
   "language": "python",
   "name": "python3"
  },
  "language_info": {
   "codemirror_mode": {
    "name": "ipython",
    "version": 2
   },
   "file_extension": ".py",
   "mimetype": "text/x-python",
   "name": "python",
   "nbconvert_exporter": "python",
   "pygments_lexer": "ipython2",
   "version": "2.7.6"
  }
 },
 "nbformat": 4,
 "nbformat_minor": 0
}