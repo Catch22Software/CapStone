{
 "cells": [
  {
   "cell_type": "code",
   "execution_count": 8,
   "metadata": {
    "collapsed": true
   },
   "outputs": [],
   "source": [
    "import copy\n",
    "import time\n",
    "import threading\n",
    "import pandas as pd\n",
    "import numpy as np\n",
    "import more_itertools\n",
    "import csv\n",
    "import random\n",
    "import itertools\n",
    "pd.options.mode.chained_assignment = None  # default = 'warn'"
   ]
  },
  {
   "cell_type": "code",
   "execution_count": 9,
   "outputs": [
    {
     "data": {
      "text/plain": "             antecedents       consequents  antecedent support  \\\n0  Instant food products              soda            0.015396   \n1  Instant food products        whole milk            0.015396   \n2               UHT-milk        whole milk            0.078522   \n3       abrasive cleaner        rolls/buns            0.005645   \n4       artif. sweetener  other vegetables            0.007442   \n\n   consequent support   support  confidence      lift  leverage  conviction  \n0            0.313318  0.007955    0.516667  1.649017  0.003131    1.420722  \n1            0.458045  0.007955    0.516667  1.127983  0.000903    1.121287  \n2            0.458045  0.040544    0.516340  1.127270  0.004577    1.120529  \n3            0.349756  0.002823    0.500000  1.429567  0.000848    1.300488  \n4            0.376700  0.003849    0.517241  1.373086  0.001046    1.291121  ",
      "text/html": "<div>\n<style scoped>\n    .dataframe tbody tr th:only-of-type {\n        vertical-align: middle;\n    }\n\n    .dataframe tbody tr th {\n        vertical-align: top;\n    }\n\n    .dataframe thead th {\n        text-align: right;\n    }\n</style>\n<table border=\"1\" class=\"dataframe\">\n  <thead>\n    <tr style=\"text-align: right;\">\n      <th></th>\n      <th>antecedents</th>\n      <th>consequents</th>\n      <th>antecedent support</th>\n      <th>consequent support</th>\n      <th>support</th>\n      <th>confidence</th>\n      <th>lift</th>\n      <th>leverage</th>\n      <th>conviction</th>\n    </tr>\n  </thead>\n  <tbody>\n    <tr>\n      <th>0</th>\n      <td>Instant food products</td>\n      <td>soda</td>\n      <td>0.015396</td>\n      <td>0.313318</td>\n      <td>0.007955</td>\n      <td>0.516667</td>\n      <td>1.649017</td>\n      <td>0.003131</td>\n      <td>1.420722</td>\n    </tr>\n    <tr>\n      <th>1</th>\n      <td>Instant food products</td>\n      <td>whole milk</td>\n      <td>0.015396</td>\n      <td>0.458045</td>\n      <td>0.007955</td>\n      <td>0.516667</td>\n      <td>1.127983</td>\n      <td>0.000903</td>\n      <td>1.121287</td>\n    </tr>\n    <tr>\n      <th>2</th>\n      <td>UHT-milk</td>\n      <td>whole milk</td>\n      <td>0.078522</td>\n      <td>0.458045</td>\n      <td>0.040544</td>\n      <td>0.516340</td>\n      <td>1.127270</td>\n      <td>0.004577</td>\n      <td>1.120529</td>\n    </tr>\n    <tr>\n      <th>3</th>\n      <td>abrasive cleaner</td>\n      <td>rolls/buns</td>\n      <td>0.005645</td>\n      <td>0.349756</td>\n      <td>0.002823</td>\n      <td>0.500000</td>\n      <td>1.429567</td>\n      <td>0.000848</td>\n      <td>1.300488</td>\n    </tr>\n    <tr>\n      <th>4</th>\n      <td>artif. sweetener</td>\n      <td>other vegetables</td>\n      <td>0.007442</td>\n      <td>0.376700</td>\n      <td>0.003849</td>\n      <td>0.517241</td>\n      <td>1.373086</td>\n      <td>0.001046</td>\n      <td>1.291121</td>\n    </tr>\n  </tbody>\n</table>\n</div>"
     },
     "execution_count": 9,
     "metadata": {},
     "output_type": "execute_result"
    }
   ],
   "source": [
    "product_rules = pd.read_csv('Data/master_rules.csv')\n",
    "# product_rules.drop(columns=['Unnamed: 0'], inplace=True)\n",
    "product_rules.head()"
   ],
   "metadata": {
    "collapsed": false,
    "pycharm": {
     "name": "#%%\n"
    }
   }
  },
  {
   "cell_type": "code",
   "execution_count": 10,
   "outputs": [],
   "source": [
    "with open('Data/names.csv') as f:\n",
    "    read = csv.reader(f)\n",
    "    names = list(read)"
   ],
   "metadata": {
    "collapsed": false,
    "pycharm": {
     "name": "#%%\n"
    }
   }
  },
  {
   "cell_type": "code",
   "execution_count": 11,
   "outputs": [
    {
     "name": "stdout",
     "output_type": "stream",
     "text": [
      "[['Instant food products', 'UHT-milk', 'abrasive cleaner', 'artif. sweetener', 'baby cosmetics', 'bags', 'baking powder', 'bathroom cleaner', 'beef', 'berries', 'beverages', 'bottled beer', 'bottled water', 'brandy', 'brown bread', 'butter', 'butter milk', 'cake bar', 'candles', 'candy', 'canned beer', 'canned fish', 'canned fruit', 'canned vegetables', 'cat food', 'cereals', 'chewing gum', 'chicken', 'chocolate', 'chocolate marshmallow', 'citrus fruit', 'cleaner', 'cling film/bags', 'cocoa drinks', 'coffee', 'condensed milk', 'cooking chocolate', 'cookware', 'cream', 'cream cheese ', 'curd', 'curd cheese', 'decalcifier', 'dental care', 'dessert', 'detergent', 'dish cleaner', 'dishes', 'dog food', 'domestic eggs', 'female sanitary products', 'finished products', 'fish', 'flour', 'flower (seeds)', 'flower soil/fertilizer', 'frankfurter', 'frozen chicken', 'frozen dessert', 'frozen fish', 'frozen fruits', 'frozen meals', 'frozen potato products', 'frozen vegetables', 'fruit/vegetable juice', 'grapes', 'hair spray', 'ham', 'hamburger meat', 'hard cheese', 'herbs', 'honey', 'house keeping products', 'hygiene articles', 'ice cream', 'instant coffee', 'jam', 'ketchup', 'kitchen towels', 'kitchen utensil', 'light bulbs', 'liqueur', 'liquor', 'liquor (appetizer)', 'liver loaf', 'long life bakery product', 'make up remover', 'male cosmetics', 'margarine', 'mayonnaise', 'meat', 'meat spreads', 'misc. beverages', 'mustard', 'napkins', 'newspapers', 'nut snack', 'nuts/prunes', 'oil', 'onions', 'organic products', 'organic sausage', 'other vegetables', 'packaged fruit/vegetables', 'pasta', 'pastry', 'pet care', 'photo/film', 'pickled vegetables', 'pip fruit', 'popcorn', 'pork', 'pot plants', 'potato products', 'preservation products', 'processed cheese', 'prosecco', 'pudding powder', 'ready soups', 'red/blush wine', 'rice', 'roll products ', 'rolls/buns', 'root vegetables', 'rubbing alcohol', 'rum', 'salad dressing', 'salt', 'salty snack', 'sauces', 'sausage', 'seasonal products', 'semi-finished bread', 'shopping bags', 'skin care', 'sliced cheese', 'snack products', 'soap', 'soda', 'soft cheese', 'softener', 'soups', 'sparkling wine', 'specialty bar', 'specialty cheese', 'specialty chocolate', 'specialty fat', 'specialty vegetables', 'spices', 'spread cheese', 'sugar', 'sweet spreads', 'syrup', 'tea', 'tidbits', 'toilet cleaner', 'tropical fruit', 'turkey', 'vinegar', 'waffles', 'whipped/sour cream', 'whisky', 'white bread', 'white wine', 'whole milk', 'yogurt', 'zwieback']]\n"
     ]
    }
   ],
   "source": [
    "print(names)"
   ],
   "metadata": {
    "collapsed": false,
    "pycharm": {
     "name": "#%%\n"
    }
   }
  },
  {
   "cell_type": "code",
   "execution_count": 12,
   "outputs": [
    {
     "name": "stdout",
     "output_type": "stream",
     "text": [
      "167\n"
     ]
    }
   ],
   "source": [
    "print(len(names[0]))"
   ],
   "metadata": {
    "collapsed": false,
    "pycharm": {
     "name": "#%%\n"
    }
   }
  },
  {
   "cell_type": "code",
   "execution_count": 13,
   "outputs": [
    {
     "data": {
      "text/plain": "antecedents            object\nconsequents            object\nantecedent support    float64\nconsequent support    float64\nsupport               float64\nconfidence            float64\nlift                  float64\nleverage              float64\nconviction            float64\ndtype: object"
     },
     "execution_count": 13,
     "metadata": {},
     "output_type": "execute_result"
    }
   ],
   "source": [
    "product_rules.dtypes"
   ],
   "metadata": {
    "collapsed": false,
    "pycharm": {
     "name": "#%%\n"
    }
   }
  },
  {
   "cell_type": "code",
   "execution_count": 14,
   "outputs": [
    {
     "name": "stdout",
     "output_type": "stream",
     "text": [
      "Instant food products\n",
      " curd, UHT-milk\n"
     ]
    }
   ],
   "source": [
    "test = product_rules['antecedents'].iloc[0]\n",
    "print(test)\n",
    "test1 = product_rules['antecedents'].iloc[167]\n",
    "print(test1)"
   ],
   "metadata": {
    "collapsed": false,
    "pycharm": {
     "name": "#%%\n"
    }
   }
  },
  {
   "cell_type": "code",
   "execution_count": 15,
   "outputs": [],
   "source": [
    "def change_format(x):\n",
    "    delim = ','\n",
    "    return frozenset(x.split(delim))"
   ],
   "metadata": {
    "collapsed": false,
    "pycharm": {
     "name": "#%%\n"
    }
   }
  },
  {
   "cell_type": "code",
   "execution_count": 16,
   "outputs": [
    {
     "name": "stdout",
     "output_type": "stream",
     "text": [
      "frozenset({'Instant food products'})\n",
      "<class 'frozenset'>\n",
      "frozenset({' curd', ' UHT-milk'})\n",
      "<class 'frozenset'>\n"
     ]
    }
   ],
   "source": [
    "test = change_format(test)\n",
    "print(test)\n",
    "print(type(test))\n",
    "test1 = change_format(test1)\n",
    "print(test1)\n",
    "print(type(test1))"
   ],
   "metadata": {
    "collapsed": false,
    "pycharm": {
     "name": "#%%\n"
    }
   }
  },
  {
   "cell_type": "code",
   "execution_count": 17,
   "outputs": [
    {
     "data": {
      "text/plain": "               antecedents         consequents  antecedent support  \\\n0  (Instant food products)              (soda)            0.015396   \n1  (Instant food products)        (whole milk)            0.015396   \n2               (UHT-milk)        (whole milk)            0.078522   \n3       (abrasive cleaner)        (rolls/buns)            0.005645   \n4       (artif. sweetener)  (other vegetables)            0.007442   \n\n   consequent support   support  confidence      lift  leverage  conviction  \n0            0.313318  0.007955    0.516667  1.649017  0.003131    1.420722  \n1            0.458045  0.007955    0.516667  1.127983  0.000903    1.121287  \n2            0.458045  0.040544    0.516340  1.127270  0.004577    1.120529  \n3            0.349756  0.002823    0.500000  1.429567  0.000848    1.300488  \n4            0.376700  0.003849    0.517241  1.373086  0.001046    1.291121  ",
      "text/html": "<div>\n<style scoped>\n    .dataframe tbody tr th:only-of-type {\n        vertical-align: middle;\n    }\n\n    .dataframe tbody tr th {\n        vertical-align: top;\n    }\n\n    .dataframe thead th {\n        text-align: right;\n    }\n</style>\n<table border=\"1\" class=\"dataframe\">\n  <thead>\n    <tr style=\"text-align: right;\">\n      <th></th>\n      <th>antecedents</th>\n      <th>consequents</th>\n      <th>antecedent support</th>\n      <th>consequent support</th>\n      <th>support</th>\n      <th>confidence</th>\n      <th>lift</th>\n      <th>leverage</th>\n      <th>conviction</th>\n    </tr>\n  </thead>\n  <tbody>\n    <tr>\n      <th>0</th>\n      <td>(Instant food products)</td>\n      <td>(soda)</td>\n      <td>0.015396</td>\n      <td>0.313318</td>\n      <td>0.007955</td>\n      <td>0.516667</td>\n      <td>1.649017</td>\n      <td>0.003131</td>\n      <td>1.420722</td>\n    </tr>\n    <tr>\n      <th>1</th>\n      <td>(Instant food products)</td>\n      <td>(whole milk)</td>\n      <td>0.015396</td>\n      <td>0.458045</td>\n      <td>0.007955</td>\n      <td>0.516667</td>\n      <td>1.127983</td>\n      <td>0.000903</td>\n      <td>1.121287</td>\n    </tr>\n    <tr>\n      <th>2</th>\n      <td>(UHT-milk)</td>\n      <td>(whole milk)</td>\n      <td>0.078522</td>\n      <td>0.458045</td>\n      <td>0.040544</td>\n      <td>0.516340</td>\n      <td>1.127270</td>\n      <td>0.004577</td>\n      <td>1.120529</td>\n    </tr>\n    <tr>\n      <th>3</th>\n      <td>(abrasive cleaner)</td>\n      <td>(rolls/buns)</td>\n      <td>0.005645</td>\n      <td>0.349756</td>\n      <td>0.002823</td>\n      <td>0.500000</td>\n      <td>1.429567</td>\n      <td>0.000848</td>\n      <td>1.300488</td>\n    </tr>\n    <tr>\n      <th>4</th>\n      <td>(artif. sweetener)</td>\n      <td>(other vegetables)</td>\n      <td>0.007442</td>\n      <td>0.376700</td>\n      <td>0.003849</td>\n      <td>0.517241</td>\n      <td>1.373086</td>\n      <td>0.001046</td>\n      <td>1.291121</td>\n    </tr>\n  </tbody>\n</table>\n</div>"
     },
     "execution_count": 17,
     "metadata": {},
     "output_type": "execute_result"
    }
   ],
   "source": [
    "product_rules['antecedents'] = product_rules['antecedents'].apply(change_format)\n",
    "product_rules['consequents'] = product_rules['consequents'].apply(change_format)\n",
    "product_rules.head()"
   ],
   "metadata": {
    "collapsed": false,
    "pycharm": {
     "name": "#%%\n"
    }
   }
  },
  {
   "cell_type": "code",
   "execution_count": 18,
   "outputs": [
    {
     "data": {
      "text/plain": "                                             antecedents  \\\n0                                (Instant food products)   \n1                                (Instant food products)   \n2                                             (UHT-milk)   \n3                                     (abrasive cleaner)   \n4                                     (artif. sweetener)   \n...                                                  ...   \n24689  (  root vegetables, other vegetables,   sausag...   \n24690  (  root vegetables, other vegetables,   sausag...   \n24691  (  root vegetables,  rolls/buns,  soda,   saus...   \n24692  (  root vegetables,  rolls/buns,   whole milk,...   \n24693  (  root vegetables,  soda,   sausage,   whole ...   \n\n                            consequents  antecedent support  \\\n0                                (soda)            0.015396   \n1                          (whole milk)            0.015396   \n2                          (whole milk)            0.078522   \n3                          (rolls/buns)            0.005645   \n4                    (other vegetables)            0.007442   \n...                                 ...                 ...   \n24689        ( whole milk,  rolls/buns)            0.004876   \n24690              ( rolls/buns,  soda)            0.004876   \n24691  ( whole milk,  other vegetables)            0.004106   \n24692        ( other vegetables,  soda)            0.004362   \n24693  (  rolls/buns, other vegetables)            0.005132   \n\n       consequent support   support  confidence      lift  leverage  \\\n0                0.313318  0.007955    0.516667  1.649017  0.003131   \n1                0.458045  0.007955    0.516667  1.127983  0.000903   \n2                0.458045  0.040544    0.516340  1.127270  0.004577   \n3                0.349756  0.002823    0.500000  1.429567  0.000848   \n4                0.376700  0.003849    0.517241  1.373086  0.001046   \n...                   ...       ...         ...       ...       ...   \n24689            0.178599  0.002566    0.526316  2.946915  0.001695   \n24690            0.119836  0.002566    0.526316  4.391976  0.001982   \n24691            0.191429  0.002566    0.625000  3.264913  0.001780   \n24692            0.124198  0.002566    0.588235  4.736266  0.002024   \n24693            0.146780  0.002566    0.500000  3.406469  0.001813   \n\n       conviction  \n0        1.420722  \n1        1.121287  \n2        1.120529  \n3        1.300488  \n4        1.291121  \n...           ...  \n24689    1.734069  \n24690    1.858124  \n24691    2.156189  \n24692    2.126947  \n24693    1.706441  \n\n[24694 rows x 9 columns]",
      "text/html": "<div>\n<style scoped>\n    .dataframe tbody tr th:only-of-type {\n        vertical-align: middle;\n    }\n\n    .dataframe tbody tr th {\n        vertical-align: top;\n    }\n\n    .dataframe thead th {\n        text-align: right;\n    }\n</style>\n<table border=\"1\" class=\"dataframe\">\n  <thead>\n    <tr style=\"text-align: right;\">\n      <th></th>\n      <th>antecedents</th>\n      <th>consequents</th>\n      <th>antecedent support</th>\n      <th>consequent support</th>\n      <th>support</th>\n      <th>confidence</th>\n      <th>lift</th>\n      <th>leverage</th>\n      <th>conviction</th>\n    </tr>\n  </thead>\n  <tbody>\n    <tr>\n      <th>0</th>\n      <td>(Instant food products)</td>\n      <td>(soda)</td>\n      <td>0.015396</td>\n      <td>0.313318</td>\n      <td>0.007955</td>\n      <td>0.516667</td>\n      <td>1.649017</td>\n      <td>0.003131</td>\n      <td>1.420722</td>\n    </tr>\n    <tr>\n      <th>1</th>\n      <td>(Instant food products)</td>\n      <td>(whole milk)</td>\n      <td>0.015396</td>\n      <td>0.458045</td>\n      <td>0.007955</td>\n      <td>0.516667</td>\n      <td>1.127983</td>\n      <td>0.000903</td>\n      <td>1.121287</td>\n    </tr>\n    <tr>\n      <th>2</th>\n      <td>(UHT-milk)</td>\n      <td>(whole milk)</td>\n      <td>0.078522</td>\n      <td>0.458045</td>\n      <td>0.040544</td>\n      <td>0.516340</td>\n      <td>1.127270</td>\n      <td>0.004577</td>\n      <td>1.120529</td>\n    </tr>\n    <tr>\n      <th>3</th>\n      <td>(abrasive cleaner)</td>\n      <td>(rolls/buns)</td>\n      <td>0.005645</td>\n      <td>0.349756</td>\n      <td>0.002823</td>\n      <td>0.500000</td>\n      <td>1.429567</td>\n      <td>0.000848</td>\n      <td>1.300488</td>\n    </tr>\n    <tr>\n      <th>4</th>\n      <td>(artif. sweetener)</td>\n      <td>(other vegetables)</td>\n      <td>0.007442</td>\n      <td>0.376700</td>\n      <td>0.003849</td>\n      <td>0.517241</td>\n      <td>1.373086</td>\n      <td>0.001046</td>\n      <td>1.291121</td>\n    </tr>\n    <tr>\n      <th>...</th>\n      <td>...</td>\n      <td>...</td>\n      <td>...</td>\n      <td>...</td>\n      <td>...</td>\n      <td>...</td>\n      <td>...</td>\n      <td>...</td>\n      <td>...</td>\n    </tr>\n    <tr>\n      <th>24689</th>\n      <td>(  root vegetables, other vegetables,   sausag...</td>\n      <td>( whole milk,  rolls/buns)</td>\n      <td>0.004876</td>\n      <td>0.178599</td>\n      <td>0.002566</td>\n      <td>0.526316</td>\n      <td>2.946915</td>\n      <td>0.001695</td>\n      <td>1.734069</td>\n    </tr>\n    <tr>\n      <th>24690</th>\n      <td>(  root vegetables, other vegetables,   sausag...</td>\n      <td>( rolls/buns,  soda)</td>\n      <td>0.004876</td>\n      <td>0.119836</td>\n      <td>0.002566</td>\n      <td>0.526316</td>\n      <td>4.391976</td>\n      <td>0.001982</td>\n      <td>1.858124</td>\n    </tr>\n    <tr>\n      <th>24691</th>\n      <td>(  root vegetables,  rolls/buns,  soda,   saus...</td>\n      <td>( whole milk,  other vegetables)</td>\n      <td>0.004106</td>\n      <td>0.191429</td>\n      <td>0.002566</td>\n      <td>0.625000</td>\n      <td>3.264913</td>\n      <td>0.001780</td>\n      <td>2.156189</td>\n    </tr>\n    <tr>\n      <th>24692</th>\n      <td>(  root vegetables,  rolls/buns,   whole milk,...</td>\n      <td>( other vegetables,  soda)</td>\n      <td>0.004362</td>\n      <td>0.124198</td>\n      <td>0.002566</td>\n      <td>0.588235</td>\n      <td>4.736266</td>\n      <td>0.002024</td>\n      <td>2.126947</td>\n    </tr>\n    <tr>\n      <th>24693</th>\n      <td>(  root vegetables,  soda,   sausage,   whole ...</td>\n      <td>(  rolls/buns, other vegetables)</td>\n      <td>0.005132</td>\n      <td>0.146780</td>\n      <td>0.002566</td>\n      <td>0.500000</td>\n      <td>3.406469</td>\n      <td>0.001813</td>\n      <td>1.706441</td>\n    </tr>\n  </tbody>\n</table>\n<p>24694 rows × 9 columns</p>\n</div>"
     },
     "execution_count": 18,
     "metadata": {},
     "output_type": "execute_result"
    }
   ],
   "source": [
    "product_rules"
   ],
   "metadata": {
    "collapsed": false,
    "pycharm": {
     "name": "#%%\n"
    }
   }
  },
  {
   "cell_type": "code",
   "execution_count": 144,
   "outputs": [],
   "source": [
    "def clean_up(factored_answer):\n",
    "    to_check = list(factored_answer)\n",
    "    index = 0\n",
    "    while index < len(to_check):\n",
    "        if to_check[index].find(','):\n",
    "            to_split = copy.copy(to_check[index].split(','))\n",
    "            to_check.pop(index)\n",
    "            for j in range(len(to_split)):\n",
    "                to_check.append(copy.copy(to_split[j]))\n",
    "            index = 0\n",
    "        else:\n",
    "            index += 1\n",
    "            continue\n",
    "    return set(to_check)\n",
    "\n",
    "def recommend(z):  # input is list of lists\n",
    "    print(\"Z contains: \", z)\n",
    "    print()\n",
    "    print(\"Length of Z is: \",len(z))\n",
    "    print()\n",
    "    global product_rules\n",
    "    master_query = None\n",
    "    while True:\n",
    "        try:\n",
    "            master_query = product_rules[(product_rules['antecedents'].astype(str).str.contains(str(z[0])))\n",
    "                                         & (product_rules['antecedents'].astype(str).str.contains(str(z[1])))\n",
    "                                         & (product_rules['antecedents'].astype(str).str.contains(str(z[2])))\n",
    "                                         & (product_rules['antecedents'].astype(str).str.contains(str(z[3])))\n",
    "                                         & (product_rules['antecedents'].astype(str).str.contains(str(z[4])))]\n",
    "        except IndexError:\n",
    "            print(\"Query after not having 5 entries is: \",master_query)\n",
    "            print(\"Type of query is: \", type(master_query))\n",
    "            print()\n",
    "            pass\n",
    "        if master_query is not None:\n",
    "            break\n",
    "        try:\n",
    "            print(\"Made it to second try statement!!\\n\")\n",
    "            master_query = product_rules[(product_rules['antecedents'].astype(str).str.contains(str(z[0])))\n",
    "                                         & (product_rules['antecedents'].astype(str).str.contains(str(z[1])))\n",
    "                                         & (product_rules['antecedents'].astype(str).str.contains(str(z[2])))\n",
    "                                         & (product_rules['antecedents'].astype(str).str.contains(str(z[3])))]\n",
    "        except IndexError:\n",
    "            pass\n",
    "        if master_query is not None:\n",
    "            break\n",
    "        try:\n",
    "            master_query = product_rules[(product_rules['antecedents'].astype(str).str.contains(str(z[0])))\n",
    "                                         & (product_rules['antecedents'].astype(str).str.contains(str(z[1])))\n",
    "                                         & (product_rules['antecedents'].astype(str).str.contains(str(z[2])))]\n",
    "        except IndexError:\n",
    "            pass\n",
    "        if master_query is not None:\n",
    "            break\n",
    "        try:\n",
    "            master_query = product_rules[(product_rules['antecedents'].astype(str).str.contains(str(z[0])))\n",
    "                                         & (product_rules['antecedents'].astype(str).str.contains(str(z[1])))]\n",
    "        except IndexError:\n",
    "            pass\n",
    "        if master_query is not None:\n",
    "            break\n",
    "        try:\n",
    "            master_query = product_rules[(product_rules['antecedents'].astype(str).str.contains(str(z[0])))]\n",
    "        except IndexError:\n",
    "            return \"OOPS!\"\n",
    "        if master_query is None:\n",
    "            return None\n",
    "    master_query.sort_values(by=['support','confidence','lift'],inplace=True,ascending=(False,False,False), ignore_index=True)\n",
    "    # maybe update possible graph here ???\n",
    "    master_query['consequents'] = master_query['consequents'].apply(lambda x: ', '.join(list(x))).astype(\"unicode\")\n",
    "    results = list(master_query['consequents'])\n",
    "    print(len(results))\n",
    "    print(results)\n",
    "    if len(results) == 0:\n",
    "        return None\n",
    "    else:\n",
    "        return clean_up(results)\n",
    "    # if len(results) == 1:\n",
    "    #     print(\"GOT CAUGHT IN THE IF STATEMENT!!\")\n",
    "    #     return results\n",
    "    # print('MADE IT PAST THE IF STATEMENT!!!')\n",
    "    # factored_answer = set()\n",
    "    # for value in range(len(results)):\n",
    "    #     factored_answer.add(copy.copy(results[value]))\n",
    "    # print(\"Factored answer: \",factored_answer)\n",
    "    # print(len(factored_answer))\n",
    "    # factored_answer_after_cleanup = clean_up(factored_answer)\n",
    "    # return factored_answer_after_cleanup\n",
    "    # df[df['antecedents'] == {'rolls/buns', 'Instant food products'}]"
   ],
   "metadata": {
    "collapsed": false,
    "pycharm": {
     "name": "#%%\n"
    }
   }
  },
  {
   "cell_type": "code",
   "execution_count": 145,
   "outputs": [],
   "source": [
    "def synchronized(func):\n",
    "    func.__lock__ = threading.Lock()\n",
    "\n",
    "    def synced_func(*args, **kws):\n",
    "        with func.__lock__:\n",
    "            return func(*args, **kws)\n",
    "    return synced_func"
   ],
   "metadata": {
    "collapsed": false,
    "pycharm": {
     "name": "#%%\n"
    }
   }
  },
  {
   "cell_type": "code",
   "execution_count": 146,
   "outputs": [],
   "source": [
    "@synchronized\n",
    "def start_here(x):\n",
    "    master_search = []\n",
    "    for j in range(1,6):\n",
    "        for element in itertools.combinations(x, j):\n",
    "            master_search.append(list(element))\n",
    "    print(\"Length of master search is: \", len(master_search))\n",
    "    while True:\n",
    "        try:\n",
    "            response = recommend(master_search[-1])\n",
    "        except IndexError:\n",
    "            return 'SOMETHING WENT WRONG!!!'\n",
    "        if response is None or response == \"OOPS!\":\n",
    "            master_search.pop()\n",
    "            print(\"Length of Master Search is: \", len(master_search))\n",
    "            print(\"Master search contains: \", master_search)\n",
    "        else:\n",
    "            # add code to check if items already in inventory... TODO\n",
    "            break\n",
    "    # print(\"Master Search Query Contains: \", master_search)\n",
    "    # print('Length of Master Search Query: ', len(master_search))\n",
    "    # print('\\n\\n\\n')\n",
    "    print('\\n\\n\\n')\n",
    "    print('Cleaned up version is: ', response)\n",
    "    print(\"Length is: \", len(response))\n",
    "    return response"
   ],
   "metadata": {
    "collapsed": false,
    "pycharm": {
     "name": "#%%\n"
    }
   }
  },
  {
   "cell_type": "code",
   "execution_count": 147,
   "outputs": [
    {
     "data": {
      "text/plain": "               antecedents         consequents  antecedent support  \\\n0  (Instant food products)              (soda)            0.015396   \n1  (Instant food products)        (whole milk)            0.015396   \n2               (UHT-milk)        (whole milk)            0.078522   \n3       (abrasive cleaner)        (rolls/buns)            0.005645   \n4       (artif. sweetener)  (other vegetables)            0.007442   \n5       (artif. sweetener)        (whole milk)            0.007442   \n6       (bathroom cleaner)  (other vegetables)            0.004362   \n7       (bathroom cleaner)        (whole milk)            0.004362   \n8                   (beef)        (whole milk)            0.119579   \n9           (bottled beer)        (whole milk)            0.158840   \n\n   consequent support   support  confidence      lift  leverage  conviction  \n0            0.313318  0.007955    0.516667  1.649017  0.003131    1.420722  \n1            0.458045  0.007955    0.516667  1.127983  0.000903    1.121287  \n2            0.458045  0.040544    0.516340  1.127270  0.004577    1.120529  \n3            0.349756  0.002823    0.500000  1.429567  0.000848    1.300488  \n4            0.376700  0.003849    0.517241  1.373086  0.001046    1.291121  \n5            0.458045  0.004619    0.620690  1.355085  0.001210    1.428791  \n6            0.376700  0.002566    0.588235  1.561548  0.000923    1.513729  \n7            0.458045  0.003079    0.705882  1.541078  0.001081    1.842648  \n8            0.458045  0.064152    0.536481  1.171241  0.009379    1.169218  \n9            0.458045  0.085450    0.537964  1.174480  0.012694    1.172973  ",
      "text/html": "<div>\n<style scoped>\n    .dataframe tbody tr th:only-of-type {\n        vertical-align: middle;\n    }\n\n    .dataframe tbody tr th {\n        vertical-align: top;\n    }\n\n    .dataframe thead th {\n        text-align: right;\n    }\n</style>\n<table border=\"1\" class=\"dataframe\">\n  <thead>\n    <tr style=\"text-align: right;\">\n      <th></th>\n      <th>antecedents</th>\n      <th>consequents</th>\n      <th>antecedent support</th>\n      <th>consequent support</th>\n      <th>support</th>\n      <th>confidence</th>\n      <th>lift</th>\n      <th>leverage</th>\n      <th>conviction</th>\n    </tr>\n  </thead>\n  <tbody>\n    <tr>\n      <th>0</th>\n      <td>(Instant food products)</td>\n      <td>(soda)</td>\n      <td>0.015396</td>\n      <td>0.313318</td>\n      <td>0.007955</td>\n      <td>0.516667</td>\n      <td>1.649017</td>\n      <td>0.003131</td>\n      <td>1.420722</td>\n    </tr>\n    <tr>\n      <th>1</th>\n      <td>(Instant food products)</td>\n      <td>(whole milk)</td>\n      <td>0.015396</td>\n      <td>0.458045</td>\n      <td>0.007955</td>\n      <td>0.516667</td>\n      <td>1.127983</td>\n      <td>0.000903</td>\n      <td>1.121287</td>\n    </tr>\n    <tr>\n      <th>2</th>\n      <td>(UHT-milk)</td>\n      <td>(whole milk)</td>\n      <td>0.078522</td>\n      <td>0.458045</td>\n      <td>0.040544</td>\n      <td>0.516340</td>\n      <td>1.127270</td>\n      <td>0.004577</td>\n      <td>1.120529</td>\n    </tr>\n    <tr>\n      <th>3</th>\n      <td>(abrasive cleaner)</td>\n      <td>(rolls/buns)</td>\n      <td>0.005645</td>\n      <td>0.349756</td>\n      <td>0.002823</td>\n      <td>0.500000</td>\n      <td>1.429567</td>\n      <td>0.000848</td>\n      <td>1.300488</td>\n    </tr>\n    <tr>\n      <th>4</th>\n      <td>(artif. sweetener)</td>\n      <td>(other vegetables)</td>\n      <td>0.007442</td>\n      <td>0.376700</td>\n      <td>0.003849</td>\n      <td>0.517241</td>\n      <td>1.373086</td>\n      <td>0.001046</td>\n      <td>1.291121</td>\n    </tr>\n    <tr>\n      <th>5</th>\n      <td>(artif. sweetener)</td>\n      <td>(whole milk)</td>\n      <td>0.007442</td>\n      <td>0.458045</td>\n      <td>0.004619</td>\n      <td>0.620690</td>\n      <td>1.355085</td>\n      <td>0.001210</td>\n      <td>1.428791</td>\n    </tr>\n    <tr>\n      <th>6</th>\n      <td>(bathroom cleaner)</td>\n      <td>(other vegetables)</td>\n      <td>0.004362</td>\n      <td>0.376700</td>\n      <td>0.002566</td>\n      <td>0.588235</td>\n      <td>1.561548</td>\n      <td>0.000923</td>\n      <td>1.513729</td>\n    </tr>\n    <tr>\n      <th>7</th>\n      <td>(bathroom cleaner)</td>\n      <td>(whole milk)</td>\n      <td>0.004362</td>\n      <td>0.458045</td>\n      <td>0.003079</td>\n      <td>0.705882</td>\n      <td>1.541078</td>\n      <td>0.001081</td>\n      <td>1.842648</td>\n    </tr>\n    <tr>\n      <th>8</th>\n      <td>(beef)</td>\n      <td>(whole milk)</td>\n      <td>0.119579</td>\n      <td>0.458045</td>\n      <td>0.064152</td>\n      <td>0.536481</td>\n      <td>1.171241</td>\n      <td>0.009379</td>\n      <td>1.169218</td>\n    </tr>\n    <tr>\n      <th>9</th>\n      <td>(bottled beer)</td>\n      <td>(whole milk)</td>\n      <td>0.158840</td>\n      <td>0.458045</td>\n      <td>0.085450</td>\n      <td>0.537964</td>\n      <td>1.174480</td>\n      <td>0.012694</td>\n      <td>1.172973</td>\n    </tr>\n  </tbody>\n</table>\n</div>"
     },
     "execution_count": 147,
     "metadata": {},
     "output_type": "execute_result"
    }
   ],
   "source": [
    "product_rules.head(10)"
   ],
   "metadata": {
    "collapsed": false,
    "pycharm": {
     "name": "#%%\n"
    }
   }
  },
  {
   "cell_type": "code",
   "execution_count": 155,
   "outputs": [
    {
     "data": {
      "text/plain": "                antecedents   consequents  antecedent support  \\\n27  (chocolate marshmallow)  (whole milk)            0.015396   \n\n    consequent support   support  confidence      lift  leverage  conviction  \n27            0.458045  0.007698         0.5  1.091597  0.000646    1.083911  ",
      "text/html": "<div>\n<style scoped>\n    .dataframe tbody tr th:only-of-type {\n        vertical-align: middle;\n    }\n\n    .dataframe tbody tr th {\n        vertical-align: top;\n    }\n\n    .dataframe thead th {\n        text-align: right;\n    }\n</style>\n<table border=\"1\" class=\"dataframe\">\n  <thead>\n    <tr style=\"text-align: right;\">\n      <th></th>\n      <th>antecedents</th>\n      <th>consequents</th>\n      <th>antecedent support</th>\n      <th>consequent support</th>\n      <th>support</th>\n      <th>confidence</th>\n      <th>lift</th>\n      <th>leverage</th>\n      <th>conviction</th>\n    </tr>\n  </thead>\n  <tbody>\n    <tr>\n      <th>27</th>\n      <td>(chocolate marshmallow)</td>\n      <td>(whole milk)</td>\n      <td>0.015396</td>\n      <td>0.458045</td>\n      <td>0.007698</td>\n      <td>0.5</td>\n      <td>1.091597</td>\n      <td>0.000646</td>\n      <td>1.083911</td>\n    </tr>\n  </tbody>\n</table>\n</div>"
     },
     "execution_count": 155,
     "metadata": {},
     "output_type": "execute_result"
    }
   ],
   "source": [
    "product_rules[product_rules['antecedents'] == {'chocolate marshmallow'}]"
   ],
   "metadata": {
    "collapsed": false,
    "pycharm": {
     "name": "#%%\n"
    }
   }
  },
  {
   "cell_type": "code",
   "execution_count": 162,
   "outputs": [
    {
     "data": {
      "text/plain": "Empty DataFrame\nColumns: [antecedents, consequents, antecedent support, consequent support, support, confidence, lift, leverage, conviction]\nIndex: []",
      "text/html": "<div>\n<style scoped>\n    .dataframe tbody tr th:only-of-type {\n        vertical-align: middle;\n    }\n\n    .dataframe tbody tr th {\n        vertical-align: top;\n    }\n\n    .dataframe thead th {\n        text-align: right;\n    }\n</style>\n<table border=\"1\" class=\"dataframe\">\n  <thead>\n    <tr style=\"text-align: right;\">\n      <th></th>\n      <th>antecedents</th>\n      <th>consequents</th>\n      <th>antecedent support</th>\n      <th>consequent support</th>\n      <th>support</th>\n      <th>confidence</th>\n      <th>lift</th>\n      <th>leverage</th>\n      <th>conviction</th>\n    </tr>\n  </thead>\n  <tbody>\n  </tbody>\n</table>\n</div>"
     },
     "execution_count": 162,
     "metadata": {},
     "output_type": "execute_result"
    }
   ],
   "source": [
    "product_rules[(product_rules['antecedents'] == {'  rolls/buns'}) & (product_rules['antecedents'] == {'Instant food products'})]"
   ],
   "metadata": {
    "collapsed": false,
    "pycharm": {
     "name": "#%%\n"
    }
   }
  },
  {
   "cell_type": "code",
   "execution_count": 163,
   "outputs": [
    {
     "data": {
      "text/plain": "                               antecedents        consequents  \\\n132  (  rolls/buns, Instant food products)  (root vegetables)   \n133  (  rolls/buns, Instant food products)             (soda)   \n\n     antecedent support  consequent support   support  confidence      lift  \\\n132            0.005389            0.230690  0.002823    0.523810  2.270618   \n133            0.005389            0.313318  0.003593    0.666667  2.127764   \n\n     leverage  conviction  \n132  0.001580    1.615550  \n133  0.001904    2.060046  ",
      "text/html": "<div>\n<style scoped>\n    .dataframe tbody tr th:only-of-type {\n        vertical-align: middle;\n    }\n\n    .dataframe tbody tr th {\n        vertical-align: top;\n    }\n\n    .dataframe thead th {\n        text-align: right;\n    }\n</style>\n<table border=\"1\" class=\"dataframe\">\n  <thead>\n    <tr style=\"text-align: right;\">\n      <th></th>\n      <th>antecedents</th>\n      <th>consequents</th>\n      <th>antecedent support</th>\n      <th>consequent support</th>\n      <th>support</th>\n      <th>confidence</th>\n      <th>lift</th>\n      <th>leverage</th>\n      <th>conviction</th>\n    </tr>\n  </thead>\n  <tbody>\n    <tr>\n      <th>132</th>\n      <td>(  rolls/buns, Instant food products)</td>\n      <td>(root vegetables)</td>\n      <td>0.005389</td>\n      <td>0.230690</td>\n      <td>0.002823</td>\n      <td>0.523810</td>\n      <td>2.270618</td>\n      <td>0.001580</td>\n      <td>1.615550</td>\n    </tr>\n    <tr>\n      <th>133</th>\n      <td>(  rolls/buns, Instant food products)</td>\n      <td>(soda)</td>\n      <td>0.005389</td>\n      <td>0.313318</td>\n      <td>0.003593</td>\n      <td>0.666667</td>\n      <td>2.127764</td>\n      <td>0.001904</td>\n      <td>2.060046</td>\n    </tr>\n  </tbody>\n</table>\n</div>"
     },
     "execution_count": 163,
     "metadata": {},
     "output_type": "execute_result"
    }
   ],
   "source": [
    "product_rules[product_rules['antecedents'] == {'  rolls/buns', 'Instant food products'}]"
   ],
   "metadata": {
    "collapsed": false,
    "pycharm": {
     "name": "#%%\n"
    }
   }
  },
  {
   "cell_type": "code",
   "execution_count": 164,
   "outputs": [
    {
     "data": {
      "text/plain": "                               antecedents        consequents  \\\n132  (  rolls/buns, Instant food products)  (root vegetables)   \n133  (  rolls/buns, Instant food products)             (soda)   \n\n     antecedent support  consequent support   support  confidence      lift  \\\n132            0.005389            0.230690  0.002823    0.523810  2.270618   \n133            0.005389            0.313318  0.003593    0.666667  2.127764   \n\n     leverage  conviction  \n132  0.001580    1.615550  \n133  0.001904    2.060046  ",
      "text/html": "<div>\n<style scoped>\n    .dataframe tbody tr th:only-of-type {\n        vertical-align: middle;\n    }\n\n    .dataframe tbody tr th {\n        vertical-align: top;\n    }\n\n    .dataframe thead th {\n        text-align: right;\n    }\n</style>\n<table border=\"1\" class=\"dataframe\">\n  <thead>\n    <tr style=\"text-align: right;\">\n      <th></th>\n      <th>antecedents</th>\n      <th>consequents</th>\n      <th>antecedent support</th>\n      <th>consequent support</th>\n      <th>support</th>\n      <th>confidence</th>\n      <th>lift</th>\n      <th>leverage</th>\n      <th>conviction</th>\n    </tr>\n  </thead>\n  <tbody>\n    <tr>\n      <th>132</th>\n      <td>(  rolls/buns, Instant food products)</td>\n      <td>(root vegetables)</td>\n      <td>0.005389</td>\n      <td>0.230690</td>\n      <td>0.002823</td>\n      <td>0.523810</td>\n      <td>2.270618</td>\n      <td>0.001580</td>\n      <td>1.615550</td>\n    </tr>\n    <tr>\n      <th>133</th>\n      <td>(  rolls/buns, Instant food products)</td>\n      <td>(soda)</td>\n      <td>0.005389</td>\n      <td>0.313318</td>\n      <td>0.003593</td>\n      <td>0.666667</td>\n      <td>2.127764</td>\n      <td>0.001904</td>\n      <td>2.060046</td>\n    </tr>\n  </tbody>\n</table>\n</div>"
     },
     "execution_count": 164,
     "metadata": {},
     "output_type": "execute_result"
    }
   ],
   "source": [
    "product_rules[product_rules['antecedents'] == {'Instant food products', '  rolls/buns'}]"
   ],
   "metadata": {
    "collapsed": false,
    "pycharm": {
     "name": "#%%\n"
    }
   }
  },
  {
   "cell_type": "code",
   "execution_count": 160,
   "outputs": [
    {
     "data": {
      "text/plain": "antecedents           (  rolls/buns, Instant food products)\nconsequents                               (root vegetables)\nantecedent support                                 0.005389\nconsequent support                                  0.23069\nsupport                                            0.002823\nconfidence                                          0.52381\nlift                                               2.270618\nleverage                                            0.00158\nconviction                                          1.61555\nName: 132, dtype: object"
     },
     "execution_count": 160,
     "metadata": {},
     "output_type": "execute_result"
    }
   ],
   "source": [
    "product_rules.iloc[132]"
   ],
   "metadata": {
    "collapsed": false,
    "pycharm": {
     "name": "#%%\n"
    }
   }
  },
  {
   "cell_type": "code",
   "execution_count": 161,
   "outputs": [
    {
     "name": "stdout",
     "output_type": "stream",
     "text": [
      "frozenset({'  rolls/buns', 'Instant food products'})\n",
      "<class 'frozenset'>\n"
     ]
    }
   ],
   "source": [
    "q = product_rules['antecedents'].iloc[132]\n",
    "print(q)\n",
    "print(type(q))\n",
    "print()"
   ],
   "metadata": {
    "collapsed": false,
    "pycharm": {
     "name": "#%%\n"
    }
   }
  },
  {
   "cell_type": "code",
   "execution_count": 151,
   "outputs": [],
   "source": [
    "list_to_check_5 = []\n",
    "for i in range(5):\n",
    "    random_index = random.randrange(len(names[0]))\n",
    "    list_to_check_5.append(copy.copy(names[0][random_index]))"
   ],
   "metadata": {
    "collapsed": false,
    "pycharm": {
     "name": "#%%\n"
    }
   }
  },
  {
   "cell_type": "code",
   "execution_count": 152,
   "outputs": [
    {
     "name": "stdout",
     "output_type": "stream",
     "text": [
      "['brandy', 'frozen fruits', 'shopping bags', 'beef', 'grapes']\n"
     ]
    }
   ],
   "source": [
    "print(list_to_check_5)"
   ],
   "metadata": {
    "collapsed": false,
    "pycharm": {
     "name": "#%%\n"
    }
   }
  },
  {
   "cell_type": "code",
   "execution_count": 153,
   "outputs": [
    {
     "name": "stdout",
     "output_type": "stream",
     "text": [
      "Length of master search is:  31\n",
      "Z contains:  ['brandy', 'frozen fruits', 'shopping bags', 'beef', 'grapes']\n",
      "\n",
      "Length of Z is:  5\n",
      "\n",
      "0\n",
      "[]\n",
      "Length of Master Search is:  30\n",
      "Master search contains:  [['brandy'], ['frozen fruits'], ['shopping bags'], ['beef'], ['grapes'], ['brandy', 'frozen fruits'], ['brandy', 'shopping bags'], ['brandy', 'beef'], ['brandy', 'grapes'], ['frozen fruits', 'shopping bags'], ['frozen fruits', 'beef'], ['frozen fruits', 'grapes'], ['shopping bags', 'beef'], ['shopping bags', 'grapes'], ['beef', 'grapes'], ['brandy', 'frozen fruits', 'shopping bags'], ['brandy', 'frozen fruits', 'beef'], ['brandy', 'frozen fruits', 'grapes'], ['brandy', 'shopping bags', 'beef'], ['brandy', 'shopping bags', 'grapes'], ['brandy', 'beef', 'grapes'], ['frozen fruits', 'shopping bags', 'beef'], ['frozen fruits', 'shopping bags', 'grapes'], ['frozen fruits', 'beef', 'grapes'], ['shopping bags', 'beef', 'grapes'], ['brandy', 'frozen fruits', 'shopping bags', 'beef'], ['brandy', 'frozen fruits', 'shopping bags', 'grapes'], ['brandy', 'frozen fruits', 'beef', 'grapes'], ['brandy', 'shopping bags', 'beef', 'grapes'], ['frozen fruits', 'shopping bags', 'beef', 'grapes']]\n",
      "Z contains:  ['frozen fruits', 'shopping bags', 'beef', 'grapes']\n",
      "\n",
      "Length of Z is:  4\n",
      "\n",
      "Query after not having 5 entries is:  None\n",
      "Type of query is:  <class 'NoneType'>\n",
      "\n",
      "Made it to second try statement!!\n",
      "\n",
      "0\n",
      "[]\n",
      "Length of Master Search is:  29\n",
      "Master search contains:  [['brandy'], ['frozen fruits'], ['shopping bags'], ['beef'], ['grapes'], ['brandy', 'frozen fruits'], ['brandy', 'shopping bags'], ['brandy', 'beef'], ['brandy', 'grapes'], ['frozen fruits', 'shopping bags'], ['frozen fruits', 'beef'], ['frozen fruits', 'grapes'], ['shopping bags', 'beef'], ['shopping bags', 'grapes'], ['beef', 'grapes'], ['brandy', 'frozen fruits', 'shopping bags'], ['brandy', 'frozen fruits', 'beef'], ['brandy', 'frozen fruits', 'grapes'], ['brandy', 'shopping bags', 'beef'], ['brandy', 'shopping bags', 'grapes'], ['brandy', 'beef', 'grapes'], ['frozen fruits', 'shopping bags', 'beef'], ['frozen fruits', 'shopping bags', 'grapes'], ['frozen fruits', 'beef', 'grapes'], ['shopping bags', 'beef', 'grapes'], ['brandy', 'frozen fruits', 'shopping bags', 'beef'], ['brandy', 'frozen fruits', 'shopping bags', 'grapes'], ['brandy', 'frozen fruits', 'beef', 'grapes'], ['brandy', 'shopping bags', 'beef', 'grapes']]\n",
      "Z contains:  ['brandy', 'shopping bags', 'beef', 'grapes']\n",
      "\n",
      "Length of Z is:  4\n",
      "\n",
      "Query after not having 5 entries is:  None\n",
      "Type of query is:  <class 'NoneType'>\n",
      "\n",
      "Made it to second try statement!!\n",
      "\n",
      "0\n",
      "[]\n",
      "Length of Master Search is:  28\n",
      "Master search contains:  [['brandy'], ['frozen fruits'], ['shopping bags'], ['beef'], ['grapes'], ['brandy', 'frozen fruits'], ['brandy', 'shopping bags'], ['brandy', 'beef'], ['brandy', 'grapes'], ['frozen fruits', 'shopping bags'], ['frozen fruits', 'beef'], ['frozen fruits', 'grapes'], ['shopping bags', 'beef'], ['shopping bags', 'grapes'], ['beef', 'grapes'], ['brandy', 'frozen fruits', 'shopping bags'], ['brandy', 'frozen fruits', 'beef'], ['brandy', 'frozen fruits', 'grapes'], ['brandy', 'shopping bags', 'beef'], ['brandy', 'shopping bags', 'grapes'], ['brandy', 'beef', 'grapes'], ['frozen fruits', 'shopping bags', 'beef'], ['frozen fruits', 'shopping bags', 'grapes'], ['frozen fruits', 'beef', 'grapes'], ['shopping bags', 'beef', 'grapes'], ['brandy', 'frozen fruits', 'shopping bags', 'beef'], ['brandy', 'frozen fruits', 'shopping bags', 'grapes'], ['brandy', 'frozen fruits', 'beef', 'grapes']]\n",
      "Z contains:  ['brandy', 'frozen fruits', 'beef', 'grapes']\n",
      "\n",
      "Length of Z is:  4\n",
      "\n",
      "Query after not having 5 entries is:  None\n",
      "Type of query is:  <class 'NoneType'>\n",
      "\n",
      "Made it to second try statement!!\n",
      "\n",
      "0\n",
      "[]\n",
      "Length of Master Search is:  27\n",
      "Master search contains:  [['brandy'], ['frozen fruits'], ['shopping bags'], ['beef'], ['grapes'], ['brandy', 'frozen fruits'], ['brandy', 'shopping bags'], ['brandy', 'beef'], ['brandy', 'grapes'], ['frozen fruits', 'shopping bags'], ['frozen fruits', 'beef'], ['frozen fruits', 'grapes'], ['shopping bags', 'beef'], ['shopping bags', 'grapes'], ['beef', 'grapes'], ['brandy', 'frozen fruits', 'shopping bags'], ['brandy', 'frozen fruits', 'beef'], ['brandy', 'frozen fruits', 'grapes'], ['brandy', 'shopping bags', 'beef'], ['brandy', 'shopping bags', 'grapes'], ['brandy', 'beef', 'grapes'], ['frozen fruits', 'shopping bags', 'beef'], ['frozen fruits', 'shopping bags', 'grapes'], ['frozen fruits', 'beef', 'grapes'], ['shopping bags', 'beef', 'grapes'], ['brandy', 'frozen fruits', 'shopping bags', 'beef'], ['brandy', 'frozen fruits', 'shopping bags', 'grapes']]\n",
      "Z contains:  ['brandy', 'frozen fruits', 'shopping bags', 'grapes']\n",
      "\n",
      "Length of Z is:  4\n",
      "\n",
      "Query after not having 5 entries is:  None\n",
      "Type of query is:  <class 'NoneType'>\n",
      "\n",
      "Made it to second try statement!!\n",
      "\n",
      "0\n",
      "[]\n",
      "Length of Master Search is:  26\n",
      "Master search contains:  [['brandy'], ['frozen fruits'], ['shopping bags'], ['beef'], ['grapes'], ['brandy', 'frozen fruits'], ['brandy', 'shopping bags'], ['brandy', 'beef'], ['brandy', 'grapes'], ['frozen fruits', 'shopping bags'], ['frozen fruits', 'beef'], ['frozen fruits', 'grapes'], ['shopping bags', 'beef'], ['shopping bags', 'grapes'], ['beef', 'grapes'], ['brandy', 'frozen fruits', 'shopping bags'], ['brandy', 'frozen fruits', 'beef'], ['brandy', 'frozen fruits', 'grapes'], ['brandy', 'shopping bags', 'beef'], ['brandy', 'shopping bags', 'grapes'], ['brandy', 'beef', 'grapes'], ['frozen fruits', 'shopping bags', 'beef'], ['frozen fruits', 'shopping bags', 'grapes'], ['frozen fruits', 'beef', 'grapes'], ['shopping bags', 'beef', 'grapes'], ['brandy', 'frozen fruits', 'shopping bags', 'beef']]\n",
      "Z contains:  ['brandy', 'frozen fruits', 'shopping bags', 'beef']\n",
      "\n",
      "Length of Z is:  4\n",
      "\n",
      "Query after not having 5 entries is:  None\n",
      "Type of query is:  <class 'NoneType'>\n",
      "\n",
      "Made it to second try statement!!\n",
      "\n",
      "0\n",
      "[]\n",
      "Length of Master Search is:  25\n",
      "Master search contains:  [['brandy'], ['frozen fruits'], ['shopping bags'], ['beef'], ['grapes'], ['brandy', 'frozen fruits'], ['brandy', 'shopping bags'], ['brandy', 'beef'], ['brandy', 'grapes'], ['frozen fruits', 'shopping bags'], ['frozen fruits', 'beef'], ['frozen fruits', 'grapes'], ['shopping bags', 'beef'], ['shopping bags', 'grapes'], ['beef', 'grapes'], ['brandy', 'frozen fruits', 'shopping bags'], ['brandy', 'frozen fruits', 'beef'], ['brandy', 'frozen fruits', 'grapes'], ['brandy', 'shopping bags', 'beef'], ['brandy', 'shopping bags', 'grapes'], ['brandy', 'beef', 'grapes'], ['frozen fruits', 'shopping bags', 'beef'], ['frozen fruits', 'shopping bags', 'grapes'], ['frozen fruits', 'beef', 'grapes'], ['shopping bags', 'beef', 'grapes']]\n",
      "Z contains:  ['shopping bags', 'beef', 'grapes']\n",
      "\n",
      "Length of Z is:  3\n",
      "\n",
      "Query after not having 5 entries is:  None\n",
      "Type of query is:  <class 'NoneType'>\n",
      "\n",
      "Made it to second try statement!!\n",
      "\n",
      "0\n",
      "[]\n",
      "Length of Master Search is:  24\n",
      "Master search contains:  [['brandy'], ['frozen fruits'], ['shopping bags'], ['beef'], ['grapes'], ['brandy', 'frozen fruits'], ['brandy', 'shopping bags'], ['brandy', 'beef'], ['brandy', 'grapes'], ['frozen fruits', 'shopping bags'], ['frozen fruits', 'beef'], ['frozen fruits', 'grapes'], ['shopping bags', 'beef'], ['shopping bags', 'grapes'], ['beef', 'grapes'], ['brandy', 'frozen fruits', 'shopping bags'], ['brandy', 'frozen fruits', 'beef'], ['brandy', 'frozen fruits', 'grapes'], ['brandy', 'shopping bags', 'beef'], ['brandy', 'shopping bags', 'grapes'], ['brandy', 'beef', 'grapes'], ['frozen fruits', 'shopping bags', 'beef'], ['frozen fruits', 'shopping bags', 'grapes'], ['frozen fruits', 'beef', 'grapes']]\n",
      "Z contains:  ['frozen fruits', 'beef', 'grapes']\n",
      "\n",
      "Length of Z is:  3\n",
      "\n",
      "Query after not having 5 entries is:  None\n",
      "Type of query is:  <class 'NoneType'>\n",
      "\n",
      "Made it to second try statement!!\n",
      "\n",
      "0\n",
      "[]\n",
      "Length of Master Search is:  23\n",
      "Master search contains:  [['brandy'], ['frozen fruits'], ['shopping bags'], ['beef'], ['grapes'], ['brandy', 'frozen fruits'], ['brandy', 'shopping bags'], ['brandy', 'beef'], ['brandy', 'grapes'], ['frozen fruits', 'shopping bags'], ['frozen fruits', 'beef'], ['frozen fruits', 'grapes'], ['shopping bags', 'beef'], ['shopping bags', 'grapes'], ['beef', 'grapes'], ['brandy', 'frozen fruits', 'shopping bags'], ['brandy', 'frozen fruits', 'beef'], ['brandy', 'frozen fruits', 'grapes'], ['brandy', 'shopping bags', 'beef'], ['brandy', 'shopping bags', 'grapes'], ['brandy', 'beef', 'grapes'], ['frozen fruits', 'shopping bags', 'beef'], ['frozen fruits', 'shopping bags', 'grapes']]\n",
      "Z contains:  ['frozen fruits', 'shopping bags', 'grapes']\n",
      "\n",
      "Length of Z is:  3\n",
      "\n",
      "Query after not having 5 entries is:  None\n",
      "Type of query is:  <class 'NoneType'>\n",
      "\n",
      "Made it to second try statement!!\n",
      "\n",
      "0\n",
      "[]\n",
      "Length of Master Search is:  22\n",
      "Master search contains:  [['brandy'], ['frozen fruits'], ['shopping bags'], ['beef'], ['grapes'], ['brandy', 'frozen fruits'], ['brandy', 'shopping bags'], ['brandy', 'beef'], ['brandy', 'grapes'], ['frozen fruits', 'shopping bags'], ['frozen fruits', 'beef'], ['frozen fruits', 'grapes'], ['shopping bags', 'beef'], ['shopping bags', 'grapes'], ['beef', 'grapes'], ['brandy', 'frozen fruits', 'shopping bags'], ['brandy', 'frozen fruits', 'beef'], ['brandy', 'frozen fruits', 'grapes'], ['brandy', 'shopping bags', 'beef'], ['brandy', 'shopping bags', 'grapes'], ['brandy', 'beef', 'grapes'], ['frozen fruits', 'shopping bags', 'beef']]\n",
      "Z contains:  ['frozen fruits', 'shopping bags', 'beef']\n",
      "\n",
      "Length of Z is:  3\n",
      "\n",
      "Query after not having 5 entries is:  None\n",
      "Type of query is:  <class 'NoneType'>\n",
      "\n",
      "Made it to second try statement!!\n",
      "\n",
      "0\n",
      "[]\n",
      "Length of Master Search is:  21\n",
      "Master search contains:  [['brandy'], ['frozen fruits'], ['shopping bags'], ['beef'], ['grapes'], ['brandy', 'frozen fruits'], ['brandy', 'shopping bags'], ['brandy', 'beef'], ['brandy', 'grapes'], ['frozen fruits', 'shopping bags'], ['frozen fruits', 'beef'], ['frozen fruits', 'grapes'], ['shopping bags', 'beef'], ['shopping bags', 'grapes'], ['beef', 'grapes'], ['brandy', 'frozen fruits', 'shopping bags'], ['brandy', 'frozen fruits', 'beef'], ['brandy', 'frozen fruits', 'grapes'], ['brandy', 'shopping bags', 'beef'], ['brandy', 'shopping bags', 'grapes'], ['brandy', 'beef', 'grapes']]\n",
      "Z contains:  ['brandy', 'beef', 'grapes']\n",
      "\n",
      "Length of Z is:  3\n",
      "\n",
      "Query after not having 5 entries is:  None\n",
      "Type of query is:  <class 'NoneType'>\n",
      "\n",
      "Made it to second try statement!!\n",
      "\n",
      "0\n",
      "[]\n",
      "Length of Master Search is:  20\n",
      "Master search contains:  [['brandy'], ['frozen fruits'], ['shopping bags'], ['beef'], ['grapes'], ['brandy', 'frozen fruits'], ['brandy', 'shopping bags'], ['brandy', 'beef'], ['brandy', 'grapes'], ['frozen fruits', 'shopping bags'], ['frozen fruits', 'beef'], ['frozen fruits', 'grapes'], ['shopping bags', 'beef'], ['shopping bags', 'grapes'], ['beef', 'grapes'], ['brandy', 'frozen fruits', 'shopping bags'], ['brandy', 'frozen fruits', 'beef'], ['brandy', 'frozen fruits', 'grapes'], ['brandy', 'shopping bags', 'beef'], ['brandy', 'shopping bags', 'grapes']]\n",
      "Z contains:  ['brandy', 'shopping bags', 'grapes']\n",
      "\n",
      "Length of Z is:  3\n",
      "\n",
      "Query after not having 5 entries is:  None\n",
      "Type of query is:  <class 'NoneType'>\n",
      "\n",
      "Made it to second try statement!!\n",
      "\n",
      "0\n",
      "[]\n",
      "Length of Master Search is:  19\n",
      "Master search contains:  [['brandy'], ['frozen fruits'], ['shopping bags'], ['beef'], ['grapes'], ['brandy', 'frozen fruits'], ['brandy', 'shopping bags'], ['brandy', 'beef'], ['brandy', 'grapes'], ['frozen fruits', 'shopping bags'], ['frozen fruits', 'beef'], ['frozen fruits', 'grapes'], ['shopping bags', 'beef'], ['shopping bags', 'grapes'], ['beef', 'grapes'], ['brandy', 'frozen fruits', 'shopping bags'], ['brandy', 'frozen fruits', 'beef'], ['brandy', 'frozen fruits', 'grapes'], ['brandy', 'shopping bags', 'beef']]\n",
      "Z contains:  ['brandy', 'shopping bags', 'beef']\n",
      "\n",
      "Length of Z is:  3\n",
      "\n",
      "Query after not having 5 entries is:  None\n",
      "Type of query is:  <class 'NoneType'>\n",
      "\n",
      "Made it to second try statement!!\n",
      "\n",
      "0\n",
      "[]\n",
      "Length of Master Search is:  18\n",
      "Master search contains:  [['brandy'], ['frozen fruits'], ['shopping bags'], ['beef'], ['grapes'], ['brandy', 'frozen fruits'], ['brandy', 'shopping bags'], ['brandy', 'beef'], ['brandy', 'grapes'], ['frozen fruits', 'shopping bags'], ['frozen fruits', 'beef'], ['frozen fruits', 'grapes'], ['shopping bags', 'beef'], ['shopping bags', 'grapes'], ['beef', 'grapes'], ['brandy', 'frozen fruits', 'shopping bags'], ['brandy', 'frozen fruits', 'beef'], ['brandy', 'frozen fruits', 'grapes']]\n",
      "Z contains:  ['brandy', 'frozen fruits', 'grapes']\n",
      "\n",
      "Length of Z is:  3\n",
      "\n",
      "Query after not having 5 entries is:  None\n",
      "Type of query is:  <class 'NoneType'>\n",
      "\n",
      "Made it to second try statement!!\n",
      "\n",
      "0\n",
      "[]\n",
      "Length of Master Search is:  17\n",
      "Master search contains:  [['brandy'], ['frozen fruits'], ['shopping bags'], ['beef'], ['grapes'], ['brandy', 'frozen fruits'], ['brandy', 'shopping bags'], ['brandy', 'beef'], ['brandy', 'grapes'], ['frozen fruits', 'shopping bags'], ['frozen fruits', 'beef'], ['frozen fruits', 'grapes'], ['shopping bags', 'beef'], ['shopping bags', 'grapes'], ['beef', 'grapes'], ['brandy', 'frozen fruits', 'shopping bags'], ['brandy', 'frozen fruits', 'beef']]\n",
      "Z contains:  ['brandy', 'frozen fruits', 'beef']\n",
      "\n",
      "Length of Z is:  3\n",
      "\n",
      "Query after not having 5 entries is:  None\n",
      "Type of query is:  <class 'NoneType'>\n",
      "\n",
      "Made it to second try statement!!\n",
      "\n",
      "0\n",
      "[]\n",
      "Length of Master Search is:  16\n",
      "Master search contains:  [['brandy'], ['frozen fruits'], ['shopping bags'], ['beef'], ['grapes'], ['brandy', 'frozen fruits'], ['brandy', 'shopping bags'], ['brandy', 'beef'], ['brandy', 'grapes'], ['frozen fruits', 'shopping bags'], ['frozen fruits', 'beef'], ['frozen fruits', 'grapes'], ['shopping bags', 'beef'], ['shopping bags', 'grapes'], ['beef', 'grapes'], ['brandy', 'frozen fruits', 'shopping bags']]\n",
      "Z contains:  ['brandy', 'frozen fruits', 'shopping bags']\n",
      "\n",
      "Length of Z is:  3\n",
      "\n",
      "Query after not having 5 entries is:  None\n",
      "Type of query is:  <class 'NoneType'>\n",
      "\n",
      "Made it to second try statement!!\n",
      "\n",
      "0\n",
      "[]\n",
      "Length of Master Search is:  15\n",
      "Master search contains:  [['brandy'], ['frozen fruits'], ['shopping bags'], ['beef'], ['grapes'], ['brandy', 'frozen fruits'], ['brandy', 'shopping bags'], ['brandy', 'beef'], ['brandy', 'grapes'], ['frozen fruits', 'shopping bags'], ['frozen fruits', 'beef'], ['frozen fruits', 'grapes'], ['shopping bags', 'beef'], ['shopping bags', 'grapes'], ['beef', 'grapes']]\n",
      "Z contains:  ['beef', 'grapes']\n",
      "\n",
      "Length of Z is:  2\n",
      "\n",
      "Query after not having 5 entries is:  None\n",
      "Type of query is:  <class 'NoneType'>\n",
      "\n",
      "Made it to second try statement!!\n",
      "\n",
      "6\n",
      "['other vegetables', 'whole milk', 'other vegetables', 'whole milk', 'whole milk', 'yogurt']\n"
     ]
    },
    {
     "ename": "KeyboardInterrupt",
     "evalue": "",
     "output_type": "error",
     "traceback": [
      "\u001B[1;31m---------------------------------------------------------------------------\u001B[0m",
      "\u001B[1;31mKeyboardInterrupt\u001B[0m                         Traceback (most recent call last)",
      "\u001B[1;32m~\\AppData\\Local\\Temp/ipykernel_1184/2814392924.py\u001B[0m in \u001B[0;36m<module>\u001B[1;34m\u001B[0m\n\u001B[1;32m----> 1\u001B[1;33m \u001B[0mans5\u001B[0m \u001B[1;33m=\u001B[0m \u001B[0mstart_here\u001B[0m\u001B[1;33m(\u001B[0m\u001B[0mlist_to_check_5\u001B[0m\u001B[1;33m)\u001B[0m\u001B[1;33m\u001B[0m\u001B[1;33m\u001B[0m\u001B[0m\n\u001B[0m",
      "\u001B[1;32m~\\AppData\\Local\\Temp/ipykernel_1184/2503197412.py\u001B[0m in \u001B[0;36msynced_func\u001B[1;34m(*args, **kws)\u001B[0m\n\u001B[0;32m      4\u001B[0m     \u001B[1;32mdef\u001B[0m \u001B[0msynced_func\u001B[0m\u001B[1;33m(\u001B[0m\u001B[1;33m*\u001B[0m\u001B[0margs\u001B[0m\u001B[1;33m,\u001B[0m \u001B[1;33m**\u001B[0m\u001B[0mkws\u001B[0m\u001B[1;33m)\u001B[0m\u001B[1;33m:\u001B[0m\u001B[1;33m\u001B[0m\u001B[1;33m\u001B[0m\u001B[0m\n\u001B[0;32m      5\u001B[0m         \u001B[1;32mwith\u001B[0m \u001B[0mfunc\u001B[0m\u001B[1;33m.\u001B[0m\u001B[0m__lock__\u001B[0m\u001B[1;33m:\u001B[0m\u001B[1;33m\u001B[0m\u001B[1;33m\u001B[0m\u001B[0m\n\u001B[1;32m----> 6\u001B[1;33m             \u001B[1;32mreturn\u001B[0m \u001B[0mfunc\u001B[0m\u001B[1;33m(\u001B[0m\u001B[1;33m*\u001B[0m\u001B[0margs\u001B[0m\u001B[1;33m,\u001B[0m \u001B[1;33m**\u001B[0m\u001B[0mkws\u001B[0m\u001B[1;33m)\u001B[0m\u001B[1;33m\u001B[0m\u001B[1;33m\u001B[0m\u001B[0m\n\u001B[0m\u001B[0;32m      7\u001B[0m     \u001B[1;32mreturn\u001B[0m \u001B[0msynced_func\u001B[0m\u001B[1;33m\u001B[0m\u001B[1;33m\u001B[0m\u001B[0m\n",
      "\u001B[1;32m~\\AppData\\Local\\Temp/ipykernel_1184/937143712.py\u001B[0m in \u001B[0;36mstart_here\u001B[1;34m(x)\u001B[0m\n\u001B[0;32m      8\u001B[0m     \u001B[1;32mwhile\u001B[0m \u001B[1;32mTrue\u001B[0m\u001B[1;33m:\u001B[0m\u001B[1;33m\u001B[0m\u001B[1;33m\u001B[0m\u001B[0m\n\u001B[0;32m      9\u001B[0m         \u001B[1;32mtry\u001B[0m\u001B[1;33m:\u001B[0m\u001B[1;33m\u001B[0m\u001B[1;33m\u001B[0m\u001B[0m\n\u001B[1;32m---> 10\u001B[1;33m             \u001B[0mresponse\u001B[0m \u001B[1;33m=\u001B[0m \u001B[0mrecommend\u001B[0m\u001B[1;33m(\u001B[0m\u001B[0mmaster_search\u001B[0m\u001B[1;33m[\u001B[0m\u001B[1;33m-\u001B[0m\u001B[1;36m1\u001B[0m\u001B[1;33m]\u001B[0m\u001B[1;33m)\u001B[0m\u001B[1;33m\u001B[0m\u001B[1;33m\u001B[0m\u001B[0m\n\u001B[0m\u001B[0;32m     11\u001B[0m         \u001B[1;32mexcept\u001B[0m \u001B[0mIndexError\u001B[0m\u001B[1;33m:\u001B[0m\u001B[1;33m\u001B[0m\u001B[1;33m\u001B[0m\u001B[0m\n\u001B[0;32m     12\u001B[0m             \u001B[1;32mreturn\u001B[0m \u001B[1;34m'SOMETHING WENT WRONG!!!'\u001B[0m\u001B[1;33m\u001B[0m\u001B[1;33m\u001B[0m\u001B[0m\n",
      "\u001B[1;32m~\\AppData\\Local\\Temp/ipykernel_1184/598816980.py\u001B[0m in \u001B[0;36mrecommend\u001B[1;34m(z)\u001B[0m\n\u001B[0;32m     75\u001B[0m         \u001B[1;32mreturn\u001B[0m \u001B[1;32mNone\u001B[0m\u001B[1;33m\u001B[0m\u001B[1;33m\u001B[0m\u001B[0m\n\u001B[0;32m     76\u001B[0m     \u001B[1;32melse\u001B[0m\u001B[1;33m:\u001B[0m\u001B[1;33m\u001B[0m\u001B[1;33m\u001B[0m\u001B[0m\n\u001B[1;32m---> 77\u001B[1;33m         \u001B[1;32mreturn\u001B[0m \u001B[0mclean_up\u001B[0m\u001B[1;33m(\u001B[0m\u001B[0mresults\u001B[0m\u001B[1;33m)\u001B[0m\u001B[1;33m\u001B[0m\u001B[1;33m\u001B[0m\u001B[0m\n\u001B[0m\u001B[0;32m     78\u001B[0m     \u001B[1;31m# if len(results) == 1:\u001B[0m\u001B[1;33m\u001B[0m\u001B[1;33m\u001B[0m\u001B[1;33m\u001B[0m\u001B[0m\n\u001B[0;32m     79\u001B[0m     \u001B[1;31m#     print(\"GOT CAUGHT IN THE IF STATEMENT!!\")\u001B[0m\u001B[1;33m\u001B[0m\u001B[1;33m\u001B[0m\u001B[1;33m\u001B[0m\u001B[0m\n",
      "\u001B[1;32m~\\AppData\\Local\\Temp/ipykernel_1184/598816980.py\u001B[0m in \u001B[0;36mclean_up\u001B[1;34m(factored_answer)\u001B[0m\n\u001B[0;32m      7\u001B[0m             \u001B[0mto_check\u001B[0m\u001B[1;33m.\u001B[0m\u001B[0mpop\u001B[0m\u001B[1;33m(\u001B[0m\u001B[0mindex\u001B[0m\u001B[1;33m)\u001B[0m\u001B[1;33m\u001B[0m\u001B[1;33m\u001B[0m\u001B[0m\n\u001B[0;32m      8\u001B[0m             \u001B[1;32mfor\u001B[0m \u001B[0mj\u001B[0m \u001B[1;32min\u001B[0m \u001B[0mrange\u001B[0m\u001B[1;33m(\u001B[0m\u001B[0mlen\u001B[0m\u001B[1;33m(\u001B[0m\u001B[0mto_split\u001B[0m\u001B[1;33m)\u001B[0m\u001B[1;33m)\u001B[0m\u001B[1;33m:\u001B[0m\u001B[1;33m\u001B[0m\u001B[1;33m\u001B[0m\u001B[0m\n\u001B[1;32m----> 9\u001B[1;33m                 \u001B[0mto_check\u001B[0m\u001B[1;33m.\u001B[0m\u001B[0mappend\u001B[0m\u001B[1;33m(\u001B[0m\u001B[0mcopy\u001B[0m\u001B[1;33m.\u001B[0m\u001B[0mcopy\u001B[0m\u001B[1;33m(\u001B[0m\u001B[0mto_split\u001B[0m\u001B[1;33m[\u001B[0m\u001B[0mj\u001B[0m\u001B[1;33m]\u001B[0m\u001B[1;33m)\u001B[0m\u001B[1;33m)\u001B[0m\u001B[1;33m\u001B[0m\u001B[1;33m\u001B[0m\u001B[0m\n\u001B[0m\u001B[0;32m     10\u001B[0m             \u001B[0mindex\u001B[0m \u001B[1;33m=\u001B[0m \u001B[1;36m0\u001B[0m\u001B[1;33m\u001B[0m\u001B[1;33m\u001B[0m\u001B[0m\n\u001B[0;32m     11\u001B[0m         \u001B[1;32melse\u001B[0m\u001B[1;33m:\u001B[0m\u001B[1;33m\u001B[0m\u001B[1;33m\u001B[0m\u001B[0m\n",
      "\u001B[1;31mKeyboardInterrupt\u001B[0m: "
     ]
    }
   ],
   "source": [
    "ans5 = start_here(list_to_check_5)"
   ],
   "metadata": {
    "collapsed": false,
    "pycharm": {
     "name": "#%%\n"
    }
   }
  },
  {
   "cell_type": "code",
   "execution_count": null,
   "outputs": [],
   "source": [
    "print(ans5)"
   ],
   "metadata": {
    "collapsed": false,
    "pycharm": {
     "name": "#%%\n"
    }
   }
  },
  {
   "cell_type": "code",
   "execution_count": null,
   "outputs": [],
   "source": [
    "print(len(ans5))"
   ],
   "metadata": {
    "collapsed": false,
    "pycharm": {
     "name": "#%%\n"
    }
   }
  },
  {
   "cell_type": "code",
   "execution_count": 165,
   "outputs": [
    {
     "name": "stdout",
     "output_type": "stream",
     "text": [
      "<class 'str'>\n"
     ]
    }
   ],
   "source": [
    "# print(type(ans5.pop()))"
   ],
   "metadata": {
    "collapsed": false,
    "pycharm": {
     "name": "#%%\n"
    }
   }
  },
  {
   "cell_type": "code",
   "execution_count": 61,
   "outputs": [
    {
     "name": "stdout",
     "output_type": "stream",
     "text": [
      "['butter milk', 'female sanitary products', 'long life bakery product', 'cling film/bags']\n"
     ]
    }
   ],
   "source": [
    "list_to_check_4 = []\n",
    "for i in range(4):\n",
    "    random_index = random.randrange(len(names[0]))\n",
    "    list_to_check_4.append(copy.copy(names[0][random_index]))\n",
    "print(list_to_check_4)"
   ],
   "metadata": {
    "collapsed": false,
    "pycharm": {
     "name": "#%%\n"
    }
   }
  },
  {
   "cell_type": "code",
   "execution_count": 158,
   "outputs": [],
   "source": [
    "ans4 = start_here(list_to_check_4)"
   ],
   "metadata": {
    "collapsed": false,
    "pycharm": {
     "name": "#%%\n"
    }
   }
  },
  {
   "cell_type": "code",
   "execution_count": 159,
   "outputs": [
    {
     "name": "stdout",
     "output_type": "stream",
     "text": [
      "{'pip fruit', 'whipped/sour cream', ' other vegetables, whole milk', ' rolls/buns, soda', 'pork', ' whole milk, soda', 'other vegetables', 'pastry', 'tropical fruit', 'other vegetables,  yogurt', 'root vegetables', 'whole milk', 'canned beer', 'soda', ' whole milk, bottled water', ' whipped/sour cream, whole milk', 'frankfurter', ' rolls/buns, whole milk', 'butter', 'beef', 'domestic eggs', 'citrus fruit', ' tropical fruit, whole milk', 'white bread', 'yogurt,  rolls/buns', 'bottled water', 'sausage', 'rolls/buns', ' yogurt, soda', 'other vegetables,  pip fruit', ' root vegetables, whole milk', 'curd', 'other vegetables,  rolls/buns', 'other vegetables,  whole milk', 'margarine', 'bottled beer', ' pork, whole milk', ' shopping bags, whole milk', 'yogurt', 'brown bread', 'newspapers', 'fruit/vegetable juice', ' other vegetables, bottled water', 'shopping bags', 'dessert', ' rolls/buns, shopping bags', ' other vegetables, soda', ' yogurt, whole milk'}\n"
     ]
    }
   ],
   "source": [
    "print(ans4)"
   ],
   "metadata": {
    "collapsed": false,
    "pycharm": {
     "name": "#%%\n"
    }
   }
  },
  {
   "cell_type": "code",
   "execution_count": 63,
   "outputs": [
    {
     "name": "stdout",
     "output_type": "stream",
     "text": [
      "['cream', 'specialty bar', 'soap']\n"
     ]
    }
   ],
   "source": [
    "list_to_check_3 = []\n",
    "for i in range(3):\n",
    "    random_index = random.randrange(len(names[0]))\n",
    "    list_to_check_3.append(copy.copy(names[0][random_index]))\n",
    "print(list_to_check_3)"
   ],
   "metadata": {
    "collapsed": false,
    "pycharm": {
     "name": "#%%\n"
    }
   }
  },
  {
   "cell_type": "code",
   "execution_count": 160,
   "outputs": [],
   "source": [
    "ans3 = start_here(list_to_check_3)"
   ],
   "metadata": {
    "collapsed": false,
    "pycharm": {
     "name": "#%%\n"
    }
   }
  },
  {
   "cell_type": "code",
   "execution_count": 161,
   "outputs": [
    {
     "name": "stdout",
     "output_type": "stream",
     "text": [
      "{'pip fruit', 'whipped/sour cream', ' other vegetables, whole milk', ' rolls/buns, soda', 'pork', ' whole milk, soda', 'other vegetables', 'pastry', 'tropical fruit', 'other vegetables,  yogurt', 'root vegetables', 'whole milk', 'canned beer', 'soda', ' whole milk, bottled water', ' whipped/sour cream, whole milk', 'frankfurter', ' rolls/buns, whole milk', 'butter', 'beef', 'domestic eggs', 'citrus fruit', ' tropical fruit, whole milk', 'white bread', 'yogurt,  rolls/buns', 'bottled water', 'sausage', 'rolls/buns', ' yogurt, soda', 'other vegetables,  pip fruit', ' root vegetables, whole milk', 'curd', 'other vegetables,  rolls/buns', 'other vegetables,  whole milk', 'margarine', 'bottled beer', ' pork, whole milk', ' shopping bags, whole milk', 'yogurt', 'brown bread', 'newspapers', 'fruit/vegetable juice', ' other vegetables, bottled water', 'shopping bags', 'dessert', ' rolls/buns, shopping bags', ' other vegetables, soda', ' yogurt, whole milk'}\n"
     ]
    }
   ],
   "source": [
    "print(ans3)"
   ],
   "metadata": {
    "collapsed": false,
    "pycharm": {
     "name": "#%%\n"
    }
   }
  },
  {
   "cell_type": "code",
   "execution_count": 65,
   "outputs": [
    {
     "name": "stdout",
     "output_type": "stream",
     "text": [
      "['cake bar', 'root vegetables']\n"
     ]
    }
   ],
   "source": [
    "list_to_check_2 = []\n",
    "for i in range(2):\n",
    "    random_index = random.randrange(len(names[0]))\n",
    "    list_to_check_2.append(copy.copy(names[0][random_index]))\n",
    "print(list_to_check_2)"
   ],
   "metadata": {
    "collapsed": false,
    "pycharm": {
     "name": "#%%\n"
    }
   }
  },
  {
   "cell_type": "code",
   "execution_count": 162,
   "outputs": [
    {
     "ename": "KeyboardInterrupt",
     "evalue": "",
     "output_type": "error",
     "traceback": [
      "\u001B[1;31m---------------------------------------------------------------------------\u001B[0m",
      "\u001B[1;31mKeyboardInterrupt\u001B[0m                         Traceback (most recent call last)",
      "\u001B[1;32m~\\AppData\\Local\\Temp/ipykernel_6472/394656407.py\u001B[0m in \u001B[0;36m<module>\u001B[1;34m\u001B[0m\n\u001B[1;32m----> 1\u001B[1;33m \u001B[0mans2\u001B[0m \u001B[1;33m=\u001B[0m \u001B[0mstart_here\u001B[0m\u001B[1;33m(\u001B[0m\u001B[0mlist_to_check_2\u001B[0m\u001B[1;33m)\u001B[0m\u001B[1;33m\u001B[0m\u001B[1;33m\u001B[0m\u001B[0m\n\u001B[0m",
      "\u001B[1;32m~\\AppData\\Local\\Temp/ipykernel_6472/2503197412.py\u001B[0m in \u001B[0;36msynced_func\u001B[1;34m(*args, **kws)\u001B[0m\n\u001B[0;32m      4\u001B[0m     \u001B[1;32mdef\u001B[0m \u001B[0msynced_func\u001B[0m\u001B[1;33m(\u001B[0m\u001B[1;33m*\u001B[0m\u001B[0margs\u001B[0m\u001B[1;33m,\u001B[0m \u001B[1;33m**\u001B[0m\u001B[0mkws\u001B[0m\u001B[1;33m)\u001B[0m\u001B[1;33m:\u001B[0m\u001B[1;33m\u001B[0m\u001B[1;33m\u001B[0m\u001B[0m\n\u001B[0;32m      5\u001B[0m         \u001B[1;32mwith\u001B[0m \u001B[0mfunc\u001B[0m\u001B[1;33m.\u001B[0m\u001B[0m__lock__\u001B[0m\u001B[1;33m:\u001B[0m\u001B[1;33m\u001B[0m\u001B[1;33m\u001B[0m\u001B[0m\n\u001B[1;32m----> 6\u001B[1;33m             \u001B[1;32mreturn\u001B[0m \u001B[0mfunc\u001B[0m\u001B[1;33m(\u001B[0m\u001B[1;33m*\u001B[0m\u001B[0margs\u001B[0m\u001B[1;33m,\u001B[0m \u001B[1;33m**\u001B[0m\u001B[0mkws\u001B[0m\u001B[1;33m)\u001B[0m\u001B[1;33m\u001B[0m\u001B[1;33m\u001B[0m\u001B[0m\n\u001B[0m\u001B[0;32m      7\u001B[0m     \u001B[1;32mreturn\u001B[0m \u001B[0msynced_func\u001B[0m\u001B[1;33m\u001B[0m\u001B[1;33m\u001B[0m\u001B[0m\n",
      "\u001B[1;32m~\\AppData\\Local\\Temp/ipykernel_6472/2907080045.py\u001B[0m in \u001B[0;36mstart_here\u001B[1;34m(x)\u001B[0m\n\u001B[0;32m      5\u001B[0m         \u001B[1;32mfor\u001B[0m \u001B[0melement\u001B[0m \u001B[1;32min\u001B[0m \u001B[0mitertools\u001B[0m\u001B[1;33m.\u001B[0m\u001B[0mcombinations\u001B[0m\u001B[1;33m(\u001B[0m\u001B[0mx\u001B[0m\u001B[1;33m,\u001B[0m \u001B[0mj\u001B[0m\u001B[1;33m)\u001B[0m\u001B[1;33m:\u001B[0m\u001B[1;33m\u001B[0m\u001B[1;33m\u001B[0m\u001B[0m\n\u001B[0;32m      6\u001B[0m             \u001B[0mmaster_search\u001B[0m\u001B[1;33m.\u001B[0m\u001B[0mappend\u001B[0m\u001B[1;33m(\u001B[0m\u001B[0mlist\u001B[0m\u001B[1;33m(\u001B[0m\u001B[0melement\u001B[0m\u001B[1;33m)\u001B[0m\u001B[1;33m)\u001B[0m\u001B[1;33m\u001B[0m\u001B[1;33m\u001B[0m\u001B[0m\n\u001B[1;32m----> 7\u001B[1;33m     \u001B[1;32mreturn\u001B[0m \u001B[0mrecommend\u001B[0m\u001B[1;33m(\u001B[0m\u001B[0mcopy\u001B[0m\u001B[1;33m.\u001B[0m\u001B[0mcopy\u001B[0m\u001B[1;33m(\u001B[0m\u001B[0mmaster_search\u001B[0m\u001B[1;33m)\u001B[0m\u001B[1;33m)\u001B[0m\u001B[1;33m\u001B[0m\u001B[1;33m\u001B[0m\u001B[0m\n\u001B[0m",
      "\u001B[1;32m~\\AppData\\Local\\Temp/ipykernel_6472/3982038687.py\u001B[0m in \u001B[0;36mrecommend\u001B[1;34m(z)\u001B[0m\n\u001B[0;32m      5\u001B[0m         \u001B[1;32mtry\u001B[0m\u001B[1;33m:\u001B[0m\u001B[1;33m\u001B[0m\u001B[1;33m\u001B[0m\u001B[0m\n\u001B[0;32m      6\u001B[0m             master_query = product_rules[(product_rules['antecedents'].astype(str).str.contains(str(z[0])))\n\u001B[1;32m----> 7\u001B[1;33m                                          \u001B[1;33m&\u001B[0m \u001B[1;33m(\u001B[0m\u001B[0mproduct_rules\u001B[0m\u001B[1;33m[\u001B[0m\u001B[1;34m'antecedents'\u001B[0m\u001B[1;33m]\u001B[0m\u001B[1;33m.\u001B[0m\u001B[0mastype\u001B[0m\u001B[1;33m(\u001B[0m\u001B[0mstr\u001B[0m\u001B[1;33m)\u001B[0m\u001B[1;33m.\u001B[0m\u001B[0mstr\u001B[0m\u001B[1;33m.\u001B[0m\u001B[0mcontains\u001B[0m\u001B[1;33m(\u001B[0m\u001B[0mstr\u001B[0m\u001B[1;33m(\u001B[0m\u001B[0mz\u001B[0m\u001B[1;33m[\u001B[0m\u001B[1;36m1\u001B[0m\u001B[1;33m]\u001B[0m\u001B[1;33m)\u001B[0m\u001B[1;33m)\u001B[0m\u001B[1;33m)\u001B[0m\u001B[1;33m\u001B[0m\u001B[1;33m\u001B[0m\u001B[0m\n\u001B[0m\u001B[0;32m      8\u001B[0m                                          \u001B[1;33m&\u001B[0m \u001B[1;33m(\u001B[0m\u001B[0mproduct_rules\u001B[0m\u001B[1;33m[\u001B[0m\u001B[1;34m'antecedents'\u001B[0m\u001B[1;33m]\u001B[0m\u001B[1;33m.\u001B[0m\u001B[0mastype\u001B[0m\u001B[1;33m(\u001B[0m\u001B[0mstr\u001B[0m\u001B[1;33m)\u001B[0m\u001B[1;33m.\u001B[0m\u001B[0mstr\u001B[0m\u001B[1;33m.\u001B[0m\u001B[0mcontains\u001B[0m\u001B[1;33m(\u001B[0m\u001B[0mstr\u001B[0m\u001B[1;33m(\u001B[0m\u001B[0mz\u001B[0m\u001B[1;33m[\u001B[0m\u001B[1;36m2\u001B[0m\u001B[1;33m]\u001B[0m\u001B[1;33m)\u001B[0m\u001B[1;33m)\u001B[0m\u001B[1;33m)\u001B[0m\u001B[1;33m\u001B[0m\u001B[1;33m\u001B[0m\u001B[0m\n\u001B[0;32m      9\u001B[0m                                          \u001B[1;33m&\u001B[0m \u001B[1;33m(\u001B[0m\u001B[0mproduct_rules\u001B[0m\u001B[1;33m[\u001B[0m\u001B[1;34m'antecedents'\u001B[0m\u001B[1;33m]\u001B[0m\u001B[1;33m.\u001B[0m\u001B[0mastype\u001B[0m\u001B[1;33m(\u001B[0m\u001B[0mstr\u001B[0m\u001B[1;33m)\u001B[0m\u001B[1;33m.\u001B[0m\u001B[0mstr\u001B[0m\u001B[1;33m.\u001B[0m\u001B[0mcontains\u001B[0m\u001B[1;33m(\u001B[0m\u001B[0mstr\u001B[0m\u001B[1;33m(\u001B[0m\u001B[0mz\u001B[0m\u001B[1;33m[\u001B[0m\u001B[1;36m3\u001B[0m\u001B[1;33m]\u001B[0m\u001B[1;33m)\u001B[0m\u001B[1;33m)\u001B[0m\u001B[1;33m)\u001B[0m\u001B[1;33m\u001B[0m\u001B[1;33m\u001B[0m\u001B[0m\n",
      "\u001B[1;32m~\\anaconda3\\envs\\ws1\\lib\\site-packages\\pandas\\core\\generic.py\u001B[0m in \u001B[0;36mastype\u001B[1;34m(self, dtype, copy, errors)\u001B[0m\n\u001B[0;32m   5813\u001B[0m         \u001B[1;32melse\u001B[0m\u001B[1;33m:\u001B[0m\u001B[1;33m\u001B[0m\u001B[1;33m\u001B[0m\u001B[0m\n\u001B[0;32m   5814\u001B[0m             \u001B[1;31m# else, only a single dtype is given\u001B[0m\u001B[1;33m\u001B[0m\u001B[1;33m\u001B[0m\u001B[1;33m\u001B[0m\u001B[0m\n\u001B[1;32m-> 5815\u001B[1;33m             \u001B[0mnew_data\u001B[0m \u001B[1;33m=\u001B[0m \u001B[0mself\u001B[0m\u001B[1;33m.\u001B[0m\u001B[0m_mgr\u001B[0m\u001B[1;33m.\u001B[0m\u001B[0mastype\u001B[0m\u001B[1;33m(\u001B[0m\u001B[0mdtype\u001B[0m\u001B[1;33m=\u001B[0m\u001B[0mdtype\u001B[0m\u001B[1;33m,\u001B[0m \u001B[0mcopy\u001B[0m\u001B[1;33m=\u001B[0m\u001B[0mcopy\u001B[0m\u001B[1;33m,\u001B[0m \u001B[0merrors\u001B[0m\u001B[1;33m=\u001B[0m\u001B[0merrors\u001B[0m\u001B[1;33m)\u001B[0m\u001B[1;33m\u001B[0m\u001B[1;33m\u001B[0m\u001B[0m\n\u001B[0m\u001B[0;32m   5816\u001B[0m             \u001B[1;32mreturn\u001B[0m \u001B[0mself\u001B[0m\u001B[1;33m.\u001B[0m\u001B[0m_constructor\u001B[0m\u001B[1;33m(\u001B[0m\u001B[0mnew_data\u001B[0m\u001B[1;33m)\u001B[0m\u001B[1;33m.\u001B[0m\u001B[0m__finalize__\u001B[0m\u001B[1;33m(\u001B[0m\u001B[0mself\u001B[0m\u001B[1;33m,\u001B[0m \u001B[0mmethod\u001B[0m\u001B[1;33m=\u001B[0m\u001B[1;34m\"astype\"\u001B[0m\u001B[1;33m)\u001B[0m\u001B[1;33m\u001B[0m\u001B[1;33m\u001B[0m\u001B[0m\n\u001B[0;32m   5817\u001B[0m \u001B[1;33m\u001B[0m\u001B[0m\n",
      "\u001B[1;32m~\\anaconda3\\envs\\ws1\\lib\\site-packages\\pandas\\core\\internals\\managers.py\u001B[0m in \u001B[0;36mastype\u001B[1;34m(self, dtype, copy, errors)\u001B[0m\n\u001B[0;32m    416\u001B[0m \u001B[1;33m\u001B[0m\u001B[0m\n\u001B[0;32m    417\u001B[0m     \u001B[1;32mdef\u001B[0m \u001B[0mastype\u001B[0m\u001B[1;33m(\u001B[0m\u001B[0mself\u001B[0m\u001B[1;33m:\u001B[0m \u001B[0mT\u001B[0m\u001B[1;33m,\u001B[0m \u001B[0mdtype\u001B[0m\u001B[1;33m,\u001B[0m \u001B[0mcopy\u001B[0m\u001B[1;33m:\u001B[0m \u001B[0mbool\u001B[0m \u001B[1;33m=\u001B[0m \u001B[1;32mFalse\u001B[0m\u001B[1;33m,\u001B[0m \u001B[0merrors\u001B[0m\u001B[1;33m:\u001B[0m \u001B[0mstr\u001B[0m \u001B[1;33m=\u001B[0m \u001B[1;34m\"raise\"\u001B[0m\u001B[1;33m)\u001B[0m \u001B[1;33m->\u001B[0m \u001B[0mT\u001B[0m\u001B[1;33m:\u001B[0m\u001B[1;33m\u001B[0m\u001B[1;33m\u001B[0m\u001B[0m\n\u001B[1;32m--> 418\u001B[1;33m         \u001B[1;32mreturn\u001B[0m \u001B[0mself\u001B[0m\u001B[1;33m.\u001B[0m\u001B[0mapply\u001B[0m\u001B[1;33m(\u001B[0m\u001B[1;34m\"astype\"\u001B[0m\u001B[1;33m,\u001B[0m \u001B[0mdtype\u001B[0m\u001B[1;33m=\u001B[0m\u001B[0mdtype\u001B[0m\u001B[1;33m,\u001B[0m \u001B[0mcopy\u001B[0m\u001B[1;33m=\u001B[0m\u001B[0mcopy\u001B[0m\u001B[1;33m,\u001B[0m \u001B[0merrors\u001B[0m\u001B[1;33m=\u001B[0m\u001B[0merrors\u001B[0m\u001B[1;33m)\u001B[0m\u001B[1;33m\u001B[0m\u001B[1;33m\u001B[0m\u001B[0m\n\u001B[0m\u001B[0;32m    419\u001B[0m \u001B[1;33m\u001B[0m\u001B[0m\n\u001B[0;32m    420\u001B[0m     def convert(\n",
      "\u001B[1;32m~\\anaconda3\\envs\\ws1\\lib\\site-packages\\pandas\\core\\internals\\managers.py\u001B[0m in \u001B[0;36mapply\u001B[1;34m(self, f, align_keys, ignore_failures, **kwargs)\u001B[0m\n\u001B[0;32m    325\u001B[0m                     \u001B[0mapplied\u001B[0m \u001B[1;33m=\u001B[0m \u001B[0mb\u001B[0m\u001B[1;33m.\u001B[0m\u001B[0mapply\u001B[0m\u001B[1;33m(\u001B[0m\u001B[0mf\u001B[0m\u001B[1;33m,\u001B[0m \u001B[1;33m**\u001B[0m\u001B[0mkwargs\u001B[0m\u001B[1;33m)\u001B[0m\u001B[1;33m\u001B[0m\u001B[1;33m\u001B[0m\u001B[0m\n\u001B[0;32m    326\u001B[0m                 \u001B[1;32melse\u001B[0m\u001B[1;33m:\u001B[0m\u001B[1;33m\u001B[0m\u001B[1;33m\u001B[0m\u001B[0m\n\u001B[1;32m--> 327\u001B[1;33m                     \u001B[0mapplied\u001B[0m \u001B[1;33m=\u001B[0m \u001B[0mgetattr\u001B[0m\u001B[1;33m(\u001B[0m\u001B[0mb\u001B[0m\u001B[1;33m,\u001B[0m \u001B[0mf\u001B[0m\u001B[1;33m)\u001B[0m\u001B[1;33m(\u001B[0m\u001B[1;33m**\u001B[0m\u001B[0mkwargs\u001B[0m\u001B[1;33m)\u001B[0m\u001B[1;33m\u001B[0m\u001B[1;33m\u001B[0m\u001B[0m\n\u001B[0m\u001B[0;32m    328\u001B[0m             \u001B[1;32mexcept\u001B[0m \u001B[1;33m(\u001B[0m\u001B[0mTypeError\u001B[0m\u001B[1;33m,\u001B[0m \u001B[0mNotImplementedError\u001B[0m\u001B[1;33m)\u001B[0m\u001B[1;33m:\u001B[0m\u001B[1;33m\u001B[0m\u001B[1;33m\u001B[0m\u001B[0m\n\u001B[0;32m    329\u001B[0m                 \u001B[1;32mif\u001B[0m \u001B[1;32mnot\u001B[0m \u001B[0mignore_failures\u001B[0m\u001B[1;33m:\u001B[0m\u001B[1;33m\u001B[0m\u001B[1;33m\u001B[0m\u001B[0m\n",
      "\u001B[1;32m~\\anaconda3\\envs\\ws1\\lib\\site-packages\\pandas\\core\\internals\\blocks.py\u001B[0m in \u001B[0;36mastype\u001B[1;34m(self, dtype, copy, errors)\u001B[0m\n\u001B[0;32m    589\u001B[0m         \u001B[0mvalues\u001B[0m \u001B[1;33m=\u001B[0m \u001B[0mself\u001B[0m\u001B[1;33m.\u001B[0m\u001B[0mvalues\u001B[0m\u001B[1;33m\u001B[0m\u001B[1;33m\u001B[0m\u001B[0m\n\u001B[0;32m    590\u001B[0m \u001B[1;33m\u001B[0m\u001B[0m\n\u001B[1;32m--> 591\u001B[1;33m         \u001B[0mnew_values\u001B[0m \u001B[1;33m=\u001B[0m \u001B[0mastype_array_safe\u001B[0m\u001B[1;33m(\u001B[0m\u001B[0mvalues\u001B[0m\u001B[1;33m,\u001B[0m \u001B[0mdtype\u001B[0m\u001B[1;33m,\u001B[0m \u001B[0mcopy\u001B[0m\u001B[1;33m=\u001B[0m\u001B[0mcopy\u001B[0m\u001B[1;33m,\u001B[0m \u001B[0merrors\u001B[0m\u001B[1;33m=\u001B[0m\u001B[0merrors\u001B[0m\u001B[1;33m)\u001B[0m\u001B[1;33m\u001B[0m\u001B[1;33m\u001B[0m\u001B[0m\n\u001B[0m\u001B[0;32m    592\u001B[0m \u001B[1;33m\u001B[0m\u001B[0m\n\u001B[0;32m    593\u001B[0m         \u001B[0mnew_values\u001B[0m \u001B[1;33m=\u001B[0m \u001B[0mmaybe_coerce_values\u001B[0m\u001B[1;33m(\u001B[0m\u001B[0mnew_values\u001B[0m\u001B[1;33m)\u001B[0m\u001B[1;33m\u001B[0m\u001B[1;33m\u001B[0m\u001B[0m\n",
      "\u001B[1;32m~\\anaconda3\\envs\\ws1\\lib\\site-packages\\pandas\\core\\dtypes\\cast.py\u001B[0m in \u001B[0;36mastype_array_safe\u001B[1;34m(values, dtype, copy, errors)\u001B[0m\n\u001B[0;32m   1307\u001B[0m \u001B[1;33m\u001B[0m\u001B[0m\n\u001B[0;32m   1308\u001B[0m     \u001B[1;32mtry\u001B[0m\u001B[1;33m:\u001B[0m\u001B[1;33m\u001B[0m\u001B[1;33m\u001B[0m\u001B[0m\n\u001B[1;32m-> 1309\u001B[1;33m         \u001B[0mnew_values\u001B[0m \u001B[1;33m=\u001B[0m \u001B[0mastype_array\u001B[0m\u001B[1;33m(\u001B[0m\u001B[0mvalues\u001B[0m\u001B[1;33m,\u001B[0m \u001B[0mdtype\u001B[0m\u001B[1;33m,\u001B[0m \u001B[0mcopy\u001B[0m\u001B[1;33m=\u001B[0m\u001B[0mcopy\u001B[0m\u001B[1;33m)\u001B[0m\u001B[1;33m\u001B[0m\u001B[1;33m\u001B[0m\u001B[0m\n\u001B[0m\u001B[0;32m   1310\u001B[0m     \u001B[1;32mexcept\u001B[0m \u001B[1;33m(\u001B[0m\u001B[0mValueError\u001B[0m\u001B[1;33m,\u001B[0m \u001B[0mTypeError\u001B[0m\u001B[1;33m)\u001B[0m\u001B[1;33m:\u001B[0m\u001B[1;33m\u001B[0m\u001B[1;33m\u001B[0m\u001B[0m\n\u001B[0;32m   1311\u001B[0m         \u001B[1;31m# e.g. astype_nansafe can fail on object-dtype of strings\u001B[0m\u001B[1;33m\u001B[0m\u001B[1;33m\u001B[0m\u001B[1;33m\u001B[0m\u001B[0m\n",
      "\u001B[1;32m~\\anaconda3\\envs\\ws1\\lib\\site-packages\\pandas\\core\\dtypes\\cast.py\u001B[0m in \u001B[0;36mastype_array\u001B[1;34m(values, dtype, copy)\u001B[0m\n\u001B[0;32m   1255\u001B[0m \u001B[1;33m\u001B[0m\u001B[0m\n\u001B[0;32m   1256\u001B[0m     \u001B[1;32melse\u001B[0m\u001B[1;33m:\u001B[0m\u001B[1;33m\u001B[0m\u001B[1;33m\u001B[0m\u001B[0m\n\u001B[1;32m-> 1257\u001B[1;33m         \u001B[0mvalues\u001B[0m \u001B[1;33m=\u001B[0m \u001B[0mastype_nansafe\u001B[0m\u001B[1;33m(\u001B[0m\u001B[0mvalues\u001B[0m\u001B[1;33m,\u001B[0m \u001B[0mdtype\u001B[0m\u001B[1;33m,\u001B[0m \u001B[0mcopy\u001B[0m\u001B[1;33m=\u001B[0m\u001B[0mcopy\u001B[0m\u001B[1;33m)\u001B[0m\u001B[1;33m\u001B[0m\u001B[1;33m\u001B[0m\u001B[0m\n\u001B[0m\u001B[0;32m   1258\u001B[0m \u001B[1;33m\u001B[0m\u001B[0m\n\u001B[0;32m   1259\u001B[0m     \u001B[1;31m# in pandas we don't store numpy str dtypes, so convert to object\u001B[0m\u001B[1;33m\u001B[0m\u001B[1;33m\u001B[0m\u001B[1;33m\u001B[0m\u001B[0m\n",
      "\u001B[1;31mKeyboardInterrupt\u001B[0m: "
     ]
    }
   ],
   "source": [
    "ans2 = start_here(list_to_check_2)"
   ],
   "metadata": {
    "collapsed": false,
    "pycharm": {
     "name": "#%%\n"
    }
   }
  },
  {
   "cell_type": "code",
   "execution_count": null,
   "outputs": [],
   "source": [
    "print(ans2)"
   ],
   "metadata": {
    "collapsed": false,
    "pycharm": {
     "name": "#%%\n"
    }
   }
  },
  {
   "cell_type": "code",
   "execution_count": null,
   "outputs": [],
   "source": [
    "list_to_check_1 = []\n",
    "for i in range(1):\n",
    "    random_index = random.randrange(len(names[0]))\n",
    "    list_to_check_1.append(copy.copy(names[0][random_index]))\n",
    "print(list_to_check_1)"
   ],
   "metadata": {
    "collapsed": false,
    "pycharm": {
     "name": "#%%\n"
    }
   }
  },
  {
   "cell_type": "code",
   "execution_count": null,
   "outputs": [],
   "source": [
    "ans1 = start_here(list_to_check_1)"
   ],
   "metadata": {
    "collapsed": false,
    "pycharm": {
     "name": "#%%\n"
    }
   }
  },
  {
   "cell_type": "code",
   "execution_count": null,
   "outputs": [],
   "source": [
    "print(ans1)"
   ],
   "metadata": {
    "collapsed": false,
    "pycharm": {
     "name": "#%%\n"
    }
   }
  },
  {
   "cell_type": "code",
   "execution_count": null,
   "outputs": [],
   "source": [],
   "metadata": {
    "collapsed": false,
    "pycharm": {
     "name": "#%%\n"
    }
   }
  },
  {
   "cell_type": "code",
   "execution_count": 223,
   "outputs": [
    {
     "data": {
      "text/plain": "               antecedents         consequents  antecedent support  \\\n0  (Instant food products)              (soda)            0.015396   \n1  (Instant food products)        (whole milk)            0.015396   \n2               (UHT-milk)        (whole milk)            0.078522   \n3       (abrasive cleaner)        (rolls/buns)            0.005645   \n4       (artif. sweetener)  (other vegetables)            0.007442   \n\n   consequent support   support  confidence      lift  leverage  conviction  \n0            0.313318  0.007955    0.516667  1.649017  0.003131    1.420722  \n1            0.458045  0.007955    0.516667  1.127983  0.000903    1.121287  \n2            0.458045  0.040544    0.516340  1.127270  0.004577    1.120529  \n3            0.349756  0.002823    0.500000  1.429567  0.000848    1.300488  \n4            0.376700  0.003849    0.517241  1.373086  0.001046    1.291121  ",
      "text/html": "<div>\n<style scoped>\n    .dataframe tbody tr th:only-of-type {\n        vertical-align: middle;\n    }\n\n    .dataframe tbody tr th {\n        vertical-align: top;\n    }\n\n    .dataframe thead th {\n        text-align: right;\n    }\n</style>\n<table border=\"1\" class=\"dataframe\">\n  <thead>\n    <tr style=\"text-align: right;\">\n      <th></th>\n      <th>antecedents</th>\n      <th>consequents</th>\n      <th>antecedent support</th>\n      <th>consequent support</th>\n      <th>support</th>\n      <th>confidence</th>\n      <th>lift</th>\n      <th>leverage</th>\n      <th>conviction</th>\n    </tr>\n  </thead>\n  <tbody>\n    <tr>\n      <th>0</th>\n      <td>(Instant food products)</td>\n      <td>(soda)</td>\n      <td>0.015396</td>\n      <td>0.313318</td>\n      <td>0.007955</td>\n      <td>0.516667</td>\n      <td>1.649017</td>\n      <td>0.003131</td>\n      <td>1.420722</td>\n    </tr>\n    <tr>\n      <th>1</th>\n      <td>(Instant food products)</td>\n      <td>(whole milk)</td>\n      <td>0.015396</td>\n      <td>0.458045</td>\n      <td>0.007955</td>\n      <td>0.516667</td>\n      <td>1.127983</td>\n      <td>0.000903</td>\n      <td>1.121287</td>\n    </tr>\n    <tr>\n      <th>2</th>\n      <td>(UHT-milk)</td>\n      <td>(whole milk)</td>\n      <td>0.078522</td>\n      <td>0.458045</td>\n      <td>0.040544</td>\n      <td>0.516340</td>\n      <td>1.127270</td>\n      <td>0.004577</td>\n      <td>1.120529</td>\n    </tr>\n    <tr>\n      <th>3</th>\n      <td>(abrasive cleaner)</td>\n      <td>(rolls/buns)</td>\n      <td>0.005645</td>\n      <td>0.349756</td>\n      <td>0.002823</td>\n      <td>0.500000</td>\n      <td>1.429567</td>\n      <td>0.000848</td>\n      <td>1.300488</td>\n    </tr>\n    <tr>\n      <th>4</th>\n      <td>(artif. sweetener)</td>\n      <td>(other vegetables)</td>\n      <td>0.007442</td>\n      <td>0.376700</td>\n      <td>0.003849</td>\n      <td>0.517241</td>\n      <td>1.373086</td>\n      <td>0.001046</td>\n      <td>1.291121</td>\n    </tr>\n  </tbody>\n</table>\n</div>"
     },
     "execution_count": 223,
     "metadata": {},
     "output_type": "execute_result"
    }
   ],
   "source": [
    "product_rules.head()"
   ],
   "metadata": {
    "collapsed": false,
    "pycharm": {
     "name": "#%%\n"
    }
   }
  },
  {
   "cell_type": "code",
   "execution_count": 165,
   "outputs": [],
   "source": [
    "product_rules.to_csv('Data/master_rules.csv', index=False)"
   ],
   "metadata": {
    "collapsed": false,
    "pycharm": {
     "name": "#%%\n"
    }
   }
  },
  {
   "cell_type": "code",
   "execution_count": 225,
   "outputs": [
    {
     "data": {
      "text/plain": "               antecedents         consequents  antecedent support  \\\n0  (Instant food products)              (soda)            0.015396   \n1  (Instant food products)        (whole milk)            0.015396   \n2               (UHT-milk)        (whole milk)            0.078522   \n3       (abrasive cleaner)        (rolls/buns)            0.005645   \n4       (artif. sweetener)  (other vegetables)            0.007442   \n\n   consequent support   support  confidence      lift  leverage  conviction  \n0            0.313318  0.007955    0.516667  1.649017  0.003131    1.420722  \n1            0.458045  0.007955    0.516667  1.127983  0.000903    1.121287  \n2            0.458045  0.040544    0.516340  1.127270  0.004577    1.120529  \n3            0.349756  0.002823    0.500000  1.429567  0.000848    1.300488  \n4            0.376700  0.003849    0.517241  1.373086  0.001046    1.291121  ",
      "text/html": "<div>\n<style scoped>\n    .dataframe tbody tr th:only-of-type {\n        vertical-align: middle;\n    }\n\n    .dataframe tbody tr th {\n        vertical-align: top;\n    }\n\n    .dataframe thead th {\n        text-align: right;\n    }\n</style>\n<table border=\"1\" class=\"dataframe\">\n  <thead>\n    <tr style=\"text-align: right;\">\n      <th></th>\n      <th>antecedents</th>\n      <th>consequents</th>\n      <th>antecedent support</th>\n      <th>consequent support</th>\n      <th>support</th>\n      <th>confidence</th>\n      <th>lift</th>\n      <th>leverage</th>\n      <th>conviction</th>\n    </tr>\n  </thead>\n  <tbody>\n    <tr>\n      <th>0</th>\n      <td>(Instant food products)</td>\n      <td>(soda)</td>\n      <td>0.015396</td>\n      <td>0.313318</td>\n      <td>0.007955</td>\n      <td>0.516667</td>\n      <td>1.649017</td>\n      <td>0.003131</td>\n      <td>1.420722</td>\n    </tr>\n    <tr>\n      <th>1</th>\n      <td>(Instant food products)</td>\n      <td>(whole milk)</td>\n      <td>0.015396</td>\n      <td>0.458045</td>\n      <td>0.007955</td>\n      <td>0.516667</td>\n      <td>1.127983</td>\n      <td>0.000903</td>\n      <td>1.121287</td>\n    </tr>\n    <tr>\n      <th>2</th>\n      <td>(UHT-milk)</td>\n      <td>(whole milk)</td>\n      <td>0.078522</td>\n      <td>0.458045</td>\n      <td>0.040544</td>\n      <td>0.516340</td>\n      <td>1.127270</td>\n      <td>0.004577</td>\n      <td>1.120529</td>\n    </tr>\n    <tr>\n      <th>3</th>\n      <td>(abrasive cleaner)</td>\n      <td>(rolls/buns)</td>\n      <td>0.005645</td>\n      <td>0.349756</td>\n      <td>0.002823</td>\n      <td>0.500000</td>\n      <td>1.429567</td>\n      <td>0.000848</td>\n      <td>1.300488</td>\n    </tr>\n    <tr>\n      <th>4</th>\n      <td>(artif. sweetener)</td>\n      <td>(other vegetables)</td>\n      <td>0.007442</td>\n      <td>0.376700</td>\n      <td>0.003849</td>\n      <td>0.517241</td>\n      <td>1.373086</td>\n      <td>0.001046</td>\n      <td>1.291121</td>\n    </tr>\n  </tbody>\n</table>\n</div>"
     },
     "execution_count": 225,
     "metadata": {},
     "output_type": "execute_result"
    }
   ],
   "source": [
    "product_rules.head()"
   ],
   "metadata": {
    "collapsed": false,
    "pycharm": {
     "name": "#%%\n"
    }
   }
  },
  {
   "cell_type": "code",
   "execution_count": null,
   "outputs": [],
   "source": [],
   "metadata": {
    "collapsed": false,
    "pycharm": {
     "name": "#%%\n"
    }
   }
  }
 ],
 "metadata": {
  "kernelspec": {
   "display_name": "Python 3",
   "language": "python",
   "name": "python3"
  },
  "language_info": {
   "codemirror_mode": {
    "name": "ipython",
    "version": 2
   },
   "file_extension": ".py",
   "mimetype": "text/x-python",
   "name": "python",
   "nbconvert_exporter": "python",
   "pygments_lexer": "ipython2",
   "version": "2.7.6"
  }
 },
 "nbformat": 4,
 "nbformat_minor": 0
}