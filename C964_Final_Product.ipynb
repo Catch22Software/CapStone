{
 "cells": [
  {
   "cell_type": "code",
   "execution_count": null,
   "metadata": {
    "pycharm": {
     "name": "#%%\n"
    }
   },
   "outputs": [],
   "source": [
    "\"\"\"\n",
    "TITLE: C964 Computer Science CapStone\n",
    "AUTHOR: James Mills\n",
    "STUDENT ID: 000955354\n",
    "DATE: January 2022\n",
    "\"\"\"\n",
    "import copy, itertools, random, csv\n",
    "from IPython.display import display\n",
    "import ipywidgets as widgets\n",
    "import pandas as pd\n",
    "import numpy as np\n",
    "import matplotlib.pyplot as plt\n",
    "from mlxtend.preprocessing import TransactionEncoder\n",
    "from PyScripts.HashTable import HashTable\n",
    "\n",
    "pd.set_option('mode.chained_assignment', None)  # turns off warning about slicing databases.\n",
    "product_rules = pd.read_csv('Data/master_rules.csv')"
   ]
  },
  {
   "cell_type": "code",
   "execution_count": null,
   "metadata": {
    "pycharm": {
     "name": "#%%\n"
    }
   },
   "outputs": [],
   "source": [
    "with open('Data/names.csv') as f:\n",
    "    read = csv.reader(f)\n",
    "    names = list(read)\n",
    "with open('Data/transaction_data.csv') as g:\n",
    "    reader = csv.reader(g)\n",
    "    items = list(reader)"
   ]
  },
  {
   "cell_type": "code",
   "execution_count": null,
   "metadata": {
    "pycharm": {
     "name": "#%%\n"
    }
   },
   "outputs": [],
   "source": [
    "te = TransactionEncoder()"
   ]
  },
  {
   "cell_type": "code",
   "execution_count": null,
   "metadata": {
    "pycharm": {
     "name": "#%%\n"
    }
   },
   "outputs": [],
   "source": [
    "te_ary = te.fit(items).transform(items)"
   ]
  },
  {
   "cell_type": "code",
   "execution_count": null,
   "metadata": {
    "pycharm": {
     "name": "#%%\n"
    }
   },
   "outputs": [],
   "source": [
    "df = pd.DataFrame(te_ary, columns=te.columns_)"
   ]
  },
  {
   "cell_type": "code",
   "execution_count": null,
   "metadata": {
    "pycharm": {
     "name": "#%%\n"
    }
   },
   "outputs": [],
   "source": [
    "numbers = []\n",
    "for label, content in df.items():\n",
    "    numbers.append(df[label].sum())\n",
    "column_names = list(df.columns)\n",
    "item_frequency = {column_names[i] : numbers[i] for i in range(len(column_names))}"
   ]
  },
  {
   "cell_type": "code",
   "execution_count": null,
   "metadata": {
    "pycharm": {
     "name": "#%%\n"
    }
   },
   "outputs": [],
   "source": [
    "'''\n",
    "Required Functions for program below.\n",
    "'''\n",
    "\n",
    "def fix_frozen_set(x):\n",
    "    \"\"\"\n",
    "    :param x: Takes a entry from a Pandas Dataframe.\n",
    "    :return: Reformat antecedents and consequents columns as Frozen-sets for correct querying\n",
    "    and returns the updated Dataframe.\n",
    "    \"\"\"\n",
    "    beginning = x.find(\"'\") + 1\n",
    "    end = x.rfind(\"'\")\n",
    "    data = x[beginning: end]\n",
    "    data_remove_apostrophes = data.replace(\"'\", '')\n",
    "    new_data = data_remove_apostrophes.split(',')\n",
    "    new_data_stripped = []\n",
    "    for i in range(len(new_data)):\n",
    "        new_data_stripped.append(copy.copy(new_data[i].strip()))\n",
    "    if len(new_data_stripped) == 1:\n",
    "        return frozenset(new_data_stripped)\n",
    "    else:\n",
    "        return frozenset([x for x in new_data_stripped])\n",
    "\n",
    "def recommend(z):\n",
    "    \"\"\"\n",
    "\n",
    "    :param z: Takes a list of items.\n",
    "    :return: Set of recommended items so duplicated are removed.\n",
    "    \"\"\"\n",
    "    # print(\"Z contains: \", z)\n",
    "    # print()\n",
    "    # print(\"Length of Z is: \", len(z))\n",
    "    # print()\n",
    "    global product_rules\n",
    "    master_query = None\n",
    "    while True:\n",
    "        try:\n",
    "            master_query = product_rules[product_rules['antecedents'] == {z[0], z[1], z[2], z[3], z[4]}]\n",
    "        except IndexError:\n",
    "            # print(\"Query after not having 5 entries is: \", master_query)\n",
    "            # print(\"Type of query is: \", type(master_query))\n",
    "            # print()\n",
    "            pass\n",
    "        if master_query is not None:\n",
    "            break\n",
    "        try:\n",
    "            # print(\"Made it to second try statement!!\\n\")\n",
    "            master_query = product_rules[product_rules['antecedents'] == {z[0], z[1], z[2], z[3]}]\n",
    "        except IndexError:\n",
    "            pass\n",
    "        if master_query is not None:\n",
    "            break\n",
    "        try:\n",
    "            # print(\"Made it to the third try statement!!\\n\")\n",
    "            master_query = product_rules[product_rules['antecedents'] == {z[0], z[1], z[2]}]\n",
    "        except IndexError:\n",
    "            pass\n",
    "        if master_query is not None:\n",
    "            break\n",
    "        try:\n",
    "            # print(\"Made it to the fourth try statement!!\\n\")\n",
    "            master_query = product_rules[product_rules['antecedents'] == {z[0], z[1]}]\n",
    "        except IndexError:\n",
    "            pass\n",
    "        if master_query is not None:\n",
    "            break\n",
    "        try:\n",
    "            # print(\"Made it to the last try statement!!\\n\")\n",
    "            master_query = product_rules[product_rules['antecedents'] == {z[0]}]\n",
    "        except IndexError:\n",
    "            return \"OOPS!\"\n",
    "        if master_query is None:\n",
    "            return None\n",
    "    master_query.sort_values(by=['support', 'confidence', 'lift'], inplace=True, ascending=(False, False, False),\n",
    "                             ignore_index=True)\n",
    "    # maybe update possible graph here ???\n",
    "    formatted_master_query = master_query['consequents'].apply(lambda x: ', '.join(list(x))).astype(\"unicode\")\n",
    "    results = list(formatted_master_query)\n",
    "    # print(len(results))\n",
    "    # print(results)\n",
    "    if len(results) == 0:\n",
    "        return None\n",
    "    else:\n",
    "        return set(results)\n",
    "\n",
    "def start_here(x):\n",
    "    \"\"\"\n",
    "\n",
    "    :param x: List of items currently in Inventory\n",
    "    to search for recommendations on.\n",
    "    :return: A Python Set of recommendations based on the user's inventory.\n",
    "    \"\"\"\n",
    "    master_search = []\n",
    "    for j in range(1, 6):\n",
    "        for element in itertools.combinations(x, j):\n",
    "            master_search.append(list(element))\n",
    "    # print(\"Length of master search is: \", len(master_search))\n",
    "    while True:\n",
    "        try:\n",
    "            # print(\"GOING INTO RECOMMEND!!!\\n\\n\")\n",
    "            response = recommend(master_search[-1])\n",
    "            # print(\"LEFT RECOMMEND!!!\\n\\n\")\n",
    "        except IndexError:\n",
    "            return 'SOMETHING WENT WRONG!!!'\n",
    "        if response is None or response == \"OOPS!\":\n",
    "            master_search.pop()\n",
    "            # print(\"Length of Master Search is: \", len(master_search))\n",
    "            # print(\"Master search contains: \", master_search)\n",
    "            response = None\n",
    "            continue\n",
    "        elif response == 0:  # this becomes else statement once code is added TODO\n",
    "            pass\n",
    "            # add code to check if item returned is in list already\n",
    "        else:\n",
    "            # print(\"MAKES IT TO FINAL ELSE!!! \\n\\n\\n\")\n",
    "            # add code to check if items already in inventory... TODO\n",
    "            return response"
   ]
  },
  {
   "cell_type": "code",
   "execution_count": null,
   "metadata": {
    "pycharm": {
     "name": "#%%\n"
    }
   },
   "outputs": [],
   "source": [
    "\"\"\"\n",
    "Try block to ensure formatting of Dataframe is only completed once.\n",
    "\"\"\"\n",
    "try:\n",
    "    # noinspection PyUnresolvedReferences\n",
    "    if DATA_IS_LOADED:\n",
    "        pass\n",
    "except NameError:\n",
    "    DATA_IS_LOADED = 1\n",
    "#     css_styling()\n",
    "    # Format panda dataframe for optimized queries\n",
    "    product_rules['antecedents'] = product_rules['antecedents'].apply(fix_frozen_set)\n",
    "    product_rules['consequents'] = product_rules['consequents'].apply(fix_frozen_set)\n"
   ]
  },
  {
   "cell_type": "code",
   "execution_count": null,
   "metadata": {
    "pycharm": {
     "name": "#%%\n"
    }
   },
   "outputs": [],
   "source": [
    "dict_from_items = dict.fromkeys(item_frequency.copy().keys(), 0.0)\n",
    "for i in range(len(dict_from_items)):\n",
    "    dict_from_items.update({column_names[i] : ((item_frequency.get(column_names[i])) / 34766.0)})\n",
    "new_list_1 = sorted(dict_from_items.items(), key=lambda kv:(kv[1], kv[0]))\n",
    "top_ten = copy.copy(new_list_1[-1:-11:-1])\n",
    "items_to_remove = [x[0] for x in copy.copy(top_ten)]\n",
    "for i in range(len(items_to_remove)):\n",
    "    dict_from_items.pop(items_to_remove[i])\n",
    "other_item_total = list(dict_from_items.copy().values())\n",
    "answer = sum(other_item_total)\n",
    "others = ('All other items', answer)\n",
    "top_ten.append(others)"
   ]
  },
  {
   "cell_type": "code",
   "execution_count": null,
   "metadata": {
    "pycharm": {
     "name": "#%%\n"
    }
   },
   "outputs": [],
   "source": [
    "%%html\n",
    "<h1 style=\"border: 5px dotted red;padding: 10px;font-size: 75px;text-align:center;\">\n",
    "Welcome to the presentation of the next generation of ShopperzЯUs shopping cart recommendation program!!!\n",
    "</h1>"
   ]
  },
  {
   "cell_type": "code",
   "execution_count": null,
   "metadata": {
    "pycharm": {
     "name": "#%%\n"
    }
   },
   "outputs": [],
   "source": [
    "%%html\n",
    "<h2 style=\"text-align:center\">Below you can see a few graphs demonstrating the percentages of customers who purchased a particular item. </h2>"
   ]
  },
  {
   "cell_type": "code",
   "execution_count": null,
   "metadata": {},
   "outputs": [],
   "source": [
    "%%html\n",
    "<h3 style=\"color:orange;font-size:150px;text-align:center;border:5px solid yellow\"> &darr; &darr; &darr; &darr; &darr; &darr; &darr; &darr; &darr; &darr; &darr; &darr; &darr; &darr; &darr; </h3>"
   ]
  },
  {
   "cell_type": "code",
   "execution_count": null,
   "metadata": {
    "pycharm": {
     "name": "#%%\n"
    }
   },
   "outputs": [],
   "source": [
    "color = plt.cm.rainbow(np.linspace(0, 1, 40))\n",
    "x = item_frequency.keys()\n",
    "y = item_frequency.values()\n",
    "fig = plt.figure(figsize=(50,10))\n",
    "plt.ylabel(\"Number of items purchased\", fontsize = 24)\n",
    "plt.title(\"Frequency of most purchased items\", fontsize= 48)\n",
    "plt.bar(x,y, color=color)\n",
    "plt.xticks(rotation=90)\n",
    "plt.show()"
   ]
  },
  {
   "cell_type": "code",
   "execution_count": null,
   "metadata": {
    "pycharm": {
     "name": "#%%\n"
    }
   },
   "outputs": [],
   "source": [
    "colors = plt.get_cmap('Reds')(np.linspace(0.2, 0.5, len([x[0] for x in top_ten])))\n",
    "fig1 = plt.figure(figsize=(25,25))\n",
    "explode = (0,0,0,0,0,0,0,0,0,0,0.05)\n",
    "patches, texts, autotexts = plt.pie([x[1] for x in top_ten], labels=[x[0] for x in top_ten], explode=explode, shadow=True, autopct='%1.2f%%')\n",
    "plt.setp(autotexts, size='large')\n",
    "plt.setp(texts, size='large', rotation=45)\n",
    "plt.title(\"Top ten most purchased items\", fontsize=24)\n",
    "plt.show()\n"
   ]
  },
  {
   "cell_type": "code",
   "execution_count": null,
   "metadata": {},
   "outputs": [],
   "source": [
    "%%html\n",
    "<h3 style=\"text-align:center;color:blue;font-size: 50px;border: 5px solid gray; padding: 10px\"> Here is a wordcloud format of the item-set data used. The larger the word, the more often it occurs in the transaction list. </h3>"
   ]
  },
  {
   "cell_type": "code",
   "execution_count": null,
   "metadata": {
    "pycharm": {
     "name": "#%%\n"
    }
   },
   "outputs": [],
   "source": [
    "cloud = open('Images/wordcloud.png','rb')\n",
    "image_1 = cloud.read()\n",
    "cloud_show = widgets.Image(value=image_1,format='png',width=1600,height=800,layout=widgets.Layout(align='center',justify_items='center'))\n",
    "display(cloud_show)"
   ]
  },
  {
   "cell_type": "code",
   "execution_count": null,
   "metadata": {
    "pycharm": {
     "name": "#%%\n"
    }
   },
   "outputs": [],
   "source": [
    "%%html\n",
    "<p>By utilizing the previous shoppers habits as training data, our new ShoppingKart app will display <b>real-time</b> recommendations for additional items to add to the user's inventory.</p>"
   ]
  },
  {
   "cell_type": "code",
   "execution_count": null,
   "metadata": {
    "pycharm": {
     "name": "#%%\n"
    }
   },
   "outputs": [],
   "source": [
    "%%html\n",
    "<p> This demonstration will show the recommendation portion of the app off. The development team at ShopperzЯUs are finishing up the Android based app for our customers to utilize daily for their grocery inventory, and shopping needs!! </p>"
   ]
  },
  {
   "cell_type": "code",
   "execution_count": null,
   "metadata": {
    "pycharm": {
     "name": "#%%\n"
    }
   },
   "outputs": [],
   "source": [
    "%%html\n",
    "<p> The item database is <strong>167</strong> unique items that can be added. The android app is going to process the input from the customer when creating their inventory to match up to the best item we have availble in order to make re-ordering and also upselling a breeze for the customer and profits for the company!! </p>"
   ]
  },
  {
   "cell_type": "code",
   "execution_count": null,
   "metadata": {
    "pycharm": {
     "name": "#%%\n"
    }
   },
   "outputs": [],
   "source": [
    "%%html\n",
    "<p> Below is a mock inventory builder. You can either select an item from the list, or add a random item from our inventory base to the inventory list along with the amount currently on hand. This system will dynamically generate both, the top recommended item(s) based on what has been entered, and will also generate the data associated behind the machine-learning based process of assosication that creates the recommondations via graphs. It also displays the confidence level for the recommendation that was made.</p>"
   ]
  },
  {
   "cell_type": "code",
   "execution_count": null,
   "metadata": {
    "pycharm": {
     "name": "#%%\n"
    }
   },
   "outputs": [],
   "source": [
    "master_inventory = HashTable()\n",
    "choices = widgets.Dropdown(options=names[0], value=names[0][0], description='Inventory Choices: ', disabled=False,style= {'description_width':'initial'})\n",
    "random_choice = widgets.Button(description='Select Random Item', disabled=False, button_style='success',tooltip='CLICK HERE',icon='dice')\n",
    "amount_choice = widgets.IntSlider(value=1,min=1,max=10,step=1,description='Inventory amount: ',disabled=False,orientation='horizontal'\n",
    "                                  ,readout=True,readout_format='d',style= {'description_width':'initial'})\n",
    "add_choice = widgets.Button(description='Add Selected Item', disabled=False, button_style='info', tooltip='ADD TO INV', icon='plus-square')\n",
    "reset_inventory = widgets.Button(description='Reset Inventory to Zero', disabled=False, button_style='warning', tooltip='DESTROY INV', icon='bomb')\n",
    "inventory_output = widgets.Output(layout={'border':'2px solid red'},disabled=False)\n",
    "recommendation = widgets.HTML(value=\"NOTHING\",description='Recommendations Show Here',style= {'description_width':'initial'})\n",
    "output_label = widgets.Label(value='INVENTORY CONTENTS BELOW:')\n"
   ]
  },
  {
   "cell_type": "code",
   "execution_count": null,
   "metadata": {
    "pycharm": {
     "name": "#%%\n"
    }
   },
   "outputs": [],
   "source": [
    "def look_recommend(chh):\n",
    "    value = start_here(chh)\n",
    "    recommendation.value = str(value)\n",
    "def rand(ch):\n",
    "    index = random.randrange(len(names[0]))\n",
    "    choices.value = str(names[0][index])\n",
    "def destroy(ch1):\n",
    "    inventory_output.clear_output()\n",
    "    recommendation.value = 'NOTHING'\n",
    "    global master_inventory\n",
    "    master_inventory = None\n",
    "    master_inventory = HashTable()\n",
    "random_choice.on_click(rand)\n",
    "reset_inventory.on_click(destroy)\n",
    "def add_choice_to_inv(ch2):\n",
    "    master_inventory.insert(str(choices.value), [str(choices.value), amount_choice.value])\n",
    "    with inventory_output:\n",
    "        inventory_output.clear_output()\n",
    "        print(master_inventory)\n",
    "    var = []\n",
    "    for i in range(len(master_inventory.table)):\n",
    "        if len(master_inventory.table[i]) > 0:\n",
    "            var.append(copy.copy(master_inventory.table[i][0][0]))\n",
    "    # print(\"Var contains: \", var)\n",
    "    look_recommend(var)\n",
    "add_choice.on_click(add_choice_to_inv)"
   ]
  },
  {
   "cell_type": "code",
   "execution_count": null,
   "metadata": {
    "pycharm": {
     "name": "#%%\n"
    }
   },
   "outputs": [],
   "source": [
    "grid = widgets.GridspecLayout(2,3,layout=widgets.Layout(width='auto', border='2px dotted red', padding='5px'))\n",
    "grid[0,0] = choices\n",
    "grid[0,1] = amount_choice\n",
    "grid[0,2] = reset_inventory\n",
    "grid[1,0] = random_choice\n",
    "grid[1,1] = add_choice\n",
    "grid[1,2] = recommendation\n",
    "\n",
    "v = widgets.VBox(children=(output_label, inventory_output), disabled=False,  layout=widgets.Layout(align='center'))\n",
    "display(grid)\n",
    "display(v)\n",
    "# inventory_output.append_stdout(\"HELLO!!!\")\n",
    "# inventory_output.append_stderr(\"HELLO!!!!!!!!!!!\")\n",
    "# inventory_output.append_display_data(widgets.HTML(value=\"<h1>HELLO!!!!</h1>\"))"
   ]
  },
  {
   "cell_type": "code",
   "execution_count": null,
   "metadata": {
    "pycharm": {
     "name": "#%%\n"
    }
   },
   "outputs": [],
   "source": [
    "%%html\n",
    "<p style=\"border: 5px solid red; font-size: 28px; text-align:center; padding: 15px; line-height: 1.1\"> We are anxiously awaiting the completion of the Android app to fully utilize the recommendation program and ensure better profits and more sales and happy customers!!!</p>"
   ]
  },
  {
   "cell_type": "code",
   "execution_count": null,
   "metadata": {
    "pycharm": {
     "name": "#%%\n"
    }
   },
   "outputs": [],
   "source": [
    "%%html\n",
    "<div style=\"text-align:center; border: 5px dotted purple; padding: 15px; font-size: 30px\">CopyRight &copy; Catch22Software 2022\n",
    "<br><br>\n",
    "</div>"
   ]
  },
  {
   "cell_type": "code",
   "execution_count": null,
   "metadata": {
    "pycharm": {
     "name": "#%%\n"
    }
   },
   "outputs": [],
   "source": [
    "ball = open('Images/curveball.jpg','rb')\n",
    "image = ball.read()\n",
    "ball_show = widgets.Image(value=image,format='jpg',width=200,height=200,layout=widgets.Layout(align='center',justify_items='center'))\n",
    "display(ball_show)"
   ]
  },
  {
   "cell_type": "code",
   "execution_count": null,
   "metadata": {},
   "outputs": [],
   "source": []
  }
 ],
 "metadata": {
  "kernelspec": {
   "display_name": "Python 3 (ipykernel)",
   "language": "python",
   "name": "python3"
  },
  "language_info": {
   "codemirror_mode": {
    "name": "ipython",
    "version": 3
   },
   "file_extension": ".py",
   "mimetype": "text/x-python",
   "name": "python",
   "nbconvert_exporter": "python",
   "pygments_lexer": "ipython3",
   "version": "3.8.12"
  }
 },
 "nbformat": 4,
 "nbformat_minor": 1
}