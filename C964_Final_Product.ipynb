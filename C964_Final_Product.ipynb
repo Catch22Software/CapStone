{
 "cells": [
  {
   "cell_type": "markdown",
   "metadata": {
    "collapsed": true,
    "pycharm": {
     "name": "#%% md\n"
    }
   },
   "source": [
    "<h1 style=\"border: 5px dotted red; padding: 10px;font-size: 75px;text-align:center\">Welcome to the presentation of the next generation of ShopperzЯUs shopping cart recommendation program!!!</h1>"
   ]
  },
  {
   "cell_type": "markdown",
   "source": [
    "<h2 style=\"text-align:center\">Below you can see a few graphs demonstrating the percentages of customers who purchased a particular item. </h2>\n",
    "<p style=\"color:orange;font-size: 150px;text-align:center;border: 5px solid yellow\"> &darr; &darr; &darr; &darr; &darr; &darr; &darr; &darr; &darr; &darr; &darr; &darr; &darr; &darr; &darr; </p>"
   ],
   "metadata": {
    "collapsed": false,
    "pycharm": {
     "name": "#%% md\n"
    }
   }
  },
  {
   "cell_type": "code",
   "execution_count": 147,
   "outputs": [],
   "source": [
    "# insert graph of top 10 purchased items here... TO DO\n",
    "from IPython.display import display\n",
    "import ipywidgets as widgets\n",
    "import pandas as pd\n",
    "import csv\n",
    "import matplotlib as plt\n",
    "from PyScripts.InventoryBook import InventoryBook\n",
    "\n",
    "\n",
    "product_rules = pd.read_csv('Data/Master_Rules.csv')"
   ],
   "metadata": {
    "collapsed": false,
    "pycharm": {
     "name": "#%%\n"
    }
   }
  },
  {
   "cell_type": "code",
   "execution_count": 148,
   "outputs": [],
   "source": [
    "with open('Data/Master_Names.csv',encoding='utf-8') as f:\n",
    "    read = csv.reader(f)\n",
    "    next(read)\n",
    "    names = list(read)"
   ],
   "metadata": {
    "collapsed": false,
    "pycharm": {
     "name": "#%%\n"
    }
   }
  },
  {
   "cell_type": "code",
   "execution_count": 149,
   "outputs": [],
   "source": [
    "names_updated = list(map(lambda x: x[1],names))"
   ],
   "metadata": {
    "collapsed": false,
    "pycharm": {
     "name": "#%%\n"
    }
   }
  },
  {
   "cell_type": "code",
   "execution_count": 150,
   "outputs": [],
   "source": [
    "names_updated.sort()\n",
    "master_inventory = None"
   ],
   "metadata": {
    "collapsed": false,
    "pycharm": {
     "name": "#%%\n"
    }
   }
  },
  {
   "cell_type": "code",
   "execution_count": 166,
   "outputs": [],
   "source": [
    "'''\n",
    "Master list of widgets below:\n",
    "'''\n",
    "style = {'description_width': 'initial', 'width' : 'max-content'}\n",
    "inventory_amount_choice = widgets.Select(options=[x for x in range(1,11)],value=1, description='INV amount: ',disabled=False)\n",
    "inventory_need_qualifier = widgets.RadioButtons(options=['DAILY','WEEKLY','MONTHLY','RARELY'],desciption='Projected Usage of Item',disabled=False)\n",
    "inventory_list_choices = widgets.Select(options=names_updated,value=names_updated[0],description='Choose Item To Add: ',style=style,disabled=False)\n",
    "inventory_random_add = widgets.Button(description=\"Select Random Item\",disabled=False, button_style='info',tooltip='Click me to add a random item to the inventory',icon='random')\n",
    "inventory_save_button = widgets.Button(descriptio='Save To Inventory',disabled=True, button_style='success',tooltip='Click me to save chosen item with amount to inventory',icon='save')\n",
    "inventory_output = widgets.Output(layout={'border':'5px solid black'}) #TODO add default value\n",
    "recommendation_output = widgets.Output(value='***Recommendations Go Here***' ,layout={'border':'5px solid black'})\n",
    "add_user = widgets.Button(description=\"Create Inventory\",disabled=False, button_style='success',tootip='Click me to create a new Inventory Book with the provided owners name.',icon='user-plus')\n",
    "user_name_input = widgets.Text(value=\"What's in a name?\",description='Enter User Name: ',style=style,disabled=False)\n",
    "\n",
    "# left_vbox = widgets.VBox(children=[inventory_random_add,inventory_list_choices])\n",
    "# middle_hbox = widgets.HBox(children=[inventory_amount_choice])\n",
    "# right_hbox = widgets.HBox(children=[inventory_need_qualifier])\n",
    "# wrapper_vbox = widgets.VBox(children=[[left_vbox, middle_hbox, right_hbox],[ inventory_save_button]])\n",
    "# user_input_hbox = widgets.HBox(children=[user_name_input, add_user])\n",
    "#TODO ... add .on_click method for buttons to process data correctly. capture the button click event"
   ],
   "metadata": {
    "collapsed": false,
    "pycharm": {
     "name": "#%%\n"
    }
   }
  },
  {
   "cell_type": "code",
   "execution_count": 167,
   "outputs": [],
   "source": [
    "def create_inventory(x):\n",
    "    global master_inventory\n",
    "    master_inventory = InventoryBook(user_name_input.value)\n",
    "    user_name_input.close()\n",
    "    add_user.close()\n",
    "    inventory_save_button.disabled = False\n",
    "\n",
    "def update_inventory(y):\n",
    "    global master_inventory\n",
    "    values = [str(inventory_list_choices.value),str(inventory_need_qualifier.value) , int(inventory_amount_choice.value), ]\n",
    "    master_inventory.add_item(values)\n",
    "\n",
    "@recommendation_output.capture(wait=True)\n",
    "def create_recommendation(z):\n",
    "    global master_inventory\n",
    "    with recommendation_output:\n",
    "        text = master_inventory.create_recommendation()\n",
    "        print(text)"
   ],
   "metadata": {
    "collapsed": false,
    "pycharm": {
     "name": "#%%\n"
    }
   }
  },
  {
   "cell_type": "code",
   "execution_count": 168,
   "outputs": [],
   "source": [
    "add_user.on_click(create_inventory)\n",
    "inventory_save_button.on_click(update_inventory)"
   ],
   "metadata": {
    "collapsed": false,
    "pycharm": {
     "name": "#%%\n"
    }
   }
  },
  {
   "cell_type": "code",
   "execution_count": 169,
   "outputs": [],
   "source": [
    "inventory_list_choices.observe(create_recommendation)"
   ],
   "metadata": {
    "collapsed": false,
    "pycharm": {
     "name": "#%%\n"
    }
   }
  },
  {
   "cell_type": "code",
   "execution_count": 170,
   "outputs": [
    {
     "data": {
      "text/plain": "Text(value=\"What's in a name?\", description='Enter User Name: ', style=DescriptionStyle(description_width='ini…",
      "application/vnd.jupyter.widget-view+json": {
       "version_major": 2,
       "version_minor": 0,
       "model_id": "6f0870feab214d8080436490dee8c9ed"
      }
     },
     "metadata": {},
     "output_type": "display_data"
    },
    {
     "data": {
      "text/plain": "Button(button_style='success', description='Create Inventory', icon='user-plus', style=ButtonStyle())",
      "application/vnd.jupyter.widget-view+json": {
       "version_major": 2,
       "version_minor": 0,
       "model_id": "0ae940880b7d46c0b3b18a641cb43dc5"
      }
     },
     "metadata": {},
     "output_type": "display_data"
    }
   ],
   "source": [
    "display(user_name_input)\n",
    "display(add_user)"
   ],
   "metadata": {
    "collapsed": false,
    "pycharm": {
     "name": "#%%\n"
    }
   }
  },
  {
   "cell_type": "code",
   "execution_count": 171,
   "outputs": [
    {
     "data": {
      "text/plain": "Select(description='Choose Item To Add: ', options=('#2 Coffee Filters', '#2 Cone White Coffee Filters', '#2 M…",
      "application/vnd.jupyter.widget-view+json": {
       "version_major": 2,
       "version_minor": 0,
       "model_id": "29bfb119b4504c66a1fa8d01e733aa8e"
      }
     },
     "metadata": {},
     "output_type": "display_data"
    }
   ],
   "source": [
    "display(inventory_list_choices)"
   ],
   "metadata": {
    "collapsed": false,
    "pycharm": {
     "name": "#%%\n"
    }
   }
  },
  {
   "cell_type": "code",
   "execution_count": 172,
   "outputs": [
    {
     "data": {
      "text/plain": "RadioButtons(options=('DAILY', 'WEEKLY', 'MONTHLY', 'RARELY'), value='DAILY')",
      "application/vnd.jupyter.widget-view+json": {
       "version_major": 2,
       "version_minor": 0,
       "model_id": "2b5aa0e9d04240bdb3c71aa5269018a9"
      }
     },
     "metadata": {},
     "output_type": "display_data"
    }
   ],
   "source": [
    "display(inventory_need_qualifier)"
   ],
   "metadata": {
    "collapsed": false,
    "pycharm": {
     "name": "#%%\n"
    }
   }
  },
  {
   "cell_type": "code",
   "execution_count": 173,
   "outputs": [
    {
     "data": {
      "text/plain": "Select(description='INV amount: ', options=(1, 2, 3, 4, 5, 6, 7, 8, 9, 10), value=1)",
      "application/vnd.jupyter.widget-view+json": {
       "version_major": 2,
       "version_minor": 0,
       "model_id": "1d74089910c4436e925656e71eebc74f"
      }
     },
     "metadata": {},
     "output_type": "display_data"
    }
   ],
   "source": [
    "display(inventory_amount_choice)"
   ],
   "metadata": {
    "collapsed": false,
    "pycharm": {
     "name": "#%%\n"
    }
   }
  },
  {
   "cell_type": "code",
   "execution_count": 174,
   "outputs": [
    {
     "data": {
      "text/plain": "Button(button_style='info', description='Select Random Item', icon='random', style=ButtonStyle(), tooltip='Cli…",
      "application/vnd.jupyter.widget-view+json": {
       "version_major": 2,
       "version_minor": 0,
       "model_id": "78cb9355822044c3ad06ff21fc561ba8"
      }
     },
     "metadata": {},
     "output_type": "display_data"
    },
    {
     "data": {
      "text/plain": "Button(button_style='success', disabled=True, icon='save', style=ButtonStyle(), tooltip='Click me to save chos…",
      "application/vnd.jupyter.widget-view+json": {
       "version_major": 2,
       "version_minor": 0,
       "model_id": "c1bd5cfa26ea4c42940dd386d5491a9e"
      }
     },
     "metadata": {},
     "output_type": "display_data"
    }
   ],
   "source": [
    "display(inventory_random_add)\n",
    "display(inventory_save_button)"
   ],
   "metadata": {
    "collapsed": false,
    "pycharm": {
     "name": "#%%\n"
    }
   }
  },
  {
   "cell_type": "code",
   "execution_count": 175,
   "outputs": [
    {
     "data": {
      "text/plain": "Output(layout=Layout(border='5px solid black'))",
      "application/vnd.jupyter.widget-view+json": {
       "version_major": 2,
       "version_minor": 0,
       "model_id": "1db281ee0a154b1399149a75f3c08a99"
      }
     },
     "metadata": {},
     "output_type": "display_data"
    }
   ],
   "source": [
    "display(inventory_output)"
   ],
   "metadata": {
    "collapsed": false,
    "pycharm": {
     "name": "#%%\n"
    }
   }
  },
  {
   "cell_type": "code",
   "execution_count": 176,
   "outputs": [
    {
     "data": {
      "text/plain": "Output(layout=Layout(border='5px solid black'))",
      "application/vnd.jupyter.widget-view+json": {
       "version_major": 2,
       "version_minor": 0,
       "model_id": "8be6575142e24b7baf26812634466807"
      }
     },
     "metadata": {},
     "output_type": "display_data"
    }
   ],
   "source": [
    "display(recommendation_output)"
   ],
   "metadata": {
    "collapsed": false,
    "pycharm": {
     "name": "#%%\n"
    }
   }
  },
  {
   "cell_type": "markdown",
   "source": [
    "<p>By utilizing the previous shoppers habits as training data, our new ShoppingKart app will display <b>real-time</b> recommendations for additional items to add to the user's inventory.</p>"
   ],
   "metadata": {
    "collapsed": false,
    "pycharm": {
     "name": "#%% md\n"
    }
   }
  },
  {
   "cell_type": "markdown",
   "source": [
    "<p> This demonstration will show the recommendation portion of the app off. The development team at ShopperzЯUs are finishing up the Android based app for our customers to utilize daily for their grocery inventory, and shopping needs!! </p>"
   ],
   "metadata": {
    "collapsed": false,
    "pycharm": {
     "name": "#%% md\n"
    }
   }
  },
  {
   "cell_type": "markdown",
   "source": [
    "<p> The item database is over <strong>30,000</strong> unique items that can be added. The android app is going to process the input from the customer when creating their inventory to match up to the best item we have availble in order to make re-ordering and also upselling a breeze for the customer and profits for the company!! </p>"
   ],
   "metadata": {
    "collapsed": false,
    "pycharm": {
     "name": "#%% md\n"
    }
   }
  },
  {
   "cell_type": "markdown",
   "source": [
    "<p> Below is a mock inventory builder. You can either select an item from the list, or add a random item from our inventory base to the inventory list along with the amount currently on hand. This system will dynamically generate both, the top recommended item(s) based on what has been entered, and will also generate the data associated behind the machine-learning based process of assosication that creates the recommondations via graphs. It also displays the confidence level for the recommendation that was made.</p>"
   ],
   "metadata": {
    "collapsed": false,
    "pycharm": {
     "name": "#%% md\n"
    }
   }
  },
  {
   "cell_type": "code",
   "execution_count": 162,
   "outputs": [],
   "source": [
    "# put GUI here TO DO\n"
   ],
   "metadata": {
    "collapsed": false,
    "pycharm": {
     "name": "#%%\n"
    }
   }
  },
  {
   "cell_type": "markdown",
   "source": [
    "<p style=\"border: 5px solid red; font-size: 35px; text-align:center; padding: 15px\"> We are anxiously awaiting the completion of the Android app to fully utilize the recommendation program and ensure better profits and more sales and happy customers!!!</p>"
   ],
   "metadata": {
    "collapsed": false,
    "pycharm": {
     "name": "#%% md\n"
    }
   }
  },
  {
   "cell_type": "markdown",
   "source": [
    "<div style=\"float: left; text-align:center; border: 5px dotted purple; padding: 15px; font-size: 30px\">CopyRight &copy; Catch22Software 2022</div>\n",
    "<div style=\"text-align:center; padding: 15px\">\n",
    "<img src=\"Images/curveball.jpg\" alt=\"Company Logo\" width=\"200\" height=\"200\"></div>"
   ],
   "metadata": {
    "collapsed": false,
    "pycharm": {
     "name": "#%% md\n"
    }
   }
  },
  {
   "cell_type": "code",
   "execution_count": 162,
   "outputs": [],
   "source": [],
   "metadata": {
    "collapsed": false,
    "pycharm": {
     "name": "#%%\n"
    }
   }
  }
 ],
 "metadata": {
  "kernelspec": {
   "display_name": "Python 3",
   "language": "python",
   "name": "python3"
  },
  "language_info": {
   "codemirror_mode": {
    "name": "ipython",
    "version": 2
   },
   "file_extension": ".py",
   "mimetype": "text/x-python",
   "name": "python",
   "nbconvert_exporter": "python",
   "pygments_lexer": "ipython2",
   "version": "2.7.6"
  }
 },
 "nbformat": 4,
 "nbformat_minor": 0
}