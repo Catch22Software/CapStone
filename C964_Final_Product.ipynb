{
 "cells": [
  {
   "cell_type": "code",
   "execution_count": 1,
   "metadata": {
    "pycharm": {
     "name": "#%%\n"
    }
   },
   "outputs": [],
   "source": [
    "\"\"\"\n",
    "TITLE: C964 Computer Science CapStone\n",
    "AUTHOR: James Mills\n",
    "STUDENT ID: 000955354\n",
    "DATE: January 2022\n",
    "\"\"\"\n",
    "import copy, itertools, random, csv, re\n",
    "from IPython.display import display\n",
    "import ipywidgets as widgets\n",
    "import pandas as pd\n",
    "import numpy as np\n",
    "import matplotlib.pyplot as plt\n",
    "from mlxtend.preprocessing import TransactionEncoder\n",
    "from PyScripts.HashTable import HashTable\n",
    "from functools import reduce\n",
    "\n",
    "pd.set_option('mode.chained_assignment', None)  # turns off warning about slicing databases.\n",
    "product_rules = pd.read_csv('Data/master_rules.csv')"
   ]
  },
  {
   "cell_type": "code",
   "execution_count": 2,
   "metadata": {
    "pycharm": {
     "name": "#%%\n"
    }
   },
   "outputs": [],
   "source": [
    "# %matplotlib widget\n",
    "with open('Data/names.csv') as f:\n",
    "    read = csv.reader(f)\n",
    "    names = list(read)\n",
    "with open('Data/transaction_data.csv') as g:\n",
    "    reader = csv.reader(g)\n",
    "    items = list(reader)"
   ]
  },
  {
   "cell_type": "code",
   "execution_count": 3,
   "metadata": {
    "pycharm": {
     "name": "#%%\n"
    }
   },
   "outputs": [],
   "source": [
    "te = TransactionEncoder()"
   ]
  },
  {
   "cell_type": "code",
   "execution_count": 4,
   "metadata": {
    "pycharm": {
     "name": "#%%\n"
    }
   },
   "outputs": [],
   "source": [
    "te_ary = te.fit(items).transform(items)"
   ]
  },
  {
   "cell_type": "code",
   "execution_count": 5,
   "metadata": {
    "pycharm": {
     "name": "#%%\n"
    }
   },
   "outputs": [],
   "source": [
    "df = pd.DataFrame(te_ary, columns=te.columns_)"
   ]
  },
  {
   "cell_type": "code",
   "execution_count": 6,
   "metadata": {
    "pycharm": {
     "name": "#%%\n"
    }
   },
   "outputs": [],
   "source": [
    "numbers = []\n",
    "master_recommend_list = []  # holds a list of DataFrames\n",
    "plot_out = widgets.Output()\n",
    "for label, content in df.items():\n",
    "    numbers.append(df[label].sum())\n",
    "column_names = list(df.columns)\n",
    "item_frequency = {column_names[i] : numbers[i] for i in range(len(column_names))}"
   ]
  },
  {
   "cell_type": "code",
   "execution_count": 7,
   "metadata": {
    "pycharm": {
     "name": "#%%\n"
    }
   },
   "outputs": [],
   "source": [
    "'''\n",
    "Required Functions for program below.\n",
    "'''\n",
    "\n",
    "\n",
    "@plot_out.capture(clear_output=True, wait=True)\n",
    "def make_plot():\n",
    "    global master_recommend_list\n",
    "    column_values = master_recommend_list.columns.values.tolist()[2:]\n",
    "    color_1 = plt.cm.rainbow(np.linspace(0, 1, 100))\n",
    "    col1_values = [x for x in master_recommend_list['antecedent support'].values.tolist()]\n",
    "    col2_values = [x for x in master_recommend_list['consequent support'].values.tolist()]\n",
    "    col3_values = [x for x in master_recommend_list['support'].values.tolist()]\n",
    "    col4_values = [x for x in master_recommend_list['confidence'].values.tolist()]\n",
    "    col5_values = [x for x in master_recommend_list['lift'].values.tolist()]\n",
    "    col6_values = [x for x in master_recommend_list['leverage'].values.tolist()]\n",
    "    col7_values = [x for x in master_recommend_list['conviction'].values.tolist()]\n",
    "    master_recommend_list['antecedents'] = (master_recommend_list['antecedents'].astype(str)).apply(stringify_frozen_set)\n",
    "    master_recommend_list['consequents'] = (master_recommend_list['consequents'].astype(str)).apply(stringify_frozen_set)\n",
    "    master_labels_1 = [str(x) for x in master_recommend_list['antecedents'].astype(str)]\n",
    "    master_labels_2 = [str(x) for x in master_recommend_list['consequents'].astype(str)]\n",
    "    complete_labels = []\n",
    "    regex = r\"[^a-z0-9->\\s,]\"\n",
    "    subst = \"\"\n",
    "    for i in range(len(master_labels_1)):\n",
    "        complete_labels.append([master_labels_1[i],' --> ', master_labels_2[i]])\n",
    "    for i in range(len(complete_labels)):\n",
    "        s = ' '\n",
    "        s1 = s.join(complete_labels[i])\n",
    "        result = re.sub(regex, subst, s1, 0, re.MULTILINE)\n",
    "        complete_labels[i] = copy.copy(result)\n",
    "    # print('=====================')\n",
    "    # print('FINAL VALUE IS: ',complete_labels)\n",
    "    x = np.arange(len(complete_labels))\n",
    "    width = 0.35\n",
    "    fig6, ax = plt.subplots(figsize=(20,20))\n",
    "    for j in range(len(complete_labels)):\n",
    "        bar1 = ax.bar(x -width/2, col1_values[j],width,label=complete_labels[j])\n",
    "        bar2 = ax.bar(x -width/2, col2_values[j],width,label=complete_labels[j])\n",
    "        bar3 = ax.bar(x -width/2, col3_values[j],width,label=complete_labels[j])\n",
    "        bar4 = ax.bar(x -width/2, col4_values[j],width,label=complete_labels[j])\n",
    "        bar5 = ax.bar(x -width/2, col5_values[j],width,label=complete_labels[j])\n",
    "        bar6 = ax.bar(x -width/2, col6_values[j],width,label=complete_labels[j])\n",
    "        bar7 = ax.bar(x -width/2, col7_values[j],width,label=complete_labels[j])\n",
    "        ax.bar_label(bar1, padding=3)\n",
    "        ax.bar_label(bar2, padding=3)\n",
    "        ax.bar_label(bar3, padding=3)\n",
    "        ax.bar_label(bar4, padding=3)\n",
    "        ax.bar_label(bar5, padding=3)\n",
    "        ax.bar_label(bar6, padding=3)\n",
    "        ax.bar_label(bar7, padding=3)\n",
    "\n",
    "    ax.set_ylabel(\"VARIANCES\")\n",
    "    ax.set_title('RECOMMENDATION DATA')\n",
    "    ax.set_xticks(x, complete_labels)\n",
    "    ax.legend()\n",
    "    \n",
    "    fig6.tight_layout()\n",
    "    plt.show()\n",
    "    \n",
    "    \n",
    "def stringify_frozen_set(x):\n",
    "    \"\"\"\n",
    "    :param x: Takes a entry from a Pandas Dataframe.\n",
    "    :return: Reformat antecedents and consequents columns to Python Strings for correct display\n",
    "    and returns the updated String.\n",
    "    \"\"\"\n",
    "    beginning = x.find(\"'\") + 1\n",
    "    end = x.rfind(\"'\")\n",
    "    data = x[beginning: end]\n",
    "    data_remove_apostrophes = data.replace(\"'\", '')\n",
    "    new_data = data_remove_apostrophes.split(',')\n",
    "    new_data_stripped = []\n",
    "    for i in range(len(new_data)):\n",
    "        new_data_stripped.append(copy.copy(new_data[i].strip()))\n",
    "    if len(new_data_stripped) == 1:\n",
    "        return str(new_data_stripped)\n",
    "    else:\n",
    "        return str([x for x in new_data_stripped])\n",
    "\n",
    "def fix_frozen_set(x):\n",
    "    \"\"\"\n",
    "    :param x: Takes a entry from a Pandas Dataframe.\n",
    "    :return: Reformat antecedents and consequents columns as Frozen-sets for correct querying\n",
    "    and returns the updated Dataframe.\n",
    "    \"\"\"\n",
    "    # with plot_out:\n",
    "    #     print('X is : ',x)\n",
    "    beginning = x.find(\"'\") + 1\n",
    "    end = x.rfind(\"'\")\n",
    "    data = x[beginning: end]\n",
    "    data_remove_apostrophes = data.replace(\"'\", '')\n",
    "    new_data = data_remove_apostrophes.split(',')\n",
    "    new_data_stripped = []\n",
    "    for i in range(len(new_data)):\n",
    "        new_data_stripped.append(copy.copy(new_data[i].strip()))\n",
    "    if len(new_data_stripped) == 1:\n",
    "        return frozenset(new_data_stripped)\n",
    "    else:\n",
    "        return frozenset([x for x in new_data_stripped])\n",
    "\n",
    "def recommend(z):\n",
    "    \"\"\"\n",
    "\n",
    "    :param z: Takes a list of items.\n",
    "    :return: Set of recommended items so duplicated are removed.\n",
    "    \"\"\"\n",
    "    global product_rules, master_recommend_list\n",
    "    master_query = None\n",
    "    while True:\n",
    "        try:\n",
    "            master_query = product_rules[product_rules['antecedents'] == {z[0], z[1], z[2], z[3], z[4]}]\n",
    "        except IndexError:\n",
    "            pass\n",
    "        if master_query is not None:\n",
    "            break\n",
    "        try:\n",
    "            master_query = product_rules[product_rules['antecedents'] == {z[0], z[1], z[2], z[3]}]\n",
    "        except IndexError:\n",
    "            pass\n",
    "        if master_query is not None:\n",
    "            break\n",
    "        try:\n",
    "            master_query = product_rules[product_rules['antecedents'] == {z[0], z[1], z[2]}]\n",
    "        except IndexError:\n",
    "            pass\n",
    "        if master_query is not None:\n",
    "            break\n",
    "        try:\n",
    "            master_query = product_rules[product_rules['antecedents'] == {z[0], z[1]}]\n",
    "        except IndexError:\n",
    "            pass\n",
    "        if master_query is not None:\n",
    "            break\n",
    "        try:\n",
    "            master_query = product_rules[product_rules['antecedents'] == {z[0]}]\n",
    "        except IndexError:\n",
    "            return \"OOPS!\"\n",
    "        if master_query is None:\n",
    "            return None\n",
    "    master_query.sort_values(by=['support', 'confidence', 'lift'], inplace=True, ascending=(False, False, False),\n",
    "                             ignore_index=True)\n",
    "    master_recommend_list = master_query.copy(deep=True)\n",
    "    if not master_recommend_list.empty:\n",
    "        make_plot()\n",
    "        # print(\"NEW SEARCH BELOW::::\")\n",
    "        # print('================================')\n",
    "        # print(master_recommend_list)\n",
    "        # print('================================')\n",
    "    # master_recommend_list.append(master_query.copy(deep=True))\n",
    "    # maybe update possible graph here ???\n",
    "    formatted_master_query = master_query['consequents'].apply(lambda x: ', '.join(list(x))).astype(\"unicode\")\n",
    "    results = list(formatted_master_query)\n",
    "    if len(results) == 0:\n",
    "        return None\n",
    "    else:\n",
    "        return set(results)\n",
    "\n",
    "def start_here(x):\n",
    "    \"\"\"\n",
    "\n",
    "    :param x: List of items currently in Inventory\n",
    "    to search for recommendations on.\n",
    "    :return: A Python Set of recommendations based on the user's inventory.\n",
    "    \"\"\"\n",
    "    master_search = []\n",
    "    for j in range(1, 6):\n",
    "        for element in itertools.combinations(x, j):\n",
    "            master_search.append(list(element))\n",
    "    while True:\n",
    "        try:\n",
    "            response = recommend(master_search[-1])\n",
    "        except IndexError:\n",
    "            return 'SOMETHING WENT WRONG!!!'\n",
    "        if response is None or response == \"OOPS!\":\n",
    "            master_search.pop()\n",
    "            response = None\n",
    "            continue\n",
    "        else:\n",
    "            return response"
   ]
  },
  {
   "cell_type": "code",
   "execution_count": 8,
   "metadata": {
    "pycharm": {
     "name": "#%%\n"
    }
   },
   "outputs": [],
   "source": [
    "\"\"\"\n",
    "Try block to ensure formatting of Dataframe is only completed once.\n",
    "\"\"\"\n",
    "try:\n",
    "    # noinspection PyUnresolvedReferences\n",
    "    if DATA_IS_LOADED:\n",
    "        pass\n",
    "except NameError:\n",
    "    DATA_IS_LOADED = 1\n",
    "    # Format panda dataframe for optimized queries\n",
    "    product_rules['antecedents'] = product_rules['antecedents'].apply(fix_frozen_set)\n",
    "    product_rules['consequents'] = product_rules['consequents'].apply(fix_frozen_set)\n"
   ]
  },
  {
   "cell_type": "code",
   "execution_count": 9,
   "metadata": {
    "pycharm": {
     "name": "#%%\n"
    }
   },
   "outputs": [],
   "source": [
    "dict_from_items = dict.fromkeys(item_frequency.copy().keys(), 0.0)\n",
    "for i in range(len(dict_from_items)):\n",
    "    dict_from_items.update({column_names[i] : ((item_frequency.get(column_names[i])) / 34766.0)})\n",
    "new_list_1 = sorted(dict_from_items.items(), key=lambda kv:(kv[1], kv[0]))\n",
    "top_ten = copy.copy(new_list_1[-1:-11:-1])\n",
    "items_to_remove = [x[0] for x in copy.copy(top_ten)]\n",
    "for i in range(len(items_to_remove)):\n",
    "    dict_from_items.pop(items_to_remove[i])\n",
    "other_item_total = list(dict_from_items.copy().values())\n",
    "answer = sum(other_item_total)\n",
    "others = ('All other items', answer)\n",
    "top_ten.append(others)"
   ]
  },
  {
   "cell_type": "code",
   "execution_count": 10,
   "metadata": {
    "pycharm": {
     "name": "#%%\n"
    }
   },
   "outputs": [
    {
     "data": {
      "text/html": [
       "<h1 style=\"border: 5px dotted red;padding: 10px;font-size: 75px;text-align:center;\">\n",
       "Welcome to the presentation of the next generation of ShopperzЯUs shopping cart recommendation program!!!\n",
       "</h1>\n"
      ],
      "text/plain": [
       "<IPython.core.display.HTML object>"
      ]
     },
     "metadata": {},
     "output_type": "display_data"
    }
   ],
   "source": [
    "%%html\n",
    "<h1 style=\"border: 5px dotted red;padding: 10px;font-size: 75px;text-align:center;\">\n",
    "Welcome to the presentation of the next generation of ShopperzЯUs shopping cart recommendation program!!!\n",
    "</h1>"
   ]
  },
  {
   "cell_type": "code",
   "execution_count": 11,
   "metadata": {
    "pycharm": {
     "name": "#%%\n"
    }
   },
   "outputs": [
    {
     "data": {
      "text/html": [
       "<h2 style=\"text-align:center\">Below you can see a few graphs demonstrating the percentages of customers who purchased a particular item. </h2>\n"
      ],
      "text/plain": [
       "<IPython.core.display.HTML object>"
      ]
     },
     "metadata": {},
     "output_type": "display_data"
    }
   ],
   "source": [
    "%%html\n",
    "<h2 style=\"text-align:center\">Below you can see a few graphs demonstrating the percentages of customers who purchased a particular item. </h2>"
   ]
  },
  {
   "cell_type": "code",
   "execution_count": 12,
   "metadata": {},
   "outputs": [
    {
     "data": {
      "text/html": [
       "<h3 style=\"color:orange;font-size:150px;text-align:center;border:5px solid yellow\"> &darr; &darr; &darr; &darr; &darr; &darr; &darr; &darr; &darr; &darr; &darr; &darr; &darr; &darr; &darr; </h3>\n"
      ],
      "text/plain": [
       "<IPython.core.display.HTML object>"
      ]
     },
     "metadata": {},
     "output_type": "display_data"
    }
   ],
   "source": [
    "%%html\n",
    "<h3 style=\"color:orange;font-size:150px;text-align:center;border:5px solid yellow\"> &darr; &darr; &darr; &darr; &darr; &darr; &darr; &darr; &darr; &darr; &darr; &darr; &darr; &darr; &darr; </h3>"
   ]
  },
  {
   "cell_type": "code",
   "execution_count": 13,
   "metadata": {
    "pycharm": {
     "name": "#%%\n"
    }
   },
   "outputs": [
    {
     "data": {
      "application/vnd.jupyter.widget-view+json": {
       "model_id": "1da3b7db4c714e10b5f949329fed7fc0",
       "version_major": 2,
       "version_minor": 0
      },
      "text/plain": [
       "Canvas(toolbar=Toolbar(toolitems=[('Home', 'Reset original view', 'home', 'home'), ('Back', 'Back to previous …"
      ]
     },
     "metadata": {},
     "output_type": "display_data"
    }
   ],
   "source": [
    "color = plt.cm.rainbow(np.linspace(0, 1, 40))\n",
    "x = item_frequency.keys()\n",
    "y = item_frequency.values()\n",
    "fig = plt.figure(figsize=(50,10))\n",
    "plt.ylabel(\"Number of items purchased\", fontsize = 24)\n",
    "plt.title(\"Frequency of most purchased items\", fontsize= 48)\n",
    "plt.bar(x,y, color=color)\n",
    "plt.xticks(rotation=90)\n",
    "plt.show()"
   ]
  },
  {
   "cell_type": "code",
   "execution_count": 14,
   "metadata": {
    "pycharm": {
     "name": "#%%\n"
    }
   },
   "outputs": [
    {
     "data": {
      "application/vnd.jupyter.widget-view+json": {
       "model_id": "8de8429fa6b640b3a07df1cb6108d775",
       "version_major": 2,
       "version_minor": 0
      },
      "text/plain": [
       "Canvas(toolbar=Toolbar(toolitems=[('Home', 'Reset original view', 'home', 'home'), ('Back', 'Back to previous …"
      ]
     },
     "metadata": {},
     "output_type": "display_data"
    }
   ],
   "source": [
    "colors = plt.get_cmap('Reds')(np.linspace(0.2, 0.5, len([x[0] for x in top_ten])))\n",
    "fig1 = plt.figure(figsize=(25,25))\n",
    "explode = (0,0,0,0,0,0,0,0,0,0,0.05)\n",
    "patches, texts, autotexts = plt.pie([x[1] for x in top_ten], labels=[x[0] for x in top_ten], explode=explode, shadow=True, autopct='%1.2f%%')\n",
    "plt.setp(autotexts, size='large')\n",
    "plt.setp(texts, size='large', rotation=45)\n",
    "plt.title(\"Top ten most purchased items\", fontsize=24)\n",
    "plt.show()\n"
   ]
  },
  {
   "cell_type": "code",
   "execution_count": 15,
   "metadata": {},
   "outputs": [
    {
     "data": {
      "text/html": [
       "<h3 style=\"text-align:center;color:blue;font-size: 50px;border: 5px solid gray; padding: 10px\"> Here is a wordcloud format of the item-set data used. The larger the word, the more often it occurs in the transaction list. </h3>\n"
      ],
      "text/plain": [
       "<IPython.core.display.HTML object>"
      ]
     },
     "metadata": {},
     "output_type": "display_data"
    }
   ],
   "source": [
    "%%html\n",
    "<h3 style=\"text-align:center;color:blue;font-size: 50px;border: 5px solid gray; padding: 10px\"> Here is a wordcloud format of the item-set data used. The larger the word, the more often it occurs in the transaction list. </h3>"
   ]
  },
  {
   "cell_type": "code",
   "execution_count": 16,
   "metadata": {
    "pycharm": {
     "name": "#%%\n"
    }
   },
   "outputs": [
    {
     "data": {
      "application/vnd.jupyter.widget-view+json": {
       "model_id": "8484a095de3a48d6bda81c5baa733af7",
       "version_major": 2,
       "version_minor": 0
      },
      "text/plain": [
       "Image(value=b'\\x89PNG\\r\\n\\x1a\\n\\x00\\x00\\x00\\rIHDR\\x00\\x00\\t`\\x00\\x00\\x06@\\x08\\x06\\x00\\x00\\x00\\xfd\\xa9y\\xb1\\x00…"
      ]
     },
     "metadata": {},
     "output_type": "display_data"
    }
   ],
   "source": [
    "cloud = open('Images/wordcloud.png','rb')\n",
    "image_1 = cloud.read()\n",
    "cloud_show = widgets.Image(value=image_1,format='png',width=1600,height=800,layout=widgets.Layout(align='center',justify_items='center'))\n",
    "display(cloud_show)"
   ]
  },
  {
   "cell_type": "code",
   "execution_count": 17,
   "metadata": {
    "pycharm": {
     "name": "#%%\n"
    }
   },
   "outputs": [
    {
     "data": {
      "text/html": [
       "<p>By utilizing the previous shoppers habits as training data, our new ShoppingKart app will display <b>real-time</b> recommendations for additional items to add to the user's inventory.</p>\n"
      ],
      "text/plain": [
       "<IPython.core.display.HTML object>"
      ]
     },
     "metadata": {},
     "output_type": "display_data"
    }
   ],
   "source": [
    "%%html\n",
    "<p>By utilizing the previous shoppers habits as training data, our new ShoppingKart app will display <b>real-time</b> recommendations for additional items to add to the user's inventory.</p>"
   ]
  },
  {
   "cell_type": "code",
   "execution_count": 18,
   "metadata": {
    "pycharm": {
     "name": "#%%\n"
    }
   },
   "outputs": [
    {
     "data": {
      "text/html": [
       "<p> This demonstration will show the recommendation portion of the app off. The development team at ShopperzЯUs are finishing up the Android based app for our customers to utilize daily for their grocery inventory, and shopping needs!! </p>\n"
      ],
      "text/plain": [
       "<IPython.core.display.HTML object>"
      ]
     },
     "metadata": {},
     "output_type": "display_data"
    }
   ],
   "source": [
    "%%html\n",
    "<p> This demonstration will show the recommendation portion of the app off. The development team at ShopperzЯUs are finishing up the Android based app for our customers to utilize daily for their grocery inventory, and shopping needs!! </p>"
   ]
  },
  {
   "cell_type": "code",
   "execution_count": 19,
   "metadata": {
    "pycharm": {
     "name": "#%%\n"
    }
   },
   "outputs": [
    {
     "data": {
      "text/html": [
       "<p> The item database is <strong>167</strong> unique items that can be added. The android app is going to process the input from the customer when creating their inventory to match up to the best item we have availble in order to make re-ordering and also upselling a breeze for the customer and profits for the company!! </p>\n"
      ],
      "text/plain": [
       "<IPython.core.display.HTML object>"
      ]
     },
     "metadata": {},
     "output_type": "display_data"
    }
   ],
   "source": [
    "%%html\n",
    "<p> The item database is <strong>167</strong> unique items that can be added. The android app is going to process the input from the customer when creating their inventory to match up to the best item we have availble in order to make re-ordering and also upselling a breeze for the customer and profits for the company!! </p>"
   ]
  },
  {
   "cell_type": "code",
   "execution_count": 20,
   "metadata": {
    "pycharm": {
     "name": "#%%\n"
    }
   },
   "outputs": [
    {
     "data": {
      "text/html": [
       "<p> Below is a mock inventory builder. You can either select an item from the list, or add a random item from our inventory base to the inventory list along with the amount currently on hand. This system will dynamically generate both, the top recommended item(s) based on what has been entered, and will also generate the data associated behind the machine-learning based process of assosication that creates the recommondations via graphs. It also displays the confidence level for the recommendation that was made.</p>\n"
      ],
      "text/plain": [
       "<IPython.core.display.HTML object>"
      ]
     },
     "metadata": {},
     "output_type": "display_data"
    }
   ],
   "source": [
    "%%html\n",
    "<p> Below is a mock inventory builder. You can either select an item from the list, or add a random item from our inventory base to the inventory list along with the amount currently on hand. This system will dynamically generate both, the top recommended item(s) based on what has been entered, and will also generate the data associated behind the machine-learning based process of assosication that creates the recommondations via graphs. It also displays the confidence level for the recommendation that was made.</p>"
   ]
  },
  {
   "cell_type": "code",
   "execution_count": 21,
   "metadata": {
    "pycharm": {
     "name": "#%%\n"
    }
   },
   "outputs": [],
   "source": [
    "master_inventory = HashTable()\n",
    "choices = widgets.Dropdown(options=names[0], value=names[0][0], description='Inventory Choices: ', disabled=False,style= {'description_width':'initial'})\n",
    "random_choice = widgets.Button(description='Select Random Item', disabled=False, button_style='success',tooltip='CLICK HERE',icon='dice')\n",
    "amount_choice = widgets.IntSlider(value=1,min=1,max=10,step=1,description='Inventory amount: ',disabled=False,orientation='horizontal'\n",
    "                                  ,readout=True,readout_format='d',style= {'description_width':'initial'})\n",
    "add_choice = widgets.Button(description='Add Selected Item', disabled=False, button_style='info', tooltip='ADD TO INV', icon='plus-square')\n",
    "reset_inventory = widgets.Button(description='Reset Inventory to Zero', disabled=False, button_style='warning', tooltip='DESTROY INV', icon='bomb')\n",
    "inventory_output = widgets.Output(layout={'border':'2px solid red'},disabled=False)\n",
    "recommendation = widgets.HTML(value=\"NOTHING\",description='Recommendations Show Here',style= {'description_width':'initial'})\n",
    "output_label = widgets.Label(value='INVENTORY CONTENTS BELOW:')"
   ]
  },
  {
   "cell_type": "code",
   "execution_count": 22,
   "metadata": {
    "pycharm": {
     "name": "#%%\n"
    }
   },
   "outputs": [],
   "source": [
    "def look_recommend(chh):\n",
    "    # global master_recommend_list  # brings master list into scope to clear the list before adding new data\n",
    "    # master_recommend_list.clear()  # TODO possible try block added for variable change exception?\n",
    "    random_choice.disabled = True\n",
    "    reset_inventory.disabled = True\n",
    "    add_choice.disabled = True\n",
    "    orig_copy_received = set(copy.deepcopy(chh))\n",
    "    value = start_here(chh)\n",
    "#     global master_recommend_list # brings the master list of recommended rows in the DataFrame into local scope\n",
    "    if value == 'SOMETHING WENT WRONG!!!':\n",
    "        recommendation.value = \"NOTHING\"\n",
    "        random_choice.disabled = False\n",
    "        reset_inventory.disabled = False\n",
    "        add_choice.disabled = False\n",
    "    else:\n",
    "        initial_recommend = set(value)\n",
    "        initial_recommend.difference_update(orig_copy_received)\n",
    "        if len(initial_recommend) == 0:\n",
    "            recommendation.value = \"NOTHING\"\n",
    "            random_choice.disabled = False\n",
    "            reset_inventory.disabled = False\n",
    "            add_choice.disabled = False\n",
    "        else:\n",
    "            recommendation.value = \"\"\n",
    "            # filtered_master_recommend_list = []\n",
    "            for i in range(len(initial_recommend)):\n",
    "                vals = initial_recommend.pop()\n",
    "                recommendation.value += \"<strong>\"+str(i+1)+\"</strong>: \" + vals + '<br>'\n",
    "                # filtered_master_recommend_list.append(copy.copy(vals))\n",
    "            random_choice.disabled = False\n",
    "            reset_inventory.disabled = False\n",
    "            add_choice.disabled = False\n",
    "            # recommend_plot_data = reduce(lambda x, y1: pd.merge(x,y1,left_index=True,right_index=True,copy=False), master_recommend_list)  # filter result\n",
    "            # with plot_out:\n",
    "            #     print(type(recommend_plot_data))\n",
    "            # filter_format = []\n",
    "            # for j in range(len(filtered_master_recommend_list)):\n",
    "            #     filter_format.append(recommend_plot_data['consequents'] == {str(filtered_master_recommend_list[j])})\n",
    "                # master_query = product_rules[product_rules['antecedents'] == {z[0]}]\n",
    "            # with plot_out:\n",
    "            #     print(filter_format)\n",
    "            #     print(type(filter_format))\n",
    "            #     print(filter_format[0])\n",
    "            #     print(type(filter_format[0]))\n",
    "            #     display(filter_format[0])\n",
    "            #     print(\"=================\")\n",
    "def rand(ch):\n",
    "    index = random.randrange(len(names[0]))\n",
    "    choices.value = str(names[0][index])\n",
    "def destroy(ch1):\n",
    "    inventory_output.clear_output()\n",
    "    recommendation.value = 'NOTHING'\n",
    "    global master_inventory\n",
    "    master_inventory = None\n",
    "    master_inventory = HashTable()\n",
    "random_choice.on_click(rand)\n",
    "reset_inventory.on_click(destroy)\n",
    "def add_choice_to_inv(ch2):\n",
    "    master_inventory.insert(str(choices.value), [str(choices.value), amount_choice.value])\n",
    "    with inventory_output:\n",
    "        inventory_output.clear_output()\n",
    "        print(master_inventory)\n",
    "    var = []\n",
    "    for i in range(len(master_inventory.table)):\n",
    "        if len(master_inventory.table[i]) > 0:\n",
    "            var.append(copy.copy(master_inventory.table[i][0][0]))\n",
    "    look_recommend(var)\n",
    "add_choice.on_click(add_choice_to_inv)"
   ]
  },
  {
   "cell_type": "code",
   "execution_count": 23,
   "metadata": {
    "pycharm": {
     "name": "#%%\n"
    }
   },
   "outputs": [
    {
     "data": {
      "application/vnd.jupyter.widget-view+json": {
       "model_id": "319c13378e384a88ab1ca3277e287f2d",
       "version_major": 2,
       "version_minor": 0
      },
      "text/plain": [
       "GridspecLayout(children=(Dropdown(description='Inventory Choices: ', layout=Layout(grid_area='widget001'), opt…"
      ]
     },
     "metadata": {},
     "output_type": "display_data"
    },
    {
     "data": {
      "application/vnd.jupyter.widget-view+json": {
       "model_id": "1f064969e7424c058b976df9512e4412",
       "version_major": 2,
       "version_minor": 0
      },
      "text/plain": [
       "VBox(children=(Label(value='INVENTORY CONTENTS BELOW:'), Output(layout=Layout(border='2px solid red'))))"
      ]
     },
     "metadata": {},
     "output_type": "display_data"
    }
   ],
   "source": [
    "grid = widgets.GridspecLayout(2,3,layout=widgets.Layout(width='auto', border='2px dotted red', padding='5px'))\n",
    "grid[0,0] = choices\n",
    "grid[0,1] = amount_choice\n",
    "grid[0,2] = reset_inventory\n",
    "grid[1,0] = random_choice\n",
    "grid[1,1] = add_choice\n",
    "grid[1,2] = recommendation\n",
    "\n",
    "v = widgets.VBox(children=(output_label, inventory_output), disabled=False,  layout=widgets.Layout(align='center'))\n",
    "display(grid)\n",
    "display(v)"
   ]
  },
  {
   "cell_type": "code",
   "execution_count": 24,
   "metadata": {
    "pycharm": {
     "name": "#%%\n"
    }
   },
   "outputs": [
    {
     "data": {
      "text/html": [
       "<h1>Below is a graph that displays the data of the current recommended items. </h1>\n"
      ],
      "text/plain": [
       "<IPython.core.display.HTML object>"
      ]
     },
     "metadata": {},
     "output_type": "display_data"
    }
   ],
   "source": [
    "%%html\n",
    "<h1>Below is a graph that displays the data of the current recommended items. </h1>"
   ]
  },
  {
   "cell_type": "code",
   "execution_count": 25,
   "metadata": {
    "pycharm": {
     "name": "#%%\n"
    },
    "scrolled": true
   },
   "outputs": [
    {
     "data": {
      "application/vnd.jupyter.widget-view+json": {
       "model_id": "18c38bce3f6f4e9a860f2a2f5bd34ae9",
       "version_major": 2,
       "version_minor": 0
      },
      "text/plain": [
       "Output()"
      ]
     },
     "metadata": {},
     "output_type": "display_data"
    }
   ],
   "source": [
    "\n",
    "\n",
    "# color = plt.cm.rainbow(np.linspace(0, 1, 100))\n",
    "# x = np.linspace(0.0,2.0, 501)\n",
    "# @plot_out.capture()\n",
    "# def make_plot():\n",
    "#     with plot_out:\n",
    "#         fig6, axes = plt.subplots(3,3,constrained_layout=True, sharey='all',figsize=(20,20))\n",
    "#         for i in range(5):\n",
    "#             p1 = axes[i][0].bar(column1,query_smaller.iloc[i].to_list(),color=color,edgecolor='black')\n",
    "#             axes[i][0].set_title(\"POS: \"+str(i))\n",
    "#             axes[i][0].set_xlabel('Categories')\n",
    "#             axes[i][0].set_ylabel('Variance')\n",
    "#             axes[i][0].tick_params(axis='x',rotation=45)\n",
    "#             axes[i][0].bar_label(p1, label_type='edge')\n",
    "#             p2 = axes[i][1].bar(column1,query_smaller.iloc[i+1].to_list(),color=color,edgecolor='black')\n",
    "#             axes[i][1].set_title(\"POS: \"+str(i+1))\n",
    "#             axes[i][1].set_xlabel('Categories')\n",
    "#             axes[i][1].set_ylabel('Variance')\n",
    "#             axes[i][1].tick_params(axis='x',rotation=45)\n",
    "#             axes[i][1].bar_label(p2,label_type='edge')\n",
    "#\n",
    "#         fig6.suptitle(\"ALL OF THE PLOTS!!!\",fontsize=16)\n",
    "display(plot_out)"
   ]
  },
  {
   "cell_type": "code",
   "execution_count": 26,
   "metadata": {
    "pycharm": {
     "name": "#%%\n"
    }
   },
   "outputs": [
    {
     "data": {
      "text/html": [
       "<p style=\"border: 5px solid red; font-size: 28px; text-align:center; padding: 15px; line-height: 1.1\"> We are anxiously awaiting the completion of the Android app to fully utilize the recommendation program and ensure better profits and more sales and happy customers!!!</p>\n"
      ],
      "text/plain": [
       "<IPython.core.display.HTML object>"
      ]
     },
     "metadata": {},
     "output_type": "display_data"
    }
   ],
   "source": [
    "%%html\n",
    "<p style=\"border: 5px solid red; font-size: 28px; text-align:center; padding: 15px; line-height: 1.1\"> We are anxiously awaiting the completion of the Android app to fully utilize the recommendation program and ensure better profits and more sales and happy customers!!!</p>"
   ]
  },
  {
   "cell_type": "code",
   "execution_count": 27,
   "metadata": {
    "pycharm": {
     "name": "#%%\n"
    }
   },
   "outputs": [
    {
     "data": {
      "text/html": [
       "<div style=\"text-align:center; border: 5px dotted purple; padding: 15px; font-size: 30px\">CopyRight &copy; Catch22Software 2022\n",
       "<br><br>\n",
       "</div>\n"
      ],
      "text/plain": [
       "<IPython.core.display.HTML object>"
      ]
     },
     "metadata": {},
     "output_type": "display_data"
    }
   ],
   "source": [
    "%%html\n",
    "<div style=\"text-align:center; border: 5px dotted purple; padding: 15px; font-size: 30px\">CopyRight &copy; Catch22Software 2022\n",
    "<br><br>\n",
    "</div>"
   ]
  },
  {
   "cell_type": "code",
   "execution_count": 28,
   "metadata": {
    "pycharm": {
     "name": "#%%\n"
    }
   },
   "outputs": [
    {
     "data": {
      "application/vnd.jupyter.widget-view+json": {
       "model_id": "437bb0f0eb9144d6bacebc3b2d50794e",
       "version_major": 2,
       "version_minor": 0
      },
      "text/plain": [
       "Image(value=b'\\xff\\xd8\\xff\\xe0\\x00\\x10JFIF\\x00\\x01\\x01\\x01\\x00`\\x00`\\x00\\x00\\xff\\xdb\\x00C\\x00\\x03\\x02\\x02\\x03\\…"
      ]
     },
     "metadata": {},
     "output_type": "display_data"
    }
   ],
   "source": [
    "ball = open('Images/curveball.jpg','rb')\n",
    "image = ball.read()\n",
    "ball_show = widgets.Image(value=image,format='jpg',width=200,height=200,layout=widgets.Layout(align='center',justify_items='center'))\n",
    "display(ball_show)"
   ]
  },
  {
   "cell_type": "code",
   "execution_count": null,
   "metadata": {},
   "outputs": [],
   "source": []
  }
 ],
 "metadata": {
  "kernelspec": {
   "display_name": "Python 3 (ipykernel)",
   "language": "python",
   "name": "python3"
  },
  "language_info": {
   "codemirror_mode": {
    "name": "ipython",
    "version": 3
   },
   "file_extension": ".py",
   "mimetype": "text/x-python",
   "name": "python",
   "nbconvert_exporter": "python",
   "pygments_lexer": "ipython3",
   "version": "3.8.12"
  }
 },
 "nbformat": 4,
 "nbformat_minor": 1
}